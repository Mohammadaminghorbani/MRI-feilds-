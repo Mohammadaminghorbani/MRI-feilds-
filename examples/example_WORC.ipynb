{
 "cells": [
  {
   "cell_type": "markdown",
   "metadata": {},
   "source": [
    "In this tutorial, we will analyze Lipoma dataset from the [WORC Database](https://github.com/MStarmans91/WORCDatabase/tree/development).\n",
    "\n",
    "More details on the dataset as well as the original analysis performed by their authors can be found here:\n",
    "\n",
    "`Starmans, M. P. A. et al. (2021). The WORC* database: MRI and CT scans, segmentations, and clinical labels for 932 patients from six radiomics studies. Submitted, preprint available from https://doi.org/10.1101/2021.08.19.21262238`\n",
    "\n",
    "`The experiments are described in the following paper: Starmans, M. P. A. et al. (2021). Reproducible radiomics through automated machine learning validated on twelve clinical applications. Submitted, preprint available from https://arxiv.org/abs/2108.08618.`"
   ]
  },
  {
   "cell_type": "code",
   "execution_count": null,
   "metadata": {},
   "outputs": [],
   "source": [
    "# In case you haven't installed AutoRadiomics\n",
    "!pip install autorad"
   ]
  },
  {
   "cell_type": "code",
   "execution_count": 1,
   "metadata": {},
   "outputs": [
    {
     "ename": "KeyboardInterrupt",
     "evalue": "",
     "output_type": "error",
     "traceback": [
      "\u001b[0;31m---------------------------------------------------------------------------\u001b[0m",
      "\u001b[0;31mKeyboardInterrupt\u001b[0m                         Traceback (most recent call last)",
      "\u001b[1;32m/Users/p.woznicki/git/AutoRadiomics/examples/example_WORC.ipynb Cell 3'\u001b[0m in \u001b[0;36m<cell line: 14>\u001b[0;34m()\u001b[0m\n\u001b[1;32m     <a href='vscode-notebook-cell:/Users/p.woznicki/git/AutoRadiomics/examples/example_WORC.ipynb#ch0000002?line=9'>10</a>\u001b[0m get_ipython()\u001b[39m.\u001b[39mrun_line_magic(\u001b[39m'\u001b[39m\u001b[39mload_ext\u001b[39m\u001b[39m'\u001b[39m, \u001b[39m'\u001b[39m\u001b[39mautoreload\u001b[39m\u001b[39m'\u001b[39m)\n\u001b[1;32m     <a href='vscode-notebook-cell:/Users/p.woznicki/git/AutoRadiomics/examples/example_WORC.ipynb#ch0000002?line=10'>11</a>\u001b[0m get_ipython()\u001b[39m.\u001b[39mrun_line_magic(\u001b[39m'\u001b[39m\u001b[39mautoreload\u001b[39m\u001b[39m'\u001b[39m, \u001b[39m'\u001b[39m\u001b[39m2\u001b[39m\u001b[39m'\u001b[39m)\n\u001b[0;32m---> <a href='vscode-notebook-cell:/Users/p.woznicki/git/AutoRadiomics/examples/example_WORC.ipynb#ch0000002?line=13'>14</a>\u001b[0m download_WORCDatabase(\n\u001b[1;32m     <a href='vscode-notebook-cell:/Users/p.woznicki/git/AutoRadiomics/examples/example_WORC.ipynb#ch0000002?line=14'>15</a>\u001b[0m     dataset\u001b[39m=\u001b[39;49m\u001b[39m\"\u001b[39;49m\u001b[39mLiver\u001b[39;49m\u001b[39m\"\u001b[39;49m,\n\u001b[1;32m     <a href='vscode-notebook-cell:/Users/p.woznicki/git/AutoRadiomics/examples/example_WORC.ipynb#ch0000002?line=15'>16</a>\u001b[0m     data_folder\u001b[39m=\u001b[39;49mdata_dir,\n\u001b[1;32m     <a href='vscode-notebook-cell:/Users/p.woznicki/git/AutoRadiomics/examples/example_WORC.ipynb#ch0000002?line=16'>17</a>\u001b[0m     n_subjects\u001b[39m=\u001b[39;49m\u001b[39m25\u001b[39;49m,\n\u001b[1;32m     <a href='vscode-notebook-cell:/Users/p.woznicki/git/AutoRadiomics/examples/example_WORC.ipynb#ch0000002?line=17'>18</a>\u001b[0m     )\n",
      "File \u001b[0;32m~/git/AutoRadiomics/autorad/external/download_WORC.py:190\u001b[0m, in \u001b[0;36mdownload_WORCDatabase\u001b[0;34m(dataset, data_folder, n_subjects)\u001b[0m\n\u001b[1;32m    <a href='file:///Users/p.woznicki/git/AutoRadiomics/autorad/external/download_WORC.py?line=186'>187</a>\u001b[0m         os\u001b[39m.\u001b[39mmakedirs(datafolder)\n\u001b[1;32m    <a href='file:///Users/p.woznicki/git/AutoRadiomics/autorad/external/download_WORC.py?line=188'>189</a>\u001b[0m xnat_url \u001b[39m=\u001b[39m \u001b[39m\"\u001b[39m\u001b[39mhttps://xnat.bmia.nl\u001b[39m\u001b[39m\"\u001b[39m\n\u001b[0;32m--> <a href='file:///Users/p.woznicki/git/AutoRadiomics/autorad/external/download_WORC.py?line=189'>190</a>\u001b[0m download_project(\n\u001b[1;32m    <a href='file:///Users/p.woznicki/git/AutoRadiomics/autorad/external/download_WORC.py?line=190'>191</a>\u001b[0m     xnat_url,\n\u001b[1;32m    <a href='file:///Users/p.woznicki/git/AutoRadiomics/autorad/external/download_WORC.py?line=191'>192</a>\u001b[0m     data_folder,\n\u001b[1;32m    <a href='file:///Users/p.woznicki/git/AutoRadiomics/autorad/external/download_WORC.py?line=192'>193</a>\u001b[0m     nsubjects\u001b[39m=\u001b[39;49mn_subjects,\n\u001b[1;32m    <a href='file:///Users/p.woznicki/git/AutoRadiomics/autorad/external/download_WORC.py?line=193'>194</a>\u001b[0m     verbose\u001b[39m=\u001b[39;49m\u001b[39mFalse\u001b[39;49;00m,\n\u001b[1;32m    <a href='file:///Users/p.woznicki/git/AutoRadiomics/autorad/external/download_WORC.py?line=194'>195</a>\u001b[0m     dataset\u001b[39m=\u001b[39;49mdataset,\n\u001b[1;32m    <a href='file:///Users/p.woznicki/git/AutoRadiomics/autorad/external/download_WORC.py?line=195'>196</a>\u001b[0m )\n",
      "File \u001b[0;32m~/git/AutoRadiomics/autorad/external/download_WORC.py:109\u001b[0m, in \u001b[0;36mdownload_project\u001b[0;34m(xnat_url, datafolder, nsubjects, verbose, dataset)\u001b[0m\n\u001b[1;32m    <a href='file:///Users/p.woznicki/git/AutoRadiomics/autorad/external/download_WORC.py?line=106'>107</a>\u001b[0m labels_df_path \u001b[39m=\u001b[39m os\u001b[39m.\u001b[39mpath\u001b[39m.\u001b[39mjoin(datafolder, \u001b[39m\"\u001b[39m\u001b[39mlabels.csv\u001b[39m\u001b[39m\"\u001b[39m)\n\u001b[1;32m    <a href='file:///Users/p.woznicki/git/AutoRadiomics/autorad/external/download_WORC.py?line=107'>108</a>\u001b[0m project_name \u001b[39m=\u001b[39m \u001b[39m\"\u001b[39m\u001b[39mworc\u001b[39m\u001b[39m\"\u001b[39m\n\u001b[0;32m--> <a href='file:///Users/p.woznicki/git/AutoRadiomics/autorad/external/download_WORC.py?line=108'>109</a>\u001b[0m \u001b[39mwith\u001b[39;00m xnat\u001b[39m.\u001b[39;49mconnect(xnat_url) \u001b[39mas\u001b[39;00m session:\n\u001b[1;32m    <a href='file:///Users/p.woznicki/git/AutoRadiomics/autorad/external/download_WORC.py?line=109'>110</a>\u001b[0m     project \u001b[39m=\u001b[39m session\u001b[39m.\u001b[39mprojects[project_name]\n\u001b[1;32m    <a href='file:///Users/p.woznicki/git/AutoRadiomics/autorad/external/download_WORC.py?line=111'>112</a>\u001b[0m     os\u001b[39m.\u001b[39mmakedirs(datafolder, exist_ok\u001b[39m=\u001b[39m\u001b[39mTrue\u001b[39;00m)\n",
      "File \u001b[0;32m~/git/AutoRadiomics/.venv/lib/python3.10/site-packages/xnat/__init__.py:568\u001b[0m, in \u001b[0;36mconnect\u001b[0;34m(server, user, password, verify, netrc_file, debug, extension_types, loglevel, logger, detect_redirect, no_parse_model, default_timeout, auth_provider, jsession, cli)\u001b[0m\n\u001b[1;32m    <a href='file:///Users/p.woznicki/git/AutoRadiomics/.venv/lib/python3.10/site-packages/xnat/__init__.py?line=564'>565</a>\u001b[0m \u001b[39mtry\u001b[39;00m:\n\u001b[1;32m    <a href='file:///Users/p.woznicki/git/AutoRadiomics/.venv/lib/python3.10/site-packages/xnat/__init__.py?line=565'>566</a>\u001b[0m     \u001b[39m# Check if login is successful\u001b[39;00m\n\u001b[1;32m    <a href='file:///Users/p.woznicki/git/AutoRadiomics/.venv/lib/python3.10/site-packages/xnat/__init__.py?line=566'>567</a>\u001b[0m     \u001b[39mif\u001b[39;00m user \u001b[39mis\u001b[39;00m \u001b[39mNone\u001b[39;00m \u001b[39mand\u001b[39;00m jsession \u001b[39mis\u001b[39;00m \u001b[39mNone\u001b[39;00m:\n\u001b[0;32m--> <a href='file:///Users/p.woznicki/git/AutoRadiomics/.venv/lib/python3.10/site-packages/xnat/__init__.py?line=567'>568</a>\u001b[0m         logged_in_user \u001b[39m=\u001b[39m check_auth_guest(requests_session, server\u001b[39m=\u001b[39;49mserver, logger\u001b[39m=\u001b[39;49mlogger)\n\u001b[1;32m    <a href='file:///Users/p.woznicki/git/AutoRadiomics/.venv/lib/python3.10/site-packages/xnat/__init__.py?line=568'>569</a>\u001b[0m     \u001b[39melse\u001b[39;00m:\n\u001b[1;32m    <a href='file:///Users/p.woznicki/git/AutoRadiomics/.venv/lib/python3.10/site-packages/xnat/__init__.py?line=569'>570</a>\u001b[0m         logger\u001b[39m.\u001b[39mdebug(\u001b[39m'\u001b[39m\u001b[39mChecking login for \u001b[39m\u001b[39m{}\u001b[39;00m\u001b[39m, jsession argument \u001b[39m\u001b[39m{}\u001b[39;00m\u001b[39m'\u001b[39m\u001b[39m.\u001b[39mformat(user, jsession))\n",
      "File \u001b[0;32m~/git/AutoRadiomics/.venv/lib/python3.10/site-packages/xnat/__init__.py:63\u001b[0m, in \u001b[0;36mcheck_auth_guest\u001b[0;34m(requests_session, server, logger)\u001b[0m\n\u001b[1;32m     <a href='file:///Users/p.woznicki/git/AutoRadiomics/.venv/lib/python3.10/site-packages/xnat/__init__.py?line=53'>54</a>\u001b[0m \u001b[39m\"\"\"\u001b[39;00m\n\u001b[1;32m     <a href='file:///Users/p.woznicki/git/AutoRadiomics/.venv/lib/python3.10/site-packages/xnat/__init__.py?line=54'>55</a>\u001b[0m \u001b[39mTry to figure out of the requests session is properly logged in as the desired user\u001b[39;00m\n\u001b[1;32m     <a href='file:///Users/p.woznicki/git/AutoRadiomics/.venv/lib/python3.10/site-packages/xnat/__init__.py?line=55'>56</a>\u001b[0m \n\u001b[0;32m   (...)\u001b[0m\n\u001b[1;32m     <a href='file:///Users/p.woznicki/git/AutoRadiomics/.venv/lib/python3.10/site-packages/xnat/__init__.py?line=59'>60</a>\u001b[0m \u001b[39m:raises ValueError: Raises a ValueError if the login failed\u001b[39;00m\n\u001b[1;32m     <a href='file:///Users/p.woznicki/git/AutoRadiomics/.venv/lib/python3.10/site-packages/xnat/__init__.py?line=60'>61</a>\u001b[0m \u001b[39m\"\"\"\u001b[39;00m\n\u001b[1;32m     <a href='file:///Users/p.woznicki/git/AutoRadiomics/.venv/lib/python3.10/site-packages/xnat/__init__.py?line=61'>62</a>\u001b[0m logger\u001b[39m.\u001b[39mdebug(\u001b[39m'\u001b[39m\u001b[39mGetting \u001b[39m\u001b[39m{}\u001b[39;00m\u001b[39m to test guest auth\u001b[39m\u001b[39m'\u001b[39m\u001b[39m.\u001b[39mformat(server))\n\u001b[0;32m---> <a href='file:///Users/p.woznicki/git/AutoRadiomics/.venv/lib/python3.10/site-packages/xnat/__init__.py?line=62'>63</a>\u001b[0m test_auth_request \u001b[39m=\u001b[39m requests_session\u001b[39m.\u001b[39;49mget(server, timeout\u001b[39m=\u001b[39;49m\u001b[39m10\u001b[39;49m)\n\u001b[1;32m     <a href='file:///Users/p.woznicki/git/AutoRadiomics/.venv/lib/python3.10/site-packages/xnat/__init__.py?line=63'>64</a>\u001b[0m logger\u001b[39m.\u001b[39mdebug(\u001b[39m'\u001b[39m\u001b[39mStatus: \u001b[39m\u001b[39m{}\u001b[39;00m\u001b[39m'\u001b[39m\u001b[39m.\u001b[39mformat(test_auth_request\u001b[39m.\u001b[39mstatus_code))\n\u001b[1;32m     <a href='file:///Users/p.woznicki/git/AutoRadiomics/.venv/lib/python3.10/site-packages/xnat/__init__.py?line=65'>66</a>\u001b[0m match \u001b[39m=\u001b[39m re\u001b[39m.\u001b[39msearch(\u001b[39mr\u001b[39m\u001b[39m'\u001b[39m\u001b[39m<span id=\u001b[39m\u001b[39m\"\u001b[39m\u001b[39muser_info\u001b[39m\u001b[39m\"\u001b[39m\u001b[39m>Logged in as: <span style=\u001b[39m\u001b[39m\"\u001b[39m\u001b[39mcolor:red;\u001b[39m\u001b[39m\"\u001b[39m\u001b[39m>Guest</span>\u001b[39m\u001b[39m'\u001b[39m,\n\u001b[1;32m     <a href='file:///Users/p.woznicki/git/AutoRadiomics/.venv/lib/python3.10/site-packages/xnat/__init__.py?line=66'>67</a>\u001b[0m                   test_auth_request\u001b[39m.\u001b[39mtext)\n",
      "File \u001b[0;32m~/git/AutoRadiomics/.venv/lib/python3.10/site-packages/requests/sessions.py:542\u001b[0m, in \u001b[0;36mSession.get\u001b[0;34m(self, url, **kwargs)\u001b[0m\n\u001b[1;32m    <a href='file:///Users/p.woznicki/git/AutoRadiomics/.venv/lib/python3.10/site-packages/requests/sessions.py?line=533'>534</a>\u001b[0m \u001b[39mr\u001b[39m\u001b[39m\"\"\"Sends a GET request. Returns :class:`Response` object.\u001b[39;00m\n\u001b[1;32m    <a href='file:///Users/p.woznicki/git/AutoRadiomics/.venv/lib/python3.10/site-packages/requests/sessions.py?line=534'>535</a>\u001b[0m \n\u001b[1;32m    <a href='file:///Users/p.woznicki/git/AutoRadiomics/.venv/lib/python3.10/site-packages/requests/sessions.py?line=535'>536</a>\u001b[0m \u001b[39m:param url: URL for the new :class:`Request` object.\u001b[39;00m\n\u001b[1;32m    <a href='file:///Users/p.woznicki/git/AutoRadiomics/.venv/lib/python3.10/site-packages/requests/sessions.py?line=536'>537</a>\u001b[0m \u001b[39m:param \\*\\*kwargs: Optional arguments that ``request`` takes.\u001b[39;00m\n\u001b[1;32m    <a href='file:///Users/p.woznicki/git/AutoRadiomics/.venv/lib/python3.10/site-packages/requests/sessions.py?line=537'>538</a>\u001b[0m \u001b[39m:rtype: requests.Response\u001b[39;00m\n\u001b[1;32m    <a href='file:///Users/p.woznicki/git/AutoRadiomics/.venv/lib/python3.10/site-packages/requests/sessions.py?line=538'>539</a>\u001b[0m \u001b[39m\"\"\"\u001b[39;00m\n\u001b[1;32m    <a href='file:///Users/p.woznicki/git/AutoRadiomics/.venv/lib/python3.10/site-packages/requests/sessions.py?line=540'>541</a>\u001b[0m kwargs\u001b[39m.\u001b[39msetdefault(\u001b[39m'\u001b[39m\u001b[39mallow_redirects\u001b[39m\u001b[39m'\u001b[39m, \u001b[39mTrue\u001b[39;00m)\n\u001b[0;32m--> <a href='file:///Users/p.woznicki/git/AutoRadiomics/.venv/lib/python3.10/site-packages/requests/sessions.py?line=541'>542</a>\u001b[0m \u001b[39mreturn\u001b[39;00m \u001b[39mself\u001b[39;49m\u001b[39m.\u001b[39;49mrequest(\u001b[39m'\u001b[39;49m\u001b[39mGET\u001b[39;49m\u001b[39m'\u001b[39;49m, url, \u001b[39m*\u001b[39;49m\u001b[39m*\u001b[39;49mkwargs)\n",
      "File \u001b[0;32m~/git/AutoRadiomics/.venv/lib/python3.10/site-packages/requests/sessions.py:529\u001b[0m, in \u001b[0;36mSession.request\u001b[0;34m(self, method, url, params, data, headers, cookies, files, auth, timeout, allow_redirects, proxies, hooks, stream, verify, cert, json)\u001b[0m\n\u001b[1;32m    <a href='file:///Users/p.woznicki/git/AutoRadiomics/.venv/lib/python3.10/site-packages/requests/sessions.py?line=523'>524</a>\u001b[0m send_kwargs \u001b[39m=\u001b[39m {\n\u001b[1;32m    <a href='file:///Users/p.woznicki/git/AutoRadiomics/.venv/lib/python3.10/site-packages/requests/sessions.py?line=524'>525</a>\u001b[0m     \u001b[39m'\u001b[39m\u001b[39mtimeout\u001b[39m\u001b[39m'\u001b[39m: timeout,\n\u001b[1;32m    <a href='file:///Users/p.woznicki/git/AutoRadiomics/.venv/lib/python3.10/site-packages/requests/sessions.py?line=525'>526</a>\u001b[0m     \u001b[39m'\u001b[39m\u001b[39mallow_redirects\u001b[39m\u001b[39m'\u001b[39m: allow_redirects,\n\u001b[1;32m    <a href='file:///Users/p.woznicki/git/AutoRadiomics/.venv/lib/python3.10/site-packages/requests/sessions.py?line=526'>527</a>\u001b[0m }\n\u001b[1;32m    <a href='file:///Users/p.woznicki/git/AutoRadiomics/.venv/lib/python3.10/site-packages/requests/sessions.py?line=527'>528</a>\u001b[0m send_kwargs\u001b[39m.\u001b[39mupdate(settings)\n\u001b[0;32m--> <a href='file:///Users/p.woznicki/git/AutoRadiomics/.venv/lib/python3.10/site-packages/requests/sessions.py?line=528'>529</a>\u001b[0m resp \u001b[39m=\u001b[39m \u001b[39mself\u001b[39;49m\u001b[39m.\u001b[39;49msend(prep, \u001b[39m*\u001b[39;49m\u001b[39m*\u001b[39;49msend_kwargs)\n\u001b[1;32m    <a href='file:///Users/p.woznicki/git/AutoRadiomics/.venv/lib/python3.10/site-packages/requests/sessions.py?line=530'>531</a>\u001b[0m \u001b[39mreturn\u001b[39;00m resp\n",
      "File \u001b[0;32m~/git/AutoRadiomics/.venv/lib/python3.10/site-packages/requests/sessions.py:645\u001b[0m, in \u001b[0;36mSession.send\u001b[0;34m(self, request, **kwargs)\u001b[0m\n\u001b[1;32m    <a href='file:///Users/p.woznicki/git/AutoRadiomics/.venv/lib/python3.10/site-packages/requests/sessions.py?line=641'>642</a>\u001b[0m start \u001b[39m=\u001b[39m preferred_clock()\n\u001b[1;32m    <a href='file:///Users/p.woznicki/git/AutoRadiomics/.venv/lib/python3.10/site-packages/requests/sessions.py?line=643'>644</a>\u001b[0m \u001b[39m# Send the request\u001b[39;00m\n\u001b[0;32m--> <a href='file:///Users/p.woznicki/git/AutoRadiomics/.venv/lib/python3.10/site-packages/requests/sessions.py?line=644'>645</a>\u001b[0m r \u001b[39m=\u001b[39m adapter\u001b[39m.\u001b[39;49msend(request, \u001b[39m*\u001b[39;49m\u001b[39m*\u001b[39;49mkwargs)\n\u001b[1;32m    <a href='file:///Users/p.woznicki/git/AutoRadiomics/.venv/lib/python3.10/site-packages/requests/sessions.py?line=646'>647</a>\u001b[0m \u001b[39m# Total elapsed time of the request (approximately)\u001b[39;00m\n\u001b[1;32m    <a href='file:///Users/p.woznicki/git/AutoRadiomics/.venv/lib/python3.10/site-packages/requests/sessions.py?line=647'>648</a>\u001b[0m elapsed \u001b[39m=\u001b[39m preferred_clock() \u001b[39m-\u001b[39m start\n",
      "File \u001b[0;32m~/git/AutoRadiomics/.venv/lib/python3.10/site-packages/requests/adapters.py:440\u001b[0m, in \u001b[0;36mHTTPAdapter.send\u001b[0;34m(self, request, stream, timeout, verify, cert, proxies)\u001b[0m\n\u001b[1;32m    <a href='file:///Users/p.woznicki/git/AutoRadiomics/.venv/lib/python3.10/site-packages/requests/adapters.py?line=437'>438</a>\u001b[0m \u001b[39mtry\u001b[39;00m:\n\u001b[1;32m    <a href='file:///Users/p.woznicki/git/AutoRadiomics/.venv/lib/python3.10/site-packages/requests/adapters.py?line=438'>439</a>\u001b[0m     \u001b[39mif\u001b[39;00m \u001b[39mnot\u001b[39;00m chunked:\n\u001b[0;32m--> <a href='file:///Users/p.woznicki/git/AutoRadiomics/.venv/lib/python3.10/site-packages/requests/adapters.py?line=439'>440</a>\u001b[0m         resp \u001b[39m=\u001b[39m conn\u001b[39m.\u001b[39;49murlopen(\n\u001b[1;32m    <a href='file:///Users/p.woznicki/git/AutoRadiomics/.venv/lib/python3.10/site-packages/requests/adapters.py?line=440'>441</a>\u001b[0m             method\u001b[39m=\u001b[39;49mrequest\u001b[39m.\u001b[39;49mmethod,\n\u001b[1;32m    <a href='file:///Users/p.woznicki/git/AutoRadiomics/.venv/lib/python3.10/site-packages/requests/adapters.py?line=441'>442</a>\u001b[0m             url\u001b[39m=\u001b[39;49murl,\n\u001b[1;32m    <a href='file:///Users/p.woznicki/git/AutoRadiomics/.venv/lib/python3.10/site-packages/requests/adapters.py?line=442'>443</a>\u001b[0m             body\u001b[39m=\u001b[39;49mrequest\u001b[39m.\u001b[39;49mbody,\n\u001b[1;32m    <a href='file:///Users/p.woznicki/git/AutoRadiomics/.venv/lib/python3.10/site-packages/requests/adapters.py?line=443'>444</a>\u001b[0m             headers\u001b[39m=\u001b[39;49mrequest\u001b[39m.\u001b[39;49mheaders,\n\u001b[1;32m    <a href='file:///Users/p.woznicki/git/AutoRadiomics/.venv/lib/python3.10/site-packages/requests/adapters.py?line=444'>445</a>\u001b[0m             redirect\u001b[39m=\u001b[39;49m\u001b[39mFalse\u001b[39;49;00m,\n\u001b[1;32m    <a href='file:///Users/p.woznicki/git/AutoRadiomics/.venv/lib/python3.10/site-packages/requests/adapters.py?line=445'>446</a>\u001b[0m             assert_same_host\u001b[39m=\u001b[39;49m\u001b[39mFalse\u001b[39;49;00m,\n\u001b[1;32m    <a href='file:///Users/p.woznicki/git/AutoRadiomics/.venv/lib/python3.10/site-packages/requests/adapters.py?line=446'>447</a>\u001b[0m             preload_content\u001b[39m=\u001b[39;49m\u001b[39mFalse\u001b[39;49;00m,\n\u001b[1;32m    <a href='file:///Users/p.woznicki/git/AutoRadiomics/.venv/lib/python3.10/site-packages/requests/adapters.py?line=447'>448</a>\u001b[0m             decode_content\u001b[39m=\u001b[39;49m\u001b[39mFalse\u001b[39;49;00m,\n\u001b[1;32m    <a href='file:///Users/p.woznicki/git/AutoRadiomics/.venv/lib/python3.10/site-packages/requests/adapters.py?line=448'>449</a>\u001b[0m             retries\u001b[39m=\u001b[39;49m\u001b[39mself\u001b[39;49m\u001b[39m.\u001b[39;49mmax_retries,\n\u001b[1;32m    <a href='file:///Users/p.woznicki/git/AutoRadiomics/.venv/lib/python3.10/site-packages/requests/adapters.py?line=449'>450</a>\u001b[0m             timeout\u001b[39m=\u001b[39;49mtimeout\n\u001b[1;32m    <a href='file:///Users/p.woznicki/git/AutoRadiomics/.venv/lib/python3.10/site-packages/requests/adapters.py?line=450'>451</a>\u001b[0m         )\n\u001b[1;32m    <a href='file:///Users/p.woznicki/git/AutoRadiomics/.venv/lib/python3.10/site-packages/requests/adapters.py?line=452'>453</a>\u001b[0m     \u001b[39m# Send the request.\u001b[39;00m\n\u001b[1;32m    <a href='file:///Users/p.woznicki/git/AutoRadiomics/.venv/lib/python3.10/site-packages/requests/adapters.py?line=453'>454</a>\u001b[0m     \u001b[39melse\u001b[39;00m:\n\u001b[1;32m    <a href='file:///Users/p.woznicki/git/AutoRadiomics/.venv/lib/python3.10/site-packages/requests/adapters.py?line=454'>455</a>\u001b[0m         \u001b[39mif\u001b[39;00m \u001b[39mhasattr\u001b[39m(conn, \u001b[39m'\u001b[39m\u001b[39mproxy_pool\u001b[39m\u001b[39m'\u001b[39m):\n",
      "File \u001b[0;32m~/git/AutoRadiomics/.venv/lib/python3.10/site-packages/urllib3/connectionpool.py:703\u001b[0m, in \u001b[0;36mHTTPConnectionPool.urlopen\u001b[0;34m(self, method, url, body, headers, retries, redirect, assert_same_host, timeout, pool_timeout, release_conn, chunked, body_pos, **response_kw)\u001b[0m\n\u001b[1;32m    <a href='file:///Users/p.woznicki/git/AutoRadiomics/.venv/lib/python3.10/site-packages/urllib3/connectionpool.py?line=699'>700</a>\u001b[0m     \u001b[39mself\u001b[39m\u001b[39m.\u001b[39m_prepare_proxy(conn)\n\u001b[1;32m    <a href='file:///Users/p.woznicki/git/AutoRadiomics/.venv/lib/python3.10/site-packages/urllib3/connectionpool.py?line=701'>702</a>\u001b[0m \u001b[39m# Make the request on the httplib connection object.\u001b[39;00m\n\u001b[0;32m--> <a href='file:///Users/p.woznicki/git/AutoRadiomics/.venv/lib/python3.10/site-packages/urllib3/connectionpool.py?line=702'>703</a>\u001b[0m httplib_response \u001b[39m=\u001b[39m \u001b[39mself\u001b[39;49m\u001b[39m.\u001b[39;49m_make_request(\n\u001b[1;32m    <a href='file:///Users/p.woznicki/git/AutoRadiomics/.venv/lib/python3.10/site-packages/urllib3/connectionpool.py?line=703'>704</a>\u001b[0m     conn,\n\u001b[1;32m    <a href='file:///Users/p.woznicki/git/AutoRadiomics/.venv/lib/python3.10/site-packages/urllib3/connectionpool.py?line=704'>705</a>\u001b[0m     method,\n\u001b[1;32m    <a href='file:///Users/p.woznicki/git/AutoRadiomics/.venv/lib/python3.10/site-packages/urllib3/connectionpool.py?line=705'>706</a>\u001b[0m     url,\n\u001b[1;32m    <a href='file:///Users/p.woznicki/git/AutoRadiomics/.venv/lib/python3.10/site-packages/urllib3/connectionpool.py?line=706'>707</a>\u001b[0m     timeout\u001b[39m=\u001b[39;49mtimeout_obj,\n\u001b[1;32m    <a href='file:///Users/p.woznicki/git/AutoRadiomics/.venv/lib/python3.10/site-packages/urllib3/connectionpool.py?line=707'>708</a>\u001b[0m     body\u001b[39m=\u001b[39;49mbody,\n\u001b[1;32m    <a href='file:///Users/p.woznicki/git/AutoRadiomics/.venv/lib/python3.10/site-packages/urllib3/connectionpool.py?line=708'>709</a>\u001b[0m     headers\u001b[39m=\u001b[39;49mheaders,\n\u001b[1;32m    <a href='file:///Users/p.woznicki/git/AutoRadiomics/.venv/lib/python3.10/site-packages/urllib3/connectionpool.py?line=709'>710</a>\u001b[0m     chunked\u001b[39m=\u001b[39;49mchunked,\n\u001b[1;32m    <a href='file:///Users/p.woznicki/git/AutoRadiomics/.venv/lib/python3.10/site-packages/urllib3/connectionpool.py?line=710'>711</a>\u001b[0m )\n\u001b[1;32m    <a href='file:///Users/p.woznicki/git/AutoRadiomics/.venv/lib/python3.10/site-packages/urllib3/connectionpool.py?line=712'>713</a>\u001b[0m \u001b[39m# If we're going to release the connection in ``finally:``, then\u001b[39;00m\n\u001b[1;32m    <a href='file:///Users/p.woznicki/git/AutoRadiomics/.venv/lib/python3.10/site-packages/urllib3/connectionpool.py?line=713'>714</a>\u001b[0m \u001b[39m# the response doesn't need to know about the connection. Otherwise\u001b[39;00m\n\u001b[1;32m    <a href='file:///Users/p.woznicki/git/AutoRadiomics/.venv/lib/python3.10/site-packages/urllib3/connectionpool.py?line=714'>715</a>\u001b[0m \u001b[39m# it will also try to release it and we'll have a double-release\u001b[39;00m\n\u001b[1;32m    <a href='file:///Users/p.woznicki/git/AutoRadiomics/.venv/lib/python3.10/site-packages/urllib3/connectionpool.py?line=715'>716</a>\u001b[0m \u001b[39m# mess.\u001b[39;00m\n\u001b[1;32m    <a href='file:///Users/p.woznicki/git/AutoRadiomics/.venv/lib/python3.10/site-packages/urllib3/connectionpool.py?line=716'>717</a>\u001b[0m response_conn \u001b[39m=\u001b[39m conn \u001b[39mif\u001b[39;00m \u001b[39mnot\u001b[39;00m release_conn \u001b[39melse\u001b[39;00m \u001b[39mNone\u001b[39;00m\n",
      "File \u001b[0;32m~/git/AutoRadiomics/.venv/lib/python3.10/site-packages/urllib3/connectionpool.py:449\u001b[0m, in \u001b[0;36mHTTPConnectionPool._make_request\u001b[0;34m(self, conn, method, url, timeout, chunked, **httplib_request_kw)\u001b[0m\n\u001b[1;32m    <a href='file:///Users/p.woznicki/git/AutoRadiomics/.venv/lib/python3.10/site-packages/urllib3/connectionpool.py?line=443'>444</a>\u001b[0m             httplib_response \u001b[39m=\u001b[39m conn\u001b[39m.\u001b[39mgetresponse()\n\u001b[1;32m    <a href='file:///Users/p.woznicki/git/AutoRadiomics/.venv/lib/python3.10/site-packages/urllib3/connectionpool.py?line=444'>445</a>\u001b[0m         \u001b[39mexcept\u001b[39;00m \u001b[39mBaseException\u001b[39;00m \u001b[39mas\u001b[39;00m e:\n\u001b[1;32m    <a href='file:///Users/p.woznicki/git/AutoRadiomics/.venv/lib/python3.10/site-packages/urllib3/connectionpool.py?line=445'>446</a>\u001b[0m             \u001b[39m# Remove the TypeError from the exception chain in\u001b[39;00m\n\u001b[1;32m    <a href='file:///Users/p.woznicki/git/AutoRadiomics/.venv/lib/python3.10/site-packages/urllib3/connectionpool.py?line=446'>447</a>\u001b[0m             \u001b[39m# Python 3 (including for exceptions like SystemExit).\u001b[39;00m\n\u001b[1;32m    <a href='file:///Users/p.woznicki/git/AutoRadiomics/.venv/lib/python3.10/site-packages/urllib3/connectionpool.py?line=447'>448</a>\u001b[0m             \u001b[39m# Otherwise it looks like a bug in the code.\u001b[39;00m\n\u001b[0;32m--> <a href='file:///Users/p.woznicki/git/AutoRadiomics/.venv/lib/python3.10/site-packages/urllib3/connectionpool.py?line=448'>449</a>\u001b[0m             six\u001b[39m.\u001b[39;49mraise_from(e, \u001b[39mNone\u001b[39;49;00m)\n\u001b[1;32m    <a href='file:///Users/p.woznicki/git/AutoRadiomics/.venv/lib/python3.10/site-packages/urllib3/connectionpool.py?line=449'>450</a>\u001b[0m \u001b[39mexcept\u001b[39;00m (SocketTimeout, BaseSSLError, SocketError) \u001b[39mas\u001b[39;00m e:\n\u001b[1;32m    <a href='file:///Users/p.woznicki/git/AutoRadiomics/.venv/lib/python3.10/site-packages/urllib3/connectionpool.py?line=450'>451</a>\u001b[0m     \u001b[39mself\u001b[39m\u001b[39m.\u001b[39m_raise_timeout(err\u001b[39m=\u001b[39me, url\u001b[39m=\u001b[39murl, timeout_value\u001b[39m=\u001b[39mread_timeout)\n",
      "File \u001b[0;32m<string>:3\u001b[0m, in \u001b[0;36mraise_from\u001b[0;34m(value, from_value)\u001b[0m\n",
      "File \u001b[0;32m~/git/AutoRadiomics/.venv/lib/python3.10/site-packages/urllib3/connectionpool.py:444\u001b[0m, in \u001b[0;36mHTTPConnectionPool._make_request\u001b[0;34m(self, conn, method, url, timeout, chunked, **httplib_request_kw)\u001b[0m\n\u001b[1;32m    <a href='file:///Users/p.woznicki/git/AutoRadiomics/.venv/lib/python3.10/site-packages/urllib3/connectionpool.py?line=440'>441</a>\u001b[0m \u001b[39mexcept\u001b[39;00m \u001b[39mTypeError\u001b[39;00m:\n\u001b[1;32m    <a href='file:///Users/p.woznicki/git/AutoRadiomics/.venv/lib/python3.10/site-packages/urllib3/connectionpool.py?line=441'>442</a>\u001b[0m     \u001b[39m# Python 3\u001b[39;00m\n\u001b[1;32m    <a href='file:///Users/p.woznicki/git/AutoRadiomics/.venv/lib/python3.10/site-packages/urllib3/connectionpool.py?line=442'>443</a>\u001b[0m     \u001b[39mtry\u001b[39;00m:\n\u001b[0;32m--> <a href='file:///Users/p.woznicki/git/AutoRadiomics/.venv/lib/python3.10/site-packages/urllib3/connectionpool.py?line=443'>444</a>\u001b[0m         httplib_response \u001b[39m=\u001b[39m conn\u001b[39m.\u001b[39;49mgetresponse()\n\u001b[1;32m    <a href='file:///Users/p.woznicki/git/AutoRadiomics/.venv/lib/python3.10/site-packages/urllib3/connectionpool.py?line=444'>445</a>\u001b[0m     \u001b[39mexcept\u001b[39;00m \u001b[39mBaseException\u001b[39;00m \u001b[39mas\u001b[39;00m e:\n\u001b[1;32m    <a href='file:///Users/p.woznicki/git/AutoRadiomics/.venv/lib/python3.10/site-packages/urllib3/connectionpool.py?line=445'>446</a>\u001b[0m         \u001b[39m# Remove the TypeError from the exception chain in\u001b[39;00m\n\u001b[1;32m    <a href='file:///Users/p.woznicki/git/AutoRadiomics/.venv/lib/python3.10/site-packages/urllib3/connectionpool.py?line=446'>447</a>\u001b[0m         \u001b[39m# Python 3 (including for exceptions like SystemExit).\u001b[39;00m\n\u001b[1;32m    <a href='file:///Users/p.woznicki/git/AutoRadiomics/.venv/lib/python3.10/site-packages/urllib3/connectionpool.py?line=447'>448</a>\u001b[0m         \u001b[39m# Otherwise it looks like a bug in the code.\u001b[39;00m\n\u001b[1;32m    <a href='file:///Users/p.woznicki/git/AutoRadiomics/.venv/lib/python3.10/site-packages/urllib3/connectionpool.py?line=448'>449</a>\u001b[0m         six\u001b[39m.\u001b[39mraise_from(e, \u001b[39mNone\u001b[39;00m)\n",
      "File \u001b[0;32m~/.pyenv/versions/3.10.4/lib/python3.10/http/client.py:1374\u001b[0m, in \u001b[0;36mHTTPConnection.getresponse\u001b[0;34m(self)\u001b[0m\n\u001b[1;32m   <a href='file:///Users/p.woznicki/.pyenv/versions/3.10.4/lib/python3.10/http/client.py?line=1371'>1372</a>\u001b[0m \u001b[39mtry\u001b[39;00m:\n\u001b[1;32m   <a href='file:///Users/p.woznicki/.pyenv/versions/3.10.4/lib/python3.10/http/client.py?line=1372'>1373</a>\u001b[0m     \u001b[39mtry\u001b[39;00m:\n\u001b[0;32m-> <a href='file:///Users/p.woznicki/.pyenv/versions/3.10.4/lib/python3.10/http/client.py?line=1373'>1374</a>\u001b[0m         response\u001b[39m.\u001b[39;49mbegin()\n\u001b[1;32m   <a href='file:///Users/p.woznicki/.pyenv/versions/3.10.4/lib/python3.10/http/client.py?line=1374'>1375</a>\u001b[0m     \u001b[39mexcept\u001b[39;00m \u001b[39mConnectionError\u001b[39;00m:\n\u001b[1;32m   <a href='file:///Users/p.woznicki/.pyenv/versions/3.10.4/lib/python3.10/http/client.py?line=1375'>1376</a>\u001b[0m         \u001b[39mself\u001b[39m\u001b[39m.\u001b[39mclose()\n",
      "File \u001b[0;32m~/.pyenv/versions/3.10.4/lib/python3.10/http/client.py:318\u001b[0m, in \u001b[0;36mHTTPResponse.begin\u001b[0;34m(self)\u001b[0m\n\u001b[1;32m    <a href='file:///Users/p.woznicki/.pyenv/versions/3.10.4/lib/python3.10/http/client.py?line=315'>316</a>\u001b[0m \u001b[39m# read until we get a non-100 response\u001b[39;00m\n\u001b[1;32m    <a href='file:///Users/p.woznicki/.pyenv/versions/3.10.4/lib/python3.10/http/client.py?line=316'>317</a>\u001b[0m \u001b[39mwhile\u001b[39;00m \u001b[39mTrue\u001b[39;00m:\n\u001b[0;32m--> <a href='file:///Users/p.woznicki/.pyenv/versions/3.10.4/lib/python3.10/http/client.py?line=317'>318</a>\u001b[0m     version, status, reason \u001b[39m=\u001b[39m \u001b[39mself\u001b[39;49m\u001b[39m.\u001b[39;49m_read_status()\n\u001b[1;32m    <a href='file:///Users/p.woznicki/.pyenv/versions/3.10.4/lib/python3.10/http/client.py?line=318'>319</a>\u001b[0m     \u001b[39mif\u001b[39;00m status \u001b[39m!=\u001b[39m CONTINUE:\n\u001b[1;32m    <a href='file:///Users/p.woznicki/.pyenv/versions/3.10.4/lib/python3.10/http/client.py?line=319'>320</a>\u001b[0m         \u001b[39mbreak\u001b[39;00m\n",
      "File \u001b[0;32m~/.pyenv/versions/3.10.4/lib/python3.10/http/client.py:279\u001b[0m, in \u001b[0;36mHTTPResponse._read_status\u001b[0;34m(self)\u001b[0m\n\u001b[1;32m    <a href='file:///Users/p.woznicki/.pyenv/versions/3.10.4/lib/python3.10/http/client.py?line=277'>278</a>\u001b[0m \u001b[39mdef\u001b[39;00m \u001b[39m_read_status\u001b[39m(\u001b[39mself\u001b[39m):\n\u001b[0;32m--> <a href='file:///Users/p.woznicki/.pyenv/versions/3.10.4/lib/python3.10/http/client.py?line=278'>279</a>\u001b[0m     line \u001b[39m=\u001b[39m \u001b[39mstr\u001b[39m(\u001b[39mself\u001b[39;49m\u001b[39m.\u001b[39;49mfp\u001b[39m.\u001b[39;49mreadline(_MAXLINE \u001b[39m+\u001b[39;49m \u001b[39m1\u001b[39;49m), \u001b[39m\"\u001b[39m\u001b[39miso-8859-1\u001b[39m\u001b[39m\"\u001b[39m)\n\u001b[1;32m    <a href='file:///Users/p.woznicki/.pyenv/versions/3.10.4/lib/python3.10/http/client.py?line=279'>280</a>\u001b[0m     \u001b[39mif\u001b[39;00m \u001b[39mlen\u001b[39m(line) \u001b[39m>\u001b[39m _MAXLINE:\n\u001b[1;32m    <a href='file:///Users/p.woznicki/.pyenv/versions/3.10.4/lib/python3.10/http/client.py?line=280'>281</a>\u001b[0m         \u001b[39mraise\u001b[39;00m LineTooLong(\u001b[39m\"\u001b[39m\u001b[39mstatus line\u001b[39m\u001b[39m\"\u001b[39m)\n",
      "File \u001b[0;32m~/.pyenv/versions/3.10.4/lib/python3.10/socket.py:705\u001b[0m, in \u001b[0;36mSocketIO.readinto\u001b[0;34m(self, b)\u001b[0m\n\u001b[1;32m    <a href='file:///Users/p.woznicki/.pyenv/versions/3.10.4/lib/python3.10/socket.py?line=702'>703</a>\u001b[0m \u001b[39mwhile\u001b[39;00m \u001b[39mTrue\u001b[39;00m:\n\u001b[1;32m    <a href='file:///Users/p.woznicki/.pyenv/versions/3.10.4/lib/python3.10/socket.py?line=703'>704</a>\u001b[0m     \u001b[39mtry\u001b[39;00m:\n\u001b[0;32m--> <a href='file:///Users/p.woznicki/.pyenv/versions/3.10.4/lib/python3.10/socket.py?line=704'>705</a>\u001b[0m         \u001b[39mreturn\u001b[39;00m \u001b[39mself\u001b[39;49m\u001b[39m.\u001b[39;49m_sock\u001b[39m.\u001b[39;49mrecv_into(b)\n\u001b[1;32m    <a href='file:///Users/p.woznicki/.pyenv/versions/3.10.4/lib/python3.10/socket.py?line=705'>706</a>\u001b[0m     \u001b[39mexcept\u001b[39;00m timeout:\n\u001b[1;32m    <a href='file:///Users/p.woznicki/.pyenv/versions/3.10.4/lib/python3.10/socket.py?line=706'>707</a>\u001b[0m         \u001b[39mself\u001b[39m\u001b[39m.\u001b[39m_timeout_occurred \u001b[39m=\u001b[39m \u001b[39mTrue\u001b[39;00m\n",
      "File \u001b[0;32m~/.pyenv/versions/3.10.4/lib/python3.10/ssl.py:1273\u001b[0m, in \u001b[0;36mSSLSocket.recv_into\u001b[0;34m(self, buffer, nbytes, flags)\u001b[0m\n\u001b[1;32m   <a href='file:///Users/p.woznicki/.pyenv/versions/3.10.4/lib/python3.10/ssl.py?line=1268'>1269</a>\u001b[0m     \u001b[39mif\u001b[39;00m flags \u001b[39m!=\u001b[39m \u001b[39m0\u001b[39m:\n\u001b[1;32m   <a href='file:///Users/p.woznicki/.pyenv/versions/3.10.4/lib/python3.10/ssl.py?line=1269'>1270</a>\u001b[0m         \u001b[39mraise\u001b[39;00m \u001b[39mValueError\u001b[39;00m(\n\u001b[1;32m   <a href='file:///Users/p.woznicki/.pyenv/versions/3.10.4/lib/python3.10/ssl.py?line=1270'>1271</a>\u001b[0m           \u001b[39m\"\u001b[39m\u001b[39mnon-zero flags not allowed in calls to recv_into() on \u001b[39m\u001b[39m%s\u001b[39;00m\u001b[39m\"\u001b[39m \u001b[39m%\u001b[39m\n\u001b[1;32m   <a href='file:///Users/p.woznicki/.pyenv/versions/3.10.4/lib/python3.10/ssl.py?line=1271'>1272</a>\u001b[0m           \u001b[39mself\u001b[39m\u001b[39m.\u001b[39m\u001b[39m__class__\u001b[39m)\n\u001b[0;32m-> <a href='file:///Users/p.woznicki/.pyenv/versions/3.10.4/lib/python3.10/ssl.py?line=1272'>1273</a>\u001b[0m     \u001b[39mreturn\u001b[39;00m \u001b[39mself\u001b[39;49m\u001b[39m.\u001b[39;49mread(nbytes, buffer)\n\u001b[1;32m   <a href='file:///Users/p.woznicki/.pyenv/versions/3.10.4/lib/python3.10/ssl.py?line=1273'>1274</a>\u001b[0m \u001b[39melse\u001b[39;00m:\n\u001b[1;32m   <a href='file:///Users/p.woznicki/.pyenv/versions/3.10.4/lib/python3.10/ssl.py?line=1274'>1275</a>\u001b[0m     \u001b[39mreturn\u001b[39;00m \u001b[39msuper\u001b[39m()\u001b[39m.\u001b[39mrecv_into(buffer, nbytes, flags)\n",
      "File \u001b[0;32m~/.pyenv/versions/3.10.4/lib/python3.10/ssl.py:1129\u001b[0m, in \u001b[0;36mSSLSocket.read\u001b[0;34m(self, len, buffer)\u001b[0m\n\u001b[1;32m   <a href='file:///Users/p.woznicki/.pyenv/versions/3.10.4/lib/python3.10/ssl.py?line=1126'>1127</a>\u001b[0m \u001b[39mtry\u001b[39;00m:\n\u001b[1;32m   <a href='file:///Users/p.woznicki/.pyenv/versions/3.10.4/lib/python3.10/ssl.py?line=1127'>1128</a>\u001b[0m     \u001b[39mif\u001b[39;00m buffer \u001b[39mis\u001b[39;00m \u001b[39mnot\u001b[39;00m \u001b[39mNone\u001b[39;00m:\n\u001b[0;32m-> <a href='file:///Users/p.woznicki/.pyenv/versions/3.10.4/lib/python3.10/ssl.py?line=1128'>1129</a>\u001b[0m         \u001b[39mreturn\u001b[39;00m \u001b[39mself\u001b[39;49m\u001b[39m.\u001b[39;49m_sslobj\u001b[39m.\u001b[39;49mread(\u001b[39mlen\u001b[39;49m, buffer)\n\u001b[1;32m   <a href='file:///Users/p.woznicki/.pyenv/versions/3.10.4/lib/python3.10/ssl.py?line=1129'>1130</a>\u001b[0m     \u001b[39melse\u001b[39;00m:\n\u001b[1;32m   <a href='file:///Users/p.woznicki/.pyenv/versions/3.10.4/lib/python3.10/ssl.py?line=1130'>1131</a>\u001b[0m         \u001b[39mreturn\u001b[39;00m \u001b[39mself\u001b[39m\u001b[39m.\u001b[39m_sslobj\u001b[39m.\u001b[39mread(\u001b[39mlen\u001b[39m)\n",
      "\u001b[0;31mKeyboardInterrupt\u001b[0m: "
     ]
    }
   ],
   "source": [
    "from autorad.external.download_WORC import download_WORCDatabase\n",
    "from pathlib import Path\n",
    "import pandas as pd\n",
    "\n",
    "# Set where we will save our data and results\n",
    "base_dir = Path.cwd() / \"autorad_tutorial\"\n",
    "data_dir = base_dir / \"data\"\n",
    "result_dir = base_dir / \"results\"\n",
    "\n",
    "%load_ext autoreload\n",
    "%autoreload 2\n",
    "\n",
    "\n",
    "download_WORCDatabase(\n",
    "    dataset=\"Liver\",\n",
    "    data_folder=data_dir,\n",
    "    n_subjects=25,\n",
    "    )"
   ]
  },
  {
   "cell_type": "code",
   "execution_count": 2,
   "metadata": {},
   "outputs": [
    {
     "name": "stdout",
     "output_type": "stream",
     "text": [
      "\u001b[1m\u001b[36mLiver-006\u001b[m\u001b[m  \u001b[1m\u001b[36mLiver-030\u001b[m\u001b[m  \u001b[1m\u001b[36mLiver-038\u001b[m\u001b[m  \u001b[1m\u001b[36mLiver-122\u001b[m\u001b[m  \u001b[1m\u001b[36mLiver-147\u001b[m\u001b[m  \u001b[1m\u001b[36mLiver-166\u001b[m\u001b[m  \u001b[1m\u001b[36mLiver-185\u001b[m\u001b[m\n",
      "\u001b[1m\u001b[36mLiver-008\u001b[m\u001b[m  \u001b[1m\u001b[36mLiver-031\u001b[m\u001b[m  \u001b[1m\u001b[36mLiver-067\u001b[m\u001b[m  \u001b[1m\u001b[36mLiver-124\u001b[m\u001b[m  \u001b[1m\u001b[36mLiver-154\u001b[m\u001b[m  \u001b[1m\u001b[36mLiver-168\u001b[m\u001b[m  labels.csv\n",
      "\u001b[1m\u001b[36mLiver-011\u001b[m\u001b[m  \u001b[1m\u001b[36mLiver-035\u001b[m\u001b[m  \u001b[1m\u001b[36mLiver-079\u001b[m\u001b[m  \u001b[1m\u001b[36mLiver-128\u001b[m\u001b[m  \u001b[1m\u001b[36mLiver-156\u001b[m\u001b[m  \u001b[1m\u001b[36mLiver-180\u001b[m\u001b[m\n",
      "\u001b[1m\u001b[36mLiver-023\u001b[m\u001b[m  \u001b[1m\u001b[36mLiver-037\u001b[m\u001b[m  \u001b[1m\u001b[36mLiver-107\u001b[m\u001b[m  \u001b[1m\u001b[36mLiver-146\u001b[m\u001b[m  \u001b[1m\u001b[36mLiver-159\u001b[m\u001b[m  \u001b[1m\u001b[36mLiver-184\u001b[m\u001b[m\n"
     ]
    }
   ],
   "source": [
    "!ls $data_dir"
   ]
  },
  {
   "cell_type": "code",
   "execution_count": 3,
   "metadata": {},
   "outputs": [
    {
     "data": {
      "text/html": [
       "<div>\n",
       "<style scoped>\n",
       "    .dataframe tbody tr th:only-of-type {\n",
       "        vertical-align: middle;\n",
       "    }\n",
       "\n",
       "    .dataframe tbody tr th {\n",
       "        vertical-align: top;\n",
       "    }\n",
       "\n",
       "    .dataframe thead th {\n",
       "        text-align: right;\n",
       "    }\n",
       "</style>\n",
       "<table border=\"1\" class=\"dataframe\">\n",
       "  <thead>\n",
       "    <tr style=\"text-align: right;\">\n",
       "      <th></th>\n",
       "      <th>ID</th>\n",
       "      <th>image_path</th>\n",
       "      <th>segmentation_path</th>\n",
       "    </tr>\n",
       "  </thead>\n",
       "  <tbody>\n",
       "    <tr>\n",
       "      <th>0</th>\n",
       "      <td>Liver-035</td>\n",
       "      <td>Liver-035/image.nii.gz</td>\n",
       "      <td>Liver-035/segmentation.nii.gz</td>\n",
       "    </tr>\n",
       "    <tr>\n",
       "      <th>1</th>\n",
       "      <td>Liver-067</td>\n",
       "      <td>Liver-067/image.nii.gz</td>\n",
       "      <td>Liver-067/segmentation.nii.gz</td>\n",
       "    </tr>\n",
       "    <tr>\n",
       "      <th>2</th>\n",
       "      <td>Liver-146</td>\n",
       "      <td>Liver-146/image.nii.gz</td>\n",
       "      <td>Liver-146/segmentation.nii.gz</td>\n",
       "    </tr>\n",
       "    <tr>\n",
       "      <th>3</th>\n",
       "      <td>Liver-184</td>\n",
       "      <td>Liver-184/image.nii.gz</td>\n",
       "      <td>Liver-184/segmentation.nii.gz</td>\n",
       "    </tr>\n",
       "    <tr>\n",
       "      <th>4</th>\n",
       "      <td>Liver-124</td>\n",
       "      <td>Liver-124/image.nii.gz</td>\n",
       "      <td>Liver-124/segmentation.nii.gz</td>\n",
       "    </tr>\n",
       "    <tr>\n",
       "      <th>5</th>\n",
       "      <td>Liver-185</td>\n",
       "      <td>Liver-185/image.nii.gz</td>\n",
       "      <td>Liver-185/segmentation.nii.gz</td>\n",
       "    </tr>\n",
       "    <tr>\n",
       "      <th>6</th>\n",
       "      <td>Liver-147</td>\n",
       "      <td>Liver-147/image.nii.gz</td>\n",
       "      <td>Liver-147/segmentation.nii.gz</td>\n",
       "    </tr>\n",
       "    <tr>\n",
       "      <th>7</th>\n",
       "      <td>Liver-122</td>\n",
       "      <td>Liver-122/image.nii.gz</td>\n",
       "      <td>Liver-122/segmentation.nii.gz</td>\n",
       "    </tr>\n",
       "    <tr>\n",
       "      <th>8</th>\n",
       "      <td>Liver-107</td>\n",
       "      <td>Liver-107/image.nii.gz</td>\n",
       "      <td>Liver-107/segmentation.nii.gz</td>\n",
       "    </tr>\n",
       "    <tr>\n",
       "      <th>9</th>\n",
       "      <td>Liver-154</td>\n",
       "      <td>Liver-154/image.nii.gz</td>\n",
       "      <td>Liver-154/segmentation.nii.gz</td>\n",
       "    </tr>\n",
       "    <tr>\n",
       "      <th>10</th>\n",
       "      <td>Liver-011</td>\n",
       "      <td>Liver-011/image.nii.gz</td>\n",
       "      <td>Liver-011/segmentation.nii.gz</td>\n",
       "    </tr>\n",
       "    <tr>\n",
       "      <th>11</th>\n",
       "      <td>Liver-031</td>\n",
       "      <td>Liver-031/image.nii.gz</td>\n",
       "      <td>Liver-031/segmentation.nii.gz</td>\n",
       "    </tr>\n",
       "    <tr>\n",
       "      <th>12</th>\n",
       "      <td>Liver-038</td>\n",
       "      <td>Liver-038/image.nii.gz</td>\n",
       "      <td>Liver-038/segmentation.nii.gz</td>\n",
       "    </tr>\n",
       "    <tr>\n",
       "      <th>13</th>\n",
       "      <td>Liver-006</td>\n",
       "      <td>Liver-006/image.nii.gz</td>\n",
       "      <td>Liver-006/segmentation.nii.gz</td>\n",
       "    </tr>\n",
       "    <tr>\n",
       "      <th>14</th>\n",
       "      <td>Liver-037</td>\n",
       "      <td>Liver-037/image.nii.gz</td>\n",
       "      <td>Liver-037/segmentation.nii.gz</td>\n",
       "    </tr>\n",
       "    <tr>\n",
       "      <th>15</th>\n",
       "      <td>Liver-008</td>\n",
       "      <td>Liver-008/image.nii.gz</td>\n",
       "      <td>Liver-008/segmentation.nii.gz</td>\n",
       "    </tr>\n",
       "    <tr>\n",
       "      <th>16</th>\n",
       "      <td>Liver-030</td>\n",
       "      <td>Liver-030/image.nii.gz</td>\n",
       "      <td>Liver-030/segmentation.nii.gz</td>\n",
       "    </tr>\n",
       "    <tr>\n",
       "      <th>17</th>\n",
       "      <td>Liver-180</td>\n",
       "      <td>Liver-180/image.nii.gz</td>\n",
       "      <td>Liver-180/segmentation.nii.gz</td>\n",
       "    </tr>\n",
       "    <tr>\n",
       "      <th>18</th>\n",
       "      <td>Liver-128</td>\n",
       "      <td>Liver-128/image.nii.gz</td>\n",
       "      <td>Liver-128/segmentation.nii.gz</td>\n",
       "    </tr>\n",
       "    <tr>\n",
       "      <th>19</th>\n",
       "      <td>Liver-166</td>\n",
       "      <td>Liver-166/image.nii.gz</td>\n",
       "      <td>Liver-166/segmentation.nii.gz</td>\n",
       "    </tr>\n",
       "    <tr>\n",
       "      <th>20</th>\n",
       "      <td>Liver-159</td>\n",
       "      <td>Liver-159/image.nii.gz</td>\n",
       "      <td>Liver-159/segmentation.nii.gz</td>\n",
       "    </tr>\n",
       "    <tr>\n",
       "      <th>21</th>\n",
       "      <td>Liver-168</td>\n",
       "      <td>Liver-168/image.nii.gz</td>\n",
       "      <td>Liver-168/segmentation.nii.gz</td>\n",
       "    </tr>\n",
       "    <tr>\n",
       "      <th>22</th>\n",
       "      <td>Liver-156</td>\n",
       "      <td>Liver-156/image.nii.gz</td>\n",
       "      <td>Liver-156/segmentation.nii.gz</td>\n",
       "    </tr>\n",
       "    <tr>\n",
       "      <th>23</th>\n",
       "      <td>Liver-079</td>\n",
       "      <td>Liver-079/image.nii.gz</td>\n",
       "      <td>Liver-079/segmentation.nii.gz</td>\n",
       "    </tr>\n",
       "    <tr>\n",
       "      <th>24</th>\n",
       "      <td>Liver-023</td>\n",
       "      <td>Liver-023/image.nii.gz</td>\n",
       "      <td>Liver-023/segmentation.nii.gz</td>\n",
       "    </tr>\n",
       "  </tbody>\n",
       "</table>\n",
       "</div>"
      ],
      "text/plain": [
       "           ID              image_path              segmentation_path\n",
       "0   Liver-035  Liver-035/image.nii.gz  Liver-035/segmentation.nii.gz\n",
       "1   Liver-067  Liver-067/image.nii.gz  Liver-067/segmentation.nii.gz\n",
       "2   Liver-146  Liver-146/image.nii.gz  Liver-146/segmentation.nii.gz\n",
       "3   Liver-184  Liver-184/image.nii.gz  Liver-184/segmentation.nii.gz\n",
       "4   Liver-124  Liver-124/image.nii.gz  Liver-124/segmentation.nii.gz\n",
       "5   Liver-185  Liver-185/image.nii.gz  Liver-185/segmentation.nii.gz\n",
       "6   Liver-147  Liver-147/image.nii.gz  Liver-147/segmentation.nii.gz\n",
       "7   Liver-122  Liver-122/image.nii.gz  Liver-122/segmentation.nii.gz\n",
       "8   Liver-107  Liver-107/image.nii.gz  Liver-107/segmentation.nii.gz\n",
       "9   Liver-154  Liver-154/image.nii.gz  Liver-154/segmentation.nii.gz\n",
       "10  Liver-011  Liver-011/image.nii.gz  Liver-011/segmentation.nii.gz\n",
       "11  Liver-031  Liver-031/image.nii.gz  Liver-031/segmentation.nii.gz\n",
       "12  Liver-038  Liver-038/image.nii.gz  Liver-038/segmentation.nii.gz\n",
       "13  Liver-006  Liver-006/image.nii.gz  Liver-006/segmentation.nii.gz\n",
       "14  Liver-037  Liver-037/image.nii.gz  Liver-037/segmentation.nii.gz\n",
       "15  Liver-008  Liver-008/image.nii.gz  Liver-008/segmentation.nii.gz\n",
       "16  Liver-030  Liver-030/image.nii.gz  Liver-030/segmentation.nii.gz\n",
       "17  Liver-180  Liver-180/image.nii.gz  Liver-180/segmentation.nii.gz\n",
       "18  Liver-128  Liver-128/image.nii.gz  Liver-128/segmentation.nii.gz\n",
       "19  Liver-166  Liver-166/image.nii.gz  Liver-166/segmentation.nii.gz\n",
       "20  Liver-159  Liver-159/image.nii.gz  Liver-159/segmentation.nii.gz\n",
       "21  Liver-168  Liver-168/image.nii.gz  Liver-168/segmentation.nii.gz\n",
       "22  Liver-156  Liver-156/image.nii.gz  Liver-156/segmentation.nii.gz\n",
       "23  Liver-079  Liver-079/image.nii.gz  Liver-079/segmentation.nii.gz\n",
       "24  Liver-023  Liver-023/image.nii.gz  Liver-023/segmentation.nii.gz"
      ]
     },
     "execution_count": 3,
     "metadata": {},
     "output_type": "execute_result"
    }
   ],
   "source": [
    "from autorad.data.utils import get_paths_with_separate_folder_per_case\n",
    "\n",
    "paths_df = get_paths_with_separate_folder_per_case(data_dir, relative=True)\n",
    "paths_df"
   ]
  },
  {
   "cell_type": "code",
   "execution_count": 4,
   "metadata": {},
   "outputs": [
    {
     "data": {
      "text/html": [
       "<pre style=\"white-space:pre;overflow-x:auto;line-height:normal;font-family:Menlo,'DejaVu Sans Mono',consolas,'Courier New',monospace\"><span style=\"color: #7fbfbf; text-decoration-color: #7fbfbf\">[06/03/22 12:16:15] </span><span style=\"color: #000080; text-decoration-color: #000080\">INFO    </span> Using extraction params from <span style=\"color: #800080; text-decoration-color: #800080\">/Users/p.woznicki/g</span> <a href=\"file:///Users/p.woznicki/git/AutoRadiomics/autorad/feature_extraction/extractor.py\" target=\"_blank\"><span style=\"color: #7f7f7f; text-decoration-color: #7f7f7f\">extractor.py</span></a><span style=\"color: #7f7f7f; text-decoration-color: #7f7f7f\">:</span><a href=\"file:///Users/p.woznicki/git/AutoRadiomics/autorad/feature_extraction/extractor.py#45\" target=\"_blank\"><span style=\"color: #7f7f7f; text-decoration-color: #7f7f7f\">45</span></a>\n",
       "<span style=\"color: #7fbfbf; text-decoration-color: #7fbfbf\">                    </span>         <span style=\"color: #800080; text-decoration-color: #800080\">it/AutoRadiomics/autorad/config/pyradiomics_para</span> <span style=\"color: #7f7f7f; text-decoration-color: #7f7f7f\">               </span>\n",
       "<span style=\"color: #7fbfbf; text-decoration-color: #7fbfbf\">                    </span>         <span style=\"color: #800080; text-decoration-color: #800080\">ms/</span><span style=\"color: #ff00ff; text-decoration-color: #ff00ff\">Baessler_CT.yaml</span>                              <span style=\"color: #7f7f7f; text-decoration-color: #7f7f7f\">               </span>\n",
       "</pre>\n"
      ],
      "text/plain": [
       "\u001b[2;36m[06/03/22 12:16:15]\u001b[0m\u001b[2;36m \u001b[0m\u001b[34mINFO    \u001b[0m Using extraction params from \u001b[35m/Users/p.woznicki/g\u001b[0m \u001b]8;id=430239;file:///Users/p.woznicki/git/AutoRadiomics/autorad/feature_extraction/extractor.py\u001b\\\u001b[2mextractor.py\u001b[0m\u001b]8;;\u001b\\\u001b[2m:\u001b[0m\u001b]8;id=507156;file:///Users/p.woznicki/git/AutoRadiomics/autorad/feature_extraction/extractor.py#45\u001b\\\u001b[2m45\u001b[0m\u001b]8;;\u001b\\\n",
       "\u001b[2;36m                    \u001b[0m         \u001b[35mit/AutoRadiomics/autorad/config/pyradiomics_para\u001b[0m \u001b[2m               \u001b[0m\n",
       "\u001b[2;36m                    \u001b[0m         \u001b[35mms/\u001b[0m\u001b[95mBaessler_CT.yaml\u001b[0m                              \u001b[2m               \u001b[0m\n"
      ]
     },
     "metadata": {},
     "output_type": "display_data"
    },
    {
     "data": {
      "text/html": [
       "<pre style=\"white-space:pre;overflow-x:auto;line-height:normal;font-family:Menlo,'DejaVu Sans Mono',consolas,'Courier New',monospace\"><span style=\"color: #7fbfbf; text-decoration-color: #7fbfbf\">                    </span><span style=\"color: #000080; text-decoration-color: #000080\">INFO    </span> validation.valid                                     <a href=\"file:///Users/p.woznicki/git/AutoRadiomics/.venv/lib/python3.10/site-packages/pykwalify/core.py\" target=\"_blank\"><span style=\"color: #7f7f7f; text-decoration-color: #7f7f7f\">core.py</span></a><span style=\"color: #7f7f7f; text-decoration-color: #7f7f7f\">:</span><a href=\"file:///Users/p.woznicki/git/AutoRadiomics/.venv/lib/python3.10/site-packages/pykwalify/core.py#188\" target=\"_blank\"><span style=\"color: #7f7f7f; text-decoration-color: #7f7f7f\">188</span></a>\n",
       "</pre>\n"
      ],
      "text/plain": [
       "\u001b[2;36m                   \u001b[0m\u001b[2;36m \u001b[0m\u001b[34mINFO    \u001b[0m validation.valid                                     \u001b]8;id=929302;file:///Users/p.woznicki/git/AutoRadiomics/.venv/lib/python3.10/site-packages/pykwalify/core.py\u001b\\\u001b[2mcore.py\u001b[0m\u001b]8;;\u001b\\\u001b[2m:\u001b[0m\u001b]8;id=989120;file:///Users/p.woznicki/git/AutoRadiomics/.venv/lib/python3.10/site-packages/pykwalify/core.py#188\u001b\\\u001b[2m188\u001b[0m\u001b]8;;\u001b\\\n"
      ]
     },
     "metadata": {},
     "output_type": "display_data"
    },
    {
     "data": {
      "text/html": [
       "<pre style=\"white-space:pre;overflow-x:auto;line-height:normal;font-family:Menlo,'DejaVu Sans Mono',consolas,'Courier New',monospace\"><span style=\"color: #7fbfbf; text-decoration-color: #7fbfbf\">                    </span><span style=\"color: #000080; text-decoration-color: #000080\">INFO    </span> Initialized extractor pyradiomics                <a href=\"file:///Users/p.woznicki/git/AutoRadiomics/autorad/feature_extraction/extractor.py\" target=\"_blank\"><span style=\"color: #7f7f7f; text-decoration-color: #7f7f7f\">extractor.py</span></a><span style=\"color: #7f7f7f; text-decoration-color: #7f7f7f\">:</span><a href=\"file:///Users/p.woznicki/git/AutoRadiomics/autorad/feature_extraction/extractor.py#96\" target=\"_blank\"><span style=\"color: #7f7f7f; text-decoration-color: #7f7f7f\">96</span></a>\n",
       "</pre>\n"
      ],
      "text/plain": [
       "\u001b[2;36m                   \u001b[0m\u001b[2;36m \u001b[0m\u001b[34mINFO    \u001b[0m Initialized extractor pyradiomics                \u001b]8;id=159753;file:///Users/p.woznicki/git/AutoRadiomics/autorad/feature_extraction/extractor.py\u001b\\\u001b[2mextractor.py\u001b[0m\u001b]8;;\u001b\\\u001b[2m:\u001b[0m\u001b]8;id=308788;file:///Users/p.woznicki/git/AutoRadiomics/autorad/feature_extraction/extractor.py#96\u001b\\\u001b[2m96\u001b[0m\u001b]8;;\u001b\\\n"
      ]
     },
     "metadata": {},
     "output_type": "display_data"
    },
    {
     "data": {
      "text/html": [
       "<pre style=\"white-space:pre;overflow-x:auto;line-height:normal;font-family:Menlo,'DejaVu Sans Mono',consolas,'Courier New',monospace\"><span style=\"color: #7fbfbf; text-decoration-color: #7fbfbf\">                    </span><span style=\"color: #000080; text-decoration-color: #000080\">INFO    </span> Extracting features                              <a href=\"file:///Users/p.woznicki/git/AutoRadiomics/autorad/feature_extraction/extractor.py\" target=\"_blank\"><span style=\"color: #7f7f7f; text-decoration-color: #7f7f7f\">extractor.py</span></a><span style=\"color: #7f7f7f; text-decoration-color: #7f7f7f\">:</span><a href=\"file:///Users/p.woznicki/git/AutoRadiomics/autorad/feature_extraction/extractor.py#67\" target=\"_blank\"><span style=\"color: #7f7f7f; text-decoration-color: #7f7f7f\">67</span></a>\n",
       "</pre>\n"
      ],
      "text/plain": [
       "\u001b[2;36m                   \u001b[0m\u001b[2;36m \u001b[0m\u001b[34mINFO    \u001b[0m Extracting features                              \u001b]8;id=285631;file:///Users/p.woznicki/git/AutoRadiomics/autorad/feature_extraction/extractor.py\u001b\\\u001b[2mextractor.py\u001b[0m\u001b]8;;\u001b\\\u001b[2m:\u001b[0m\u001b]8;id=321972;file:///Users/p.woznicki/git/AutoRadiomics/autorad/feature_extraction/extractor.py#67\u001b\\\u001b[2m67\u001b[0m\u001b]8;;\u001b\\\n"
      ]
     },
     "metadata": {},
     "output_type": "display_data"
    },
    {
     "name": "stderr",
     "output_type": "stream",
     "text": [
      "25it [00:38,  1.53s/it]\n"
     ]
    },
    {
     "data": {
      "text/html": [
       "<pre style=\"white-space:pre;overflow-x:auto;line-height:normal;font-family:Menlo,'DejaVu Sans Mono',consolas,'Courier New',monospace\"><span style=\"color: #7fbfbf; text-decoration-color: #7fbfbf\">[06/03/22 12:16:54] </span><span style=\"color: #000080; text-decoration-color: #000080\">INFO    </span> get_features took <span style=\"color: #008080; text-decoration-color: #008080; font-weight: bold\">38.</span>48615598678589sec               <a href=\"file:///Users/p.woznicki/git/AutoRadiomics/autorad/utils/utils.py\" target=\"_blank\"><span style=\"color: #7f7f7f; text-decoration-color: #7f7f7f\">utils.py</span></a><span style=\"color: #7f7f7f; text-decoration-color: #7f7f7f\">:</span><a href=\"file:///Users/p.woznicki/git/AutoRadiomics/autorad/utils/utils.py#21\" target=\"_blank\"><span style=\"color: #7f7f7f; text-decoration-color: #7f7f7f\">21</span></a>\n",
       "</pre>\n"
      ],
      "text/plain": [
       "\u001b[2;36m[06/03/22 12:16:54]\u001b[0m\u001b[2;36m \u001b[0m\u001b[34mINFO    \u001b[0m get_features took \u001b[1;36m38.\u001b[0m48615598678589sec               \u001b]8;id=896397;file:///Users/p.woznicki/git/AutoRadiomics/autorad/utils/utils.py\u001b\\\u001b[2mutils.py\u001b[0m\u001b]8;;\u001b\\\u001b[2m:\u001b[0m\u001b]8;id=675669;file:///Users/p.woznicki/git/AutoRadiomics/autorad/utils/utils.py#21\u001b\\\u001b[2m21\u001b[0m\u001b]8;;\u001b\\\n"
      ]
     },
     "metadata": {},
     "output_type": "display_data"
    }
   ],
   "source": [
    "from autorad.data.dataset import ImageDataset\n",
    "from autorad.feature_extraction.extractor import FeatureExtractor\n",
    "\n",
    "image_dataset = ImageDataset(\n",
    "    paths_df,\n",
    "    ID_colname=\"ID\",\n",
    "    root_dir=data_dir,\n",
    ")\n",
    "extractor = FeatureExtractor(image_dataset)\n",
    "feature_df = extractor.run()"
   ]
  },
  {
   "cell_type": "code",
   "execution_count": 5,
   "metadata": {},
   "outputs": [
    {
     "data": {
      "text/html": [
       "<div>\n",
       "<style scoped>\n",
       "    .dataframe tbody tr th:only-of-type {\n",
       "        vertical-align: middle;\n",
       "    }\n",
       "\n",
       "    .dataframe tbody tr th {\n",
       "        vertical-align: top;\n",
       "    }\n",
       "\n",
       "    .dataframe thead th {\n",
       "        text-align: right;\n",
       "    }\n",
       "</style>\n",
       "<table border=\"1\" class=\"dataframe\">\n",
       "  <thead>\n",
       "    <tr style=\"text-align: right;\">\n",
       "      <th></th>\n",
       "      <th>ID</th>\n",
       "      <th>image_path</th>\n",
       "      <th>segmentation_path</th>\n",
       "      <th>diagnostics_Versions_PyRadiomics</th>\n",
       "      <th>diagnostics_Versions_Numpy</th>\n",
       "      <th>diagnostics_Versions_SimpleITK</th>\n",
       "      <th>diagnostics_Versions_PyWavelet</th>\n",
       "      <th>diagnostics_Versions_Python</th>\n",
       "      <th>diagnostics_Configuration_Settings</th>\n",
       "      <th>diagnostics_Configuration_EnabledImageTypes</th>\n",
       "      <th>...</th>\n",
       "      <th>wavelet-LLL_gldm_LargeDependenceLowGrayLevelEmphasis</th>\n",
       "      <th>wavelet-LLL_gldm_LowGrayLevelEmphasis</th>\n",
       "      <th>wavelet-LLL_gldm_SmallDependenceEmphasis</th>\n",
       "      <th>wavelet-LLL_gldm_SmallDependenceHighGrayLevelEmphasis</th>\n",
       "      <th>wavelet-LLL_gldm_SmallDependenceLowGrayLevelEmphasis</th>\n",
       "      <th>wavelet-LLL_ngtdm_Busyness</th>\n",
       "      <th>wavelet-LLL_ngtdm_Coarseness</th>\n",
       "      <th>wavelet-LLL_ngtdm_Complexity</th>\n",
       "      <th>wavelet-LLL_ngtdm_Contrast</th>\n",
       "      <th>wavelet-LLL_ngtdm_Strength</th>\n",
       "    </tr>\n",
       "  </thead>\n",
       "  <tbody>\n",
       "    <tr>\n",
       "      <th>0</th>\n",
       "      <td>Liver-035</td>\n",
       "      <td>/Users/p.woznicki/git/AutoRadiomics/examples/a...</td>\n",
       "      <td>/Users/p.woznicki/git/AutoRadiomics/examples/a...</td>\n",
       "      <td>v3.0.1</td>\n",
       "      <td>1.22.1</td>\n",
       "      <td>2.1.1.2</td>\n",
       "      <td>1.2.0</td>\n",
       "      <td>3.10.4</td>\n",
       "      <td>{'minimumROIDimensions': 1, 'minimumROISize': ...</td>\n",
       "      <td>{'Original': {}, 'LoG': {'sigma': [3.0, 5.0]},...</td>\n",
       "      <td>...</td>\n",
       "      <td>0.49033556571131404</td>\n",
       "      <td>0.009239256309735483</td>\n",
       "      <td>0.10497863178878879</td>\n",
       "      <td>17.108519817338614</td>\n",
       "      <td>0.0019064162301314488</td>\n",
       "      <td>2.195837937351879</td>\n",
       "      <td>0.0010111456662735665</td>\n",
       "      <td>426.9975349731685</td>\n",
       "      <td>0.06190203145328447</td>\n",
       "      <td>0.284974468309886</td>\n",
       "    </tr>\n",
       "    <tr>\n",
       "      <th>1</th>\n",
       "      <td>Liver-067</td>\n",
       "      <td>/Users/p.woznicki/git/AutoRadiomics/examples/a...</td>\n",
       "      <td>/Users/p.woznicki/git/AutoRadiomics/examples/a...</td>\n",
       "      <td>v3.0.1</td>\n",
       "      <td>1.22.1</td>\n",
       "      <td>2.1.1.2</td>\n",
       "      <td>1.2.0</td>\n",
       "      <td>3.10.4</td>\n",
       "      <td>{'minimumROIDimensions': 1, 'minimumROISize': ...</td>\n",
       "      <td>{'Original': {}, 'LoG': {'sigma': [3.0, 5.0]},...</td>\n",
       "      <td>...</td>\n",
       "      <td>0.1726950112519562</td>\n",
       "      <td>0.008437808020802488</td>\n",
       "      <td>0.23877842444043665</td>\n",
       "      <td>83.97021323093149</td>\n",
       "      <td>0.0023728396471364493</td>\n",
       "      <td>0.7591978668706331</td>\n",
       "      <td>0.001202498835943038</td>\n",
       "      <td>4314.0961725974375</td>\n",
       "      <td>0.053087108883254575</td>\n",
       "      <td>3.4809930821120516</td>\n",
       "    </tr>\n",
       "    <tr>\n",
       "      <th>2</th>\n",
       "      <td>Liver-146</td>\n",
       "      <td>/Users/p.woznicki/git/AutoRadiomics/examples/a...</td>\n",
       "      <td>/Users/p.woznicki/git/AutoRadiomics/examples/a...</td>\n",
       "      <td>v3.0.1</td>\n",
       "      <td>1.22.1</td>\n",
       "      <td>2.1.1.2</td>\n",
       "      <td>1.2.0</td>\n",
       "      <td>3.10.4</td>\n",
       "      <td>{'minimumROIDimensions': 1, 'minimumROISize': ...</td>\n",
       "      <td>{'Original': {}, 'LoG': {'sigma': [3.0, 5.0]},...</td>\n",
       "      <td>...</td>\n",
       "      <td>0.5235105253912582</td>\n",
       "      <td>0.014409860723565572</td>\n",
       "      <td>0.10172864195906982</td>\n",
       "      <td>9.821812246039771</td>\n",
       "      <td>0.002460816641434821</td>\n",
       "      <td>1.9618138907602145</td>\n",
       "      <td>0.0021490398335429067</td>\n",
       "      <td>178.82845259100122</td>\n",
       "      <td>0.03313849502581368</td>\n",
       "      <td>0.3598787334834973</td>\n",
       "    </tr>\n",
       "    <tr>\n",
       "      <th>3</th>\n",
       "      <td>Liver-184</td>\n",
       "      <td>/Users/p.woznicki/git/AutoRadiomics/examples/a...</td>\n",
       "      <td>/Users/p.woznicki/git/AutoRadiomics/examples/a...</td>\n",
       "      <td>v3.0.1</td>\n",
       "      <td>1.22.1</td>\n",
       "      <td>2.1.1.2</td>\n",
       "      <td>1.2.0</td>\n",
       "      <td>3.10.4</td>\n",
       "      <td>{'minimumROIDimensions': 1, 'minimumROISize': ...</td>\n",
       "      <td>{'Original': {}, 'LoG': {'sigma': [3.0, 5.0]},...</td>\n",
       "      <td>...</td>\n",
       "      <td>0.3036898583747069</td>\n",
       "      <td>0.00633021869706103</td>\n",
       "      <td>0.107550038020076</td>\n",
       "      <td>33.0708290664619</td>\n",
       "      <td>0.001481358860818306</td>\n",
       "      <td>0.8257035290466124</td>\n",
       "      <td>0.0016166914766237606</td>\n",
       "      <td>829.755720150696</td>\n",
       "      <td>0.045681180646125495</td>\n",
       "      <td>1.1242349494954111</td>\n",
       "    </tr>\n",
       "    <tr>\n",
       "      <th>4</th>\n",
       "      <td>Liver-124</td>\n",
       "      <td>/Users/p.woznicki/git/AutoRadiomics/examples/a...</td>\n",
       "      <td>/Users/p.woznicki/git/AutoRadiomics/examples/a...</td>\n",
       "      <td>v3.0.1</td>\n",
       "      <td>1.22.1</td>\n",
       "      <td>2.1.1.2</td>\n",
       "      <td>1.2.0</td>\n",
       "      <td>3.10.4</td>\n",
       "      <td>{'minimumROIDimensions': 1, 'minimumROISize': ...</td>\n",
       "      <td>{'Original': {}, 'LoG': {'sigma': [3.0, 5.0]},...</td>\n",
       "      <td>...</td>\n",
       "      <td>0.018336212356478962</td>\n",
       "      <td>0.0012331934199789243</td>\n",
       "      <td>0.22529790030701283</td>\n",
       "      <td>298.00432747313664</td>\n",
       "      <td>0.0006073601929044215</td>\n",
       "      <td>0.10560050680966304</td>\n",
       "      <td>0.0032715611247683307</td>\n",
       "      <td>2602.6922196709124</td>\n",
       "      <td>0.04313630019136463</td>\n",
       "      <td>5.548545298631775</td>\n",
       "    </tr>\n",
       "  </tbody>\n",
       "</table>\n",
       "<p>5 rows × 1055 columns</p>\n",
       "</div>"
      ],
      "text/plain": [
       "          ID                                         image_path  \\\n",
       "0  Liver-035  /Users/p.woznicki/git/AutoRadiomics/examples/a...   \n",
       "1  Liver-067  /Users/p.woznicki/git/AutoRadiomics/examples/a...   \n",
       "2  Liver-146  /Users/p.woznicki/git/AutoRadiomics/examples/a...   \n",
       "3  Liver-184  /Users/p.woznicki/git/AutoRadiomics/examples/a...   \n",
       "4  Liver-124  /Users/p.woznicki/git/AutoRadiomics/examples/a...   \n",
       "\n",
       "                                   segmentation_path  \\\n",
       "0  /Users/p.woznicki/git/AutoRadiomics/examples/a...   \n",
       "1  /Users/p.woznicki/git/AutoRadiomics/examples/a...   \n",
       "2  /Users/p.woznicki/git/AutoRadiomics/examples/a...   \n",
       "3  /Users/p.woznicki/git/AutoRadiomics/examples/a...   \n",
       "4  /Users/p.woznicki/git/AutoRadiomics/examples/a...   \n",
       "\n",
       "  diagnostics_Versions_PyRadiomics diagnostics_Versions_Numpy  \\\n",
       "0                           v3.0.1                     1.22.1   \n",
       "1                           v3.0.1                     1.22.1   \n",
       "2                           v3.0.1                     1.22.1   \n",
       "3                           v3.0.1                     1.22.1   \n",
       "4                           v3.0.1                     1.22.1   \n",
       "\n",
       "  diagnostics_Versions_SimpleITK diagnostics_Versions_PyWavelet  \\\n",
       "0                        2.1.1.2                          1.2.0   \n",
       "1                        2.1.1.2                          1.2.0   \n",
       "2                        2.1.1.2                          1.2.0   \n",
       "3                        2.1.1.2                          1.2.0   \n",
       "4                        2.1.1.2                          1.2.0   \n",
       "\n",
       "  diagnostics_Versions_Python  \\\n",
       "0                      3.10.4   \n",
       "1                      3.10.4   \n",
       "2                      3.10.4   \n",
       "3                      3.10.4   \n",
       "4                      3.10.4   \n",
       "\n",
       "                  diagnostics_Configuration_Settings  \\\n",
       "0  {'minimumROIDimensions': 1, 'minimumROISize': ...   \n",
       "1  {'minimumROIDimensions': 1, 'minimumROISize': ...   \n",
       "2  {'minimumROIDimensions': 1, 'minimumROISize': ...   \n",
       "3  {'minimumROIDimensions': 1, 'minimumROISize': ...   \n",
       "4  {'minimumROIDimensions': 1, 'minimumROISize': ...   \n",
       "\n",
       "         diagnostics_Configuration_EnabledImageTypes  ...  \\\n",
       "0  {'Original': {}, 'LoG': {'sigma': [3.0, 5.0]},...  ...   \n",
       "1  {'Original': {}, 'LoG': {'sigma': [3.0, 5.0]},...  ...   \n",
       "2  {'Original': {}, 'LoG': {'sigma': [3.0, 5.0]},...  ...   \n",
       "3  {'Original': {}, 'LoG': {'sigma': [3.0, 5.0]},...  ...   \n",
       "4  {'Original': {}, 'LoG': {'sigma': [3.0, 5.0]},...  ...   \n",
       "\n",
       "  wavelet-LLL_gldm_LargeDependenceLowGrayLevelEmphasis  \\\n",
       "0                                0.49033556571131404     \n",
       "1                                 0.1726950112519562     \n",
       "2                                 0.5235105253912582     \n",
       "3                                 0.3036898583747069     \n",
       "4                               0.018336212356478962     \n",
       "\n",
       "  wavelet-LLL_gldm_LowGrayLevelEmphasis  \\\n",
       "0                  0.009239256309735483   \n",
       "1                  0.008437808020802488   \n",
       "2                  0.014409860723565572   \n",
       "3                   0.00633021869706103   \n",
       "4                 0.0012331934199789243   \n",
       "\n",
       "  wavelet-LLL_gldm_SmallDependenceEmphasis  \\\n",
       "0                      0.10497863178878879   \n",
       "1                      0.23877842444043665   \n",
       "2                      0.10172864195906982   \n",
       "3                        0.107550038020076   \n",
       "4                      0.22529790030701283   \n",
       "\n",
       "  wavelet-LLL_gldm_SmallDependenceHighGrayLevelEmphasis  \\\n",
       "0                                 17.108519817338614      \n",
       "1                                  83.97021323093149      \n",
       "2                                  9.821812246039771      \n",
       "3                                   33.0708290664619      \n",
       "4                                 298.00432747313664      \n",
       "\n",
       "   wavelet-LLL_gldm_SmallDependenceLowGrayLevelEmphasis  \\\n",
       "0                              0.0019064162301314488      \n",
       "1                              0.0023728396471364493      \n",
       "2                               0.002460816641434821      \n",
       "3                               0.001481358860818306      \n",
       "4                              0.0006073601929044215      \n",
       "\n",
       "   wavelet-LLL_ngtdm_Busyness  wavelet-LLL_ngtdm_Coarseness  \\\n",
       "0           2.195837937351879         0.0010111456662735665   \n",
       "1          0.7591978668706331          0.001202498835943038   \n",
       "2          1.9618138907602145         0.0021490398335429067   \n",
       "3          0.8257035290466124         0.0016166914766237606   \n",
       "4         0.10560050680966304         0.0032715611247683307   \n",
       "\n",
       "  wavelet-LLL_ngtdm_Complexity wavelet-LLL_ngtdm_Contrast  \\\n",
       "0            426.9975349731685        0.06190203145328447   \n",
       "1           4314.0961725974375       0.053087108883254575   \n",
       "2           178.82845259100122        0.03313849502581368   \n",
       "3             829.755720150696       0.045681180646125495   \n",
       "4           2602.6922196709124        0.04313630019136463   \n",
       "\n",
       "  wavelet-LLL_ngtdm_Strength  \n",
       "0          0.284974468309886  \n",
       "1         3.4809930821120516  \n",
       "2         0.3598787334834973  \n",
       "3         1.1242349494954111  \n",
       "4          5.548545298631775  \n",
       "\n",
       "[5 rows x 1055 columns]"
      ]
     },
     "execution_count": 5,
     "metadata": {},
     "output_type": "execute_result"
    }
   ],
   "source": [
    "feature_df.head()"
   ]
  },
  {
   "cell_type": "code",
   "execution_count": 6,
   "metadata": {},
   "outputs": [
    {
     "data": {
      "text/html": [
       "<div>\n",
       "<style scoped>\n",
       "    .dataframe tbody tr th:only-of-type {\n",
       "        vertical-align: middle;\n",
       "    }\n",
       "\n",
       "    .dataframe tbody tr th {\n",
       "        vertical-align: top;\n",
       "    }\n",
       "\n",
       "    .dataframe thead th {\n",
       "        text-align: right;\n",
       "    }\n",
       "</style>\n",
       "<table border=\"1\" class=\"dataframe\">\n",
       "  <thead>\n",
       "    <tr style=\"text-align: right;\">\n",
       "      <th></th>\n",
       "      <th>patient_ID</th>\n",
       "      <th>diagnosis</th>\n",
       "    </tr>\n",
       "  </thead>\n",
       "  <tbody>\n",
       "    <tr>\n",
       "      <th>0</th>\n",
       "      <td>Liver-185</td>\n",
       "      <td>1</td>\n",
       "    </tr>\n",
       "    <tr>\n",
       "      <th>1</th>\n",
       "      <td>Liver-166</td>\n",
       "      <td>0</td>\n",
       "    </tr>\n",
       "    <tr>\n",
       "      <th>2</th>\n",
       "      <td>Liver-180</td>\n",
       "      <td>0</td>\n",
       "    </tr>\n",
       "    <tr>\n",
       "      <th>3</th>\n",
       "      <td>Liver-067</td>\n",
       "      <td>0</td>\n",
       "    </tr>\n",
       "    <tr>\n",
       "      <th>4</th>\n",
       "      <td>Liver-035</td>\n",
       "      <td>0</td>\n",
       "    </tr>\n",
       "  </tbody>\n",
       "</table>\n",
       "</div>"
      ],
      "text/plain": [
       "  patient_ID  diagnosis\n",
       "0  Liver-185          1\n",
       "1  Liver-166          0\n",
       "2  Liver-180          0\n",
       "3  Liver-067          0\n",
       "4  Liver-035          0"
      ]
     },
     "execution_count": 6,
     "metadata": {},
     "output_type": "execute_result"
    }
   ],
   "source": [
    "label_df = pd.read_csv(data_dir / \"labels.csv\")\n",
    "label_df.head()"
   ]
  },
  {
   "cell_type": "code",
   "execution_count": 7,
   "metadata": {},
   "outputs": [],
   "source": [
    "from autorad.data.dataset import FeatureDataset\n",
    "\n",
    "merged_feature_df = feature_df.merge(label_df, left_on=\"ID\",\n",
    "    right_on=\"patient_ID\", how=\"left\")\n",
    "feature_dataset = FeatureDataset(\n",
    "    merged_feature_df,\n",
    "    target=\"diagnosis\",\n",
    "    ID_colname=\"ID\"\n",
    ")"
   ]
  },
  {
   "cell_type": "markdown",
   "metadata": {},
   "source": [
    "Split the data into training/validation/test sets:"
   ]
  },
  {
   "cell_type": "code",
   "execution_count": 8,
   "metadata": {},
   "outputs": [
    {
     "data": {
      "text/plain": [
       "{'split_type': '60% train + 20% validation + 20% test',\n",
       " 'train': ['Liver-122',\n",
       "  'Liver-154',\n",
       "  'Liver-166',\n",
       "  'Liver-147',\n",
       "  'Liver-011',\n",
       "  'Liver-159',\n",
       "  'Liver-031',\n",
       "  'Liver-030',\n",
       "  'Liver-006',\n",
       "  'Liver-128',\n",
       "  'Liver-037',\n",
       "  'Liver-180',\n",
       "  'Liver-124',\n",
       "  'Liver-035',\n",
       "  'Liver-008'],\n",
       " 'val': ['Liver-067', 'Liver-107', 'Liver-079', 'Liver-038', 'Liver-184'],\n",
       " 'test': ['Liver-023', 'Liver-146', 'Liver-168', 'Liver-156', 'Liver-185']}"
      ]
     },
     "execution_count": 8,
     "metadata": {},
     "output_type": "execute_result"
    }
   ],
   "source": [
    "splits_path = result_dir / \"splits.json\"\n",
    "feature_dataset.split(method=\"train_val_test\", save_path=splits_path)"
   ]
  },
  {
   "cell_type": "code",
   "execution_count": 11,
   "metadata": {},
   "outputs": [
    {
     "name": "stdout",
     "output_type": "stream",
     "text": [
      "[Random Forest, Logistic Regression, SVM, XGBoost]\n"
     ]
    }
   ],
   "source": [
    "from autorad.training.trainer import Trainer\n",
    "from autorad.models.classifier import MLClassifier\n",
    "\n",
    "models = MLClassifier.initialize_default_sklearn_models()\n",
    "print(models)"
   ]
  },
  {
   "cell_type": "code",
   "execution_count": 12,
   "metadata": {},
   "outputs": [
    {
     "data": {
      "text/html": [
       "<pre style=\"white-space:pre;overflow-x:auto;line-height:normal;font-family:Menlo,'DejaVu Sans Mono',consolas,'Courier New',monospace\"><span style=\"color: #7fbfbf; text-decoration-color: #7fbfbf\">[06/03/22 12:20:17] </span><span style=\"color: #000080; text-decoration-color: #000080\">INFO    </span> Best params for Lasso: <span style=\"font-weight: bold\">{</span><span style=\"color: #008000; text-decoration-color: #008000\">'alpha'</span>:                  <a href=\"file:///Users/p.woznicki/git/AutoRadiomics/autorad/feature_selection/selector.py\" target=\"_blank\"><span style=\"color: #7f7f7f; text-decoration-color: #7f7f7f\">selector.py</span></a><span style=\"color: #7f7f7f; text-decoration-color: #7f7f7f\">:</span><a href=\"file:///Users/p.woznicki/git/AutoRadiomics/autorad/feature_selection/selector.py#94\" target=\"_blank\"><span style=\"color: #7f7f7f; text-decoration-color: #7f7f7f\">94</span></a>\n",
       "<span style=\"color: #7fbfbf; text-decoration-color: #7fbfbf\">                    </span>         <span style=\"color: #008080; text-decoration-color: #008080; font-weight: bold\">9.326033468832199e-05</span><span style=\"font-weight: bold\">}</span>                            <span style=\"color: #7f7f7f; text-decoration-color: #7f7f7f\">              </span>\n",
       "</pre>\n"
      ],
      "text/plain": [
       "\u001b[2;36m[06/03/22 12:20:17]\u001b[0m\u001b[2;36m \u001b[0m\u001b[34mINFO    \u001b[0m Best params for Lasso: \u001b[1m{\u001b[0m\u001b[32m'alpha'\u001b[0m:                  \u001b]8;id=886977;file:///Users/p.woznicki/git/AutoRadiomics/autorad/feature_selection/selector.py\u001b\\\u001b[2mselector.py\u001b[0m\u001b]8;;\u001b\\\u001b[2m:\u001b[0m\u001b]8;id=931340;file:///Users/p.woznicki/git/AutoRadiomics/autorad/feature_selection/selector.py#94\u001b\\\u001b[2m94\u001b[0m\u001b]8;;\u001b\\\n",
       "\u001b[2;36m                    \u001b[0m         \u001b[1;36m9.326033468832199e-05\u001b[0m\u001b[1m}\u001b[0m                            \u001b[2m              \u001b[0m\n"
      ]
     },
     "metadata": {},
     "output_type": "display_data"
    }
   ],
   "source": [
    "trainer = Trainer(\n",
    "    dataset=feature_dataset,\n",
    "    models=models,\n",
    "    result_dir=result_dir,\n",
    "    experiment_name=\"Liver_detection\",\n",
    ")\n",
    "trainer.run_auto_preprocessing(oversampling=False)"
   ]
  },
  {
   "cell_type": "code",
   "execution_count": 12,
   "metadata": {},
   "outputs": [
    {
     "name": "stderr",
     "output_type": "stream",
     "text": [
      "/Users/p.woznicki/git/AutoRadiomics/autorad/training/trainer.py:115: ExperimentalWarning: MLflowCallback is experimental (supported from v1.4.0). The interface can change in the future.\n",
      "  mlfc = MLflowCallback(\n",
      "\u001b[32m[I 2022-06-03 11:59:14,282]\u001b[0m A new study created in memory with name: Liver_detection\u001b[0m\n",
      "\u001b[32m[I 2022-06-03 11:59:14,486]\u001b[0m Trial 0 finished with value: 0.5 and parameters: {'feature_selection_method': 'anova', 'oversampling_method': None, 'model': 'XGBoost', 'xgb_lambda': 0.014570271595538578, 'xgb_alpha': 0.00021300368327705253, 'colsample_bytree': 0.5136940145553204, 'xgb_subsample': 0.47454241292069554, 'xgb_booster': 'gbtree', 'xgb_max_depth': 5, 'xgb_min_child_weight': 8, 'xgb_eta': 2.883592210117951e-07, 'xgb_gamma': 2.53287670148807e-07, 'xgb_grow_policy': 'lossguide'}. Best is trial 0 with value: 0.5.\u001b[0m\n",
      "2022/06/03 11:59:14 INFO mlflow.tracking.fluent: Experiment with name 'Liver_detection' does not exist. Creating a new experiment.\n",
      "\u001b[32m[I 2022-06-03 11:59:14,872]\u001b[0m Trial 1 finished with value: 0.5 and parameters: {'feature_selection_method': 'lasso', 'oversampling_method': None, 'model': 'Logistic Regression', 'lr_penalty': 'l1', 'lr_C': 0.3341215561348895}. Best is trial 0 with value: 0.5.\u001b[0m\n",
      "\u001b[32m[I 2022-06-03 11:59:18,324]\u001b[0m Trial 2 finished with value: 0.8333333333333334 and parameters: {'feature_selection_method': 'lasso', 'oversampling_method': None, 'model': 'Random Forest', 'rf_n_estimators': 899, 'rf_max_depth': 48, 'rf_max_features': 'sqrt', 'rf_min_samples_leaf': 2, 'rf_min_samples_split': 4, 'rf_bootstrap': False}. Best is trial 2 with value: 0.8333333333333334.\u001b[0m\n",
      "\u001b[32m[I 2022-06-03 11:59:23,446]\u001b[0m Trial 3 finished with value: 0.5 and parameters: {'feature_selection_method': 'boruta', 'oversampling_method': None, 'model': 'XGBoost', 'xgb_lambda': 0.0026763392031222675, 'xgb_alpha': 0.0008046593428183385, 'colsample_bytree': 0.47421106701944676, 'xgb_subsample': 0.4432966312217473, 'xgb_booster': 'dart', 'xgb_max_depth': 7, 'xgb_min_child_weight': 8, 'xgb_eta': 0.00048695902646412595, 'xgb_gamma': 0.0009982240218295083, 'xgb_grow_policy': 'lossguide', 'xgb_sample_type': 'weighted', 'xgb_normalize_type': 'tree', 'xgb_rate_drop': 0.0003798880741472144, 'xgb_skip_drop': 5.8304239226092374e-08}. Best is trial 2 with value: 0.8333333333333334.\u001b[0m\n",
      "\u001b[32m[I 2022-06-03 11:59:23,677]\u001b[0m Trial 4 finished with value: 0.5 and parameters: {'feature_selection_method': 'anova', 'oversampling_method': None, 'model': 'Logistic Regression', 'lr_penalty': 'l1', 'lr_C': 0.0188393409315699}. Best is trial 2 with value: 0.8333333333333334.\u001b[0m\n",
      "\u001b[32m[I 2022-06-03 11:59:24,948]\u001b[0m Trial 5 finished with value: 0.8333333333333334 and parameters: {'feature_selection_method': 'anova', 'oversampling_method': None, 'model': 'Random Forest', 'rf_n_estimators': 339, 'rf_max_depth': 21, 'rf_max_features': 'sqrt', 'rf_min_samples_leaf': 4, 'rf_min_samples_split': 8, 'rf_bootstrap': False}. Best is trial 2 with value: 0.8333333333333334.\u001b[0m\n",
      "\u001b[32m[I 2022-06-03 11:59:25,390]\u001b[0m Trial 6 finished with value: 0.0 and parameters: {'feature_selection_method': 'lasso', 'oversampling_method': None, 'model': 'SVM', 'svm_kernel': 'sigmoid', 'svm_C': 0.16331624244561055, 'svm_gamma': 2.6170375260922567, 'svm_degree': 2.0}. Best is trial 2 with value: 0.8333333333333334.\u001b[0m\n",
      "\u001b[32m[I 2022-06-03 11:59:27,203]\u001b[0m Trial 7 finished with value: 0.6666666666666667 and parameters: {'feature_selection_method': 'lasso', 'oversampling_method': None, 'model': 'Random Forest', 'rf_n_estimators': 545, 'rf_max_depth': 2, 'rf_max_features': 'auto', 'rf_min_samples_leaf': 3, 'rf_min_samples_split': 4, 'rf_bootstrap': False}. Best is trial 2 with value: 0.8333333333333334.\u001b[0m\n",
      "\u001b[32m[I 2022-06-03 11:59:28,826]\u001b[0m Trial 8 finished with value: 0.8333333333333334 and parameters: {'feature_selection_method': 'anova', 'oversampling_method': None, 'model': 'Random Forest', 'rf_n_estimators': 621, 'rf_max_depth': 44, 'rf_max_features': 'auto', 'rf_min_samples_leaf': 5, 'rf_min_samples_split': 3, 'rf_bootstrap': False}. Best is trial 2 with value: 0.8333333333333334.\u001b[0m\n",
      "\u001b[32m[I 2022-06-03 11:59:29,171]\u001b[0m Trial 9 finished with value: 0.5 and parameters: {'feature_selection_method': 'boruta', 'oversampling_method': None, 'model': 'SVM', 'svm_kernel': 'rbf', 'svm_C': 1.330429150597269, 'svm_gamma': 0.014000594165527527, 'svm_degree': 2.0}. Best is trial 2 with value: 0.8333333333333334.\u001b[0m\n"
     ]
    }
   ],
   "source": [
    "trainer.set_optimizer(\"optuna\", n_trials=10)\n",
    "trainer.run(auto_preprocess=True)"
   ]
  },
  {
   "cell_type": "code",
   "execution_count": 16,
   "metadata": {},
   "outputs": [
    {
     "data": {
      "text/html": [
       "<pre style=\"white-space:pre;overflow-x:auto;line-height:normal;font-family:Menlo,'DejaVu Sans Mono',consolas,'Courier New',monospace\"><span style=\"color: #7fbfbf; text-decoration-color: #7fbfbf\">[06/03/22 12:24:13] </span><span style=\"color: #000080; text-decoration-color: #000080\">INFO    </span> Best params for Lasso: <span style=\"font-weight: bold\">{</span><span style=\"color: #008000; text-decoration-color: #008000\">'alpha'</span>:                  <a href=\"file:///Users/p.woznicki/git/AutoRadiomics/autorad/feature_selection/selector.py\" target=\"_blank\"><span style=\"color: #7f7f7f; text-decoration-color: #7f7f7f\">selector.py</span></a><span style=\"color: #7f7f7f; text-decoration-color: #7f7f7f\">:</span><a href=\"file:///Users/p.woznicki/git/AutoRadiomics/autorad/feature_selection/selector.py#94\" target=\"_blank\"><span style=\"color: #7f7f7f; text-decoration-color: #7f7f7f\">94</span></a>\n",
       "<span style=\"color: #7fbfbf; text-decoration-color: #7fbfbf\">                    </span>         <span style=\"color: #008080; text-decoration-color: #008080; font-weight: bold\">9.326033468832199e-05</span><span style=\"font-weight: bold\">}</span>                            <span style=\"color: #7f7f7f; text-decoration-color: #7f7f7f\">              </span>\n",
       "</pre>\n"
      ],
      "text/plain": [
       "\u001b[2;36m[06/03/22 12:24:13]\u001b[0m\u001b[2;36m \u001b[0m\u001b[34mINFO    \u001b[0m Best params for Lasso: \u001b[1m{\u001b[0m\u001b[32m'alpha'\u001b[0m:                  \u001b]8;id=761158;file:///Users/p.woznicki/git/AutoRadiomics/autorad/feature_selection/selector.py\u001b\\\u001b[2mselector.py\u001b[0m\u001b]8;;\u001b\\\u001b[2m:\u001b[0m\u001b]8;id=588189;file:///Users/p.woznicki/git/AutoRadiomics/autorad/feature_selection/selector.py#94\u001b\\\u001b[2m94\u001b[0m\u001b]8;;\u001b\\\n",
       "\u001b[2;36m                    \u001b[0m         \u001b[1;36m9.326033468832199e-05\u001b[0m\u001b[1m}\u001b[0m                            \u001b[2m              \u001b[0m\n"
      ]
     },
     "metadata": {},
     "output_type": "display_data"
    },
    {
     "data": {
      "text/html": [
       "<pre style=\"white-space:pre;overflow-x:auto;line-height:normal;font-family:Menlo,'DejaVu Sans Mono',consolas,'Courier New',monospace\"><span style=\"color: #7fbfbf; text-decoration-color: #7fbfbf\">[06/03/22 12:24:15] </span><span style=\"color: #000080; text-decoration-color: #000080\">INFO    </span> Test AUC: <span style=\"color: #008080; text-decoration-color: #008080; font-weight: bold\">0.667</span>, mean train AUC: <span style=\"color: #008080; text-decoration-color: #008080; font-weight: bold\">0.667</span>            <a href=\"file:///Users/p.woznicki/git/AutoRadiomics/autorad/training/trainer.py\" target=\"_blank\"><span style=\"color: #7f7f7f; text-decoration-color: #7f7f7f\">trainer.py</span></a><span style=\"color: #7f7f7f; text-decoration-color: #7f7f7f\">:</span><a href=\"file:///Users/p.woznicki/git/AutoRadiomics/autorad/training/trainer.py#213\" target=\"_blank\"><span style=\"color: #7f7f7f; text-decoration-color: #7f7f7f\">213</span></a>\n",
       "</pre>\n"
      ],
      "text/plain": [
       "\u001b[2;36m[06/03/22 12:24:15]\u001b[0m\u001b[2;36m \u001b[0m\u001b[34mINFO    \u001b[0m Test AUC: \u001b[1;36m0.667\u001b[0m, mean train AUC: \u001b[1;36m0.667\u001b[0m            \u001b]8;id=197444;file:///Users/p.woznicki/git/AutoRadiomics/autorad/training/trainer.py\u001b\\\u001b[2mtrainer.py\u001b[0m\u001b]8;;\u001b\\\u001b[2m:\u001b[0m\u001b]8;id=805665;file:///Users/p.woznicki/git/AutoRadiomics/autorad/training/trainer.py#213\u001b\\\u001b[2m213\u001b[0m\u001b]8;;\u001b\\\n"
      ]
     },
     "metadata": {},
     "output_type": "display_data"
    },
    {
     "name": "stderr",
     "output_type": "stream",
     "text": [
      "/Users/p.woznicki/git/AutoRadiomics/.venv/lib/python3.10/site-packages/sklearn/utils/deprecation.py:87: FutureWarning:\n",
      "\n",
      "Function plot_roc_curve is deprecated; Function :func:`plot_roc_curve` is deprecated in 1.0 and will be removed in 1.2. Use one of the class methods: :meth:`sklearn.metric.RocCurveDisplay.from_predictions` or :meth:`sklearn.metric.RocCurveDisplay.from_estimator`.\n",
      "\n"
     ]
    },
    {
     "ename": "TypeError",
     "evalue": "plot_roc_curve() missing 1 required positional argument: 'y'",
     "output_type": "error",
     "traceback": [
      "\u001b[0;31m---------------------------------------------------------------------------\u001b[0m",
      "\u001b[0;31mTypeError\u001b[0m                                 Traceback (most recent call last)",
      "\u001b[1;32m/Users/p.woznicki/git/AutoRadiomics/examples/example_WORC.ipynb Cell 15'\u001b[0m in \u001b[0;36m<cell line: 11>\u001b[0;34m()\u001b[0m\n\u001b[1;32m      <a href='vscode-notebook-cell:/Users/p.woznicki/git/AutoRadiomics/examples/example_WORC.ipynb#ch0000014?line=7'>8</a>\u001b[0m inferrer\u001b[39m.\u001b[39mfit_eval(feature_dataset, result_name\u001b[39m=\u001b[39m\u001b[39m\"\u001b[39m\u001b[39mtest\u001b[39m\u001b[39m\"\u001b[39m)\n\u001b[1;32m     <a href='vscode-notebook-cell:/Users/p.woznicki/git/AutoRadiomics/examples/example_WORC.ipynb#ch0000014?line=9'>10</a>\u001b[0m results \u001b[39m=\u001b[39m pd\u001b[39m.\u001b[39mread_csv(result_dir \u001b[39m/\u001b[39m \u001b[39m\"\u001b[39m\u001b[39mtest.csv\u001b[39m\u001b[39m\"\u001b[39m)\n\u001b[0;32m---> <a href='vscode-notebook-cell:/Users/p.woznicki/git/AutoRadiomics/examples/example_WORC.ipynb#ch0000014?line=10'>11</a>\u001b[0m plot_roc_curve(results\u001b[39m.\u001b[39;49my_true, results\u001b[39m.\u001b[39;49my_pred)\n",
      "File \u001b[0;32m~/git/AutoRadiomics/.venv/lib/python3.10/site-packages/sklearn/utils/deprecation.py:88\u001b[0m, in \u001b[0;36mdeprecated._decorate_fun.<locals>.wrapped\u001b[0;34m(*args, **kwargs)\u001b[0m\n\u001b[1;32m     <a href='file:///Users/p.woznicki/git/AutoRadiomics/.venv/lib/python3.10/site-packages/sklearn/utils/deprecation.py?line=84'>85</a>\u001b[0m \u001b[39m@functools\u001b[39m\u001b[39m.\u001b[39mwraps(fun)\n\u001b[1;32m     <a href='file:///Users/p.woznicki/git/AutoRadiomics/.venv/lib/python3.10/site-packages/sklearn/utils/deprecation.py?line=85'>86</a>\u001b[0m \u001b[39mdef\u001b[39;00m \u001b[39mwrapped\u001b[39m(\u001b[39m*\u001b[39margs, \u001b[39m*\u001b[39m\u001b[39m*\u001b[39mkwargs):\n\u001b[1;32m     <a href='file:///Users/p.woznicki/git/AutoRadiomics/.venv/lib/python3.10/site-packages/sklearn/utils/deprecation.py?line=86'>87</a>\u001b[0m     warnings\u001b[39m.\u001b[39mwarn(msg, category\u001b[39m=\u001b[39m\u001b[39mFutureWarning\u001b[39;00m)\n\u001b[0;32m---> <a href='file:///Users/p.woznicki/git/AutoRadiomics/.venv/lib/python3.10/site-packages/sklearn/utils/deprecation.py?line=87'>88</a>\u001b[0m     \u001b[39mreturn\u001b[39;00m fun(\u001b[39m*\u001b[39;49margs, \u001b[39m*\u001b[39;49m\u001b[39m*\u001b[39;49mkwargs)\n",
      "\u001b[0;31mTypeError\u001b[0m: plot_roc_curve() missing 1 required positional argument: 'y'"
     ]
    }
   ],
   "source": [
    "from autorad.utils import io\n",
    "from autorad.visualization import plotly_utils\n",
    "from autorad.training.trainer import Inferrer\n",
    "\n",
    "best_params = io.load_json(result_dir / \"best_params.json\")\n",
    "inferrer = Inferrer(params=best_params, result_dir=result_dir)\n",
    "inferrer.fit_eval(feature_dataset, result_name=\"test\")\n",
    "\n",
    "results = pd.read_csv(result_dir / \"test.csv\")\n",
    "plotly_utils.plot_roc_curve(results.y_true, results.y_pred)"
   ]
  },
  {
   "cell_type": "code",
   "execution_count": 17,
   "metadata": {},
   "outputs": [
    {
     "data": {
      "text/html": [
       "<div>\n",
       "<style scoped>\n",
       "    .dataframe tbody tr th:only-of-type {\n",
       "        vertical-align: middle;\n",
       "    }\n",
       "\n",
       "    .dataframe tbody tr th {\n",
       "        vertical-align: top;\n",
       "    }\n",
       "\n",
       "    .dataframe thead th {\n",
       "        text-align: right;\n",
       "    }\n",
       "</style>\n",
       "<table border=\"1\" class=\"dataframe\">\n",
       "  <thead>\n",
       "    <tr style=\"text-align: right;\">\n",
       "      <th></th>\n",
       "      <th>y_true</th>\n",
       "      <th>y_pred</th>\n",
       "    </tr>\n",
       "  </thead>\n",
       "  <tbody>\n",
       "    <tr>\n",
       "      <th>0</th>\n",
       "      <td>1</td>\n",
       "      <td>0.487579</td>\n",
       "    </tr>\n",
       "    <tr>\n",
       "      <th>1</th>\n",
       "      <td>1</td>\n",
       "      <td>0.315350</td>\n",
       "    </tr>\n",
       "    <tr>\n",
       "      <th>2</th>\n",
       "      <td>0</td>\n",
       "      <td>0.423619</td>\n",
       "    </tr>\n",
       "    <tr>\n",
       "      <th>3</th>\n",
       "      <td>0</td>\n",
       "      <td>0.306637</td>\n",
       "    </tr>\n",
       "    <tr>\n",
       "      <th>4</th>\n",
       "      <td>0</td>\n",
       "      <td>0.465888</td>\n",
       "    </tr>\n",
       "  </tbody>\n",
       "</table>\n",
       "</div>"
      ],
      "text/plain": [
       "   y_true    y_pred\n",
       "0       1  0.487579\n",
       "1       1  0.315350\n",
       "2       0  0.423619\n",
       "3       0  0.306637\n",
       "4       0  0.465888"
      ]
     },
     "execution_count": 17,
     "metadata": {},
     "output_type": "execute_result"
    }
   ],
   "source": [
    "results"
   ]
  },
  {
   "cell_type": "code",
   "execution_count": null,
   "metadata": {},
   "outputs": [],
   "source": []
  }
 ],
 "metadata": {
  "interpreter": {
   "hash": "378c3e272f986b76de7a813614cd4d6ba63a07672673e8c51c818cb6af86fa94"
  },
  "kernelspec": {
   "display_name": "Python 3.10.4 ('.venv': venv)",
   "language": "python",
   "name": "python3"
  },
  "language_info": {
   "codemirror_mode": {
    "name": "ipython",
    "version": 3
   },
   "file_extension": ".py",
   "mimetype": "text/x-python",
   "name": "python",
   "nbconvert_exporter": "python",
   "pygments_lexer": "ipython3",
   "version": "3.10.4"
  },
  "orig_nbformat": 4
 },
 "nbformat": 4,
 "nbformat_minor": 2
}
