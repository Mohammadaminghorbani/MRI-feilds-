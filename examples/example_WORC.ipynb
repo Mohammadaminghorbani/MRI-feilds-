{
 "cells": [
  {
   "cell_type": "markdown",
   "metadata": {},
   "source": [
    "In this tutorial, we will analyze Desmoid dataset from the [WORC Database](https://github.com/MStarmans91/WORCDatabase/tree/development).\n",
    "\n",
    "The task is to correctly identify segmented lesions as either **desmoid-type fibromatosis** or **extremity soft-tissue sarcoma**.\n",
    "\n",
    "\n",
    "More details on the dataset as well as the original analysis performed by their authors can be found here:\n",
    "\n",
    "`Starmans, M. P. A. et al. (2021). The WORC* database: MRI and CT scans, segmentations, and clinical labels for 932 patients from six radiomics studies. Submitted, preprint available from https://doi.org/10.1101/2021.08.19.21262238`\n",
    "\n",
    "`The experiments are described in the following paper: Starmans, M. P. A. et al. (2021). Reproducible radiomics through automated machine learning validated on twelve clinical applications. Submitted, preprint available from https://arxiv.org/abs/2108.08618.`"
   ]
  },
  {
   "cell_type": "code",
   "execution_count": null,
   "metadata": {},
   "outputs": [],
   "source": [
    "# In case you haven't installed AutoRadiomics\n",
    "!pip install autorad"
   ]
  },
  {
   "cell_type": "code",
   "execution_count": 1,
   "metadata": {},
   "outputs": [],
   "source": [
    "from autorad.external.download_WORC import download_WORCDatabase\n",
    "from pathlib import Path\n",
    "import pandas as pd\n",
    "\n",
    "# Set where we will save our data and results\n",
    "base_dir = Path.cwd() / \"autorad_tutorial\"\n",
    "data_dir = base_dir / \"data\"\n",
    "result_dir = base_dir / \"results\"\n",
    "data_dir.mkdir(exist_ok=True, parents=True)\n",
    "result_dir.mkdir(exist_ok=True, parents=True)\n",
    "\n",
    "%load_ext autoreload\n",
    "%autoreload 2"
   ]
  },
  {
   "cell_type": "code",
   "execution_count": null,
   "metadata": {},
   "outputs": [],
   "source": [
    "# download data (it may take a few minutes)\n",
    "download_WORCDatabase(\n",
    "    dataset=\"Desmoid\",\n",
    "    data_folder=data_dir,\n",
    "    n_subjects=100,\n",
    "    )"
   ]
  },
  {
   "cell_type": "code",
   "execution_count": 80,
   "metadata": {},
   "outputs": [
    {
     "name": "stdout",
     "output_type": "stream",
     "text": [
      "\u001b[1m\u001b[36mDesmoid-004\u001b[m\u001b[m \u001b[1m\u001b[36mDesmoid-038\u001b[m\u001b[m \u001b[1m\u001b[36mDesmoid-082\u001b[m\u001b[m \u001b[1m\u001b[36mDesmoid-111\u001b[m\u001b[m \u001b[1m\u001b[36mDesmoid-147\u001b[m\u001b[m \u001b[1m\u001b[36mDesmoid-177\u001b[m\u001b[m\n",
      "\u001b[1m\u001b[36mDesmoid-006\u001b[m\u001b[m \u001b[1m\u001b[36mDesmoid-039\u001b[m\u001b[m \u001b[1m\u001b[36mDesmoid-084\u001b[m\u001b[m \u001b[1m\u001b[36mDesmoid-112\u001b[m\u001b[m \u001b[1m\u001b[36mDesmoid-150\u001b[m\u001b[m \u001b[1m\u001b[36mDesmoid-179\u001b[m\u001b[m\n",
      "\u001b[1m\u001b[36mDesmoid-009\u001b[m\u001b[m \u001b[1m\u001b[36mDesmoid-040\u001b[m\u001b[m \u001b[1m\u001b[36mDesmoid-088\u001b[m\u001b[m \u001b[1m\u001b[36mDesmoid-113\u001b[m\u001b[m \u001b[1m\u001b[36mDesmoid-152\u001b[m\u001b[m \u001b[1m\u001b[36mDesmoid-180\u001b[m\u001b[m\n",
      "\u001b[1m\u001b[36mDesmoid-011\u001b[m\u001b[m \u001b[1m\u001b[36mDesmoid-043\u001b[m\u001b[m \u001b[1m\u001b[36mDesmoid-091\u001b[m\u001b[m \u001b[1m\u001b[36mDesmoid-114\u001b[m\u001b[m \u001b[1m\u001b[36mDesmoid-153\u001b[m\u001b[m \u001b[1m\u001b[36mDesmoid-182\u001b[m\u001b[m\n",
      "\u001b[1m\u001b[36mDesmoid-014\u001b[m\u001b[m \u001b[1m\u001b[36mDesmoid-046\u001b[m\u001b[m \u001b[1m\u001b[36mDesmoid-093\u001b[m\u001b[m \u001b[1m\u001b[36mDesmoid-115\u001b[m\u001b[m \u001b[1m\u001b[36mDesmoid-154\u001b[m\u001b[m \u001b[1m\u001b[36mDesmoid-183\u001b[m\u001b[m\n",
      "\u001b[1m\u001b[36mDesmoid-016\u001b[m\u001b[m \u001b[1m\u001b[36mDesmoid-054\u001b[m\u001b[m \u001b[1m\u001b[36mDesmoid-095\u001b[m\u001b[m \u001b[1m\u001b[36mDesmoid-116\u001b[m\u001b[m \u001b[1m\u001b[36mDesmoid-159\u001b[m\u001b[m \u001b[1m\u001b[36mDesmoid-184\u001b[m\u001b[m\n",
      "\u001b[1m\u001b[36mDesmoid-017\u001b[m\u001b[m \u001b[1m\u001b[36mDesmoid-055\u001b[m\u001b[m \u001b[1m\u001b[36mDesmoid-096\u001b[m\u001b[m \u001b[1m\u001b[36mDesmoid-119\u001b[m\u001b[m \u001b[1m\u001b[36mDesmoid-162\u001b[m\u001b[m \u001b[1m\u001b[36mDesmoid-185\u001b[m\u001b[m\n",
      "\u001b[1m\u001b[36mDesmoid-021\u001b[m\u001b[m \u001b[1m\u001b[36mDesmoid-056\u001b[m\u001b[m \u001b[1m\u001b[36mDesmoid-098\u001b[m\u001b[m \u001b[1m\u001b[36mDesmoid-121\u001b[m\u001b[m \u001b[1m\u001b[36mDesmoid-163\u001b[m\u001b[m \u001b[1m\u001b[36mDesmoid-189\u001b[m\u001b[m\n",
      "\u001b[1m\u001b[36mDesmoid-022\u001b[m\u001b[m \u001b[1m\u001b[36mDesmoid-059\u001b[m\u001b[m \u001b[1m\u001b[36mDesmoid-100\u001b[m\u001b[m \u001b[1m\u001b[36mDesmoid-122\u001b[m\u001b[m \u001b[1m\u001b[36mDesmoid-165\u001b[m\u001b[m \u001b[1m\u001b[36mDesmoid-190\u001b[m\u001b[m\n",
      "\u001b[1m\u001b[36mDesmoid-023\u001b[m\u001b[m \u001b[1m\u001b[36mDesmoid-060\u001b[m\u001b[m \u001b[1m\u001b[36mDesmoid-101\u001b[m\u001b[m \u001b[1m\u001b[36mDesmoid-126\u001b[m\u001b[m \u001b[1m\u001b[36mDesmoid-166\u001b[m\u001b[m \u001b[1m\u001b[36mDesmoid-193\u001b[m\u001b[m\n",
      "\u001b[1m\u001b[36mDesmoid-024\u001b[m\u001b[m \u001b[1m\u001b[36mDesmoid-062\u001b[m\u001b[m \u001b[1m\u001b[36mDesmoid-102\u001b[m\u001b[m \u001b[1m\u001b[36mDesmoid-128\u001b[m\u001b[m \u001b[1m\u001b[36mDesmoid-169\u001b[m\u001b[m \u001b[1m\u001b[36mDesmoid-194\u001b[m\u001b[m\n",
      "\u001b[1m\u001b[36mDesmoid-025\u001b[m\u001b[m \u001b[1m\u001b[36mDesmoid-068\u001b[m\u001b[m \u001b[1m\u001b[36mDesmoid-103\u001b[m\u001b[m \u001b[1m\u001b[36mDesmoid-129\u001b[m\u001b[m \u001b[1m\u001b[36mDesmoid-170\u001b[m\u001b[m \u001b[1m\u001b[36mDesmoid-195\u001b[m\u001b[m\n",
      "\u001b[1m\u001b[36mDesmoid-026\u001b[m\u001b[m \u001b[1m\u001b[36mDesmoid-071\u001b[m\u001b[m \u001b[1m\u001b[36mDesmoid-104\u001b[m\u001b[m \u001b[1m\u001b[36mDesmoid-130\u001b[m\u001b[m \u001b[1m\u001b[36mDesmoid-171\u001b[m\u001b[m \u001b[1m\u001b[36mDesmoid-198\u001b[m\u001b[m\n",
      "\u001b[1m\u001b[36mDesmoid-028\u001b[m\u001b[m \u001b[1m\u001b[36mDesmoid-074\u001b[m\u001b[m \u001b[1m\u001b[36mDesmoid-107\u001b[m\u001b[m \u001b[1m\u001b[36mDesmoid-134\u001b[m\u001b[m \u001b[1m\u001b[36mDesmoid-172\u001b[m\u001b[m \u001b[1m\u001b[36mDesmoid-199\u001b[m\u001b[m\n",
      "\u001b[1m\u001b[36mDesmoid-030\u001b[m\u001b[m \u001b[1m\u001b[36mDesmoid-076\u001b[m\u001b[m \u001b[1m\u001b[36mDesmoid-108\u001b[m\u001b[m \u001b[1m\u001b[36mDesmoid-136\u001b[m\u001b[m \u001b[1m\u001b[36mDesmoid-173\u001b[m\u001b[m \u001b[1m\u001b[36mDesmoid-201\u001b[m\u001b[m\n",
      "\u001b[1m\u001b[36mDesmoid-036\u001b[m\u001b[m \u001b[1m\u001b[36mDesmoid-078\u001b[m\u001b[m \u001b[1m\u001b[36mDesmoid-109\u001b[m\u001b[m \u001b[1m\u001b[36mDesmoid-140\u001b[m\u001b[m \u001b[1m\u001b[36mDesmoid-174\u001b[m\u001b[m labels.csv\n",
      "\u001b[1m\u001b[36mDesmoid-037\u001b[m\u001b[m \u001b[1m\u001b[36mDesmoid-079\u001b[m\u001b[m \u001b[1m\u001b[36mDesmoid-110\u001b[m\u001b[m \u001b[1m\u001b[36mDesmoid-141\u001b[m\u001b[m \u001b[1m\u001b[36mDesmoid-175\u001b[m\u001b[m\n"
     ]
    }
   ],
   "source": [
    "!ls $data_dir"
   ]
  },
  {
   "cell_type": "code",
   "execution_count": 81,
   "metadata": {},
   "outputs": [
    {
     "data": {
      "text/html": [
       "<div>\n",
       "<style scoped>\n",
       "    .dataframe tbody tr th:only-of-type {\n",
       "        vertical-align: middle;\n",
       "    }\n",
       "\n",
       "    .dataframe tbody tr th {\n",
       "        vertical-align: top;\n",
       "    }\n",
       "\n",
       "    .dataframe thead th {\n",
       "        text-align: right;\n",
       "    }\n",
       "</style>\n",
       "<table border=\"1\" class=\"dataframe\">\n",
       "  <thead>\n",
       "    <tr style=\"text-align: right;\">\n",
       "      <th></th>\n",
       "      <th>ID</th>\n",
       "      <th>image_path</th>\n",
       "      <th>segmentation_path</th>\n",
       "    </tr>\n",
       "  </thead>\n",
       "  <tbody>\n",
       "    <tr>\n",
       "      <th>94</th>\n",
       "      <td>Desmoid-009</td>\n",
       "      <td>Desmoid-009/image.nii.gz</td>\n",
       "      <td>Desmoid-009/segmentation.nii.gz</td>\n",
       "    </tr>\n",
       "    <tr>\n",
       "      <th>0</th>\n",
       "      <td>Desmoid-074</td>\n",
       "      <td>Desmoid-074/image.nii.gz</td>\n",
       "      <td>Desmoid-074/segmentation.nii.gz</td>\n",
       "    </tr>\n",
       "    <tr>\n",
       "      <th>63</th>\n",
       "      <td>Desmoid-103</td>\n",
       "      <td>Desmoid-103/image.nii.gz</td>\n",
       "      <td>Desmoid-103/segmentation.nii.gz</td>\n",
       "    </tr>\n",
       "    <tr>\n",
       "      <th>89</th>\n",
       "      <td>Desmoid-096</td>\n",
       "      <td>Desmoid-096/image.nii.gz</td>\n",
       "      <td>Desmoid-096/segmentation.nii.gz</td>\n",
       "    </tr>\n",
       "    <tr>\n",
       "      <th>13</th>\n",
       "      <td>Desmoid-165</td>\n",
       "      <td>Desmoid-165/image.nii.gz</td>\n",
       "      <td>Desmoid-165/segmentation.nii.gz</td>\n",
       "    </tr>\n",
       "  </tbody>\n",
       "</table>\n",
       "</div>"
      ],
      "text/plain": [
       "             ID                image_path                segmentation_path\n",
       "94  Desmoid-009  Desmoid-009/image.nii.gz  Desmoid-009/segmentation.nii.gz\n",
       "0   Desmoid-074  Desmoid-074/image.nii.gz  Desmoid-074/segmentation.nii.gz\n",
       "63  Desmoid-103  Desmoid-103/image.nii.gz  Desmoid-103/segmentation.nii.gz\n",
       "89  Desmoid-096  Desmoid-096/image.nii.gz  Desmoid-096/segmentation.nii.gz\n",
       "13  Desmoid-165  Desmoid-165/image.nii.gz  Desmoid-165/segmentation.nii.gz"
      ]
     },
     "execution_count": 81,
     "metadata": {},
     "output_type": "execute_result"
    }
   ],
   "source": [
    "from autorad.data.utils import get_paths_with_separate_folder_per_case\n",
    "\n",
    "# create a table with all the paths\n",
    "paths_df = get_paths_with_separate_folder_per_case(data_dir, relative=True)\n",
    "paths_df.sample(5)"
   ]
  },
  {
   "cell_type": "code",
   "execution_count": 82,
   "metadata": {},
   "outputs": [
    {
     "data": {
      "image/png": "[encoded data removed]",
      "text/plain": [
       "<Figure size 1440x504 with 10 Axes>"
      ]
     },
     "metadata": {
      "needs_background": "light"
     },
     "output_type": "display_data"
    }
   ],
   "source": [
    "from autorad.data.dataset import ImageDataset\n",
    "from autorad.feature_extraction.extractor import FeatureExtractor\n",
    "import logging\n",
    "\n",
    "logging.getLogger().setLevel(logging.CRITICAL)\n",
    "\n",
    "image_dataset = ImageDataset(\n",
    "    paths_df,\n",
    "    ID_colname=\"ID\",\n",
    "    root_dir=data_dir,\n",
    ")\n",
    "\n",
    "# Let's take a look at the data, plotting random 10 cases\n",
    "image_dataset.plot_examples(n=10, window=None)"
   ]
  },
  {
   "cell_type": "code",
   "execution_count": 83,
   "metadata": {},
   "outputs": [
    {
     "name": "stderr",
     "output_type": "stream",
     "text": [
      "100it [02:13,  1.33s/it]\n"
     ]
    }
   ],
   "source": [
    "extractor = FeatureExtractor(image_dataset, extraction_params=\"default_MR.yaml\")\n",
    "feature_df = extractor.run()"
   ]
  },
  {
   "cell_type": "code",
   "execution_count": 84,
   "metadata": {},
   "outputs": [
    {
     "data": {
      "text/html": [
       "<div>\n",
       "<style scoped>\n",
       "    .dataframe tbody tr th:only-of-type {\n",
       "        vertical-align: middle;\n",
       "    }\n",
       "\n",
       "    .dataframe tbody tr th {\n",
       "        vertical-align: top;\n",
       "    }\n",
       "\n",
       "    .dataframe thead th {\n",
       "        text-align: right;\n",
       "    }\n",
       "</style>\n",
       "<table border=\"1\" class=\"dataframe\">\n",
       "  <thead>\n",
       "    <tr style=\"text-align: right;\">\n",
       "      <th></th>\n",
       "      <th>ID</th>\n",
       "      <th>image_path</th>\n",
       "      <th>segmentation_path</th>\n",
       "      <th>diagnostics_Versions_PyRadiomics</th>\n",
       "      <th>diagnostics_Versions_Numpy</th>\n",
       "      <th>diagnostics_Versions_SimpleITK</th>\n",
       "      <th>diagnostics_Versions_PyWavelet</th>\n",
       "      <th>diagnostics_Versions_Python</th>\n",
       "      <th>diagnostics_Configuration_Settings</th>\n",
       "      <th>diagnostics_Configuration_EnabledImageTypes</th>\n",
       "      <th>...</th>\n",
       "      <th>wavelet-LLL_gldm_LargeDependenceLowGrayLevelEmphasis</th>\n",
       "      <th>wavelet-LLL_gldm_LowGrayLevelEmphasis</th>\n",
       "      <th>wavelet-LLL_gldm_SmallDependenceEmphasis</th>\n",
       "      <th>wavelet-LLL_gldm_SmallDependenceHighGrayLevelEmphasis</th>\n",
       "      <th>wavelet-LLL_gldm_SmallDependenceLowGrayLevelEmphasis</th>\n",
       "      <th>wavelet-LLL_ngtdm_Busyness</th>\n",
       "      <th>wavelet-LLL_ngtdm_Coarseness</th>\n",
       "      <th>wavelet-LLL_ngtdm_Complexity</th>\n",
       "      <th>wavelet-LLL_ngtdm_Contrast</th>\n",
       "      <th>wavelet-LLL_ngtdm_Strength</th>\n",
       "    </tr>\n",
       "  </thead>\n",
       "  <tbody>\n",
       "    <tr>\n",
       "      <th>0</th>\n",
       "      <td>Desmoid-074</td>\n",
       "      <td>/Users/p.woznicki/git/AutoRadiomics/examples/a...</td>\n",
       "      <td>/Users/p.woznicki/git/AutoRadiomics/examples/a...</td>\n",
       "      <td>v3.0.1</td>\n",
       "      <td>1.22.1</td>\n",
       "      <td>2.1.1.2</td>\n",
       "      <td>1.2.0</td>\n",
       "      <td>3.10.4</td>\n",
       "      <td>{'minimumROIDimensions': 1, 'minimumROISize': ...</td>\n",
       "      <td>{'Original': {}, 'LoG': {'sigma': [3.0, 5.0]},...</td>\n",
       "      <td>...</td>\n",
       "      <td>0.09364225285965076</td>\n",
       "      <td>0.0020106471542853657</td>\n",
       "      <td>0.1604221958125694</td>\n",
       "      <td>154.59031374778954</td>\n",
       "      <td>0.0004037488625501188</td>\n",
       "      <td>0.7482961240892383</td>\n",
       "      <td>0.0004442332208722315</td>\n",
       "      <td>5875.243768469462</td>\n",
       "      <td>0.024981087368858863</td>\n",
       "      <td>2.3650769782697085</td>\n",
       "    </tr>\n",
       "    <tr>\n",
       "      <th>1</th>\n",
       "      <td>Desmoid-011</td>\n",
       "      <td>/Users/p.woznicki/git/AutoRadiomics/examples/a...</td>\n",
       "      <td>/Users/p.woznicki/git/AutoRadiomics/examples/a...</td>\n",
       "      <td>v3.0.1</td>\n",
       "      <td>1.22.1</td>\n",
       "      <td>2.1.1.2</td>\n",
       "      <td>1.2.0</td>\n",
       "      <td>3.10.4</td>\n",
       "      <td>{'minimumROIDimensions': 1, 'minimumROISize': ...</td>\n",
       "      <td>{'Original': {}, 'LoG': {'sigma': [3.0, 5.0]},...</td>\n",
       "      <td>...</td>\n",
       "      <td>0.01645733471393253</td>\n",
       "      <td>0.0007994598617059055</td>\n",
       "      <td>0.23754652941863436</td>\n",
       "      <td>755.5959923635118</td>\n",
       "      <td>0.0002192726518890093</td>\n",
       "      <td>0.0848940242889145</td>\n",
       "      <td>0.002415714070684505</td>\n",
       "      <td>10870.016237393145</td>\n",
       "      <td>0.09774824569895392</td>\n",
       "      <td>17.52738638275591</td>\n",
       "    </tr>\n",
       "    <tr>\n",
       "      <th>2</th>\n",
       "      <td>Desmoid-016</td>\n",
       "      <td>/Users/p.woznicki/git/AutoRadiomics/examples/a...</td>\n",
       "      <td>/Users/p.woznicki/git/AutoRadiomics/examples/a...</td>\n",
       "      <td>v3.0.1</td>\n",
       "      <td>1.22.1</td>\n",
       "      <td>2.1.1.2</td>\n",
       "      <td>1.2.0</td>\n",
       "      <td>3.10.4</td>\n",
       "      <td>{'minimumROIDimensions': 1, 'minimumROISize': ...</td>\n",
       "      <td>{'Original': {}, 'LoG': {'sigma': [3.0, 5.0]},...</td>\n",
       "      <td>...</td>\n",
       "      <td>0.14926333576809553</td>\n",
       "      <td>0.04580602433297548</td>\n",
       "      <td>0.9482758620689655</td>\n",
       "      <td>8401.258620689656</td>\n",
       "      <td>0.01994169647419545</td>\n",
       "      <td>0.007245165042991185</td>\n",
       "      <td>0.04304408369337778</td>\n",
       "      <td>59786.729500750545</td>\n",
       "      <td>42.22125738891177</td>\n",
       "      <td>502.7619006538285</td>\n",
       "    </tr>\n",
       "    <tr>\n",
       "      <th>3</th>\n",
       "      <td>Desmoid-043</td>\n",
       "      <td>/Users/p.woznicki/git/AutoRadiomics/examples/a...</td>\n",
       "      <td>/Users/p.woznicki/git/AutoRadiomics/examples/a...</td>\n",
       "      <td>v3.0.1</td>\n",
       "      <td>1.22.1</td>\n",
       "      <td>2.1.1.2</td>\n",
       "      <td>1.2.0</td>\n",
       "      <td>3.10.4</td>\n",
       "      <td>{'minimumROIDimensions': 1, 'minimumROISize': ...</td>\n",
       "      <td>{'Original': {}, 'LoG': {'sigma': [3.0, 5.0]},...</td>\n",
       "      <td>...</td>\n",
       "      <td>0.1819094347186305</td>\n",
       "      <td>0.011577516167563365</td>\n",
       "      <td>0.28827533950028905</td>\n",
       "      <td>132.25242376140565</td>\n",
       "      <td>0.002827722920173325</td>\n",
       "      <td>0.1012570099626087</td>\n",
       "      <td>0.01474656631810172</td>\n",
       "      <td>2358.6901530820264</td>\n",
       "      <td>0.17872754150760153</td>\n",
       "      <td>13.098294066297127</td>\n",
       "    </tr>\n",
       "    <tr>\n",
       "      <th>4</th>\n",
       "      <td>Desmoid-088</td>\n",
       "      <td>/Users/p.woznicki/git/AutoRadiomics/examples/a...</td>\n",
       "      <td>/Users/p.woznicki/git/AutoRadiomics/examples/a...</td>\n",
       "      <td>v3.0.1</td>\n",
       "      <td>1.22.1</td>\n",
       "      <td>2.1.1.2</td>\n",
       "      <td>1.2.0</td>\n",
       "      <td>3.10.4</td>\n",
       "      <td>{'minimumROIDimensions': 1, 'minimumROISize': ...</td>\n",
       "      <td>{'Original': {}, 'LoG': {'sigma': [3.0, 5.0]},...</td>\n",
       "      <td>...</td>\n",
       "      <td>0.0041612522715183675</td>\n",
       "      <td>0.003951433099856481</td>\n",
       "      <td>0.7976059941520468</td>\n",
       "      <td>3513.162189327485</td>\n",
       "      <td>0.003909859962614113</td>\n",
       "      <td>0.010387814165132113</td>\n",
       "      <td>0.018037594756083835</td>\n",
       "      <td>41901.34007117845</td>\n",
       "      <td>1.6863170100495721</td>\n",
       "      <td>52.5786133788846</td>\n",
       "    </tr>\n",
       "  </tbody>\n",
       "</table>\n",
       "<p>5 rows × 1055 columns</p>\n",
       "</div>"
      ],
      "text/plain": [
       "            ID                                         image_path  \\\n",
       "0  Desmoid-074  /Users/p.woznicki/git/AutoRadiomics/examples/a...   \n",
       "1  Desmoid-011  /Users/p.woznicki/git/AutoRadiomics/examples/a...   \n",
       "2  Desmoid-016  /Users/p.woznicki/git/AutoRadiomics/examples/a...   \n",
       "3  Desmoid-043  /Users/p.woznicki/git/AutoRadiomics/examples/a...   \n",
       "4  Desmoid-088  /Users/p.woznicki/git/AutoRadiomics/examples/a...   \n",
       "\n",
       "                                   segmentation_path  \\\n",
       "0  /Users/p.woznicki/git/AutoRadiomics/examples/a...   \n",
       "1  /Users/p.woznicki/git/AutoRadiomics/examples/a...   \n",
       "2  /Users/p.woznicki/git/AutoRadiomics/examples/a...   \n",
       "3  /Users/p.woznicki/git/AutoRadiomics/examples/a...   \n",
       "4  /Users/p.woznicki/git/AutoRadiomics/examples/a...   \n",
       "\n",
       "  diagnostics_Versions_PyRadiomics diagnostics_Versions_Numpy  \\\n",
       "0                           v3.0.1                     1.22.1   \n",
       "1                           v3.0.1                     1.22.1   \n",
       "2                           v3.0.1                     1.22.1   \n",
       "3                           v3.0.1                     1.22.1   \n",
       "4                           v3.0.1                     1.22.1   \n",
       "\n",
       "  diagnostics_Versions_SimpleITK diagnostics_Versions_PyWavelet  \\\n",
       "0                        2.1.1.2                          1.2.0   \n",
       "1                        2.1.1.2                          1.2.0   \n",
       "2                        2.1.1.2                          1.2.0   \n",
       "3                        2.1.1.2                          1.2.0   \n",
       "4                        2.1.1.2                          1.2.0   \n",
       "\n",
       "  diagnostics_Versions_Python  \\\n",
       "0                      3.10.4   \n",
       "1                      3.10.4   \n",
       "2                      3.10.4   \n",
       "3                      3.10.4   \n",
       "4                      3.10.4   \n",
       "\n",
       "                  diagnostics_Configuration_Settings  \\\n",
       "0  {'minimumROIDimensions': 1, 'minimumROISize': ...   \n",
       "1  {'minimumROIDimensions': 1, 'minimumROISize': ...   \n",
       "2  {'minimumROIDimensions': 1, 'minimumROISize': ...   \n",
       "3  {'minimumROIDimensions': 1, 'minimumROISize': ...   \n",
       "4  {'minimumROIDimensions': 1, 'minimumROISize': ...   \n",
       "\n",
       "         diagnostics_Configuration_EnabledImageTypes  ...  \\\n",
       "0  {'Original': {}, 'LoG': {'sigma': [3.0, 5.0]},...  ...   \n",
       "1  {'Original': {}, 'LoG': {'sigma': [3.0, 5.0]},...  ...   \n",
       "2  {'Original': {}, 'LoG': {'sigma': [3.0, 5.0]},...  ...   \n",
       "3  {'Original': {}, 'LoG': {'sigma': [3.0, 5.0]},...  ...   \n",
       "4  {'Original': {}, 'LoG': {'sigma': [3.0, 5.0]},...  ...   \n",
       "\n",
       "  wavelet-LLL_gldm_LargeDependenceLowGrayLevelEmphasis  \\\n",
       "0                                0.09364225285965076     \n",
       "1                                0.01645733471393253     \n",
       "2                                0.14926333576809553     \n",
       "3                                 0.1819094347186305     \n",
       "4                              0.0041612522715183675     \n",
       "\n",
       "  wavelet-LLL_gldm_LowGrayLevelEmphasis  \\\n",
       "0                 0.0020106471542853657   \n",
       "1                 0.0007994598617059055   \n",
       "2                   0.04580602433297548   \n",
       "3                  0.011577516167563365   \n",
       "4                  0.003951433099856481   \n",
       "\n",
       "  wavelet-LLL_gldm_SmallDependenceEmphasis  \\\n",
       "0                       0.1604221958125694   \n",
       "1                      0.23754652941863436   \n",
       "2                       0.9482758620689655   \n",
       "3                      0.28827533950028905   \n",
       "4                       0.7976059941520468   \n",
       "\n",
       "  wavelet-LLL_gldm_SmallDependenceHighGrayLevelEmphasis  \\\n",
       "0                                 154.59031374778954      \n",
       "1                                  755.5959923635118      \n",
       "2                                  8401.258620689656      \n",
       "3                                 132.25242376140565      \n",
       "4                                  3513.162189327485      \n",
       "\n",
       "   wavelet-LLL_gldm_SmallDependenceLowGrayLevelEmphasis  \\\n",
       "0                              0.0004037488625501188      \n",
       "1                              0.0002192726518890093      \n",
       "2                                0.01994169647419545      \n",
       "3                               0.002827722920173325      \n",
       "4                               0.003909859962614113      \n",
       "\n",
       "   wavelet-LLL_ngtdm_Busyness  wavelet-LLL_ngtdm_Coarseness  \\\n",
       "0          0.7482961240892383         0.0004442332208722315   \n",
       "1          0.0848940242889145          0.002415714070684505   \n",
       "2        0.007245165042991185           0.04304408369337778   \n",
       "3          0.1012570099626087           0.01474656631810172   \n",
       "4        0.010387814165132113          0.018037594756083835   \n",
       "\n",
       "  wavelet-LLL_ngtdm_Complexity wavelet-LLL_ngtdm_Contrast  \\\n",
       "0            5875.243768469462       0.024981087368858863   \n",
       "1           10870.016237393145        0.09774824569895392   \n",
       "2           59786.729500750545          42.22125738891177   \n",
       "3           2358.6901530820264        0.17872754150760153   \n",
       "4            41901.34007117845         1.6863170100495721   \n",
       "\n",
       "  wavelet-LLL_ngtdm_Strength  \n",
       "0         2.3650769782697085  \n",
       "1          17.52738638275591  \n",
       "2          502.7619006538285  \n",
       "3         13.098294066297127  \n",
       "4           52.5786133788846  \n",
       "\n",
       "[5 rows x 1055 columns]"
      ]
     },
     "execution_count": 84,
     "metadata": {},
     "output_type": "execute_result"
    }
   ],
   "source": [
    "feature_df.head()"
   ]
  },
  {
   "cell_type": "code",
   "execution_count": 85,
   "metadata": {},
   "outputs": [
    {
     "data": {
      "text/html": [
       "<div>\n",
       "<style scoped>\n",
       "    .dataframe tbody tr th:only-of-type {\n",
       "        vertical-align: middle;\n",
       "    }\n",
       "\n",
       "    .dataframe tbody tr th {\n",
       "        vertical-align: top;\n",
       "    }\n",
       "\n",
       "    .dataframe thead th {\n",
       "        text-align: right;\n",
       "    }\n",
       "</style>\n",
       "<table border=\"1\" class=\"dataframe\">\n",
       "  <thead>\n",
       "    <tr style=\"text-align: right;\">\n",
       "      <th></th>\n",
       "      <th>patient_ID</th>\n",
       "      <th>diagnosis</th>\n",
       "    </tr>\n",
       "  </thead>\n",
       "  <tbody>\n",
       "    <tr>\n",
       "      <th>19</th>\n",
       "      <td>Desmoid-076</td>\n",
       "      <td>1</td>\n",
       "    </tr>\n",
       "    <tr>\n",
       "      <th>68</th>\n",
       "      <td>Desmoid-025</td>\n",
       "      <td>0</td>\n",
       "    </tr>\n",
       "    <tr>\n",
       "      <th>95</th>\n",
       "      <td>Desmoid-201</td>\n",
       "      <td>0</td>\n",
       "    </tr>\n",
       "    <tr>\n",
       "      <th>31</th>\n",
       "      <td>Desmoid-173</td>\n",
       "      <td>1</td>\n",
       "    </tr>\n",
       "    <tr>\n",
       "      <th>30</th>\n",
       "      <td>Desmoid-185</td>\n",
       "      <td>1</td>\n",
       "    </tr>\n",
       "  </tbody>\n",
       "</table>\n",
       "</div>"
      ],
      "text/plain": [
       "     patient_ID  diagnosis\n",
       "19  Desmoid-076          1\n",
       "68  Desmoid-025          0\n",
       "95  Desmoid-201          0\n",
       "31  Desmoid-173          1\n",
       "30  Desmoid-185          1"
      ]
     },
     "execution_count": 85,
     "metadata": {},
     "output_type": "execute_result"
    }
   ],
   "source": [
    "label_df = pd.read_csv(data_dir / \"labels.csv\")\n",
    "label_df.sample(5)"
   ]
  },
  {
   "cell_type": "code",
   "execution_count": 86,
   "metadata": {},
   "outputs": [],
   "source": [
    "from autorad.data.dataset import FeatureDataset\n",
    "\n",
    "merged_feature_df = feature_df.merge(label_df, left_on=\"ID\",\n",
    "    right_on=\"patient_ID\", how=\"left\")\n",
    "feature_dataset = FeatureDataset(\n",
    "    merged_feature_df,\n",
    "    target=\"diagnosis\",\n",
    "    ID_colname=\"ID\"\n",
    ")"
   ]
  },
  {
   "cell_type": "markdown",
   "metadata": {},
   "source": [
    "Split the data into training/validation/test sets with stratification:"
   ]
  },
  {
   "cell_type": "code",
   "execution_count": 109,
   "metadata": {},
   "outputs": [
    {
     "data": {
      "text/plain": [
       "{'split_type': 'stratified split: 60% train + 20% validation + 20% test',\n",
       " 'train': ['Desmoid-165',\n",
       "  'Desmoid-059',\n",
       "  'Desmoid-163',\n",
       "  'Desmoid-190',\n",
       "  'Desmoid-141',\n",
       "  'Desmoid-030',\n",
       "  'Desmoid-150',\n",
       "  'Desmoid-022',\n",
       "  'Desmoid-084',\n",
       "  'Desmoid-162',\n",
       "  'Desmoid-009',\n",
       "  'Desmoid-147',\n",
       "  'Desmoid-111',\n",
       "  'Desmoid-112',\n",
       "  'Desmoid-171',\n",
       "  'Desmoid-028',\n",
       "  'Desmoid-128',\n",
       "  'Desmoid-136',\n",
       "  'Desmoid-062',\n",
       "  'Desmoid-166',\n",
       "  'Desmoid-104',\n",
       "  'Desmoid-170',\n",
       "  'Desmoid-184',\n",
       "  'Desmoid-004',\n",
       "  'Desmoid-140',\n",
       "  'Desmoid-068',\n",
       "  'Desmoid-199',\n",
       "  'Desmoid-134',\n",
       "  'Desmoid-093',\n",
       "  'Desmoid-153',\n",
       "  'Desmoid-121',\n",
       "  'Desmoid-056',\n",
       "  'Desmoid-195',\n",
       "  'Desmoid-103',\n",
       "  'Desmoid-096',\n",
       "  'Desmoid-189',\n",
       "  'Desmoid-036',\n",
       "  'Desmoid-043',\n",
       "  'Desmoid-026',\n",
       "  'Desmoid-152',\n",
       "  'Desmoid-037',\n",
       "  'Desmoid-119',\n",
       "  'Desmoid-194',\n",
       "  'Desmoid-109',\n",
       "  'Desmoid-169',\n",
       "  'Desmoid-101',\n",
       "  'Desmoid-130',\n",
       "  'Desmoid-100',\n",
       "  'Desmoid-201',\n",
       "  'Desmoid-039',\n",
       "  'Desmoid-173',\n",
       "  'Desmoid-025',\n",
       "  'Desmoid-175',\n",
       "  'Desmoid-114',\n",
       "  'Desmoid-122',\n",
       "  'Desmoid-006',\n",
       "  'Desmoid-091',\n",
       "  'Desmoid-076',\n",
       "  'Desmoid-088',\n",
       "  'Desmoid-115'],\n",
       " 'val': ['Desmoid-016',\n",
       "  'Desmoid-108',\n",
       "  'Desmoid-024',\n",
       "  'Desmoid-017',\n",
       "  'Desmoid-183',\n",
       "  'Desmoid-074',\n",
       "  'Desmoid-098',\n",
       "  'Desmoid-172',\n",
       "  'Desmoid-060',\n",
       "  'Desmoid-054',\n",
       "  'Desmoid-129',\n",
       "  'Desmoid-198',\n",
       "  'Desmoid-154',\n",
       "  'Desmoid-113',\n",
       "  'Desmoid-078',\n",
       "  'Desmoid-159',\n",
       "  'Desmoid-116',\n",
       "  'Desmoid-180',\n",
       "  'Desmoid-011',\n",
       "  'Desmoid-014'],\n",
       " 'test': ['Desmoid-095',\n",
       "  'Desmoid-046',\n",
       "  'Desmoid-102',\n",
       "  'Desmoid-079',\n",
       "  'Desmoid-126',\n",
       "  'Desmoid-182',\n",
       "  'Desmoid-107',\n",
       "  'Desmoid-185',\n",
       "  'Desmoid-040',\n",
       "  'Desmoid-021',\n",
       "  'Desmoid-023',\n",
       "  'Desmoid-082',\n",
       "  'Desmoid-038',\n",
       "  'Desmoid-110',\n",
       "  'Desmoid-179',\n",
       "  'Desmoid-071',\n",
       "  'Desmoid-177',\n",
       "  'Desmoid-055',\n",
       "  'Desmoid-193',\n",
       "  'Desmoid-174']}"
      ]
     },
     "execution_count": 109,
     "metadata": {},
     "output_type": "execute_result"
    }
   ],
   "source": [
    "splits_path = result_dir / \"splits.json\"\n",
    "feature_dataset.split(method=\"train_val_test\", save_path=splits_path)"
   ]
  },
  {
   "cell_type": "code",
   "execution_count": 88,
   "metadata": {},
   "outputs": [
    {
     "name": "stdout",
     "output_type": "stream",
     "text": [
      "[Random Forest, Logistic Regression, SVM, XGBoost]\n"
     ]
    }
   ],
   "source": [
    "from autorad.training.trainer import Trainer\n",
    "from autorad.models.classifier import MLClassifier\n",
    "\n",
    "models = MLClassifier.initialize_default_sklearn_models()\n",
    "print(models)"
   ]
  },
  {
   "cell_type": "code",
   "execution_count": 99,
   "metadata": {},
   "outputs": [],
   "source": [
    "trainer = Trainer(\n",
    "    dataset=feature_dataset,\n",
    "    models=models,\n",
    "    result_dir=result_dir,\n",
    "    experiment_name=\"Fibromatosis_vs_sarcoma_classification\",\n",
    ")\n",
    "trainer.run_auto_preprocessing(\n",
    "        selection_methods=[\"boruta\"],\n",
    "        oversampling=False,\n",
    "        )"
   ]
  },
  {
   "cell_type": "code",
   "execution_count": 100,
   "metadata": {},
   "outputs": [
    {
     "name": "stderr",
     "output_type": "stream",
     "text": [
      "\u001b[32m[I 2022-06-07 19:01:01,098]\u001b[0m A new study created in memory with name: Liver_detection\u001b[0m\n",
      "\u001b[32m[I 2022-06-07 19:01:02,218]\u001b[0m Trial 0 finished with value: 0.5 and parameters: {'feature_selection_method': 'boruta', 'oversampling_method': 'SMOTE', 'model': 'XGBoost', 'xgb_lambda': 0.014570271595538578, 'xgb_alpha': 0.00021300368327705253, 'colsample_bytree': 0.5136940145553204, 'xgb_subsample': 0.47454241292069554, 'xgb_booster': 'gbtree', 'xgb_max_depth': 5, 'xgb_min_child_weight': 8, 'xgb_eta': 2.883592210117951e-07, 'xgb_gamma': 2.53287670148807e-07, 'xgb_grow_policy': 'lossguide'}. Best is trial 0 with value: 0.5.\u001b[0m\n",
      "\u001b[32m[I 2022-06-07 19:01:03,247]\u001b[0m Trial 1 finished with value: 0.7252747252747254 and parameters: {'feature_selection_method': 'boruta', 'oversampling_method': 'ADASYN', 'model': 'Logistic Regression', 'lr_penalty': 'l1', 'lr_C': 0.3341215561348895}. Best is trial 1 with value: 0.7252747252747254.\u001b[0m\n",
      "\u001b[32m[I 2022-06-07 19:01:10,135]\u001b[0m Trial 2 finished with value: 0.6703296703296704 and parameters: {'feature_selection_method': 'boruta', 'oversampling_method': 'ADASYN', 'model': 'Random Forest', 'rf_n_estimators': 899, 'rf_max_depth': 48, 'rf_max_features': 'sqrt', 'rf_min_samples_leaf': 2, 'rf_min_samples_split': 4, 'rf_bootstrap': False}. Best is trial 1 with value: 0.7252747252747254.\u001b[0m\n",
      "\u001b[32m[I 2022-06-07 19:01:29,209]\u001b[0m Trial 3 finished with value: 0.5 and parameters: {'feature_selection_method': 'boruta', 'oversampling_method': None, 'model': 'XGBoost', 'xgb_lambda': 0.0026763392031222675, 'xgb_alpha': 0.0008046593428183385, 'colsample_bytree': 0.47421106701944676, 'xgb_subsample': 0.4432966312217473, 'xgb_booster': 'dart', 'xgb_max_depth': 7, 'xgb_min_child_weight': 8, 'xgb_eta': 0.00048695902646412595, 'xgb_gamma': 0.0009982240218295083, 'xgb_grow_policy': 'lossguide', 'xgb_sample_type': 'weighted', 'xgb_normalize_type': 'tree', 'xgb_rate_drop': 0.0003798880741472144, 'xgb_skip_drop': 5.8304239226092374e-08}. Best is trial 1 with value: 0.7252747252747254.\u001b[0m\n",
      "\u001b[32m[I 2022-06-07 19:01:30,647]\u001b[0m Trial 4 finished with value: 0.5 and parameters: {'feature_selection_method': 'boruta', 'oversampling_method': 'SMOTE', 'model': 'Logistic Regression', 'lr_penalty': 'l1', 'lr_C': 0.0188393409315699}. Best is trial 1 with value: 0.7252747252747254.\u001b[0m\n",
      "\u001b[32m[I 2022-06-07 19:01:34,296]\u001b[0m Trial 5 finished with value: 0.5274725274725275 and parameters: {'feature_selection_method': 'boruta', 'oversampling_method': 'SMOTE', 'model': 'Random Forest', 'rf_n_estimators': 339, 'rf_max_depth': 21, 'rf_max_features': 'sqrt', 'rf_min_samples_leaf': 4, 'rf_min_samples_split': 8, 'rf_bootstrap': False}. Best is trial 1 with value: 0.7252747252747254.\u001b[0m\n",
      "\u001b[32m[I 2022-06-07 19:01:36,114]\u001b[0m Trial 6 finished with value: 0.34065934065934067 and parameters: {'feature_selection_method': 'boruta', 'oversampling_method': 'ADASYN', 'model': 'SVM', 'svm_kernel': 'sigmoid', 'svm_C': 0.16331624244561055, 'svm_gamma': 2.6170375260922567, 'svm_degree': 2.0}. Best is trial 1 with value: 0.7252747252747254.\u001b[0m\n",
      "\u001b[32m[I 2022-06-07 19:01:39,923]\u001b[0m Trial 7 finished with value: 0.5934065934065934 and parameters: {'feature_selection_method': 'boruta', 'oversampling_method': 'ADASYN', 'model': 'Random Forest', 'rf_n_estimators': 545, 'rf_max_depth': 2, 'rf_max_features': 'auto', 'rf_min_samples_leaf': 3, 'rf_min_samples_split': 4, 'rf_bootstrap': False}. Best is trial 1 with value: 0.7252747252747254.\u001b[0m\n",
      "\u001b[32m[I 2022-06-07 19:01:43,928]\u001b[0m Trial 8 finished with value: 0.4945054945054945 and parameters: {'feature_selection_method': 'boruta', 'oversampling_method': 'SMOTE', 'model': 'Random Forest', 'rf_n_estimators': 621, 'rf_max_depth': 44, 'rf_max_features': 'auto', 'rf_min_samples_leaf': 5, 'rf_min_samples_split': 3, 'rf_bootstrap': False}. Best is trial 1 with value: 0.7252747252747254.\u001b[0m\n",
      "\u001b[32m[I 2022-06-07 19:01:45,311]\u001b[0m Trial 9 finished with value: 0.6043956043956045 and parameters: {'feature_selection_method': 'boruta', 'oversampling_method': None, 'model': 'SVM', 'svm_kernel': 'rbf', 'svm_C': 1.330429150597269, 'svm_gamma': 0.014000594165527527, 'svm_degree': 2.0}. Best is trial 1 with value: 0.7252747252747254.\u001b[0m\n",
      "\u001b[32m[I 2022-06-07 19:01:46,190]\u001b[0m Trial 10 finished with value: 0.5934065934065934 and parameters: {'feature_selection_method': 'boruta', 'oversampling_method': None, 'model': 'Logistic Regression', 'lr_penalty': 'l1', 'lr_C': 5.116327576291736}. Best is trial 1 with value: 0.7252747252747254.\u001b[0m\n",
      "\u001b[32m[I 2022-06-07 19:01:46,844]\u001b[0m Trial 11 finished with value: 0.5494505494505495 and parameters: {'feature_selection_method': 'boruta', 'oversampling_method': 'ADASYN', 'model': 'Logistic Regression', 'lr_penalty': 'l2', 'lr_C': 0.786574230761732}. Best is trial 1 with value: 0.7252747252747254.\u001b[0m\n",
      "\u001b[32m[I 2022-06-07 19:01:53,696]\u001b[0m Trial 12 finished with value: 0.6593406593406594 and parameters: {'feature_selection_method': 'boruta', 'oversampling_method': None, 'model': 'Random Forest', 'rf_n_estimators': 996, 'rf_max_depth': 49, 'rf_max_features': 'sqrt', 'rf_min_samples_leaf': 10, 'rf_min_samples_split': 6, 'rf_bootstrap': True}. Best is trial 1 with value: 0.7252747252747254.\u001b[0m\n",
      "\u001b[32m[I 2022-06-07 19:01:54,412]\u001b[0m Trial 13 finished with value: 0.5 and parameters: {'feature_selection_method': 'boruta', 'oversampling_method': None, 'model': 'Logistic Regression', 'lr_penalty': 'l1', 'lr_C': 0.0011596026993791028}. Best is trial 1 with value: 0.7252747252747254.\u001b[0m\n",
      "\u001b[32m[I 2022-06-07 19:02:01,672]\u001b[0m Trial 14 finished with value: 0.6373626373626374 and parameters: {'feature_selection_method': 'boruta', 'oversampling_method': None, 'model': 'Random Forest', 'rf_n_estimators': 948, 'rf_max_depth': 32, 'rf_max_features': 'sqrt', 'rf_min_samples_leaf': 1, 'rf_min_samples_split': 10, 'rf_bootstrap': True}. Best is trial 1 with value: 0.7252747252747254.\u001b[0m\n",
      "\u001b[32m[I 2022-06-07 19:02:03,012]\u001b[0m Trial 15 finished with value: 0.6043956043956045 and parameters: {'feature_selection_method': 'boruta', 'oversampling_method': None, 'model': 'Logistic Regression', 'lr_penalty': 'l2', 'lr_C': 0.10893933324196864}. Best is trial 1 with value: 0.7252747252747254.\u001b[0m\n",
      "\u001b[32m[I 2022-06-07 19:02:06,794]\u001b[0m Trial 16 finished with value: 0.6483516483516484 and parameters: {'feature_selection_method': 'boruta', 'oversampling_method': None, 'model': 'XGBoost', 'xgb_lambda': 1.2898977032958108e-08, 'xgb_alpha': 1.1594597304523683e-08, 'colsample_bytree': 0.9521436334112087, 'xgb_subsample': 0.9960243754691369, 'xgb_booster': 'gblinear'}. Best is trial 1 with value: 0.7252747252747254.\u001b[0m\n",
      "\u001b[32m[I 2022-06-07 19:02:08,067]\u001b[0m Trial 17 finished with value: 0.6373626373626374 and parameters: {'feature_selection_method': 'boruta', 'oversampling_method': None, 'model': 'SVM', 'svm_kernel': 'linear', 'svm_C': 0.0011907560007828701, 'svm_gamma': 0.0010632212394775123, 'svm_degree': 5.0}. Best is trial 1 with value: 0.7252747252747254.\u001b[0m\n",
      "\u001b[32m[I 2022-06-07 19:02:09,720]\u001b[0m Trial 18 finished with value: 0.6593406593406594 and parameters: {'feature_selection_method': 'boruta', 'oversampling_method': None, 'model': 'Random Forest', 'rf_n_estimators': 55, 'rf_max_depth': 31, 'rf_max_features': 'sqrt', 'rf_min_samples_leaf': 8, 'rf_min_samples_split': 2, 'rf_bootstrap': False}. Best is trial 1 with value: 0.7252747252747254.\u001b[0m\n",
      "\u001b[32m[I 2022-06-07 19:02:10,729]\u001b[0m Trial 19 finished with value: 0.5 and parameters: {'feature_selection_method': 'boruta', 'oversampling_method': None, 'model': 'Logistic Regression', 'lr_penalty': 'l1', 'lr_C': 0.13436112067930253}. Best is trial 1 with value: 0.7252747252747254.\u001b[0m\n",
      "\u001b[32m[I 2022-06-07 19:02:15,568]\u001b[0m Trial 20 finished with value: 0.5824175824175823 and parameters: {'feature_selection_method': 'boruta', 'oversampling_method': None, 'model': 'Random Forest', 'rf_n_estimators': 730, 'rf_max_depth': 16, 'rf_max_features': 'sqrt', 'rf_min_samples_leaf': 1, 'rf_min_samples_split': 5, 'rf_bootstrap': False}. Best is trial 1 with value: 0.7252747252747254.\u001b[0m\n",
      "\u001b[32m[I 2022-06-07 19:02:17,416]\u001b[0m Trial 21 finished with value: 0.6263736263736264 and parameters: {'feature_selection_method': 'boruta', 'oversampling_method': None, 'model': 'Random Forest', 'rf_n_estimators': 107, 'rf_max_depth': 35, 'rf_max_features': 'sqrt', 'rf_min_samples_leaf': 8, 'rf_min_samples_split': 2, 'rf_bootstrap': False}. Best is trial 1 with value: 0.7252747252747254.\u001b[0m\n",
      "\u001b[32m[I 2022-06-07 19:02:18,557]\u001b[0m Trial 22 finished with value: 0.6483516483516484 and parameters: {'feature_selection_method': 'boruta', 'oversampling_method': None, 'model': 'Random Forest', 'rf_n_estimators': 51, 'rf_max_depth': 38, 'rf_max_features': 'sqrt', 'rf_min_samples_leaf': 7, 'rf_min_samples_split': 2, 'rf_bootstrap': False}. Best is trial 1 with value: 0.7252747252747254.\u001b[0m\n",
      "\u001b[32m[I 2022-06-07 19:02:21,427]\u001b[0m Trial 23 finished with value: 0.6153846153846154 and parameters: {'feature_selection_method': 'boruta', 'oversampling_method': None, 'model': 'Random Forest', 'rf_n_estimators': 329, 'rf_max_depth': 26, 'rf_max_features': 'sqrt', 'rf_min_samples_leaf': 7, 'rf_min_samples_split': 4, 'rf_bootstrap': False}. Best is trial 1 with value: 0.7252747252747254.\u001b[0m\n",
      "\u001b[32m[I 2022-06-07 19:02:28,091]\u001b[0m Trial 24 finished with value: 0.6593406593406594 and parameters: {'feature_selection_method': 'boruta', 'oversampling_method': None, 'model': 'Random Forest', 'rf_n_estimators': 815, 'rf_max_depth': 50, 'rf_max_features': 'auto', 'rf_min_samples_leaf': 10, 'rf_min_samples_split': 2, 'rf_bootstrap': True}. Best is trial 1 with value: 0.7252747252747254.\u001b[0m\n",
      "\u001b[32m[I 2022-06-07 19:02:29,217]\u001b[0m Trial 25 finished with value: 0.6043956043956044 and parameters: {'feature_selection_method': 'boruta', 'oversampling_method': None, 'model': 'Logistic Regression', 'lr_penalty': 'l1', 'lr_C': 8.26781921192553}. Best is trial 1 with value: 0.7252747252747254.\u001b[0m\n",
      "\u001b[32m[I 2022-06-07 19:02:30,518]\u001b[0m Trial 26 finished with value: 0.5934065934065934 and parameters: {'feature_selection_method': 'boruta', 'oversampling_method': None, 'model': 'SVM', 'svm_kernel': 'poly', 'svm_C': 0.0011070646930355214, 'svm_gamma': 4.090487097534987, 'svm_degree': 5.0}. Best is trial 1 with value: 0.7252747252747254.\u001b[0m\n",
      "\u001b[32m[I 2022-06-07 19:02:39,859]\u001b[0m Trial 27 finished with value: 0.5 and parameters: {'feature_selection_method': 'boruta', 'oversampling_method': None, 'model': 'XGBoost', 'xgb_lambda': 6.983109824394666e-08, 'xgb_alpha': 3.934049675907641, 'colsample_bytree': 0.22537544039219704, 'xgb_subsample': 0.20211238404980042, 'xgb_booster': 'dart', 'xgb_max_depth': 3, 'xgb_min_child_weight': 3, 'xgb_eta': 0.04869608465370689, 'xgb_gamma': 0.5818672454609034, 'xgb_grow_policy': 'depthwise', 'xgb_sample_type': 'uniform', 'xgb_normalize_type': 'forest', 'xgb_rate_drop': 3.2383160426025734e-08, 'xgb_skip_drop': 0.08678058242734586}. Best is trial 1 with value: 0.7252747252747254.\u001b[0m\n",
      "\u001b[32m[I 2022-06-07 19:02:45,892]\u001b[0m Trial 28 finished with value: 0.6483516483516484 and parameters: {'feature_selection_method': 'boruta', 'oversampling_method': None, 'model': 'Random Forest', 'rf_n_estimators': 985, 'rf_max_depth': 50, 'rf_max_features': 'sqrt', 'rf_min_samples_leaf': 10, 'rf_min_samples_split': 7, 'rf_bootstrap': True}. Best is trial 1 with value: 0.7252747252747254.\u001b[0m\n",
      "\u001b[32m[I 2022-06-07 19:02:48,292]\u001b[0m Trial 29 finished with value: 0.6593406593406593 and parameters: {'feature_selection_method': 'boruta', 'oversampling_method': None, 'model': 'XGBoost', 'xgb_lambda': 8.787782995774805, 'xgb_alpha': 2.332115965342883e-08, 'colsample_bytree': 0.9921994007476833, 'xgb_subsample': 0.98754967976362, 'xgb_booster': 'gblinear'}. Best is trial 1 with value: 0.7252747252747254.\u001b[0m\n"
     ]
    }
   ],
   "source": [
    "trainer.set_optimizer(\"optuna\", n_trials=30)\n",
    "trainer.run(auto_preprocess=True)"
   ]
  },
  {
   "cell_type": "code",
   "execution_count": 96,
   "metadata": {},
   "outputs": [
    {
     "data": {
      "application/vnd.plotly.v1+json": {
       "config": {
        "plotlyServerURL": "https://plot.ly"
       },
       "data": [
        {
         "line": {
          "color": "royalblue",
          "width": 2
         },
         "mode": "lines",
         "name": "AUC=0.73",
         "type": "scatter",
         "x": [
          0,
          0,
          0,
          0.14285714285714285,
          0.14285714285714285,
          0.5714285714285714,
          0.5714285714285714,
          0.7142857142857143,
          0.7142857142857143,
          0.8571428571428571,
          0.8571428571428571,
          1
         ],
         "y": [
          0,
          0.07692307692307693,
          0.38461538461538464,
          0.38461538461538464,
          0.6923076923076923,
          0.6923076923076923,
          0.7692307692307693,
          0.7692307692307693,
          0.8461538461538461,
          0.8461538461538461,
          1,
          1
         ]
        }
       ],
       "layout": {
        "font": {
         "size": 20
        },
        "height": 600,
        "legend": {
         "x": 0.99,
         "xanchor": "right",
         "y": 0.01,
         "yanchor": "bottom"
        },
        "plot_bgcolor": "rgba(0, 0, 0, 0)",
        "shapes": [
         {
          "line": {
           "dash": "dash"
          },
          "type": "line",
          "x0": 0,
          "x1": 1,
          "y0": 0,
          "y1": 1
         }
        ],
        "showlegend": true,
        "template": {
         "data": {
          "bar": [
           {
            "error_x": {
             "color": "#2a3f5f"
            },
            "error_y": {
             "color": "#2a3f5f"
            },
            "marker": {
             "line": {
              "color": "#E5ECF6",
              "width": 0.5
             },
             "pattern": {
              "fillmode": "overlay",
              "size": 10,
              "solidity": 0.2
             }
            },
            "type": "bar"
           }
          ],
          "barpolar": [
           {
            "marker": {
             "line": {
              "color": "#E5ECF6",
              "width": 0.5
             },
             "pattern": {
              "fillmode": "overlay",
              "size": 10,
              "solidity": 0.2
             }
            },
            "type": "barpolar"
           }
          ],
          "carpet": [
           {
            "aaxis": {
             "endlinecolor": "#2a3f5f",
             "gridcolor": "white",
             "linecolor": "white",
             "minorgridcolor": "white",
             "startlinecolor": "#2a3f5f"
            },
            "baxis": {
             "endlinecolor": "#2a3f5f",
             "gridcolor": "white",
             "linecolor": "white",
             "minorgridcolor": "white",
             "startlinecolor": "#2a3f5f"
            },
            "type": "carpet"
           }
          ],
          "choropleth": [
           {
            "colorbar": {
             "outlinewidth": 0,
             "ticks": ""
            },
            "type": "choropleth"
           }
          ],
          "contour": [
           {
            "colorbar": {
             "outlinewidth": 0,
             "ticks": ""
            },
            "colorscale": [
             [
              0,
              "#0d0887"
             ],
             [
              0.1111111111111111,
              "#46039f"
             ],
             [
              0.2222222222222222,
              "#7201a8"
             ],
             [
              0.3333333333333333,
              "#9c179e"
             ],
             [
              0.4444444444444444,
              "#bd3786"
             ],
             [
              0.5555555555555556,
              "#d8576b"
             ],
             [
              0.6666666666666666,
              "#ed7953"
             ],
             [
              0.7777777777777778,
              "#fb9f3a"
             ],
             [
              0.8888888888888888,
              "#fdca26"
             ],
             [
              1,
              "#f0f921"
             ]
            ],
            "type": "contour"
           }
          ],
          "contourcarpet": [
           {
            "colorbar": {
             "outlinewidth": 0,
             "ticks": ""
            },
            "type": "contourcarpet"
           }
          ],
          "heatmap": [
           {
            "colorbar": {
             "outlinewidth": 0,
             "ticks": ""
            },
            "colorscale": [
             [
              0,
              "#0d0887"
             ],
             [
              0.1111111111111111,
              "#46039f"
             ],
             [
              0.2222222222222222,
              "#7201a8"
             ],
             [
              0.3333333333333333,
              "#9c179e"
             ],
             [
              0.4444444444444444,
              "#bd3786"
             ],
             [
              0.5555555555555556,
              "#d8576b"
             ],
             [
              0.6666666666666666,
              "#ed7953"
             ],
             [
              0.7777777777777778,
              "#fb9f3a"
             ],
             [
              0.8888888888888888,
              "#fdca26"
             ],
             [
              1,
              "#f0f921"
             ]
            ],
            "type": "heatmap"
           }
          ],
          "heatmapgl": [
           {
            "colorbar": {
             "outlinewidth": 0,
             "ticks": ""
            },
            "colorscale": [
             [
              0,
              "#0d0887"
             ],
             [
              0.1111111111111111,
              "#46039f"
             ],
             [
              0.2222222222222222,
              "#7201a8"
             ],
             [
              0.3333333333333333,
              "#9c179e"
             ],
             [
              0.4444444444444444,
              "#bd3786"
             ],
             [
              0.5555555555555556,
              "#d8576b"
             ],
             [
              0.6666666666666666,
              "#ed7953"
             ],
             [
              0.7777777777777778,
              "#fb9f3a"
             ],
             [
              0.8888888888888888,
              "#fdca26"
             ],
             [
              1,
              "#f0f921"
             ]
            ],
            "type": "heatmapgl"
           }
          ],
          "histogram": [
           {
            "marker": {
             "pattern": {
              "fillmode": "overlay",
              "size": 10,
              "solidity": 0.2
             }
            },
            "type": "histogram"
           }
          ],
          "histogram2d": [
           {
            "colorbar": {
             "outlinewidth": 0,
             "ticks": ""
            },
            "colorscale": [
             [
              0,
              "#0d0887"
             ],
             [
              0.1111111111111111,
              "#46039f"
             ],
             [
              0.2222222222222222,
              "#7201a8"
             ],
             [
              0.3333333333333333,
              "#9c179e"
             ],
             [
              0.4444444444444444,
              "#bd3786"
             ],
             [
              0.5555555555555556,
              "#d8576b"
             ],
             [
              0.6666666666666666,
              "#ed7953"
             ],
             [
              0.7777777777777778,
              "#fb9f3a"
             ],
             [
              0.8888888888888888,
              "#fdca26"
             ],
             [
              1,
              "#f0f921"
             ]
            ],
            "type": "histogram2d"
           }
          ],
          "histogram2dcontour": [
           {
            "colorbar": {
             "outlinewidth": 0,
             "ticks": ""
            },
            "colorscale": [
             [
              0,
              "#0d0887"
             ],
             [
              0.1111111111111111,
              "#46039f"
             ],
             [
              0.2222222222222222,
              "#7201a8"
             ],
             [
              0.3333333333333333,
              "#9c179e"
             ],
             [
              0.4444444444444444,
              "#bd3786"
             ],
             [
              0.5555555555555556,
              "#d8576b"
             ],
             [
              0.6666666666666666,
              "#ed7953"
             ],
             [
              0.7777777777777778,
              "#fb9f3a"
             ],
             [
              0.8888888888888888,
              "#fdca26"
             ],
             [
              1,
              "#f0f921"
             ]
            ],
            "type": "histogram2dcontour"
           }
          ],
          "mesh3d": [
           {
            "colorbar": {
             "outlinewidth": 0,
             "ticks": ""
            },
            "type": "mesh3d"
           }
          ],
          "parcoords": [
           {
            "line": {
             "colorbar": {
              "outlinewidth": 0,
              "ticks": ""
             }
            },
            "type": "parcoords"
           }
          ],
          "pie": [
           {
            "automargin": true,
            "type": "pie"
           }
          ],
          "scatter": [
           {
            "marker": {
             "colorbar": {
              "outlinewidth": 0,
              "ticks": ""
             }
            },
            "type": "scatter"
           }
          ],
          "scatter3d": [
           {
            "line": {
             "colorbar": {
              "outlinewidth": 0,
              "ticks": ""
             }
            },
            "marker": {
             "colorbar": {
              "outlinewidth": 0,
              "ticks": ""
             }
            },
            "type": "scatter3d"
           }
          ],
          "scattercarpet": [
           {
            "marker": {
             "colorbar": {
              "outlinewidth": 0,
              "ticks": ""
             }
            },
            "type": "scattercarpet"
           }
          ],
          "scattergeo": [
           {
            "marker": {
             "colorbar": {
              "outlinewidth": 0,
              "ticks": ""
             }
            },
            "type": "scattergeo"
           }
          ],
          "scattergl": [
           {
            "marker": {
             "colorbar": {
              "outlinewidth": 0,
              "ticks": ""
             }
            },
            "type": "scattergl"
           }
          ],
          "scattermapbox": [
           {
            "marker": {
             "colorbar": {
              "outlinewidth": 0,
              "ticks": ""
             }
            },
            "type": "scattermapbox"
           }
          ],
          "scatterpolar": [
           {
            "marker": {
             "colorbar": {
              "outlinewidth": 0,
              "ticks": ""
             }
            },
            "type": "scatterpolar"
           }
          ],
          "scatterpolargl": [
           {
            "marker": {
             "colorbar": {
              "outlinewidth": 0,
              "ticks": ""
             }
            },
            "type": "scatterpolargl"
           }
          ],
          "scatterternary": [
           {
            "marker": {
             "colorbar": {
              "outlinewidth": 0,
              "ticks": ""
             }
            },
            "type": "scatterternary"
           }
          ],
          "surface": [
           {
            "colorbar": {
             "outlinewidth": 0,
             "ticks": ""
            },
            "colorscale": [
             [
              0,
              "#0d0887"
             ],
             [
              0.1111111111111111,
              "#46039f"
             ],
             [
              0.2222222222222222,
              "#7201a8"
             ],
             [
              0.3333333333333333,
              "#9c179e"
             ],
             [
              0.4444444444444444,
              "#bd3786"
             ],
             [
              0.5555555555555556,
              "#d8576b"
             ],
             [
              0.6666666666666666,
              "#ed7953"
             ],
             [
              0.7777777777777778,
              "#fb9f3a"
             ],
             [
              0.8888888888888888,
              "#fdca26"
             ],
             [
              1,
              "#f0f921"
             ]
            ],
            "type": "surface"
           }
          ],
          "table": [
           {
            "cells": {
             "fill": {
              "color": "#EBF0F8"
             },
             "line": {
              "color": "white"
             }
            },
            "header": {
             "fill": {
              "color": "#C8D4E3"
             },
             "line": {
              "color": "white"
             }
            },
            "type": "table"
           }
          ]
         },
         "layout": {
          "annotationdefaults": {
           "arrowcolor": "#2a3f5f",
           "arrowhead": 0,
           "arrowwidth": 1
          },
          "autotypenumbers": "strict",
          "coloraxis": {
           "colorbar": {
            "outlinewidth": 0,
            "ticks": ""
           }
          },
          "colorscale": {
           "diverging": [
            [
             0,
             "#8e0152"
            ],
            [
             0.1,
             "#c51b7d"
            ],
            [
             0.2,
             "#de77ae"
            ],
            [
             0.3,
             "#f1b6da"
            ],
            [
             0.4,
             "#fde0ef"
            ],
            [
             0.5,
             "#f7f7f7"
            ],
            [
             0.6,
             "#e6f5d0"
            ],
            [
             0.7,
             "#b8e186"
            ],
            [
             0.8,
             "#7fbc41"
            ],
            [
             0.9,
             "#4d9221"
            ],
            [
             1,
             "#276419"
            ]
           ],
           "sequential": [
            [
             0,
             "#0d0887"
            ],
            [
             0.1111111111111111,
             "#46039f"
            ],
            [
             0.2222222222222222,
             "#7201a8"
            ],
            [
             0.3333333333333333,
             "#9c179e"
            ],
            [
             0.4444444444444444,
             "#bd3786"
            ],
            [
             0.5555555555555556,
             "#d8576b"
            ],
            [
             0.6666666666666666,
             "#ed7953"
            ],
            [
             0.7777777777777778,
             "#fb9f3a"
            ],
            [
             0.8888888888888888,
             "#fdca26"
            ],
            [
             1,
             "#f0f921"
            ]
           ],
           "sequentialminus": [
            [
             0,
             "#0d0887"
            ],
            [
             0.1111111111111111,
             "#46039f"
            ],
            [
             0.2222222222222222,
             "#7201a8"
            ],
            [
             0.3333333333333333,
             "#9c179e"
            ],
            [
             0.4444444444444444,
             "#bd3786"
            ],
            [
             0.5555555555555556,
             "#d8576b"
            ],
            [
             0.6666666666666666,
             "#ed7953"
            ],
            [
             0.7777777777777778,
             "#fb9f3a"
            ],
            [
             0.8888888888888888,
             "#fdca26"
            ],
            [
             1,
             "#f0f921"
            ]
           ]
          },
          "colorway": [
           "#636efa",
           "#EF553B",
           "#00cc96",
           "#ab63fa",
           "#FFA15A",
           "#19d3f3",
           "#FF6692",
           "#B6E880",
           "#FF97FF",
           "#FECB52"
          ],
          "font": {
           "color": "#2a3f5f"
          },
          "geo": {
           "bgcolor": "white",
           "lakecolor": "white",
           "landcolor": "#E5ECF6",
           "showlakes": true,
           "showland": true,
           "subunitcolor": "white"
          },
          "hoverlabel": {
           "align": "left"
          },
          "hovermode": "closest",
          "mapbox": {
           "style": "light"
          },
          "paper_bgcolor": "white",
          "plot_bgcolor": "#E5ECF6",
          "polar": {
           "angularaxis": {
            "gridcolor": "white",
            "linecolor": "white",
            "ticks": ""
           },
           "bgcolor": "#E5ECF6",
           "radialaxis": {
            "gridcolor": "white",
            "linecolor": "white",
            "ticks": ""
           }
          },
          "scene": {
           "xaxis": {
            "backgroundcolor": "#E5ECF6",
            "gridcolor": "white",
            "gridwidth": 2,
            "linecolor": "white",
            "showbackground": true,
            "ticks": "",
            "zerolinecolor": "white"
           },
           "yaxis": {
            "backgroundcolor": "#E5ECF6",
            "gridcolor": "white",
            "gridwidth": 2,
            "linecolor": "white",
            "showbackground": true,
            "ticks": "",
            "zerolinecolor": "white"
           },
           "zaxis": {
            "backgroundcolor": "#E5ECF6",
            "gridcolor": "white",
            "gridwidth": 2,
            "linecolor": "white",
            "showbackground": true,
            "ticks": "",
            "zerolinecolor": "white"
           }
          },
          "shapedefaults": {
           "line": {
            "color": "#2a3f5f"
           }
          },
          "ternary": {
           "aaxis": {
            "gridcolor": "white",
            "linecolor": "white",
            "ticks": ""
           },
           "baxis": {
            "gridcolor": "white",
            "linecolor": "white",
            "ticks": ""
           },
           "bgcolor": "#E5ECF6",
           "caxis": {
            "gridcolor": "white",
            "linecolor": "white",
            "ticks": ""
           }
          },
          "title": {
           "x": 0.05
          },
          "xaxis": {
           "automargin": true,
           "gridcolor": "white",
           "linecolor": "white",
           "ticks": "",
           "title": {
            "standoff": 15
           },
           "zerolinecolor": "white",
           "zerolinewidth": 2
          },
          "yaxis": {
           "automargin": true,
           "gridcolor": "white",
           "linecolor": "white",
           "ticks": "",
           "title": {
            "standoff": 15
           },
           "zerolinecolor": "white",
           "zerolinewidth": 2
          }
         }
        },
        "width": 600,
        "xaxis": {
         "linecolor": "black",
         "linewidth": 2,
         "showgrid": true,
         "showline": true,
         "title": {
          "text": "False Positive Rate"
         }
        },
        "yaxis": {
         "linecolor": "black",
         "linewidth": 2,
         "showgrid": false,
         "showline": true,
         "title": {
          "text": "True Positive Rate"
         }
        }
       }
      }
     },
     "metadata": {},
     "output_type": "display_data"
    }
   ],
   "source": [
    "from autorad.utils import io\n",
    "from autorad.visualization import plotly_utils\n",
    "from autorad.training.trainer import Inferrer\n",
    "\n",
    "best_params = io.load_json(result_dir / \"best_params.json\")\n",
    "inferrer = Inferrer(params=best_params, result_dir=result_dir)\n",
    "inferrer.fit_eval(feature_dataset, result_name=\"test\")\n",
    "\n",
    "results = pd.read_csv(result_dir / \"test.csv\")\n",
    "plotly_utils.plot_roc_curve(results.y_true, results.y_pred_proba)"
   ]
  },
  {
   "cell_type": "code",
   "execution_count": 97,
   "metadata": {},
   "outputs": [
    {
     "data": {
      "text/html": [
       "<div>\n",
       "<style scoped>\n",
       "    .dataframe tbody tr th:only-of-type {\n",
       "        vertical-align: middle;\n",
       "    }\n",
       "\n",
       "    .dataframe tbody tr th {\n",
       "        vertical-align: top;\n",
       "    }\n",
       "\n",
       "    .dataframe thead th {\n",
       "        text-align: right;\n",
       "    }\n",
       "</style>\n",
       "<table border=\"1\" class=\"dataframe\">\n",
       "  <thead>\n",
       "    <tr style=\"text-align: right;\">\n",
       "      <th></th>\n",
       "      <th>y_true</th>\n",
       "      <th>y_pred_proba</th>\n",
       "    </tr>\n",
       "  </thead>\n",
       "  <tbody>\n",
       "    <tr>\n",
       "      <th>0</th>\n",
       "      <td>1</td>\n",
       "      <td>0.960699</td>\n",
       "    </tr>\n",
       "    <tr>\n",
       "      <th>1</th>\n",
       "      <td>1</td>\n",
       "      <td>0.959114</td>\n",
       "    </tr>\n",
       "    <tr>\n",
       "      <th>2</th>\n",
       "      <td>1</td>\n",
       "      <td>0.942652</td>\n",
       "    </tr>\n",
       "    <tr>\n",
       "      <th>3</th>\n",
       "      <td>1</td>\n",
       "      <td>0.737638</td>\n",
       "    </tr>\n",
       "    <tr>\n",
       "      <th>4</th>\n",
       "      <td>1</td>\n",
       "      <td>0.243452</td>\n",
       "    </tr>\n",
       "    <tr>\n",
       "      <th>5</th>\n",
       "      <td>1</td>\n",
       "      <td>0.216666</td>\n",
       "    </tr>\n",
       "    <tr>\n",
       "      <th>6</th>\n",
       "      <td>1</td>\n",
       "      <td>0.132575</td>\n",
       "    </tr>\n",
       "    <tr>\n",
       "      <th>7</th>\n",
       "      <td>1</td>\n",
       "      <td>0.556299</td>\n",
       "    </tr>\n",
       "    <tr>\n",
       "      <th>8</th>\n",
       "      <td>1</td>\n",
       "      <td>0.767817</td>\n",
       "    </tr>\n",
       "    <tr>\n",
       "      <th>9</th>\n",
       "      <td>1</td>\n",
       "      <td>0.867902</td>\n",
       "    </tr>\n",
       "    <tr>\n",
       "      <th>10</th>\n",
       "      <td>1</td>\n",
       "      <td>0.555211</td>\n",
       "    </tr>\n",
       "    <tr>\n",
       "      <th>11</th>\n",
       "      <td>1</td>\n",
       "      <td>0.115236</td>\n",
       "    </tr>\n",
       "    <tr>\n",
       "      <th>12</th>\n",
       "      <td>1</td>\n",
       "      <td>0.564892</td>\n",
       "    </tr>\n",
       "    <tr>\n",
       "      <th>13</th>\n",
       "      <td>0</td>\n",
       "      <td>0.289203</td>\n",
       "    </tr>\n",
       "    <tr>\n",
       "      <th>14</th>\n",
       "      <td>0</td>\n",
       "      <td>0.460614</td>\n",
       "    </tr>\n",
       "    <tr>\n",
       "      <th>15</th>\n",
       "      <td>0</td>\n",
       "      <td>0.525244</td>\n",
       "    </tr>\n",
       "    <tr>\n",
       "      <th>16</th>\n",
       "      <td>0</td>\n",
       "      <td>0.113119</td>\n",
       "    </tr>\n",
       "    <tr>\n",
       "      <th>17</th>\n",
       "      <td>0</td>\n",
       "      <td>0.750951</td>\n",
       "    </tr>\n",
       "    <tr>\n",
       "      <th>18</th>\n",
       "      <td>0</td>\n",
       "      <td>0.224501</td>\n",
       "    </tr>\n",
       "    <tr>\n",
       "      <th>19</th>\n",
       "      <td>0</td>\n",
       "      <td>0.136935</td>\n",
       "    </tr>\n",
       "  </tbody>\n",
       "</table>\n",
       "</div>"
      ],
      "text/plain": [
       "    y_true  y_pred_proba\n",
       "0        1      0.960699\n",
       "1        1      0.959114\n",
       "2        1      0.942652\n",
       "3        1      0.737638\n",
       "4        1      0.243452\n",
       "5        1      0.216666\n",
       "6        1      0.132575\n",
       "7        1      0.556299\n",
       "8        1      0.767817\n",
       "9        1      0.867902\n",
       "10       1      0.555211\n",
       "11       1      0.115236\n",
       "12       1      0.564892\n",
       "13       0      0.289203\n",
       "14       0      0.460614\n",
       "15       0      0.525244\n",
       "16       0      0.113119\n",
       "17       0      0.750951\n",
       "18       0      0.224501\n",
       "19       0      0.136935"
      ]
     },
     "execution_count": 97,
     "metadata": {},
     "output_type": "execute_result"
    }
   ],
   "source": [
    "results"
   ]
  }
 ],
 "metadata": {
  "interpreter": {
   "hash": "378c3e272f986b76de7a813614cd4d6ba63a07672673e8c51c818cb6af86fa94"
  },
  "kernelspec": {
   "display_name": "Python 3.10.4 ('.venv': venv)",
   "language": "python",
   "name": "python3"
  },
  "language_info": {
   "codemirror_mode": {
    "name": "ipython",
    "version": 3
   },
   "file_extension": ".py",
   "mimetype": "text/x-python",
   "name": "python",
   "nbconvert_exporter": "python",
   "pygments_lexer": "ipython3",
   "version": "3.10.4"
  },
  "orig_nbformat": 4
 },
 "nbformat": 4,
 "nbformat_minor": 2
}
