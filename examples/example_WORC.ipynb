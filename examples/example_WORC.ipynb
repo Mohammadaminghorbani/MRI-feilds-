{
 "cells": [
  {
   "cell_type": "markdown",
   "metadata": {},
   "source": [
    "In this tutorial, we will analyze Desmoid dataset from the [WORC Database](https://github.com/MStarmans91/WORCDatabase/tree/development).\n",
    "\n",
    "The task is to correctly identify segmented lesions as either **desmoid-type fibromatosis** or **extremity soft-tissue sarcoma**.\n",
    "\n",
    "\n",
    "More details on the dataset as well as the original analysis performed by their authors can be found here:\n",
    "\n",
    "`Starmans, M. P. A. et al. (2021). The WORC* database: MRI and CT scans, segmentations, and clinical labels for 932 patients from six radiomics studies. Submitted, preprint available from https://doi.org/10.1101/2021.08.19.21262238`\n",
    "\n",
    "`The experiments are described in the following paper: Starmans, M. P. A. et al. (2021). Reproducible radiomics through automated machine learning validated on twelve clinical applications. Submitted, preprint available from https://arxiv.org/abs/2108.08618.`"
   ]
  },
  {
   "cell_type": "code",
   "execution_count": null,
   "metadata": {
    "scrolled": true
   },
   "outputs": [],
   "source": [
    "# In case you haven't installed AutoRadiomics\n",
    "%pip install autorad"
   ]
  },
  {
   "cell_type": "code",
   "execution_count": 1,
   "metadata": {},
   "outputs": [],
   "source": [
    "import pandas as pd\n",
    "from pathlib import Path\n",
    "from autorad.external.download_WORC import download_WORCDatabase\n",
    "\n",
    "# Set where we will save our data and results\n",
    "base_dir = Path.cwd() / \"autorad_tutorial\"\n",
    "data_dir = base_dir / \"data\"\n",
    "result_dir = base_dir / \"results\"\n",
    "data_dir.mkdir(exist_ok=True, parents=True)\n",
    "result_dir.mkdir(exist_ok=True, parents=True)\n",
    "\n",
    "%load_ext autoreload\n",
    "%autoreload 2"
   ]
  },
  {
   "cell_type": "code",
   "execution_count": 2,
   "metadata": {},
   "outputs": [
    {
     "name": "stdout",
     "output_type": "stream",
     "text": [
      "\tDownloading patient Desmoid-141, experiment Desmoid-141_MR, scan 1.\n"
     ]
    },
    {
     "name": "stderr",
     "output_type": "stream",
     "text": [
      "  7.3 MiB |    #                                                  |  17.9 MiB/s\n"
     ]
    },
    {
     "name": "stdout",
     "output_type": "stream",
     "text": [
      "\tDownloading patient Desmoid-088, experiment Desmoid-088_MR, scan 1.\n"
     ]
    },
    {
     "name": "stderr",
     "output_type": "stream",
     "text": [
      "  1.4 MiB |#                                                      |  21.6 MiB/s\n"
     ]
    },
    {
     "name": "stdout",
     "output_type": "stream",
     "text": [
      "\tDownloading patient Desmoid-108, experiment Desmoid-108_MR, scan 1.\n"
     ]
    },
    {
     "name": "stderr",
     "output_type": "stream",
     "text": [
      "  9.2 MiB |       #                                               |  12.0 MiB/s\n"
     ]
    },
    {
     "name": "stdout",
     "output_type": "stream",
     "text": [
      "\tDownloading patient Desmoid-040, experiment Desmoid-040_MR, scan 1.\n"
     ]
    },
    {
     "name": "stderr",
     "output_type": "stream",
     "text": [
      "  8.0 MiB |           #                                           |   7.1 MiB/s\n"
     ]
    },
    {
     "name": "stdout",
     "output_type": "stream",
     "text": [
      "\tDownloading patient Desmoid-096, experiment Desmoid-096_MR, scan 1.\n"
     ]
    },
    {
     "name": "stderr",
     "output_type": "stream",
     "text": [
      "  1.2 MiB | #                                                     |   7.8 MiB/s\n"
     ]
    },
    {
     "name": "stdout",
     "output_type": "stream",
     "text": [
      "\tDownloading patient Desmoid-037, experiment Desmoid-037_MR, scan 1.\n"
     ]
    },
    {
     "name": "stderr",
     "output_type": "stream",
     "text": [
      "  3.7 MiB |    #                                                  |   7.4 MiB/s\n"
     ]
    },
    {
     "name": "stdout",
     "output_type": "stream",
     "text": [
      "\tDownloading patient Desmoid-179, experiment Desmoid-179_MR, scan 1.\n"
     ]
    },
    {
     "name": "stderr",
     "output_type": "stream",
     "text": [
      "  3.7 MiB |    #                                                  |   7.8 MiB/s\n"
     ]
    },
    {
     "name": "stdout",
     "output_type": "stream",
     "text": [
      "\tDownloading patient Desmoid-056, experiment Desmoid-056_MR, scan 1.\n"
     ]
    },
    {
     "name": "stderr",
     "output_type": "stream",
     "text": [
      "879.9 KiB | #                                                     |   7.8 MiB/s\n"
     ]
    },
    {
     "name": "stdout",
     "output_type": "stream",
     "text": [
      "\tDownloading patient Desmoid-017, experiment Desmoid-017_MR, scan 1.\n"
     ]
    },
    {
     "name": "stderr",
     "output_type": "stream",
     "text": [
      "  1.4 MiB |  #                                                    |   6.6 MiB/s\n"
     ]
    },
    {
     "name": "stdout",
     "output_type": "stream",
     "text": [
      "\tDownloading patient Desmoid-109, experiment Desmoid-109_MR, scan 1.\n"
     ]
    },
    {
     "name": "stderr",
     "output_type": "stream",
     "text": [
      "  3.6 MiB |    #                                                  |   8.0 MiB/s\n"
     ]
    },
    {
     "name": "stdout",
     "output_type": "stream",
     "text": [
      "\tDownloading patient Desmoid-101, experiment Desmoid-101_MR, scan 1.\n"
     ]
    },
    {
     "name": "stderr",
     "output_type": "stream",
     "text": [
      "  2.5 MiB |  #                                                    |   8.0 MiB/s\n"
     ]
    },
    {
     "name": "stdout",
     "output_type": "stream",
     "text": [
      "\tDownloading patient Desmoid-113, experiment Desmoid-113_MR, scan 1.\n"
     ]
    },
    {
     "name": "stderr",
     "output_type": "stream",
     "text": [
      "  4.3 MiB | #                                                     |  31.9 MiB/s\n"
     ]
    },
    {
     "name": "stdout",
     "output_type": "stream",
     "text": [
      "\tDownloading patient Desmoid-115, experiment Desmoid-115_MR, scan 1.\n"
     ]
    },
    {
     "name": "stderr",
     "output_type": "stream",
     "text": [
      "  3.3 MiB | #                                                     |  25.4 MiB/s\n"
     ]
    },
    {
     "name": "stdout",
     "output_type": "stream",
     "text": [
      "\tDownloading patient Desmoid-194, experiment Desmoid-194_MR, scan 1.\n"
     ]
    },
    {
     "name": "stderr",
     "output_type": "stream",
     "text": [
      "  3.7 MiB | #                                                     |  24.5 MiB/s\n"
     ]
    },
    {
     "name": "stdout",
     "output_type": "stream",
     "text": [
      "\tDownloading patient Desmoid-162, experiment Desmoid-162_MR, scan 1.\n"
     ]
    },
    {
     "name": "stderr",
     "output_type": "stream",
     "text": [
      "  1.9 MiB |#                                                      |  33.5 MiB/s\n"
     ]
    },
    {
     "name": "stdout",
     "output_type": "stream",
     "text": [
      "\tDownloading patient Desmoid-111, experiment Desmoid-111_MR, scan 1.\n"
     ]
    },
    {
     "name": "stderr",
     "output_type": "stream",
     "text": [
      "  2.9 MiB |#                                                      |  32.2 MiB/s\n"
     ]
    },
    {
     "name": "stdout",
     "output_type": "stream",
     "text": [
      "\tDownloading patient Desmoid-038, experiment Desmoid-038_MR, scan 1.\n"
     ]
    },
    {
     "name": "stderr",
     "output_type": "stream",
     "text": [
      "  4.2 MiB | #                                                     |  27.6 MiB/s\n"
     ]
    },
    {
     "name": "stdout",
     "output_type": "stream",
     "text": [
      "\tDownloading patient Desmoid-130, experiment Desmoid-130_MR, scan 1.\n"
     ]
    },
    {
     "name": "stderr",
     "output_type": "stream",
     "text": [
      "  8.6 MiB |  #                                                    |  28.3 MiB/s\n"
     ]
    },
    {
     "name": "stdout",
     "output_type": "stream",
     "text": [
      "\tDownloading patient Desmoid-140, experiment Desmoid-140_MR, scan 1.\n"
     ]
    },
    {
     "name": "stderr",
     "output_type": "stream",
     "text": [
      "  7.9 MiB |  #                                                    |  30.1 MiB/s\n"
     ]
    },
    {
     "name": "stdout",
     "output_type": "stream",
     "text": [
      "\tDownloading patient Desmoid-076, experiment Desmoid-076_MR, scan 1.\n"
     ]
    },
    {
     "name": "stderr",
     "output_type": "stream",
     "text": [
      "  9.1 MiB |  #                                                    |  30.6 MiB/s\n"
     ]
    },
    {
     "name": "stdout",
     "output_type": "stream",
     "text": [
      "\tDownloading patient Desmoid-126, experiment Desmoid-126_MR, scan 1.\n"
     ]
    },
    {
     "name": "stderr",
     "output_type": "stream",
     "text": [
      " 10.6 MiB |   #                                                   |  29.5 MiB/s\n"
     ]
    },
    {
     "name": "stdout",
     "output_type": "stream",
     "text": [
      "\tDownloading patient Desmoid-006, experiment Desmoid-006_MR, scan 1.\n"
     ]
    },
    {
     "name": "stderr",
     "output_type": "stream",
     "text": [
      " 13.0 MiB |    #                                                  |  28.2 MiB/s\n"
     ]
    },
    {
     "name": "stdout",
     "output_type": "stream",
     "text": [
      "\tDownloading patient Desmoid-190, experiment Desmoid-190_MR, scan 1.\n"
     ]
    },
    {
     "name": "stderr",
     "output_type": "stream",
     "text": [
      "  5.9 MiB | #                                                     |  28.7 MiB/s\n"
     ]
    },
    {
     "name": "stdout",
     "output_type": "stream",
     "text": [
      "\tDownloading patient Desmoid-074, experiment Desmoid-074_MR, scan 1.\n"
     ]
    },
    {
     "name": "stderr",
     "output_type": "stream",
     "text": [
      "  3.0 MiB |#                                                      |  31.0 MiB/s\n"
     ]
    },
    {
     "name": "stdout",
     "output_type": "stream",
     "text": [
      "\tDownloading patient Desmoid-043, experiment Desmoid-043_MR, scan 1.\n"
     ]
    },
    {
     "name": "stderr",
     "output_type": "stream",
     "text": [
      "  5.2 MiB | #                                                     |  28.2 MiB/s\n"
     ]
    },
    {
     "name": "stdout",
     "output_type": "stream",
     "text": [
      "\tDownloading patient Desmoid-136, experiment Desmoid-136_MR, scan 1.\n"
     ]
    },
    {
     "name": "stderr",
     "output_type": "stream",
     "text": [
      "  2.0 MiB |#                                                      |  29.8 MiB/s\n"
     ]
    },
    {
     "name": "stdout",
     "output_type": "stream",
     "text": [
      "\tDownloading patient Desmoid-093, experiment Desmoid-093_MR, scan 1.\n"
     ]
    },
    {
     "name": "stderr",
     "output_type": "stream",
     "text": [
      "  2.0 MiB |  #                                                    |   9.1 MiB/s\n"
     ]
    },
    {
     "name": "stdout",
     "output_type": "stream",
     "text": [
      "\tDownloading patient Desmoid-014, experiment Desmoid-014_MR, scan 1.\n"
     ]
    },
    {
     "name": "stderr",
     "output_type": "stream",
     "text": [
      "  7.0 MiB |  #                                                    |  30.9 MiB/s\n"
     ]
    },
    {
     "name": "stdout",
     "output_type": "stream",
     "text": [
      "\tDownloading patient Desmoid-091, experiment Desmoid-091_MR, scan 1.\n"
     ]
    },
    {
     "name": "stderr",
     "output_type": "stream",
     "text": [
      "  1.2 MiB |#                                                      |  32.0 MiB/s\n"
     ]
    },
    {
     "name": "stdout",
     "output_type": "stream",
     "text": [
      "\tDownloading patient Desmoid-071, experiment Desmoid-071_MR, scan 1.\n"
     ]
    },
    {
     "name": "stderr",
     "output_type": "stream",
     "text": [
      "  5.3 MiB | #                                                     |  31.5 MiB/s\n"
     ]
    },
    {
     "name": "stdout",
     "output_type": "stream",
     "text": [
      "\tDownloading patient Desmoid-185, experiment Desmoid-185_MR, scan 1.\n"
     ]
    },
    {
     "name": "stderr",
     "output_type": "stream",
     "text": [
      "  4.1 MiB | #                                                     |  29.6 MiB/s\n"
     ]
    },
    {
     "name": "stdout",
     "output_type": "stream",
     "text": [
      "\tDownloading patient Desmoid-173, experiment Desmoid-173_MR, scan 1.\n"
     ]
    },
    {
     "name": "stderr",
     "output_type": "stream",
     "text": [
      " 13.1 MiB |      #                                                |  19.2 MiB/s\n",
      "  0.0 B |#                                                          |   0.0 s/B"
     ]
    },
    {
     "name": "stdout",
     "output_type": "stream",
     "text": [
      "\tDownloading patient Desmoid-114, experiment Desmoid-114_MR, scan 1.\n"
     ]
    },
    {
     "name": "stderr",
     "output_type": "stream",
     "text": [
      "  1.3 MiB |#                                                      |  20.0 MiB/s\n"
     ]
    },
    {
     "name": "stdout",
     "output_type": "stream",
     "text": [
      "\tDownloading patient Desmoid-084, experiment Desmoid-084_MR, scan 1.\n"
     ]
    },
    {
     "name": "stderr",
     "output_type": "stream",
     "text": [
      "  3.6 MiB | #                                                     |  21.2 MiB/s\n"
     ]
    },
    {
     "name": "stdout",
     "output_type": "stream",
     "text": [
      "\tDownloading patient Desmoid-199, experiment Desmoid-199_MR, scan 1.\n"
     ]
    },
    {
     "name": "stderr",
     "output_type": "stream",
     "text": [
      "  2.2 MiB | #                                                     |  21.7 MiB/s\n"
     ]
    },
    {
     "name": "stdout",
     "output_type": "stream",
     "text": [
      "\tDownloading patient Desmoid-054, experiment Desmoid-054_MR, scan 1.\n"
     ]
    },
    {
     "name": "stderr",
     "output_type": "stream",
     "text": [
      "  5.9 MiB |  #                                                    |  20.5 MiB/s\n"
     ]
    },
    {
     "name": "stdout",
     "output_type": "stream",
     "text": [
      "\tDownloading patient Desmoid-175, experiment Desmoid-175_MR, scan 1.\n"
     ]
    },
    {
     "name": "stderr",
     "output_type": "stream",
     "text": [
      "  5.3 MiB |  #                                                    |  21.2 MiB/s\n"
     ]
    },
    {
     "name": "stdout",
     "output_type": "stream",
     "text": [
      "\tDownloading patient Desmoid-055, experiment Desmoid-055_MR, scan 1.\n"
     ]
    },
    {
     "name": "stderr",
     "output_type": "stream",
     "text": [
      "  2.3 MiB | #                                                     |  21.2 MiB/s\n"
     ]
    },
    {
     "name": "stdout",
     "output_type": "stream",
     "text": [
      "\tDownloading patient Desmoid-016, experiment Desmoid-016_MR, scan 1.\n"
     ]
    },
    {
     "name": "stderr",
     "output_type": "stream",
     "text": [
      "  7.2 MiB |   #                                                   |  20.9 MiB/s\n"
     ]
    },
    {
     "name": "stdout",
     "output_type": "stream",
     "text": [
      "\tDownloading patient Desmoid-107, experiment Desmoid-107_MR, scan 1.\n"
     ]
    },
    {
     "name": "stderr",
     "output_type": "stream",
     "text": [
      " 19.5 MiB |          #                                            |  18.8 MiB/s\n"
     ]
    },
    {
     "name": "stdout",
     "output_type": "stream",
     "text": [
      "\tDownloading patient Desmoid-122, experiment Desmoid-122_MR, scan 1.\n"
     ]
    },
    {
     "name": "stderr",
     "output_type": "stream",
     "text": [
      " 11.1 MiB |          #                                            |   9.9 MiB/s\n"
     ]
    },
    {
     "name": "stdout",
     "output_type": "stream",
     "text": [
      "\tDownloading patient Desmoid-116, experiment Desmoid-116_MR, scan 1.\n"
     ]
    },
    {
     "name": "stderr",
     "output_type": "stream",
     "text": [
      "  5.4 MiB |    #                                                  |  10.9 MiB/s\n"
     ]
    },
    {
     "name": "stdout",
     "output_type": "stream",
     "text": [
      "\tDownloading patient Desmoid-154, experiment Desmoid-154_MR, scan 1.\n"
     ]
    },
    {
     "name": "stderr",
     "output_type": "stream",
     "text": [
      "  3.7 MiB |   #                                                   |  11.9 MiB/s\n"
     ]
    },
    {
     "name": "stdout",
     "output_type": "stream",
     "text": [
      "\tDownloading patient Desmoid-128, experiment Desmoid-128_MR, scan 1.\n"
     ]
    },
    {
     "name": "stderr",
     "output_type": "stream",
     "text": [
      "  5.7 MiB |      #                                                |   8.8 MiB/s\n"
     ]
    },
    {
     "name": "stdout",
     "output_type": "stream",
     "text": [
      "\tDownloading patient Desmoid-110, experiment Desmoid-110_MR, scan 1.\n"
     ]
    },
    {
     "name": "stderr",
     "output_type": "stream",
     "text": [
      " 11.0 MiB |        #                                              |  12.4 MiB/s\n"
     ]
    },
    {
     "name": "stdout",
     "output_type": "stream",
     "text": [
      "\tDownloading patient Desmoid-129, experiment Desmoid-129_MR, scan 1.\n"
     ]
    },
    {
     "name": "stderr",
     "output_type": "stream",
     "text": [
      "  4.8 MiB |   #                                                   |  13.2 MiB/s\n"
     ]
    },
    {
     "name": "stdout",
     "output_type": "stream",
     "text": [
      "\tDownloading patient Desmoid-171, experiment Desmoid-171_MR, scan 1.\n"
     ]
    },
    {
     "name": "stderr",
     "output_type": "stream",
     "text": [
      "  2.6 MiB | #                                                     |  17.7 MiB/s\n"
     ]
    },
    {
     "name": "stdout",
     "output_type": "stream",
     "text": [
      "\tDownloading patient Desmoid-147, experiment Desmoid-147_MR, scan 1.\n"
     ]
    },
    {
     "name": "stderr",
     "output_type": "stream",
     "text": [
      "  5.0 MiB |  #                                                    |  16.1 MiB/s\n",
      "  0.0 B |#                                                          |   0.0 s/B"
     ]
    },
    {
     "name": "stdout",
     "output_type": "stream",
     "text": [
      "\tDownloading patient Desmoid-028, experiment Desmoid-028_MR, scan 1.\n"
     ]
    },
    {
     "name": "stderr",
     "output_type": "stream",
     "text": [
      "  2.3 MiB | #                                                     |  19.6 MiB/s\n"
     ]
    },
    {
     "name": "stdout",
     "output_type": "stream",
     "text": [
      "\tDownloading patient Desmoid-153, experiment Desmoid-153_MR, scan 1.\n"
     ]
    },
    {
     "name": "stderr",
     "output_type": "stream",
     "text": [
      "889.7 KiB |#                                                      |  18.9 MiB/s\n"
     ]
    },
    {
     "name": "stdout",
     "output_type": "stream",
     "text": [
      "\tDownloading patient Desmoid-100, experiment Desmoid-100_MR, scan 1.\n"
     ]
    },
    {
     "name": "stderr",
     "output_type": "stream",
     "text": [
      "  2.0 MiB |#                                                      |  20.7 MiB/s\n"
     ]
    },
    {
     "name": "stdout",
     "output_type": "stream",
     "text": [
      "\tDownloading patient Desmoid-119, experiment Desmoid-119_MR, scan 1.\n"
     ]
    },
    {
     "name": "stderr",
     "output_type": "stream",
     "text": [
      "  6.2 MiB |   #                                                   |  19.0 MiB/s\n"
     ]
    },
    {
     "name": "stdout",
     "output_type": "stream",
     "text": [
      "\tDownloading patient Desmoid-180, experiment Desmoid-180_MR, scan 1.\n"
     ]
    },
    {
     "name": "stderr",
     "output_type": "stream",
     "text": [
      "  2.2 MiB | #                                                     |  20.3 MiB/s\n"
     ]
    },
    {
     "name": "stdout",
     "output_type": "stream",
     "text": [
      "\tDownloading patient Desmoid-030, experiment Desmoid-030_MR, scan 1.\n"
     ]
    },
    {
     "name": "stderr",
     "output_type": "stream",
     "text": [
      "  4.0 MiB | #                                                     |  23.2 MiB/s\n"
     ]
    },
    {
     "name": "stdout",
     "output_type": "stream",
     "text": [
      "\tDownloading patient Desmoid-022, experiment Desmoid-022_MR, scan 1.\n"
     ]
    },
    {
     "name": "stderr",
     "output_type": "stream",
     "text": [
      "  5.3 MiB |  #                                                    |  24.7 MiB/s\n"
     ]
    },
    {
     "name": "stdout",
     "output_type": "stream",
     "text": [
      "\tDownloading patient Desmoid-078, experiment Desmoid-078_MR, scan 1.\n"
     ]
    },
    {
     "name": "stderr",
     "output_type": "stream",
     "text": [
      "  6.7 MiB |  #                                                    |  25.3 MiB/s\n",
      "  0.0 B |#                                                          |   0.0 s/B"
     ]
    },
    {
     "name": "stdout",
     "output_type": "stream",
     "text": [
      "\tDownloading patient Desmoid-182, experiment Desmoid-182_MR, scan 1.\n"
     ]
    },
    {
     "name": "stderr",
     "output_type": "stream",
     "text": [
      "  1.5 MiB |#                                                      |  25.9 MiB/s\n"
     ]
    },
    {
     "name": "stdout",
     "output_type": "stream",
     "text": [
      "\tDownloading patient Desmoid-163, experiment Desmoid-163_MR, scan 1.\n"
     ]
    },
    {
     "name": "stderr",
     "output_type": "stream",
     "text": [
      "  5.2 MiB | #                                                     |  24.2 MiB/s\n"
     ]
    },
    {
     "name": "stdout",
     "output_type": "stream",
     "text": [
      "\tDownloading patient Desmoid-172, experiment Desmoid-172_MR, scan 1.\n"
     ]
    },
    {
     "name": "stderr",
     "output_type": "stream",
     "text": [
      "  8.9 MiB |   #                                                   |  26.4 MiB/s\n"
     ]
    },
    {
     "name": "stdout",
     "output_type": "stream",
     "text": [
      "\tDownloading patient Desmoid-079, experiment Desmoid-079_MR, scan 1.\n"
     ]
    },
    {
     "name": "stderr",
     "output_type": "stream",
     "text": [
      "  1.3 MiB |#                                                      |  27.4 MiB/s\n"
     ]
    },
    {
     "name": "stdout",
     "output_type": "stream",
     "text": [
      "\tDownloading patient Desmoid-023, experiment Desmoid-023_MR, scan 1.\n"
     ]
    },
    {
     "name": "stderr",
     "output_type": "stream",
     "text": [
      " 14.8 MiB |             #                                         |  10.9 MiB/s\n"
     ]
    },
    {
     "name": "stdout",
     "output_type": "stream",
     "text": [
      "\tDownloading patient Desmoid-195, experiment Desmoid-195_MR, scan 1.\n"
     ]
    },
    {
     "name": "stderr",
     "output_type": "stream",
     "text": [
      "876.3 KiB |#                                                      |  18.5 MiB/s\n"
     ]
    },
    {
     "name": "stdout",
     "output_type": "stream",
     "text": [
      "\tDownloading patient Desmoid-169, experiment Desmoid-169_MR, scan 1.\n"
     ]
    },
    {
     "name": "stderr",
     "output_type": "stream",
     "text": [
      " 10.5 MiB |        #                                              |  12.4 MiB/s\n"
     ]
    },
    {
     "name": "stdout",
     "output_type": "stream",
     "text": [
      "\tDownloading patient Desmoid-095, experiment Desmoid-095_MR, scan 1.\n"
     ]
    },
    {
     "name": "stderr",
     "output_type": "stream",
     "text": [
      "440.4 KiB |#                                                      |  28.3 MiB/s\n"
     ]
    },
    {
     "name": "stdout",
     "output_type": "stream",
     "text": [
      "\tDownloading patient Desmoid-068, experiment Desmoid-068_MR, scan 1.\n"
     ]
    },
    {
     "name": "stderr",
     "output_type": "stream",
     "text": [
      "  3.3 MiB |    #                                                  |   7.1 MiB/s\n"
     ]
    },
    {
     "name": "stdout",
     "output_type": "stream",
     "text": [
      "\tDownloading patient Desmoid-102, experiment Desmoid-102_MR, scan 1.\n"
     ]
    },
    {
     "name": "stderr",
     "output_type": "stream",
     "text": [
      "  6.2 MiB |           #                                           |   5.1 MiB/s\n"
     ]
    },
    {
     "name": "stdout",
     "output_type": "stream",
     "text": [
      "\tDownloading patient Desmoid-059, experiment Desmoid-059_MR, scan 1.\n"
     ]
    },
    {
     "name": "stderr",
     "output_type": "stream",
     "text": [
      "  1.7 MiB |   #                                                   |   5.2 MiB/s\n"
     ]
    },
    {
     "name": "stdout",
     "output_type": "stream",
     "text": [
      "\tDownloading patient Desmoid-184, experiment Desmoid-184_MR, scan 1.\n"
     ]
    },
    {
     "name": "stderr",
     "output_type": "stream",
     "text": [
      "  6.7 MiB |           #                                           |   5.7 MiB/s\n"
     ]
    },
    {
     "name": "stdout",
     "output_type": "stream",
     "text": [
      "\tDownloading patient Desmoid-025, experiment Desmoid-025_MR, scan 1.\n"
     ]
    },
    {
     "name": "stderr",
     "output_type": "stream",
     "text": [
      "  1.7 MiB |  #                                                    |   6.0 MiB/s\n"
     ]
    },
    {
     "name": "stdout",
     "output_type": "stream",
     "text": [
      "\tDownloading patient Desmoid-112, experiment Desmoid-112_MR, scan 1.\n"
     ]
    },
    {
     "name": "stderr",
     "output_type": "stream",
     "text": [
      "  1.5 MiB |  #                                                    |   6.2 MiB/s\n"
     ]
    },
    {
     "name": "stdout",
     "output_type": "stream",
     "text": [
      "\tDownloading patient Desmoid-177, experiment Desmoid-177_MR, scan 1.\n"
     ]
    },
    {
     "name": "stderr",
     "output_type": "stream",
     "text": [
      "  3.8 MiB |      #                                                |   6.0 MiB/s\n",
      "  0.0 B |#                                                          |   0.0 s/B"
     ]
    },
    {
     "name": "stdout",
     "output_type": "stream",
     "text": [
      "\tDownloading patient Desmoid-104, experiment Desmoid-104_MR, scan 1.\n"
     ]
    },
    {
     "name": "stderr",
     "output_type": "stream",
     "text": [
      "  1.3 MiB | #                                                     |   7.6 MiB/s\n"
     ]
    },
    {
     "name": "stdout",
     "output_type": "stream",
     "text": [
      "\tDownloading patient Desmoid-166, experiment Desmoid-166_MR, scan 1.\n"
     ]
    },
    {
     "name": "stderr",
     "output_type": "stream",
     "text": [
      "  6.6 MiB |         #                                             |   6.9 MiB/s\n"
     ]
    },
    {
     "name": "stdout",
     "output_type": "stream",
     "text": [
      "\tDownloading patient Desmoid-062, experiment Desmoid-062_MR, scan 1.\n"
     ]
    },
    {
     "name": "stderr",
     "output_type": "stream",
     "text": [
      "  4.7 MiB |      #                                                |   7.3 MiB/s\n"
     ]
    },
    {
     "name": "stdout",
     "output_type": "stream",
     "text": [
      "\tDownloading patient Desmoid-193, experiment Desmoid-193_MR, scan 1.\n"
     ]
    },
    {
     "name": "stderr",
     "output_type": "stream",
     "text": [
      "  7.9 MiB |          #                                            |   7.5 MiB/s\n"
     ]
    },
    {
     "name": "stdout",
     "output_type": "stream",
     "text": [
      "\tDownloading patient Desmoid-046, experiment Desmoid-046_MR, scan 1.\n"
     ]
    },
    {
     "name": "stderr",
     "output_type": "stream",
     "text": [
      " 15.8 MiB |                            #                          |   5.7 MiB/s\n"
     ]
    },
    {
     "name": "stdout",
     "output_type": "stream",
     "text": [
      "\tDownloading patient Desmoid-024, experiment Desmoid-024_MR, scan 1.\n"
     ]
    },
    {
     "name": "stderr",
     "output_type": "stream",
     "text": [
      "  1.4 MiB |   #                                                   |   4.3 MiB/s\n"
     ]
    },
    {
     "name": "stdout",
     "output_type": "stream",
     "text": [
      "\tDownloading patient Desmoid-021, experiment Desmoid-021_MR, scan 1.\n"
     ]
    },
    {
     "name": "stderr",
     "output_type": "stream",
     "text": [
      "  1.1 MiB | #                                                     |   5.4 MiB/s\n"
     ]
    },
    {
     "name": "stdout",
     "output_type": "stream",
     "text": [
      "\tDownloading patient Desmoid-121, experiment Desmoid-121_MR, scan 1.\n"
     ]
    },
    {
     "name": "stderr",
     "output_type": "stream",
     "text": [
      "  5.6 MiB |        #                                              |   6.8 MiB/s\n"
     ]
    },
    {
     "name": "stdout",
     "output_type": "stream",
     "text": [
      "\tDownloading patient Desmoid-183, experiment Desmoid-183_MR, scan 1.\n"
     ]
    },
    {
     "name": "stderr",
     "output_type": "stream",
     "text": [
      " 14.3 MiB |               #                                       |   9.1 MiB/s\n"
     ]
    },
    {
     "name": "stdout",
     "output_type": "stream",
     "text": [
      "\tDownloading patient Desmoid-170, experiment Desmoid-170_MR, scan 1.\n"
     ]
    },
    {
     "name": "stderr",
     "output_type": "stream",
     "text": [
      "  3.8 MiB |   #                                                   |   9.7 MiB/s\n"
     ]
    },
    {
     "name": "stdout",
     "output_type": "stream",
     "text": [
      "\tDownloading patient Desmoid-198, experiment Desmoid-198_MR, scan 1.\n"
     ]
    },
    {
     "name": "stderr",
     "output_type": "stream",
     "text": [
      "  5.7 MiB |     #                                                 |  11.0 MiB/s\n"
     ]
    },
    {
     "name": "stdout",
     "output_type": "stream",
     "text": [
      "\tDownloading patient Desmoid-150, experiment Desmoid-150_MR, scan 1.\n"
     ]
    },
    {
     "name": "stderr",
     "output_type": "stream",
     "text": [
      "  6.1 MiB |    #                                                  |  12.6 MiB/s\n"
     ]
    },
    {
     "name": "stdout",
     "output_type": "stream",
     "text": [
      "\tDownloading patient Desmoid-103, experiment Desmoid-103_MR, scan 1.\n"
     ]
    },
    {
     "name": "stderr",
     "output_type": "stream",
     "text": [
      "  5.9 MiB |   #                                                   |  17.0 MiB/s\n"
     ]
    },
    {
     "name": "stdout",
     "output_type": "stream",
     "text": [
      "\tDownloading patient Desmoid-026, experiment Desmoid-026_MR, scan 1.\n"
     ]
    },
    {
     "name": "stderr",
     "output_type": "stream",
     "text": [
      "  3.7 MiB |  #                                                    |  15.4 MiB/s\n"
     ]
    },
    {
     "name": "stdout",
     "output_type": "stream",
     "text": [
      "\tDownloading patient Desmoid-098, experiment Desmoid-098_MR, scan 1.\n"
     ]
    },
    {
     "name": "stderr",
     "output_type": "stream",
     "text": [
      "  6.7 MiB |   #                                                   |  19.8 MiB/s\n"
     ]
    },
    {
     "name": "stdout",
     "output_type": "stream",
     "text": [
      "\tDownloading patient Desmoid-004, experiment Desmoid-004_MR, scan 1.\n"
     ]
    },
    {
     "name": "stderr",
     "output_type": "stream",
     "text": [
      "  7.4 MiB |   #                                                   |  19.2 MiB/s\n"
     ]
    },
    {
     "name": "stdout",
     "output_type": "stream",
     "text": [
      "\tDownloading patient Desmoid-165, experiment Desmoid-165_MR, scan 1.\n"
     ]
    },
    {
     "name": "stderr",
     "output_type": "stream",
     "text": [
      "  9.2 MiB |     #                                                 |  17.7 MiB/s\n"
     ]
    },
    {
     "name": "stdout",
     "output_type": "stream",
     "text": [
      "\tDownloading patient Desmoid-189, experiment Desmoid-189_MR, scan 1.\n"
     ]
    },
    {
     "name": "stderr",
     "output_type": "stream",
     "text": [
      "  8.9 MiB |    #                                                  |  19.8 MiB/s\n"
     ]
    },
    {
     "name": "stdout",
     "output_type": "stream",
     "text": [
      "\tDownloading patient Desmoid-159, experiment Desmoid-159_MR, scan 1.\n"
     ]
    },
    {
     "name": "stderr",
     "output_type": "stream",
     "text": [
      "  3.8 MiB | #                                                     |  23.5 MiB/s\n",
      "  0.0 B |#                                                          |   0.0 s/B"
     ]
    },
    {
     "name": "stdout",
     "output_type": "stream",
     "text": [
      "\tDownloading patient Desmoid-009, experiment Desmoid-009_MR, scan 1.\n"
     ]
    },
    {
     "name": "stderr",
     "output_type": "stream",
     "text": [
      "  1.6 MiB |#                                                      |  24.9 MiB/s\n"
     ]
    },
    {
     "name": "stdout",
     "output_type": "stream",
     "text": [
      "\tDownloading patient Desmoid-011, experiment Desmoid-011_MR, scan 1.\n"
     ]
    },
    {
     "name": "stderr",
     "output_type": "stream",
     "text": [
      "  1.1 MiB |#                                                      |  20.7 MiB/s\n"
     ]
    },
    {
     "name": "stdout",
     "output_type": "stream",
     "text": [
      "\tDownloading patient Desmoid-039, experiment Desmoid-039_MR, scan 1.\n"
     ]
    },
    {
     "name": "stderr",
     "output_type": "stream",
     "text": [
      "  3.8 MiB | #                                                     |  24.3 MiB/s\n"
     ]
    },
    {
     "name": "stdout",
     "output_type": "stream",
     "text": [
      "\tDownloading patient Desmoid-060, experiment Desmoid-060_MR, scan 1.\n"
     ]
    },
    {
     "name": "stderr",
     "output_type": "stream",
     "text": [
      "  5.1 MiB |    #                                                  |  11.4 MiB/s\n"
     ]
    },
    {
     "name": "stdout",
     "output_type": "stream",
     "text": [
      "\tDownloading patient Desmoid-152, experiment Desmoid-152_MR, scan 1.\n"
     ]
    },
    {
     "name": "stderr",
     "output_type": "stream",
     "text": [
      "  3.9 MiB |  #                                                    |  18.2 MiB/s\n"
     ]
    },
    {
     "name": "stdout",
     "output_type": "stream",
     "text": [
      "\tDownloading patient Desmoid-201, experiment Desmoid-201_MR, scan 1.\n"
     ]
    },
    {
     "name": "stderr",
     "output_type": "stream",
     "text": [
      " 10.5 MiB |      #                                                |  17.0 MiB/s\n"
     ]
    },
    {
     "name": "stdout",
     "output_type": "stream",
     "text": [
      "\tDownloading patient Desmoid-134, experiment Desmoid-134_MR, scan 1.\n"
     ]
    },
    {
     "name": "stderr",
     "output_type": "stream",
     "text": [
      "  3.0 MiB | #                                                     |  23.4 MiB/s\n"
     ]
    },
    {
     "name": "stdout",
     "output_type": "stream",
     "text": [
      "\tDownloading patient Desmoid-082, experiment Desmoid-082_MR, scan 1.\n"
     ]
    },
    {
     "name": "stderr",
     "output_type": "stream",
     "text": [
      " 10.0 MiB |     #                                                 |  16.7 MiB/s\n"
     ]
    },
    {
     "name": "stdout",
     "output_type": "stream",
     "text": [
      "\tDownloading patient Desmoid-174, experiment Desmoid-174_MR, scan 1.\n"
     ]
    },
    {
     "name": "stderr",
     "output_type": "stream",
     "text": [
      "  3.0 MiB | #                                                     |  19.0 MiB/s\n"
     ]
    },
    {
     "name": "stdout",
     "output_type": "stream",
     "text": [
      "\tDownloading patient Desmoid-036, experiment Desmoid-036_MR, scan 1.\n"
     ]
    },
    {
     "name": "stderr",
     "output_type": "stream",
     "text": [
      " 15.5 MiB |         #                                             |  16.6 MiB/s\n"
     ]
    },
    {
     "name": "stdout",
     "output_type": "stream",
     "text": [
      "Done downloading!\n"
     ]
    }
   ],
   "source": [
    "# download data (it may take a few minutes)\n",
    "download_WORCDatabase(\n",
    "    dataset=\"Desmoid\",\n",
    "    data_folder=data_dir,\n",
    "    n_subjects=100,\n",
    "    )"
   ]
  },
  {
   "cell_type": "code",
   "execution_count": 2,
   "metadata": {},
   "outputs": [
    {
     "name": "stdout",
     "output_type": "stream",
     "text": [
      "\u001b[1m\u001b[36mDesmoid-004\u001b[m\u001b[m \u001b[1m\u001b[36mDesmoid-038\u001b[m\u001b[m \u001b[1m\u001b[36mDesmoid-082\u001b[m\u001b[m \u001b[1m\u001b[36mDesmoid-111\u001b[m\u001b[m \u001b[1m\u001b[36mDesmoid-147\u001b[m\u001b[m \u001b[1m\u001b[36mDesmoid-177\u001b[m\u001b[m\n",
      "\u001b[1m\u001b[36mDesmoid-006\u001b[m\u001b[m \u001b[1m\u001b[36mDesmoid-039\u001b[m\u001b[m \u001b[1m\u001b[36mDesmoid-084\u001b[m\u001b[m \u001b[1m\u001b[36mDesmoid-112\u001b[m\u001b[m \u001b[1m\u001b[36mDesmoid-150\u001b[m\u001b[m \u001b[1m\u001b[36mDesmoid-179\u001b[m\u001b[m\n",
      "\u001b[1m\u001b[36mDesmoid-009\u001b[m\u001b[m \u001b[1m\u001b[36mDesmoid-040\u001b[m\u001b[m \u001b[1m\u001b[36mDesmoid-088\u001b[m\u001b[m \u001b[1m\u001b[36mDesmoid-113\u001b[m\u001b[m \u001b[1m\u001b[36mDesmoid-152\u001b[m\u001b[m \u001b[1m\u001b[36mDesmoid-180\u001b[m\u001b[m\n",
      "\u001b[1m\u001b[36mDesmoid-011\u001b[m\u001b[m \u001b[1m\u001b[36mDesmoid-043\u001b[m\u001b[m \u001b[1m\u001b[36mDesmoid-091\u001b[m\u001b[m \u001b[1m\u001b[36mDesmoid-114\u001b[m\u001b[m \u001b[1m\u001b[36mDesmoid-153\u001b[m\u001b[m \u001b[1m\u001b[36mDesmoid-182\u001b[m\u001b[m\n",
      "\u001b[1m\u001b[36mDesmoid-014\u001b[m\u001b[m \u001b[1m\u001b[36mDesmoid-046\u001b[m\u001b[m \u001b[1m\u001b[36mDesmoid-093\u001b[m\u001b[m \u001b[1m\u001b[36mDesmoid-115\u001b[m\u001b[m \u001b[1m\u001b[36mDesmoid-154\u001b[m\u001b[m \u001b[1m\u001b[36mDesmoid-183\u001b[m\u001b[m\n",
      "\u001b[1m\u001b[36mDesmoid-016\u001b[m\u001b[m \u001b[1m\u001b[36mDesmoid-054\u001b[m\u001b[m \u001b[1m\u001b[36mDesmoid-095\u001b[m\u001b[m \u001b[1m\u001b[36mDesmoid-116\u001b[m\u001b[m \u001b[1m\u001b[36mDesmoid-159\u001b[m\u001b[m \u001b[1m\u001b[36mDesmoid-184\u001b[m\u001b[m\n",
      "\u001b[1m\u001b[36mDesmoid-017\u001b[m\u001b[m \u001b[1m\u001b[36mDesmoid-055\u001b[m\u001b[m \u001b[1m\u001b[36mDesmoid-096\u001b[m\u001b[m \u001b[1m\u001b[36mDesmoid-119\u001b[m\u001b[m \u001b[1m\u001b[36mDesmoid-162\u001b[m\u001b[m \u001b[1m\u001b[36mDesmoid-185\u001b[m\u001b[m\n",
      "\u001b[1m\u001b[36mDesmoid-021\u001b[m\u001b[m \u001b[1m\u001b[36mDesmoid-056\u001b[m\u001b[m \u001b[1m\u001b[36mDesmoid-098\u001b[m\u001b[m \u001b[1m\u001b[36mDesmoid-121\u001b[m\u001b[m \u001b[1m\u001b[36mDesmoid-163\u001b[m\u001b[m \u001b[1m\u001b[36mDesmoid-189\u001b[m\u001b[m\n",
      "\u001b[1m\u001b[36mDesmoid-022\u001b[m\u001b[m \u001b[1m\u001b[36mDesmoid-059\u001b[m\u001b[m \u001b[1m\u001b[36mDesmoid-100\u001b[m\u001b[m \u001b[1m\u001b[36mDesmoid-122\u001b[m\u001b[m \u001b[1m\u001b[36mDesmoid-165\u001b[m\u001b[m \u001b[1m\u001b[36mDesmoid-190\u001b[m\u001b[m\n",
      "\u001b[1m\u001b[36mDesmoid-023\u001b[m\u001b[m \u001b[1m\u001b[36mDesmoid-060\u001b[m\u001b[m \u001b[1m\u001b[36mDesmoid-101\u001b[m\u001b[m \u001b[1m\u001b[36mDesmoid-126\u001b[m\u001b[m \u001b[1m\u001b[36mDesmoid-166\u001b[m\u001b[m \u001b[1m\u001b[36mDesmoid-193\u001b[m\u001b[m\n",
      "\u001b[1m\u001b[36mDesmoid-024\u001b[m\u001b[m \u001b[1m\u001b[36mDesmoid-062\u001b[m\u001b[m \u001b[1m\u001b[36mDesmoid-102\u001b[m\u001b[m \u001b[1m\u001b[36mDesmoid-128\u001b[m\u001b[m \u001b[1m\u001b[36mDesmoid-169\u001b[m\u001b[m \u001b[1m\u001b[36mDesmoid-194\u001b[m\u001b[m\n",
      "\u001b[1m\u001b[36mDesmoid-025\u001b[m\u001b[m \u001b[1m\u001b[36mDesmoid-068\u001b[m\u001b[m \u001b[1m\u001b[36mDesmoid-103\u001b[m\u001b[m \u001b[1m\u001b[36mDesmoid-129\u001b[m\u001b[m \u001b[1m\u001b[36mDesmoid-170\u001b[m\u001b[m \u001b[1m\u001b[36mDesmoid-195\u001b[m\u001b[m\n",
      "\u001b[1m\u001b[36mDesmoid-026\u001b[m\u001b[m \u001b[1m\u001b[36mDesmoid-071\u001b[m\u001b[m \u001b[1m\u001b[36mDesmoid-104\u001b[m\u001b[m \u001b[1m\u001b[36mDesmoid-130\u001b[m\u001b[m \u001b[1m\u001b[36mDesmoid-171\u001b[m\u001b[m \u001b[1m\u001b[36mDesmoid-198\u001b[m\u001b[m\n",
      "\u001b[1m\u001b[36mDesmoid-028\u001b[m\u001b[m \u001b[1m\u001b[36mDesmoid-074\u001b[m\u001b[m \u001b[1m\u001b[36mDesmoid-107\u001b[m\u001b[m \u001b[1m\u001b[36mDesmoid-134\u001b[m\u001b[m \u001b[1m\u001b[36mDesmoid-172\u001b[m\u001b[m \u001b[1m\u001b[36mDesmoid-199\u001b[m\u001b[m\n",
      "\u001b[1m\u001b[36mDesmoid-030\u001b[m\u001b[m \u001b[1m\u001b[36mDesmoid-076\u001b[m\u001b[m \u001b[1m\u001b[36mDesmoid-108\u001b[m\u001b[m \u001b[1m\u001b[36mDesmoid-136\u001b[m\u001b[m \u001b[1m\u001b[36mDesmoid-173\u001b[m\u001b[m \u001b[1m\u001b[36mDesmoid-201\u001b[m\u001b[m\n",
      "\u001b[1m\u001b[36mDesmoid-036\u001b[m\u001b[m \u001b[1m\u001b[36mDesmoid-078\u001b[m\u001b[m \u001b[1m\u001b[36mDesmoid-109\u001b[m\u001b[m \u001b[1m\u001b[36mDesmoid-140\u001b[m\u001b[m \u001b[1m\u001b[36mDesmoid-174\u001b[m\u001b[m labels.csv\n",
      "\u001b[1m\u001b[36mDesmoid-037\u001b[m\u001b[m \u001b[1m\u001b[36mDesmoid-079\u001b[m\u001b[m \u001b[1m\u001b[36mDesmoid-110\u001b[m\u001b[m \u001b[1m\u001b[36mDesmoid-141\u001b[m\u001b[m \u001b[1m\u001b[36mDesmoid-175\u001b[m\u001b[m\n"
     ]
    }
   ],
   "source": [
    "!ls $data_dir"
   ]
  },
  {
   "cell_type": "code",
   "execution_count": 3,
   "metadata": {},
   "outputs": [
    {
     "data": {
      "text/html": [
       "<div>\n",
       "<style scoped>\n",
       "    .dataframe tbody tr th:only-of-type {\n",
       "        vertical-align: middle;\n",
       "    }\n",
       "\n",
       "    .dataframe tbody tr th {\n",
       "        vertical-align: top;\n",
       "    }\n",
       "\n",
       "    .dataframe thead th {\n",
       "        text-align: right;\n",
       "    }\n",
       "</style>\n",
       "<table border=\"1\" class=\"dataframe\">\n",
       "  <thead>\n",
       "    <tr style=\"text-align: right;\">\n",
       "      <th></th>\n",
       "      <th>ID</th>\n",
       "      <th>image_path</th>\n",
       "      <th>segmentation_path</th>\n",
       "    </tr>\n",
       "  </thead>\n",
       "  <tbody>\n",
       "    <tr>\n",
       "      <th>13</th>\n",
       "      <td>Desmoid-165</td>\n",
       "      <td>Desmoid-165/image.nii.gz</td>\n",
       "      <td>Desmoid-165/segmentation.nii.gz</td>\n",
       "    </tr>\n",
       "    <tr>\n",
       "      <th>35</th>\n",
       "      <td>Desmoid-113</td>\n",
       "      <td>Desmoid-113/image.nii.gz</td>\n",
       "      <td>Desmoid-113/segmentation.nii.gz</td>\n",
       "    </tr>\n",
       "    <tr>\n",
       "      <th>99</th>\n",
       "      <td>Desmoid-039</td>\n",
       "      <td>Desmoid-039/image.nii.gz</td>\n",
       "      <td>Desmoid-039/segmentation.nii.gz</td>\n",
       "    </tr>\n",
       "    <tr>\n",
       "      <th>46</th>\n",
       "      <td>Desmoid-056</td>\n",
       "      <td>Desmoid-056/image.nii.gz</td>\n",
       "      <td>Desmoid-056/segmentation.nii.gz</td>\n",
       "    </tr>\n",
       "    <tr>\n",
       "      <th>84</th>\n",
       "      <td>Desmoid-119</td>\n",
       "      <td>Desmoid-119/image.nii.gz</td>\n",
       "      <td>Desmoid-119/segmentation.nii.gz</td>\n",
       "    </tr>\n",
       "  </tbody>\n",
       "</table>\n",
       "</div>"
      ],
      "text/plain": [
       "             ID                image_path                segmentation_path\n",
       "13  Desmoid-165  Desmoid-165/image.nii.gz  Desmoid-165/segmentation.nii.gz\n",
       "35  Desmoid-113  Desmoid-113/image.nii.gz  Desmoid-113/segmentation.nii.gz\n",
       "99  Desmoid-039  Desmoid-039/image.nii.gz  Desmoid-039/segmentation.nii.gz\n",
       "46  Desmoid-056  Desmoid-056/image.nii.gz  Desmoid-056/segmentation.nii.gz\n",
       "84  Desmoid-119  Desmoid-119/image.nii.gz  Desmoid-119/segmentation.nii.gz"
      ]
     },
     "execution_count": 3,
     "metadata": {},
     "output_type": "execute_result"
    }
   ],
   "source": [
    "from autorad.utils.preprocessing import get_paths_with_separate_folder_per_case\n",
    "\n",
    "# create a table with all the paths\n",
    "paths_df = get_paths_with_separate_folder_per_case(data_dir, relative=True)\n",
    "paths_df.sample(5)"
   ]
  },
  {
   "cell_type": "code",
   "execution_count": 4,
   "metadata": {},
   "outputs": [
    {
     "data": {
      "image/png": "[encoded data removed]",
      "text/plain": [
       "<Figure size 2000x700 with 10 Axes>"
      ]
     },
     "metadata": {},
     "output_type": "display_data"
    }
   ],
   "source": [
    "from autorad.data.dataset import ImageDataset\n",
    "from autorad.feature_extraction.extractor import FeatureExtractor\n",
    "import logging\n",
    "\n",
    "logging.getLogger().setLevel(logging.CRITICAL)\n",
    "\n",
    "image_dataset = ImageDataset(\n",
    "    paths_df,\n",
    "    ID_colname=\"ID\",\n",
    "    root_dir=data_dir,\n",
    ")\n",
    "\n",
    "# Let's take a look at the data, plotting random 10 cases\n",
    "image_dataset.plot_examples(n=10, window=None)"
   ]
  },
  {
   "cell_type": "code",
   "execution_count": 5,
   "metadata": {},
   "outputs": [
    {
     "name": "stderr",
     "output_type": "stream",
     "text": [
      "100it [01:17,  1.29it/s]\n"
     ]
    }
   ],
   "source": [
    "extractor = FeatureExtractor(image_dataset, extraction_params=\"MR_default.yaml\")\n",
    "feature_df = extractor.run()"
   ]
  },
  {
   "cell_type": "code",
   "execution_count": 6,
   "metadata": {},
   "outputs": [
    {
     "data": {
      "text/html": [
       "<div>\n",
       "<style scoped>\n",
       "    .dataframe tbody tr th:only-of-type {\n",
       "        vertical-align: middle;\n",
       "    }\n",
       "\n",
       "    .dataframe tbody tr th {\n",
       "        vertical-align: top;\n",
       "    }\n",
       "\n",
       "    .dataframe thead th {\n",
       "        text-align: right;\n",
       "    }\n",
       "</style>\n",
       "<table border=\"1\" class=\"dataframe\">\n",
       "  <thead>\n",
       "    <tr style=\"text-align: right;\">\n",
       "      <th></th>\n",
       "      <th>ID</th>\n",
       "      <th>image_path</th>\n",
       "      <th>segmentation_path</th>\n",
       "      <th>original_shape_Elongation</th>\n",
       "      <th>original_shape_Flatness</th>\n",
       "      <th>original_shape_LeastAxisLength</th>\n",
       "      <th>original_shape_MajorAxisLength</th>\n",
       "      <th>original_shape_Maximum2DDiameterColumn</th>\n",
       "      <th>original_shape_Maximum2DDiameterRow</th>\n",
       "      <th>original_shape_Maximum2DDiameterSlice</th>\n",
       "      <th>...</th>\n",
       "      <th>wavelet-LLL_gldm_LargeDependenceLowGrayLevelEmphasis</th>\n",
       "      <th>wavelet-LLL_gldm_LowGrayLevelEmphasis</th>\n",
       "      <th>wavelet-LLL_gldm_SmallDependenceEmphasis</th>\n",
       "      <th>wavelet-LLL_gldm_SmallDependenceHighGrayLevelEmphasis</th>\n",
       "      <th>wavelet-LLL_gldm_SmallDependenceLowGrayLevelEmphasis</th>\n",
       "      <th>wavelet-LLL_ngtdm_Busyness</th>\n",
       "      <th>wavelet-LLL_ngtdm_Coarseness</th>\n",
       "      <th>wavelet-LLL_ngtdm_Complexity</th>\n",
       "      <th>wavelet-LLL_ngtdm_Contrast</th>\n",
       "      <th>wavelet-LLL_ngtdm_Strength</th>\n",
       "    </tr>\n",
       "  </thead>\n",
       "  <tbody>\n",
       "    <tr>\n",
       "      <th>0</th>\n",
       "      <td>Desmoid-074</td>\n",
       "      <td>/Users/pwoznicki/git/AutoRadiomics/examples/au...</td>\n",
       "      <td>/Users/pwoznicki/git/AutoRadiomics/examples/au...</td>\n",
       "      <td>0.873614</td>\n",
       "      <td>0.718321</td>\n",
       "      <td>77.484876</td>\n",
       "      <td>107.869387</td>\n",
       "      <td>125.299641</td>\n",
       "      <td>123.547562</td>\n",
       "      <td>115.741090</td>\n",
       "      <td>...</td>\n",
       "      <td>0.093642</td>\n",
       "      <td>0.002011</td>\n",
       "      <td>0.160422</td>\n",
       "      <td>154.590314</td>\n",
       "      <td>0.000404</td>\n",
       "      <td>0.748296</td>\n",
       "      <td>0.000444</td>\n",
       "      <td>5875.243768</td>\n",
       "      <td>0.024981</td>\n",
       "      <td>2.365077</td>\n",
       "    </tr>\n",
       "    <tr>\n",
       "      <th>1</th>\n",
       "      <td>Desmoid-011</td>\n",
       "      <td>/Users/pwoznicki/git/AutoRadiomics/examples/au...</td>\n",
       "      <td>/Users/pwoznicki/git/AutoRadiomics/examples/au...</td>\n",
       "      <td>0.542448</td>\n",
       "      <td>0.390360</td>\n",
       "      <td>58.364379</td>\n",
       "      <td>149.514354</td>\n",
       "      <td>188.401875</td>\n",
       "      <td>167.332217</td>\n",
       "      <td>99.639350</td>\n",
       "      <td>...</td>\n",
       "      <td>0.016457</td>\n",
       "      <td>0.000799</td>\n",
       "      <td>0.237547</td>\n",
       "      <td>755.595992</td>\n",
       "      <td>0.000219</td>\n",
       "      <td>0.084894</td>\n",
       "      <td>0.002416</td>\n",
       "      <td>10870.016237</td>\n",
       "      <td>0.097748</td>\n",
       "      <td>17.527386</td>\n",
       "    </tr>\n",
       "    <tr>\n",
       "      <th>2</th>\n",
       "      <td>Desmoid-016</td>\n",
       "      <td>/Users/pwoznicki/git/AutoRadiomics/examples/au...</td>\n",
       "      <td>/Users/pwoznicki/git/AutoRadiomics/examples/au...</td>\n",
       "      <td>0.877737</td>\n",
       "      <td>0.688334</td>\n",
       "      <td>13.471395</td>\n",
       "      <td>19.571016</td>\n",
       "      <td>20.645580</td>\n",
       "      <td>23.785710</td>\n",
       "      <td>20.000000</td>\n",
       "      <td>...</td>\n",
       "      <td>0.149263</td>\n",
       "      <td>0.045806</td>\n",
       "      <td>0.948276</td>\n",
       "      <td>8401.258621</td>\n",
       "      <td>0.019942</td>\n",
       "      <td>0.007245</td>\n",
       "      <td>0.043044</td>\n",
       "      <td>59786.729501</td>\n",
       "      <td>42.221257</td>\n",
       "      <td>502.761901</td>\n",
       "    </tr>\n",
       "    <tr>\n",
       "      <th>3</th>\n",
       "      <td>Desmoid-043</td>\n",
       "      <td>/Users/pwoznicki/git/AutoRadiomics/examples/au...</td>\n",
       "      <td>/Users/pwoznicki/git/AutoRadiomics/examples/au...</td>\n",
       "      <td>0.652264</td>\n",
       "      <td>0.521467</td>\n",
       "      <td>19.868718</td>\n",
       "      <td>38.101603</td>\n",
       "      <td>39.999998</td>\n",
       "      <td>32.022488</td>\n",
       "      <td>37.363083</td>\n",
       "      <td>...</td>\n",
       "      <td>0.181909</td>\n",
       "      <td>0.011578</td>\n",
       "      <td>0.288275</td>\n",
       "      <td>132.252424</td>\n",
       "      <td>0.002828</td>\n",
       "      <td>0.101257</td>\n",
       "      <td>0.014747</td>\n",
       "      <td>2358.690153</td>\n",
       "      <td>0.178728</td>\n",
       "      <td>13.098294</td>\n",
       "    </tr>\n",
       "    <tr>\n",
       "      <th>4</th>\n",
       "      <td>Desmoid-088</td>\n",
       "      <td>/Users/pwoznicki/git/AutoRadiomics/examples/au...</td>\n",
       "      <td>/Users/pwoznicki/git/AutoRadiomics/examples/au...</td>\n",
       "      <td>0.768909</td>\n",
       "      <td>0.502069</td>\n",
       "      <td>13.406080</td>\n",
       "      <td>26.701656</td>\n",
       "      <td>28.736050</td>\n",
       "      <td>29.851676</td>\n",
       "      <td>28.635642</td>\n",
       "      <td>...</td>\n",
       "      <td>0.004161</td>\n",
       "      <td>0.003951</td>\n",
       "      <td>0.797606</td>\n",
       "      <td>3513.162189</td>\n",
       "      <td>0.003910</td>\n",
       "      <td>0.010388</td>\n",
       "      <td>0.018038</td>\n",
       "      <td>41901.340071</td>\n",
       "      <td>1.686317</td>\n",
       "      <td>52.578613</td>\n",
       "    </tr>\n",
       "  </tbody>\n",
       "</table>\n",
       "<p>5 rows × 1018 columns</p>\n",
       "</div>"
      ],
      "text/plain": [
       "            ID                                         image_path  \\\n",
       "0  Desmoid-074  /Users/pwoznicki/git/AutoRadiomics/examples/au...   \n",
       "1  Desmoid-011  /Users/pwoznicki/git/AutoRadiomics/examples/au...   \n",
       "2  Desmoid-016  /Users/pwoznicki/git/AutoRadiomics/examples/au...   \n",
       "3  Desmoid-043  /Users/pwoznicki/git/AutoRadiomics/examples/au...   \n",
       "4  Desmoid-088  /Users/pwoznicki/git/AutoRadiomics/examples/au...   \n",
       "\n",
       "                                   segmentation_path  \\\n",
       "0  /Users/pwoznicki/git/AutoRadiomics/examples/au...   \n",
       "1  /Users/pwoznicki/git/AutoRadiomics/examples/au...   \n",
       "2  /Users/pwoznicki/git/AutoRadiomics/examples/au...   \n",
       "3  /Users/pwoznicki/git/AutoRadiomics/examples/au...   \n",
       "4  /Users/pwoznicki/git/AutoRadiomics/examples/au...   \n",
       "\n",
       "   original_shape_Elongation  original_shape_Flatness  \\\n",
       "0                   0.873614                 0.718321   \n",
       "1                   0.542448                 0.390360   \n",
       "2                   0.877737                 0.688334   \n",
       "3                   0.652264                 0.521467   \n",
       "4                   0.768909                 0.502069   \n",
       "\n",
       "   original_shape_LeastAxisLength  original_shape_MajorAxisLength  \\\n",
       "0                       77.484876                      107.869387   \n",
       "1                       58.364379                      149.514354   \n",
       "2                       13.471395                       19.571016   \n",
       "3                       19.868718                       38.101603   \n",
       "4                       13.406080                       26.701656   \n",
       "\n",
       "   original_shape_Maximum2DDiameterColumn  \\\n",
       "0                              125.299641   \n",
       "1                              188.401875   \n",
       "2                               20.645580   \n",
       "3                               39.999998   \n",
       "4                               28.736050   \n",
       "\n",
       "   original_shape_Maximum2DDiameterRow  original_shape_Maximum2DDiameterSlice  \\\n",
       "0                           123.547562                             115.741090   \n",
       "1                           167.332217                              99.639350   \n",
       "2                            23.785710                              20.000000   \n",
       "3                            32.022488                              37.363083   \n",
       "4                            29.851676                              28.635642   \n",
       "\n",
       "   ...  wavelet-LLL_gldm_LargeDependenceLowGrayLevelEmphasis  \\\n",
       "0  ...                                           0.093642      \n",
       "1  ...                                           0.016457      \n",
       "2  ...                                           0.149263      \n",
       "3  ...                                           0.181909      \n",
       "4  ...                                           0.004161      \n",
       "\n",
       "   wavelet-LLL_gldm_LowGrayLevelEmphasis  \\\n",
       "0                               0.002011   \n",
       "1                               0.000799   \n",
       "2                               0.045806   \n",
       "3                               0.011578   \n",
       "4                               0.003951   \n",
       "\n",
       "   wavelet-LLL_gldm_SmallDependenceEmphasis  \\\n",
       "0                                  0.160422   \n",
       "1                                  0.237547   \n",
       "2                                  0.948276   \n",
       "3                                  0.288275   \n",
       "4                                  0.797606   \n",
       "\n",
       "   wavelet-LLL_gldm_SmallDependenceHighGrayLevelEmphasis  \\\n",
       "0                                         154.590314       \n",
       "1                                         755.595992       \n",
       "2                                        8401.258621       \n",
       "3                                         132.252424       \n",
       "4                                        3513.162189       \n",
       "\n",
       "   wavelet-LLL_gldm_SmallDependenceLowGrayLevelEmphasis  \\\n",
       "0                                           0.000404      \n",
       "1                                           0.000219      \n",
       "2                                           0.019942      \n",
       "3                                           0.002828      \n",
       "4                                           0.003910      \n",
       "\n",
       "   wavelet-LLL_ngtdm_Busyness  wavelet-LLL_ngtdm_Coarseness  \\\n",
       "0                    0.748296                      0.000444   \n",
       "1                    0.084894                      0.002416   \n",
       "2                    0.007245                      0.043044   \n",
       "3                    0.101257                      0.014747   \n",
       "4                    0.010388                      0.018038   \n",
       "\n",
       "   wavelet-LLL_ngtdm_Complexity  wavelet-LLL_ngtdm_Contrast  \\\n",
       "0                   5875.243768                    0.024981   \n",
       "1                  10870.016237                    0.097748   \n",
       "2                  59786.729501                   42.221257   \n",
       "3                   2358.690153                    0.178728   \n",
       "4                  41901.340071                    1.686317   \n",
       "\n",
       "   wavelet-LLL_ngtdm_Strength  \n",
       "0                    2.365077  \n",
       "1                   17.527386  \n",
       "2                  502.761901  \n",
       "3                   13.098294  \n",
       "4                   52.578613  \n",
       "\n",
       "[5 rows x 1018 columns]"
      ]
     },
     "execution_count": 6,
     "metadata": {},
     "output_type": "execute_result"
    }
   ],
   "source": [
    "feature_df.head()"
   ]
  },
  {
   "cell_type": "code",
   "execution_count": 7,
   "metadata": {},
   "outputs": [
    {
     "data": {
      "text/html": [
       "<div>\n",
       "<style scoped>\n",
       "    .dataframe tbody tr th:only-of-type {\n",
       "        vertical-align: middle;\n",
       "    }\n",
       "\n",
       "    .dataframe tbody tr th {\n",
       "        vertical-align: top;\n",
       "    }\n",
       "\n",
       "    .dataframe thead th {\n",
       "        text-align: right;\n",
       "    }\n",
       "</style>\n",
       "<table border=\"1\" class=\"dataframe\">\n",
       "  <thead>\n",
       "    <tr style=\"text-align: right;\">\n",
       "      <th></th>\n",
       "      <th>patient_ID</th>\n",
       "      <th>diagnosis</th>\n",
       "    </tr>\n",
       "  </thead>\n",
       "  <tbody>\n",
       "    <tr>\n",
       "      <th>44</th>\n",
       "      <td>Desmoid-110</td>\n",
       "      <td>1</td>\n",
       "    </tr>\n",
       "    <tr>\n",
       "      <th>52</th>\n",
       "      <td>Desmoid-180</td>\n",
       "      <td>1</td>\n",
       "    </tr>\n",
       "    <tr>\n",
       "      <th>14</th>\n",
       "      <td>Desmoid-162</td>\n",
       "      <td>1</td>\n",
       "    </tr>\n",
       "    <tr>\n",
       "      <th>87</th>\n",
       "      <td>Desmoid-165</td>\n",
       "      <td>0</td>\n",
       "    </tr>\n",
       "    <tr>\n",
       "      <th>92</th>\n",
       "      <td>Desmoid-039</td>\n",
       "      <td>0</td>\n",
       "    </tr>\n",
       "  </tbody>\n",
       "</table>\n",
       "</div>"
      ],
      "text/plain": [
       "     patient_ID  diagnosis\n",
       "44  Desmoid-110          1\n",
       "52  Desmoid-180          1\n",
       "14  Desmoid-162          1\n",
       "87  Desmoid-165          0\n",
       "92  Desmoid-039          0"
      ]
     },
     "execution_count": 7,
     "metadata": {},
     "output_type": "execute_result"
    }
   ],
   "source": [
    "label_df = pd.read_csv(data_dir / \"labels.csv\")\n",
    "label_df.sample(5)"
   ]
  },
  {
   "cell_type": "code",
   "execution_count": 8,
   "metadata": {},
   "outputs": [],
   "source": [
    "from autorad.data.dataset import FeatureDataset\n",
    "\n",
    "merged_feature_df = feature_df.merge(label_df, left_on=\"ID\",\n",
    "    right_on=\"patient_ID\", how=\"left\")\n",
    "feature_dataset = FeatureDataset(\n",
    "    merged_feature_df,\n",
    "    target=\"diagnosis\",\n",
    "    ID_colname=\"ID\"\n",
    ")"
   ]
  },
  {
   "cell_type": "markdown",
   "metadata": {},
   "source": [
    "Split the data into training/validation/test sets with stratification:"
   ]
  },
  {
   "cell_type": "code",
   "execution_count": 9,
   "metadata": {},
   "outputs": [
    {
     "data": {
      "text/plain": [
       "{'split_type': 'stratified split: 60% train + 20% validation + 20% test',\n",
       " 'train': ['Desmoid-165',\n",
       "  'Desmoid-059',\n",
       "  'Desmoid-163',\n",
       "  'Desmoid-190',\n",
       "  'Desmoid-141',\n",
       "  'Desmoid-030',\n",
       "  'Desmoid-150',\n",
       "  'Desmoid-022',\n",
       "  'Desmoid-084',\n",
       "  'Desmoid-162',\n",
       "  'Desmoid-009',\n",
       "  'Desmoid-147',\n",
       "  'Desmoid-111',\n",
       "  'Desmoid-112',\n",
       "  'Desmoid-171',\n",
       "  'Desmoid-028',\n",
       "  'Desmoid-128',\n",
       "  'Desmoid-136',\n",
       "  'Desmoid-062',\n",
       "  'Desmoid-166',\n",
       "  'Desmoid-104',\n",
       "  'Desmoid-170',\n",
       "  'Desmoid-184',\n",
       "  'Desmoid-004',\n",
       "  'Desmoid-140',\n",
       "  'Desmoid-068',\n",
       "  'Desmoid-199',\n",
       "  'Desmoid-134',\n",
       "  'Desmoid-093',\n",
       "  'Desmoid-153',\n",
       "  'Desmoid-121',\n",
       "  'Desmoid-056',\n",
       "  'Desmoid-195',\n",
       "  'Desmoid-103',\n",
       "  'Desmoid-096',\n",
       "  'Desmoid-189',\n",
       "  'Desmoid-036',\n",
       "  'Desmoid-043',\n",
       "  'Desmoid-026',\n",
       "  'Desmoid-152',\n",
       "  'Desmoid-037',\n",
       "  'Desmoid-119',\n",
       "  'Desmoid-194',\n",
       "  'Desmoid-109',\n",
       "  'Desmoid-169',\n",
       "  'Desmoid-101',\n",
       "  'Desmoid-130',\n",
       "  'Desmoid-100',\n",
       "  'Desmoid-201',\n",
       "  'Desmoid-039',\n",
       "  'Desmoid-173',\n",
       "  'Desmoid-025',\n",
       "  'Desmoid-175',\n",
       "  'Desmoid-114',\n",
       "  'Desmoid-122',\n",
       "  'Desmoid-006',\n",
       "  'Desmoid-091',\n",
       "  'Desmoid-076',\n",
       "  'Desmoid-088',\n",
       "  'Desmoid-115'],\n",
       " 'val': ['Desmoid-016',\n",
       "  'Desmoid-108',\n",
       "  'Desmoid-024',\n",
       "  'Desmoid-017',\n",
       "  'Desmoid-183',\n",
       "  'Desmoid-074',\n",
       "  'Desmoid-098',\n",
       "  'Desmoid-172',\n",
       "  'Desmoid-060',\n",
       "  'Desmoid-054',\n",
       "  'Desmoid-129',\n",
       "  'Desmoid-198',\n",
       "  'Desmoid-154',\n",
       "  'Desmoid-113',\n",
       "  'Desmoid-078',\n",
       "  'Desmoid-159',\n",
       "  'Desmoid-116',\n",
       "  'Desmoid-180',\n",
       "  'Desmoid-011',\n",
       "  'Desmoid-014'],\n",
       " 'test': ['Desmoid-095',\n",
       "  'Desmoid-046',\n",
       "  'Desmoid-102',\n",
       "  'Desmoid-079',\n",
       "  'Desmoid-126',\n",
       "  'Desmoid-182',\n",
       "  'Desmoid-107',\n",
       "  'Desmoid-185',\n",
       "  'Desmoid-040',\n",
       "  'Desmoid-021',\n",
       "  'Desmoid-023',\n",
       "  'Desmoid-082',\n",
       "  'Desmoid-038',\n",
       "  'Desmoid-110',\n",
       "  'Desmoid-179',\n",
       "  'Desmoid-071',\n",
       "  'Desmoid-177',\n",
       "  'Desmoid-055',\n",
       "  'Desmoid-193',\n",
       "  'Desmoid-174']}"
      ]
     },
     "execution_count": 9,
     "metadata": {},
     "output_type": "execute_result"
    }
   ],
   "source": [
    "splits_path = result_dir / \"splits.json\"\n",
    "feature_dataset.split(method=\"train_val_test\", save_path=splits_path)"
   ]
  },
  {
   "cell_type": "code",
   "execution_count": 10,
   "metadata": {},
   "outputs": [
    {
     "name": "stdout",
     "output_type": "stream",
     "text": [
      "[Random Forest, Logistic Regression, SVM, XGBoost]\n"
     ]
    }
   ],
   "source": [
    "from autorad.models.classifier import MLClassifier\n",
    "from autorad.training.trainer import Trainer\n",
    "\n",
    "models = MLClassifier.initialize_default_sklearn_models()\n",
    "print(models)"
   ]
  },
  {
   "cell_type": "code",
   "execution_count": 33,
   "metadata": {},
   "outputs": [
    {
     "ename": "KeyError",
     "evalue": "'select'",
     "output_type": "error",
     "traceback": [
      "\u001b[0;31m---------------------------------------------------------------------------\u001b[0m",
      "\u001b[0;31mTypeError\u001b[0m                                 Traceback (most recent call last)",
      "File \u001b[0;32m~/git/AutoRadiomics/.venv/lib/python3.10/site-packages/sklearn/pipeline.py:265\u001b[0m, in \u001b[0;36mPipeline.__getitem__\u001b[0;34m(self, ind)\u001b[0m\n\u001b[1;32m    264\u001b[0m \u001b[39mtry\u001b[39;00m:\n\u001b[0;32m--> 265\u001b[0m     name, est \u001b[39m=\u001b[39m \u001b[39mself\u001b[39;49m\u001b[39m.\u001b[39;49msteps[ind]\n\u001b[1;32m    266\u001b[0m \u001b[39mexcept\u001b[39;00m \u001b[39mTypeError\u001b[39;00m:\n\u001b[1;32m    267\u001b[0m     \u001b[39m# Not an int, try get step by name\u001b[39;00m\n",
      "\u001b[0;31mTypeError\u001b[0m: list indices must be integers or slices, not str",
      "\nDuring handling of the above exception, another exception occurred:\n",
      "\u001b[0;31mKeyError\u001b[0m                                  Traceback (most recent call last)",
      "Cell \u001b[0;32mIn [33], line 7\u001b[0m\n\u001b[1;32m      1\u001b[0m trainer \u001b[39m=\u001b[39m Trainer(\n\u001b[1;32m      2\u001b[0m     dataset\u001b[39m=\u001b[39mfeature_dataset,\n\u001b[1;32m      3\u001b[0m     models\u001b[39m=\u001b[39mmodels,\n\u001b[1;32m      4\u001b[0m     result_dir\u001b[39m=\u001b[39mresult_dir,\n\u001b[1;32m      5\u001b[0m     experiment_name\u001b[39m=\u001b[39m\u001b[39m\"\u001b[39m\u001b[39mFibromatosis_vs_sarcoma_classification\u001b[39m\u001b[39m\"\u001b[39m,\n\u001b[1;32m      6\u001b[0m )\n\u001b[0;32m----> 7\u001b[0m trainer\u001b[39m.\u001b[39;49mrun_auto_preprocessing(\n\u001b[1;32m      8\u001b[0m         feature_selection\u001b[39m=\u001b[39;49m\u001b[39mFalse\u001b[39;49;00m,\n\u001b[1;32m      9\u001b[0m         oversampling\u001b[39m=\u001b[39;49m\u001b[39mFalse\u001b[39;49;00m,\n\u001b[1;32m     10\u001b[0m         )\n",
      "File \u001b[0;32m~/git/AutoRadiomics/autorad/training/trainer.py:87\u001b[0m, in \u001b[0;36mTrainer.run_auto_preprocessing\u001b[0;34m(self, oversampling, feature_selection, selection_methods)\u001b[0m\n\u001b[1;32m     79\u001b[0m preprocessor \u001b[39m=\u001b[39m Preprocessor(\n\u001b[1;32m     80\u001b[0m     normalize\u001b[39m=\u001b[39m\u001b[39mTrue\u001b[39;00m,\n\u001b[1;32m     81\u001b[0m     feature_selection_method\u001b[39m=\u001b[39mselection_method,\n\u001b[1;32m     82\u001b[0m     oversampling_method\u001b[39m=\u001b[39moversampling_method,\n\u001b[1;32m     83\u001b[0m )\n\u001b[1;32m     84\u001b[0m \u001b[39mtry\u001b[39;00m:\n\u001b[1;32m     85\u001b[0m     preprocessed[selection_method][\n\u001b[1;32m     86\u001b[0m         oversampling_method\n\u001b[0;32m---> 87\u001b[0m     ] \u001b[39m=\u001b[39m preprocessor\u001b[39m.\u001b[39;49mfit_transform(\u001b[39mself\u001b[39;49m\u001b[39m.\u001b[39;49mdataset\u001b[39m.\u001b[39;49mdata)\n\u001b[1;32m     88\u001b[0m \u001b[39mexcept\u001b[39;00m \u001b[39mAssertionError\u001b[39;00m:\n\u001b[1;32m     89\u001b[0m     log\u001b[39m.\u001b[39merror(\n\u001b[1;32m     90\u001b[0m         \u001b[39mf\u001b[39m\u001b[39m\"\u001b[39m\u001b[39mPreprocessing with \u001b[39m\u001b[39m{\u001b[39;00mselection_method\u001b[39m}\u001b[39;00m\u001b[39m and \u001b[39m\u001b[39m{\u001b[39;00moversampling_method\u001b[39m}\u001b[39;00m\u001b[39m failed.\u001b[39m\u001b[39m\"\u001b[39m\n\u001b[1;32m     91\u001b[0m     )\n",
      "File \u001b[0;32m~/git/AutoRadiomics/autorad/preprocessing/preprocessor.py:72\u001b[0m, in \u001b[0;36mPreprocessor.fit_transform\u001b[0;34m(self, data)\u001b[0m\n\u001b[1;32m     68\u001b[0m all_features \u001b[39m=\u001b[39m X\u001b[39m.\u001b[39mtrain\u001b[39m.\u001b[39mcolumns\u001b[39m.\u001b[39mtolist()\n\u001b[1;32m     69\u001b[0m X_train_trans, y_train_trans \u001b[39m=\u001b[39m \u001b[39mself\u001b[39m\u001b[39m.\u001b[39mpipeline\u001b[39m.\u001b[39mfit_transform(\n\u001b[1;32m     70\u001b[0m     X\u001b[39m.\u001b[39mtrain, y\u001b[39m.\u001b[39mtrain\n\u001b[1;32m     71\u001b[0m )\n\u001b[0;32m---> 72\u001b[0m \u001b[39mself\u001b[39m\u001b[39m.\u001b[39mselected_features \u001b[39m=\u001b[39m \u001b[39mself\u001b[39;49m\u001b[39m.\u001b[39;49mpipeline[\u001b[39m\"\u001b[39;49m\u001b[39mselect\u001b[39;49m\u001b[39m\"\u001b[39;49m]\u001b[39m.\u001b[39mselected_features(\n\u001b[1;32m     73\u001b[0m     column_names\u001b[39m=\u001b[39mall_features\n\u001b[1;32m     74\u001b[0m )\n\u001b[1;32m     75\u001b[0m result_X[\u001b[39m\"\u001b[39m\u001b[39mtrain\u001b[39m\u001b[39m\"\u001b[39m] \u001b[39m=\u001b[39m pd\u001b[39m.\u001b[39mDataFrame(\n\u001b[1;32m     76\u001b[0m     X_train_trans, columns\u001b[39m=\u001b[39m\u001b[39mself\u001b[39m\u001b[39m.\u001b[39mselected_features\n\u001b[1;32m     77\u001b[0m )\n\u001b[1;32m     78\u001b[0m result_y[\u001b[39m\"\u001b[39m\u001b[39mtrain\u001b[39m\u001b[39m\"\u001b[39m] \u001b[39m=\u001b[39m pd\u001b[39m.\u001b[39mSeries(y_train_trans)\n",
      "File \u001b[0;32m~/git/AutoRadiomics/.venv/lib/python3.10/site-packages/sklearn/pipeline.py:268\u001b[0m, in \u001b[0;36mPipeline.__getitem__\u001b[0;34m(self, ind)\u001b[0m\n\u001b[1;32m    265\u001b[0m     name, est \u001b[39m=\u001b[39m \u001b[39mself\u001b[39m\u001b[39m.\u001b[39msteps[ind]\n\u001b[1;32m    266\u001b[0m \u001b[39mexcept\u001b[39;00m \u001b[39mTypeError\u001b[39;00m:\n\u001b[1;32m    267\u001b[0m     \u001b[39m# Not an int, try get step by name\u001b[39;00m\n\u001b[0;32m--> 268\u001b[0m     \u001b[39mreturn\u001b[39;00m \u001b[39mself\u001b[39;49m\u001b[39m.\u001b[39;49mnamed_steps[ind]\n\u001b[1;32m    269\u001b[0m \u001b[39mreturn\u001b[39;00m est\n",
      "\u001b[0;31mKeyError\u001b[0m: 'select'"
     ]
    }
   ],
   "source": [
    "trainer = Trainer(\n",
    "    dataset=feature_dataset,\n",
    "    models=models,\n",
    "    result_dir=result_dir,\n",
    "    experiment_name=\"Fibromatosis_vs_sarcoma_classification\",\n",
    ")\n",
    "trainer.run_auto_preprocessing(\n",
    "        feature_selection=False,\n",
    "        oversampling=False,\n",
    "        )"
   ]
  },
  {
   "cell_type": "code",
   "execution_count": 22,
   "metadata": {},
   "outputs": [
    {
     "name": "stderr",
     "output_type": "stream",
     "text": [
      "/Users/pwoznicki/git/AutoRadiomics/autorad/training/trainer.py:112: ExperimentalWarning:\n",
      "\n",
      "MLflowCallback is experimental (supported from v1.4.0). The interface can change in the future.\n",
      "\n",
      "\u001b[32m[I 2022-11-01 18:49:33,744]\u001b[0m A new study created in memory with name: Fibromatosis_vs_sarcoma_classification\u001b[0m\n",
      "\u001b[32m[I 2022-11-01 18:49:33,776]\u001b[0m Trial 0 finished with value: 0.5 and parameters: {'feature_selection_method': 'anova', 'oversampling_method': None, 'model': 'XGBoost', 'xgb_lambda': 0.014570271595538578, 'xgb_alpha': 0.00021300368327705253, 'colsample_bytree': 0.5136940145553204, 'xgb_subsample': 0.47454241292069554, 'xgb_booster': 'gbtree', 'xgb_max_depth': 5, 'xgb_min_child_weight': 8, 'xgb_eta': 2.883592210117951e-07, 'xgb_gamma': 2.53287670148807e-07, 'xgb_grow_policy': 'lossguide'}. Best is trial 0 with value: 0.5.\u001b[0m\n",
      "\u001b[32m[I 2022-11-01 18:49:33,792]\u001b[0m Trial 1 finished with value: 0.7142857142857143 and parameters: {'feature_selection_method': 'lasso', 'oversampling_method': None, 'model': 'Logistic Regression', 'lr_penalty': 'l1', 'lr_C': 0.3341215561348895}. Best is trial 1 with value: 0.7142857142857143.\u001b[0m\n",
      "\u001b[32m[I 2022-11-01 18:49:34,110]\u001b[0m Trial 2 finished with value: 0.6483516483516484 and parameters: {'feature_selection_method': 'lasso', 'oversampling_method': None, 'model': 'Random Forest', 'rf_n_estimators': 899, 'rf_max_depth': 48, 'rf_max_features': 'sqrt', 'rf_min_samples_leaf': 2, 'rf_min_samples_split': 4, 'rf_bootstrap': False}. Best is trial 1 with value: 0.7142857142857143.\u001b[0m\n",
      "\u001b[32m[I 2022-11-01 18:49:34,801]\u001b[0m Trial 3 finished with value: 0.5 and parameters: {'feature_selection_method': 'boruta', 'oversampling_method': None, 'model': 'XGBoost', 'xgb_lambda': 0.0026763392031222675, 'xgb_alpha': 0.0008046593428183385, 'colsample_bytree': 0.47421106701944676, 'xgb_subsample': 0.4432966312217473, 'xgb_booster': 'dart', 'xgb_max_depth': 7, 'xgb_min_child_weight': 8, 'xgb_eta': 0.00048695902646412595, 'xgb_gamma': 0.0009982240218295083, 'xgb_grow_policy': 'lossguide', 'xgb_sample_type': 'weighted', 'xgb_normalize_type': 'tree', 'xgb_rate_drop': 0.0003798880741472144, 'xgb_skip_drop': 5.8304239226092374e-08}. Best is trial 1 with value: 0.7142857142857143.\u001b[0m\n",
      "\u001b[32m[I 2022-11-01 18:49:34,833]\u001b[0m Trial 4 finished with value: 0.5 and parameters: {'feature_selection_method': 'anova', 'oversampling_method': None, 'model': 'Logistic Regression', 'lr_penalty': 'l1', 'lr_C': 0.0188393409315699}. Best is trial 1 with value: 0.7142857142857143.\u001b[0m\n",
      "\u001b[32m[I 2022-11-01 18:49:34,992]\u001b[0m Trial 5 finished with value: 0.5164835164835165 and parameters: {'feature_selection_method': 'anova', 'oversampling_method': None, 'model': 'Random Forest', 'rf_n_estimators': 339, 'rf_max_depth': 21, 'rf_max_features': 'sqrt', 'rf_min_samples_leaf': 4, 'rf_min_samples_split': 8, 'rf_bootstrap': False}. Best is trial 1 with value: 0.7142857142857143.\u001b[0m\n",
      "\u001b[32m[I 2022-11-01 18:49:35,019]\u001b[0m Trial 6 finished with value: 0.45054945054945056 and parameters: {'feature_selection_method': 'lasso', 'oversampling_method': None, 'model': 'SVM', 'svm_kernel': 'sigmoid', 'svm_C': 0.16331624244561055, 'svm_gamma': 2.6170375260922567, 'svm_degree': 2.0}. Best is trial 1 with value: 0.7142857142857143.\u001b[0m\n",
      "\u001b[32m[I 2022-11-01 18:49:35,292]\u001b[0m Trial 7 finished with value: 0.6153846153846155 and parameters: {'feature_selection_method': 'lasso', 'oversampling_method': None, 'model': 'Random Forest', 'rf_n_estimators': 545, 'rf_max_depth': 2, 'rf_max_features': 'auto', 'rf_min_samples_leaf': 3, 'rf_min_samples_split': 4, 'rf_bootstrap': False}. Best is trial 1 with value: 0.7142857142857143.\u001b[0m\n",
      "\u001b[32m[I 2022-11-01 18:49:35,519]\u001b[0m Trial 8 finished with value: 0.4835164835164836 and parameters: {'feature_selection_method': 'anova', 'oversampling_method': None, 'model': 'Random Forest', 'rf_n_estimators': 621, 'rf_max_depth': 44, 'rf_max_features': 'auto', 'rf_min_samples_leaf': 5, 'rf_min_samples_split': 3, 'rf_bootstrap': False}. Best is trial 1 with value: 0.7142857142857143.\u001b[0m\n",
      "\u001b[32m[I 2022-11-01 18:49:35,545]\u001b[0m Trial 9 finished with value: 0.6043956043956045 and parameters: {'feature_selection_method': 'boruta', 'oversampling_method': None, 'model': 'SVM', 'svm_kernel': 'rbf', 'svm_C': 1.330429150597269, 'svm_gamma': 0.014000594165527527, 'svm_degree': 2.0}. Best is trial 1 with value: 0.7142857142857143.\u001b[0m\n",
      "\u001b[32m[I 2022-11-01 18:49:35,590]\u001b[0m Trial 10 finished with value: 0.8681318681318682 and parameters: {'feature_selection_method': 'lasso', 'oversampling_method': None, 'model': 'Logistic Regression', 'lr_penalty': 'l1', 'lr_C': 5.116327576291736}. Best is trial 10 with value: 0.8681318681318682.\u001b[0m\n",
      "\u001b[32m[I 2022-11-01 18:49:35,641]\u001b[0m Trial 11 finished with value: 0.8351648351648352 and parameters: {'feature_selection_method': 'lasso', 'oversampling_method': None, 'model': 'Logistic Regression', 'lr_penalty': 'l1', 'lr_C': 6.946765853202156}. Best is trial 10 with value: 0.8681318681318682.\u001b[0m\n",
      "\u001b[32m[I 2022-11-01 18:49:35,689]\u001b[0m Trial 12 finished with value: 0.8241758241758242 and parameters: {'feature_selection_method': 'lasso', 'oversampling_method': None, 'model': 'Logistic Regression', 'lr_penalty': 'l1', 'lr_C': 7.127077624882916}. Best is trial 10 with value: 0.8681318681318682.\u001b[0m\n",
      "\u001b[32m[I 2022-11-01 18:49:35,718]\u001b[0m Trial 13 finished with value: 0.8131868131868132 and parameters: {'feature_selection_method': 'lasso', 'oversampling_method': None, 'model': 'Logistic Regression', 'lr_penalty': 'l2', 'lr_C': 9.232832191974794}. Best is trial 10 with value: 0.8681318681318682.\u001b[0m\n",
      "\u001b[32m[I 2022-11-01 18:49:35,740]\u001b[0m Trial 14 finished with value: 0.6483516483516484 and parameters: {'feature_selection_method': 'lasso', 'oversampling_method': None, 'model': 'Logistic Regression', 'lr_penalty': 'l1', 'lr_C': 0.5817775652601599}. Best is trial 10 with value: 0.8681318681318682.\u001b[0m\n",
      "\u001b[32m[I 2022-11-01 18:49:35,792]\u001b[0m Trial 15 finished with value: 0.8131868131868132 and parameters: {'feature_selection_method': 'lasso', 'oversampling_method': None, 'model': 'Logistic Regression', 'lr_penalty': 'l1', 'lr_C': 1.8805971921156521}. Best is trial 10 with value: 0.8681318681318682.\u001b[0m\n",
      "\u001b[32m[I 2022-11-01 18:49:35,809]\u001b[0m Trial 16 finished with value: 0.6263736263736264 and parameters: {'feature_selection_method': 'boruta', 'oversampling_method': None, 'model': 'Logistic Regression', 'lr_penalty': 'l2', 'lr_C': 0.001240068108253622}. Best is trial 10 with value: 0.8681318681318682.\u001b[0m\n",
      "\u001b[32m[I 2022-11-01 18:49:35,828]\u001b[0m Trial 17 finished with value: 0.5 and parameters: {'feature_selection_method': 'lasso', 'oversampling_method': None, 'model': 'Logistic Regression', 'lr_penalty': 'l1', 'lr_C': 0.030315486927196225}. Best is trial 10 with value: 0.8681318681318682.\u001b[0m\n",
      "\u001b[32m[I 2022-11-01 18:49:35,982]\u001b[0m Trial 18 finished with value: 0.8131868131868132 and parameters: {'feature_selection_method': 'lasso', 'oversampling_method': None, 'model': 'XGBoost', 'xgb_lambda': 1.2898977032958015e-08, 'xgb_alpha': 1.15945973045236e-08, 'colsample_bytree': 0.9521436334112089, 'xgb_subsample': 0.9960243754691369, 'xgb_booster': 'gblinear'}. Best is trial 10 with value: 0.8681318681318682.\u001b[0m\n",
      "\u001b[32m[I 2022-11-01 18:49:35,997]\u001b[0m Trial 19 finished with value: 0.6373626373626374 and parameters: {'feature_selection_method': 'boruta', 'oversampling_method': None, 'model': 'SVM', 'svm_kernel': 'linear', 'svm_C': 0.001190756000782868, 'svm_gamma': 0.0010632212394775086, 'svm_degree': 5.0}. Best is trial 10 with value: 0.8681318681318682.\u001b[0m\n",
      "\u001b[32m[I 2022-11-01 18:49:36,028]\u001b[0m Trial 20 finished with value: 0.7582417582417583 and parameters: {'feature_selection_method': 'lasso', 'oversampling_method': None, 'model': 'Logistic Regression', 'lr_penalty': 'l1', 'lr_C': 1.325045027340513}. Best is trial 10 with value: 0.8681318681318682.\u001b[0m\n",
      "\u001b[32m[I 2022-11-01 18:49:36,061]\u001b[0m Trial 21 finished with value: 0.8241758241758242 and parameters: {'feature_selection_method': 'lasso', 'oversampling_method': None, 'model': 'Logistic Regression', 'lr_penalty': 'l1', 'lr_C': 8.00790003326571}. Best is trial 10 with value: 0.8681318681318682.\u001b[0m\n",
      "\u001b[32m[I 2022-11-01 18:49:36,095]\u001b[0m Trial 22 finished with value: 0.8681318681318682 and parameters: {'feature_selection_method': 'lasso', 'oversampling_method': None, 'model': 'Logistic Regression', 'lr_penalty': 'l1', 'lr_C': 3.9764326960596033}. Best is trial 10 with value: 0.8681318681318682.\u001b[0m\n",
      "\u001b[32m[I 2022-11-01 18:49:36,133]\u001b[0m Trial 23 finished with value: 0.8461538461538461 and parameters: {'feature_selection_method': 'lasso', 'oversampling_method': None, 'model': 'Logistic Regression', 'lr_penalty': 'l1', 'lr_C': 2.22713049550176}. Best is trial 10 with value: 0.8681318681318682.\u001b[0m\n",
      "\u001b[32m[I 2022-11-01 18:49:36,177]\u001b[0m Trial 24 finished with value: 0.8131868131868132 and parameters: {'feature_selection_method': 'lasso', 'oversampling_method': None, 'model': 'Logistic Regression', 'lr_penalty': 'l1', 'lr_C': 1.9195156794051542}. Best is trial 10 with value: 0.8681318681318682.\u001b[0m\n",
      "\u001b[32m[I 2022-11-01 18:49:36,199]\u001b[0m Trial 25 finished with value: 0.7802197802197802 and parameters: {'feature_selection_method': 'lasso', 'oversampling_method': None, 'model': 'Logistic Regression', 'lr_penalty': 'l2', 'lr_C': 0.16951320424978675}. Best is trial 10 with value: 0.8681318681318682.\u001b[0m\n",
      "\u001b[32m[I 2022-11-01 18:49:36,240]\u001b[0m Trial 26 finished with value: 0.8351648351648352 and parameters: {'feature_selection_method': 'lasso', 'oversampling_method': None, 'model': 'Logistic Regression', 'lr_penalty': 'l1', 'lr_C': 2.1209213078398292}. Best is trial 10 with value: 0.8681318681318682.\u001b[0m\n",
      "\u001b[32m[I 2022-11-01 18:49:36,334]\u001b[0m Trial 27 finished with value: 0.5769230769230769 and parameters: {'feature_selection_method': 'anova', 'oversampling_method': None, 'model': 'XGBoost', 'xgb_lambda': 3.433399905162042, 'xgb_alpha': 5.565527600978583, 'colsample_bytree': 0.20108544175893617, 'xgb_subsample': 0.8974221579116715, 'xgb_booster': 'gbtree', 'xgb_max_depth': 3, 'xgb_min_child_weight': 2, 'xgb_eta': 0.2754552445913291, 'xgb_gamma': 0.2940891283955108, 'xgb_grow_policy': 'depthwise'}. Best is trial 10 with value: 0.8681318681318682.\u001b[0m\n",
      "\u001b[32m[I 2022-11-01 18:49:36,351]\u001b[0m Trial 28 finished with value: 0.8351648351648352 and parameters: {'feature_selection_method': 'lasso', 'oversampling_method': None, 'model': 'SVM', 'svm_kernel': 'poly', 'svm_C': 0.0011101612131691589, 'svm_gamma': 5.528762256577699, 'svm_degree': 5.0}. Best is trial 10 with value: 0.8681318681318682.\u001b[0m\n",
      "\u001b[32m[I 2022-11-01 18:49:36,979]\u001b[0m Trial 29 finished with value: 0.5 and parameters: {'feature_selection_method': 'boruta', 'oversampling_method': None, 'model': 'XGBoost', 'xgb_lambda': 1.0793592384797562e-08, 'xgb_alpha': 1.5286974311711e-08, 'colsample_bytree': 0.9884787967752983, 'xgb_subsample': 0.21457323760145747, 'xgb_booster': 'dart', 'xgb_max_depth': 9, 'xgb_min_child_weight': 3, 'xgb_eta': 1.6951808985855894e-08, 'xgb_gamma': 1.89496940324838e-08, 'xgb_grow_policy': 'depthwise', 'xgb_sample_type': 'uniform', 'xgb_normalize_type': 'forest', 'xgb_rate_drop': 2.4072340274161187e-08, 'xgb_skip_drop': 0.8832210328671728}. Best is trial 10 with value: 0.8681318681318682.\u001b[0m\n"
     ]
    }
   ],
   "source": [
    "trainer.set_optimizer(\"optuna\", n_trials=30)\n",
    "trainer.run(auto_preprocess=True)"
   ]
  },
  {
   "cell_type": "code",
   "execution_count": 23,
   "metadata": {},
   "outputs": [
    {
     "data": {
      "application/vnd.plotly.v1+json": {
       "config": {
        "plotlyServerURL": "https://plot.ly"
       },
       "data": [
        {
         "line": {
          "color": "royalblue",
          "width": 2
         },
         "mode": "lines",
         "name": "AUC=0.74",
         "type": "scatter",
         "x": [
          0,
          0,
          0,
          0.14285714285714285,
          0.14285714285714285,
          0.2857142857142857,
          0.2857142857142857,
          0.5714285714285714,
          0.5714285714285714,
          1,
          1
         ],
         "y": [
          0,
          0.07692307692307693,
          0.38461538461538464,
          0.38461538461538464,
          0.46153846153846156,
          0.46153846153846156,
          0.7692307692307693,
          0.7692307692307693,
          0.9230769230769231,
          0.9230769230769231,
          1
         ]
        }
       ],
       "layout": {
        "font": {
         "size": 20
        },
        "height": 600,
        "legend": {
         "x": 0.99,
         "xanchor": "right",
         "y": 0.01,
         "yanchor": "bottom"
        },
        "plot_bgcolor": "rgba(0, 0, 0, 0)",
        "shapes": [
         {
          "line": {
           "dash": "dash"
          },
          "type": "line",
          "x0": 0,
          "x1": 1,
          "y0": 0,
          "y1": 1
         }
        ],
        "showlegend": true,
        "template": {
         "data": {
          "bar": [
           {
            "error_x": {
             "color": "#2a3f5f"
            },
            "error_y": {
             "color": "#2a3f5f"
            },
            "marker": {
             "line": {
              "color": "#E5ECF6",
              "width": 0.5
             },
             "pattern": {
              "fillmode": "overlay",
              "size": 10,
              "solidity": 0.2
             }
            },
            "type": "bar"
           }
          ],
          "barpolar": [
           {
            "marker": {
             "line": {
              "color": "#E5ECF6",
              "width": 0.5
             },
             "pattern": {
              "fillmode": "overlay",
              "size": 10,
              "solidity": 0.2
             }
            },
            "type": "barpolar"
           }
          ],
          "carpet": [
           {
            "aaxis": {
             "endlinecolor": "#2a3f5f",
             "gridcolor": "white",
             "linecolor": "white",
             "minorgridcolor": "white",
             "startlinecolor": "#2a3f5f"
            },
            "baxis": {
             "endlinecolor": "#2a3f5f",
             "gridcolor": "white",
             "linecolor": "white",
             "minorgridcolor": "white",
             "startlinecolor": "#2a3f5f"
            },
            "type": "carpet"
           }
          ],
          "choropleth": [
           {
            "colorbar": {
             "outlinewidth": 0,
             "ticks": ""
            },
            "type": "choropleth"
           }
          ],
          "contour": [
           {
            "colorbar": {
             "outlinewidth": 0,
             "ticks": ""
            },
            "colorscale": [
             [
              0,
              "#0d0887"
             ],
             [
              0.1111111111111111,
              "#46039f"
             ],
             [
              0.2222222222222222,
              "#7201a8"
             ],
             [
              0.3333333333333333,
              "#9c179e"
             ],
             [
              0.4444444444444444,
              "#bd3786"
             ],
             [
              0.5555555555555556,
              "#d8576b"
             ],
             [
              0.6666666666666666,
              "#ed7953"
             ],
             [
              0.7777777777777778,
              "#fb9f3a"
             ],
             [
              0.8888888888888888,
              "#fdca26"
             ],
             [
              1,
              "#f0f921"
             ]
            ],
            "type": "contour"
           }
          ],
          "contourcarpet": [
           {
            "colorbar": {
             "outlinewidth": 0,
             "ticks": ""
            },
            "type": "contourcarpet"
           }
          ],
          "heatmap": [
           {
            "colorbar": {
             "outlinewidth": 0,
             "ticks": ""
            },
            "colorscale": [
             [
              0,
              "#0d0887"
             ],
             [
              0.1111111111111111,
              "#46039f"
             ],
             [
              0.2222222222222222,
              "#7201a8"
             ],
             [
              0.3333333333333333,
              "#9c179e"
             ],
             [
              0.4444444444444444,
              "#bd3786"
             ],
             [
              0.5555555555555556,
              "#d8576b"
             ],
             [
              0.6666666666666666,
              "#ed7953"
             ],
             [
              0.7777777777777778,
              "#fb9f3a"
             ],
             [
              0.8888888888888888,
              "#fdca26"
             ],
             [
              1,
              "#f0f921"
             ]
            ],
            "type": "heatmap"
           }
          ],
          "heatmapgl": [
           {
            "colorbar": {
             "outlinewidth": 0,
             "ticks": ""
            },
            "colorscale": [
             [
              0,
              "#0d0887"
             ],
             [
              0.1111111111111111,
              "#46039f"
             ],
             [
              0.2222222222222222,
              "#7201a8"
             ],
             [
              0.3333333333333333,
              "#9c179e"
             ],
             [
              0.4444444444444444,
              "#bd3786"
             ],
             [
              0.5555555555555556,
              "#d8576b"
             ],
             [
              0.6666666666666666,
              "#ed7953"
             ],
             [
              0.7777777777777778,
              "#fb9f3a"
             ],
             [
              0.8888888888888888,
              "#fdca26"
             ],
             [
              1,
              "#f0f921"
             ]
            ],
            "type": "heatmapgl"
           }
          ],
          "histogram": [
           {
            "marker": {
             "pattern": {
              "fillmode": "overlay",
              "size": 10,
              "solidity": 0.2
             }
            },
            "type": "histogram"
           }
          ],
          "histogram2d": [
           {
            "colorbar": {
             "outlinewidth": 0,
             "ticks": ""
            },
            "colorscale": [
             [
              0,
              "#0d0887"
             ],
             [
              0.1111111111111111,
              "#46039f"
             ],
             [
              0.2222222222222222,
              "#7201a8"
             ],
             [
              0.3333333333333333,
              "#9c179e"
             ],
             [
              0.4444444444444444,
              "#bd3786"
             ],
             [
              0.5555555555555556,
              "#d8576b"
             ],
             [
              0.6666666666666666,
              "#ed7953"
             ],
             [
              0.7777777777777778,
              "#fb9f3a"
             ],
             [
              0.8888888888888888,
              "#fdca26"
             ],
             [
              1,
              "#f0f921"
             ]
            ],
            "type": "histogram2d"
           }
          ],
          "histogram2dcontour": [
           {
            "colorbar": {
             "outlinewidth": 0,
             "ticks": ""
            },
            "colorscale": [
             [
              0,
              "#0d0887"
             ],
             [
              0.1111111111111111,
              "#46039f"
             ],
             [
              0.2222222222222222,
              "#7201a8"
             ],
             [
              0.3333333333333333,
              "#9c179e"
             ],
             [
              0.4444444444444444,
              "#bd3786"
             ],
             [
              0.5555555555555556,
              "#d8576b"
             ],
             [
              0.6666666666666666,
              "#ed7953"
             ],
             [
              0.7777777777777778,
              "#fb9f3a"
             ],
             [
              0.8888888888888888,
              "#fdca26"
             ],
             [
              1,
              "#f0f921"
             ]
            ],
            "type": "histogram2dcontour"
           }
          ],
          "mesh3d": [
           {
            "colorbar": {
             "outlinewidth": 0,
             "ticks": ""
            },
            "type": "mesh3d"
           }
          ],
          "parcoords": [
           {
            "line": {
             "colorbar": {
              "outlinewidth": 0,
              "ticks": ""
             }
            },
            "type": "parcoords"
           }
          ],
          "pie": [
           {
            "automargin": true,
            "type": "pie"
           }
          ],
          "scatter": [
           {
            "marker": {
             "colorbar": {
              "outlinewidth": 0,
              "ticks": ""
             }
            },
            "type": "scatter"
           }
          ],
          "scatter3d": [
           {
            "line": {
             "colorbar": {
              "outlinewidth": 0,
              "ticks": ""
             }
            },
            "marker": {
             "colorbar": {
              "outlinewidth": 0,
              "ticks": ""
             }
            },
            "type": "scatter3d"
           }
          ],
          "scattercarpet": [
           {
            "marker": {
             "colorbar": {
              "outlinewidth": 0,
              "ticks": ""
             }
            },
            "type": "scattercarpet"
           }
          ],
          "scattergeo": [
           {
            "marker": {
             "colorbar": {
              "outlinewidth": 0,
              "ticks": ""
             }
            },
            "type": "scattergeo"
           }
          ],
          "scattergl": [
           {
            "marker": {
             "colorbar": {
              "outlinewidth": 0,
              "ticks": ""
             }
            },
            "type": "scattergl"
           }
          ],
          "scattermapbox": [
           {
            "marker": {
             "colorbar": {
              "outlinewidth": 0,
              "ticks": ""
             }
            },
            "type": "scattermapbox"
           }
          ],
          "scatterpolar": [
           {
            "marker": {
             "colorbar": {
              "outlinewidth": 0,
              "ticks": ""
             }
            },
            "type": "scatterpolar"
           }
          ],
          "scatterpolargl": [
           {
            "marker": {
             "colorbar": {
              "outlinewidth": 0,
              "ticks": ""
             }
            },
            "type": "scatterpolargl"
           }
          ],
          "scatterternary": [
           {
            "marker": {
             "colorbar": {
              "outlinewidth": 0,
              "ticks": ""
             }
            },
            "type": "scatterternary"
           }
          ],
          "surface": [
           {
            "colorbar": {
             "outlinewidth": 0,
             "ticks": ""
            },
            "colorscale": [
             [
              0,
              "#0d0887"
             ],
             [
              0.1111111111111111,
              "#46039f"
             ],
             [
              0.2222222222222222,
              "#7201a8"
             ],
             [
              0.3333333333333333,
              "#9c179e"
             ],
             [
              0.4444444444444444,
              "#bd3786"
             ],
             [
              0.5555555555555556,
              "#d8576b"
             ],
             [
              0.6666666666666666,
              "#ed7953"
             ],
             [
              0.7777777777777778,
              "#fb9f3a"
             ],
             [
              0.8888888888888888,
              "#fdca26"
             ],
             [
              1,
              "#f0f921"
             ]
            ],
            "type": "surface"
           }
          ],
          "table": [
           {
            "cells": {
             "fill": {
              "color": "#EBF0F8"
             },
             "line": {
              "color": "white"
             }
            },
            "header": {
             "fill": {
              "color": "#C8D4E3"
             },
             "line": {
              "color": "white"
             }
            },
            "type": "table"
           }
          ]
         },
         "layout": {
          "annotationdefaults": {
           "arrowcolor": "#2a3f5f",
           "arrowhead": 0,
           "arrowwidth": 1
          },
          "autotypenumbers": "strict",
          "coloraxis": {
           "colorbar": {
            "outlinewidth": 0,
            "ticks": ""
           }
          },
          "colorscale": {
           "diverging": [
            [
             0,
             "#8e0152"
            ],
            [
             0.1,
             "#c51b7d"
            ],
            [
             0.2,
             "#de77ae"
            ],
            [
             0.3,
             "#f1b6da"
            ],
            [
             0.4,
             "#fde0ef"
            ],
            [
             0.5,
             "#f7f7f7"
            ],
            [
             0.6,
             "#e6f5d0"
            ],
            [
             0.7,
             "#b8e186"
            ],
            [
             0.8,
             "#7fbc41"
            ],
            [
             0.9,
             "#4d9221"
            ],
            [
             1,
             "#276419"
            ]
           ],
           "sequential": [
            [
             0,
             "#0d0887"
            ],
            [
             0.1111111111111111,
             "#46039f"
            ],
            [
             0.2222222222222222,
             "#7201a8"
            ],
            [
             0.3333333333333333,
             "#9c179e"
            ],
            [
             0.4444444444444444,
             "#bd3786"
            ],
            [
             0.5555555555555556,
             "#d8576b"
            ],
            [
             0.6666666666666666,
             "#ed7953"
            ],
            [
             0.7777777777777778,
             "#fb9f3a"
            ],
            [
             0.8888888888888888,
             "#fdca26"
            ],
            [
             1,
             "#f0f921"
            ]
           ],
           "sequentialminus": [
            [
             0,
             "#0d0887"
            ],
            [
             0.1111111111111111,
             "#46039f"
            ],
            [
             0.2222222222222222,
             "#7201a8"
            ],
            [
             0.3333333333333333,
             "#9c179e"
            ],
            [
             0.4444444444444444,
             "#bd3786"
            ],
            [
             0.5555555555555556,
             "#d8576b"
            ],
            [
             0.6666666666666666,
             "#ed7953"
            ],
            [
             0.7777777777777778,
             "#fb9f3a"
            ],
            [
             0.8888888888888888,
             "#fdca26"
            ],
            [
             1,
             "#f0f921"
            ]
           ]
          },
          "colorway": [
           "#636efa",
           "#EF553B",
           "#00cc96",
           "#ab63fa",
           "#FFA15A",
           "#19d3f3",
           "#FF6692",
           "#B6E880",
           "#FF97FF",
           "#FECB52"
          ],
          "font": {
           "color": "#2a3f5f"
          },
          "geo": {
           "bgcolor": "white",
           "lakecolor": "white",
           "landcolor": "#E5ECF6",
           "showlakes": true,
           "showland": true,
           "subunitcolor": "white"
          },
          "hoverlabel": {
           "align": "left"
          },
          "hovermode": "closest",
          "mapbox": {
           "style": "light"
          },
          "paper_bgcolor": "white",
          "plot_bgcolor": "#E5ECF6",
          "polar": {
           "angularaxis": {
            "gridcolor": "white",
            "linecolor": "white",
            "ticks": ""
           },
           "bgcolor": "#E5ECF6",
           "radialaxis": {
            "gridcolor": "white",
            "linecolor": "white",
            "ticks": ""
           }
          },
          "scene": {
           "xaxis": {
            "backgroundcolor": "#E5ECF6",
            "gridcolor": "white",
            "gridwidth": 2,
            "linecolor": "white",
            "showbackground": true,
            "ticks": "",
            "zerolinecolor": "white"
           },
           "yaxis": {
            "backgroundcolor": "#E5ECF6",
            "gridcolor": "white",
            "gridwidth": 2,
            "linecolor": "white",
            "showbackground": true,
            "ticks": "",
            "zerolinecolor": "white"
           },
           "zaxis": {
            "backgroundcolor": "#E5ECF6",
            "gridcolor": "white",
            "gridwidth": 2,
            "linecolor": "white",
            "showbackground": true,
            "ticks": "",
            "zerolinecolor": "white"
           }
          },
          "shapedefaults": {
           "line": {
            "color": "#2a3f5f"
           }
          },
          "ternary": {
           "aaxis": {
            "gridcolor": "white",
            "linecolor": "white",
            "ticks": ""
           },
           "baxis": {
            "gridcolor": "white",
            "linecolor": "white",
            "ticks": ""
           },
           "bgcolor": "#E5ECF6",
           "caxis": {
            "gridcolor": "white",
            "linecolor": "white",
            "ticks": ""
           }
          },
          "title": {
           "x": 0.05
          },
          "xaxis": {
           "automargin": true,
           "gridcolor": "white",
           "linecolor": "white",
           "ticks": "",
           "title": {
            "standoff": 15
           },
           "zerolinecolor": "white",
           "zerolinewidth": 2
          },
          "yaxis": {
           "automargin": true,
           "gridcolor": "white",
           "linecolor": "white",
           "ticks": "",
           "title": {
            "standoff": 15
           },
           "zerolinecolor": "white",
           "zerolinewidth": 2
          }
         }
        },
        "width": 600,
        "xaxis": {
         "linecolor": "black",
         "linewidth": 2,
         "showgrid": true,
         "showline": true,
         "title": {
          "text": "False Positive Rate"
         }
        },
        "yaxis": {
         "linecolor": "black",
         "linewidth": 2,
         "showgrid": false,
         "showline": true,
         "title": {
          "text": "True Positive Rate"
         }
        }
       }
      }
     },
     "metadata": {},
     "output_type": "display_data"
    }
   ],
   "source": [
    "from autorad.utils import io\n",
    "from autorad.visualization import plotly_utils\n",
    "from autorad.training.infer import Inferrer\n",
    "\n",
    "best_params = io.load_json(result_dir / \"best_params.json\")\n",
    "inferrer = Inferrer(params=best_params, result_dir=result_dir)\n",
    "inferrer.fit_eval(feature_dataset, result_name=\"test\")\n",
    "\n",
    "results = pd.read_csv(result_dir / \"test.csv\")\n",
    "plotly_utils.plot_roc_curve(results.y_true, results.y_pred_proba)"
   ]
  },
  {
   "cell_type": "code",
   "execution_count": 24,
   "metadata": {},
   "outputs": [
    {
     "data": {
      "text/html": [
       "<div>\n",
       "<style scoped>\n",
       "    .dataframe tbody tr th:only-of-type {\n",
       "        vertical-align: middle;\n",
       "    }\n",
       "\n",
       "    .dataframe tbody tr th {\n",
       "        vertical-align: top;\n",
       "    }\n",
       "\n",
       "    .dataframe thead th {\n",
       "        text-align: right;\n",
       "    }\n",
       "</style>\n",
       "<table border=\"1\" class=\"dataframe\">\n",
       "  <thead>\n",
       "    <tr style=\"text-align: right;\">\n",
       "      <th></th>\n",
       "      <th>y_true</th>\n",
       "      <th>y_pred_proba</th>\n",
       "    </tr>\n",
       "  </thead>\n",
       "  <tbody>\n",
       "    <tr>\n",
       "      <th>0</th>\n",
       "      <td>1</td>\n",
       "      <td>0.823570</td>\n",
       "    </tr>\n",
       "    <tr>\n",
       "      <th>1</th>\n",
       "      <td>1</td>\n",
       "      <td>0.943529</td>\n",
       "    </tr>\n",
       "    <tr>\n",
       "      <th>2</th>\n",
       "      <td>1</td>\n",
       "      <td>0.978465</td>\n",
       "    </tr>\n",
       "    <tr>\n",
       "      <th>3</th>\n",
       "      <td>1</td>\n",
       "      <td>0.864438</td>\n",
       "    </tr>\n",
       "    <tr>\n",
       "      <th>4</th>\n",
       "      <td>1</td>\n",
       "      <td>0.794949</td>\n",
       "    </tr>\n",
       "    <tr>\n",
       "      <th>5</th>\n",
       "      <td>1</td>\n",
       "      <td>0.742025</td>\n",
       "    </tr>\n",
       "    <tr>\n",
       "      <th>6</th>\n",
       "      <td>1</td>\n",
       "      <td>0.009910</td>\n",
       "    </tr>\n",
       "    <tr>\n",
       "      <th>7</th>\n",
       "      <td>1</td>\n",
       "      <td>0.981732</td>\n",
       "    </tr>\n",
       "    <tr>\n",
       "      <th>8</th>\n",
       "      <td>1</td>\n",
       "      <td>0.676197</td>\n",
       "    </tr>\n",
       "    <tr>\n",
       "      <th>9</th>\n",
       "      <td>1</td>\n",
       "      <td>0.988230</td>\n",
       "    </tr>\n",
       "    <tr>\n",
       "      <th>10</th>\n",
       "      <td>1</td>\n",
       "      <td>0.931574</td>\n",
       "    </tr>\n",
       "    <tr>\n",
       "      <th>11</th>\n",
       "      <td>1</td>\n",
       "      <td>0.440251</td>\n",
       "    </tr>\n",
       "    <tr>\n",
       "      <th>12</th>\n",
       "      <td>1</td>\n",
       "      <td>0.186314</td>\n",
       "    </tr>\n",
       "    <tr>\n",
       "      <th>13</th>\n",
       "      <td>0</td>\n",
       "      <td>0.050377</td>\n",
       "    </tr>\n",
       "    <tr>\n",
       "      <th>14</th>\n",
       "      <td>0</td>\n",
       "      <td>0.511221</td>\n",
       "    </tr>\n",
       "    <tr>\n",
       "      <th>15</th>\n",
       "      <td>0</td>\n",
       "      <td>0.518237</td>\n",
       "    </tr>\n",
       "    <tr>\n",
       "      <th>16</th>\n",
       "      <td>0</td>\n",
       "      <td>0.830529</td>\n",
       "    </tr>\n",
       "    <tr>\n",
       "      <th>17</th>\n",
       "      <td>0</td>\n",
       "      <td>0.930647</td>\n",
       "    </tr>\n",
       "    <tr>\n",
       "      <th>18</th>\n",
       "      <td>0</td>\n",
       "      <td>0.020959</td>\n",
       "    </tr>\n",
       "    <tr>\n",
       "      <th>19</th>\n",
       "      <td>0</td>\n",
       "      <td>0.116624</td>\n",
       "    </tr>\n",
       "  </tbody>\n",
       "</table>\n",
       "</div>"
      ],
      "text/plain": [
       "    y_true  y_pred_proba\n",
       "0        1      0.823570\n",
       "1        1      0.943529\n",
       "2        1      0.978465\n",
       "3        1      0.864438\n",
       "4        1      0.794949\n",
       "5        1      0.742025\n",
       "6        1      0.009910\n",
       "7        1      0.981732\n",
       "8        1      0.676197\n",
       "9        1      0.988230\n",
       "10       1      0.931574\n",
       "11       1      0.440251\n",
       "12       1      0.186314\n",
       "13       0      0.050377\n",
       "14       0      0.511221\n",
       "15       0      0.518237\n",
       "16       0      0.830529\n",
       "17       0      0.930647\n",
       "18       0      0.020959\n",
       "19       0      0.116624"
      ]
     },
     "execution_count": 24,
     "metadata": {},
     "output_type": "execute_result"
    }
   ],
   "source": [
    "results"
   ]
  },
  {
   "cell_type": "code",
   "execution_count": null,
   "metadata": {},
   "outputs": [],
   "source": []
  }
 ],
 "metadata": {
  "kernelspec": {
   "display_name": "Python 3.10.6 ('.venv': venv)",
   "language": "python",
   "name": "python3"
  },
  "language_info": {
   "codemirror_mode": {
    "name": "ipython",
    "version": 3
   },
   "file_extension": ".py",
   "mimetype": "text/x-python",
   "name": "python",
   "nbconvert_exporter": "python",
   "pygments_lexer": "ipython3",
   "version": "3.10.8"
  },
  "vscode": {
   "interpreter": {
    "hash": "4606faa647a50eb1ee620aea3f0dae67125d13bcdb50cb308a99c92cbbc80ce6"
   }
  }
 },
 "nbformat": 4,
 "nbformat_minor": 2
}
