{
 "cells": [
  {
   "cell_type": "markdown",
   "metadata": {},
   "source": [
    "In this tutorial, we will analyze Lipoma dataset from the [WORC Database](https://github.com/MStarmans91/WORCDatabase/tree/development).\n",
    "\n",
    "More details on the dataset as well as the original analysis performed by their authors can be found here:\n",
    "\n",
    "`Starmans, M. P. A. et al. (2021). The WORC* database: MRI and CT scans, segmentations, and clinical labels for 932 patients from six radiomics studies. Submitted, preprint available from https://doi.org/10.1101/2021.08.19.21262238`\n",
    "\n",
    "`The experiments are described in the following paper: Starmans, M. P. A. et al. (2021). Reproducible radiomics through automated machine learning validated on twelve clinical applications. Submitted, preprint available from https://arxiv.org/abs/2108.08618.`"
   ]
  },
  {
   "cell_type": "code",
   "execution_count": null,
   "metadata": {},
   "outputs": [],
   "source": [
    "# In case you haven't installed AutoRadiomics\n",
    "!pip install autorad"
   ]
  },
  {
   "cell_type": "code",
   "execution_count": null,
   "metadata": {},
   "outputs": [],
   "source": [
    "from autorad.external.download_WORC import download_WORCDatabase\n",
    "from pathlib import Path\n",
    "import pandas as pd\n",
    "\n",
    "# Set where we will save our data and results\n",
    "base_dir = Path.cwd() / \"autorad_tutorial\"\n",
    "data_dir = base_dir / \"data\"\n",
    "result_dir = base_dir / \"results\"\n",
    "data_dir.mkdir(exist_ok=True, parents=True)\n",
    "result_dir.mkdir(exist_ok=True, parents=True)\n",
    "\n",
    "%load_ext autoreload\n",
    "%autoreload 2\n",
    "\n",
    "# download data (it may take a few minutes)\n",
    "download_WORCDatabase(\n",
    "    dataset=\"Lipo\",\n",
    "    data_folder=data_dir,\n",
    "    n_subjects=30,\n",
    "    )"
   ]
  },
  {
   "cell_type": "code",
   "execution_count": 101,
   "metadata": {},
   "outputs": [
    {
     "name": "stdout",
     "output_type": "stream",
     "text": [
      "\u001b[1m\u001b[36mLipo-007\u001b[m\u001b[m   \u001b[1m\u001b[36mLipo-031\u001b[m\u001b[m   \u001b[1m\u001b[36mLipo-050\u001b[m\u001b[m   \u001b[1m\u001b[36mLipo-063\u001b[m\u001b[m   \u001b[1m\u001b[36mLipo-082\u001b[m\u001b[m   \u001b[1m\u001b[36mLipo-106\u001b[m\u001b[m   labels.csv\n",
      "\u001b[1m\u001b[36mLipo-008\u001b[m\u001b[m   \u001b[1m\u001b[36mLipo-039\u001b[m\u001b[m   \u001b[1m\u001b[36mLipo-051\u001b[m\u001b[m   \u001b[1m\u001b[36mLipo-064\u001b[m\u001b[m   \u001b[1m\u001b[36mLipo-085\u001b[m\u001b[m   \u001b[1m\u001b[36mLipo-107\u001b[m\u001b[m\n",
      "\u001b[1m\u001b[36mLipo-009\u001b[m\u001b[m   \u001b[1m\u001b[36mLipo-043\u001b[m\u001b[m   \u001b[1m\u001b[36mLipo-052\u001b[m\u001b[m   \u001b[1m\u001b[36mLipo-066\u001b[m\u001b[m   \u001b[1m\u001b[36mLipo-091\u001b[m\u001b[m   \u001b[1m\u001b[36mLipo-108\u001b[m\u001b[m\n",
      "\u001b[1m\u001b[36mLipo-012\u001b[m\u001b[m   \u001b[1m\u001b[36mLipo-044\u001b[m\u001b[m   \u001b[1m\u001b[36mLipo-055\u001b[m\u001b[m   \u001b[1m\u001b[36mLipo-067\u001b[m\u001b[m   \u001b[1m\u001b[36mLipo-094\u001b[m\u001b[m   \u001b[1m\u001b[36mLipo-111\u001b[m\u001b[m\n",
      "\u001b[1m\u001b[36mLipo-028\u001b[m\u001b[m   \u001b[1m\u001b[36mLipo-049\u001b[m\u001b[m   \u001b[1m\u001b[36mLipo-057\u001b[m\u001b[m   \u001b[1m\u001b[36mLipo-068\u001b[m\u001b[m   \u001b[1m\u001b[36mLipo-095\u001b[m\u001b[m   \u001b[1m\u001b[36mLipo-112\u001b[m\u001b[m\n"
     ]
    }
   ],
   "source": [
    "!ls $data_dir"
   ]
  },
  {
   "cell_type": "code",
   "execution_count": 102,
   "metadata": {},
   "outputs": [
    {
     "data": {
      "text/html": [
       "<div>\n",
       "<style scoped>\n",
       "    .dataframe tbody tr th:only-of-type {\n",
       "        vertical-align: middle;\n",
       "    }\n",
       "\n",
       "    .dataframe tbody tr th {\n",
       "        vertical-align: top;\n",
       "    }\n",
       "\n",
       "    .dataframe thead th {\n",
       "        text-align: right;\n",
       "    }\n",
       "</style>\n",
       "<table border=\"1\" class=\"dataframe\">\n",
       "  <thead>\n",
       "    <tr style=\"text-align: right;\">\n",
       "      <th></th>\n",
       "      <th>ID</th>\n",
       "      <th>image_path</th>\n",
       "      <th>segmentation_path</th>\n",
       "    </tr>\n",
       "  </thead>\n",
       "  <tbody>\n",
       "    <tr>\n",
       "      <th>19</th>\n",
       "      <td>Lipo-007</td>\n",
       "      <td>Lipo-007/image.nii.gz</td>\n",
       "      <td>Lipo-007/segmentation.nii.gz</td>\n",
       "    </tr>\n",
       "    <tr>\n",
       "      <th>11</th>\n",
       "      <td>Lipo-028</td>\n",
       "      <td>Lipo-028/image.nii.gz</td>\n",
       "      <td>Lipo-028/segmentation.nii.gz</td>\n",
       "    </tr>\n",
       "    <tr>\n",
       "      <th>0</th>\n",
       "      <td>Lipo-112</td>\n",
       "      <td>Lipo-112/image.nii.gz</td>\n",
       "      <td>Lipo-112/segmentation.nii.gz</td>\n",
       "    </tr>\n",
       "    <tr>\n",
       "      <th>20</th>\n",
       "      <td>Lipo-064</td>\n",
       "      <td>Lipo-064/image.nii.gz</td>\n",
       "      <td>Lipo-064/segmentation.nii.gz</td>\n",
       "    </tr>\n",
       "    <tr>\n",
       "      <th>15</th>\n",
       "      <td>Lipo-111</td>\n",
       "      <td>Lipo-111/image.nii.gz</td>\n",
       "      <td>Lipo-111/segmentation.nii.gz</td>\n",
       "    </tr>\n",
       "  </tbody>\n",
       "</table>\n",
       "</div>"
      ],
      "text/plain": [
       "          ID             image_path             segmentation_path\n",
       "19  Lipo-007  Lipo-007/image.nii.gz  Lipo-007/segmentation.nii.gz\n",
       "11  Lipo-028  Lipo-028/image.nii.gz  Lipo-028/segmentation.nii.gz\n",
       "0   Lipo-112  Lipo-112/image.nii.gz  Lipo-112/segmentation.nii.gz\n",
       "20  Lipo-064  Lipo-064/image.nii.gz  Lipo-064/segmentation.nii.gz\n",
       "15  Lipo-111  Lipo-111/image.nii.gz  Lipo-111/segmentation.nii.gz"
      ]
     },
     "execution_count": 102,
     "metadata": {},
     "output_type": "execute_result"
    }
   ],
   "source": [
    "from autorad.data.utils import get_paths_with_separate_folder_per_case\n",
    "\n",
    "paths_df = get_paths_with_separate_folder_per_case(data_dir, relative=True)\n",
    "paths_df.sample(5)"
   ]
  },
  {
   "cell_type": "code",
   "execution_count": 107,
   "metadata": {},
   "outputs": [
    {
     "ename": "TypeError",
     "evalue": "ImageDataset.plot_examples() got an unexpected keyword argument 'window'",
     "output_type": "error",
     "traceback": [
      "\u001b[0;31m---------------------------------------------------------------------------\u001b[0m",
      "\u001b[0;31mTypeError\u001b[0m                                 Traceback (most recent call last)",
      "\u001b[1;32m/Users/p.woznicki/git/AutoRadiomics/examples/example_WORC.ipynb Cell 6'\u001b[0m in \u001b[0;36m<cell line: 14>\u001b[0;34m()\u001b[0m\n\u001b[1;32m      <a href='vscode-notebook-cell:/Users/p.woznicki/git/AutoRadiomics/examples/example_WORC.ipynb#ch0000005?line=6'>7</a>\u001b[0m image_dataset \u001b[39m=\u001b[39m ImageDataset(\n\u001b[1;32m      <a href='vscode-notebook-cell:/Users/p.woznicki/git/AutoRadiomics/examples/example_WORC.ipynb#ch0000005?line=7'>8</a>\u001b[0m     paths_df,\n\u001b[1;32m      <a href='vscode-notebook-cell:/Users/p.woznicki/git/AutoRadiomics/examples/example_WORC.ipynb#ch0000005?line=8'>9</a>\u001b[0m     ID_colname\u001b[39m=\u001b[39m\u001b[39m\"\u001b[39m\u001b[39mID\u001b[39m\u001b[39m\"\u001b[39m,\n\u001b[1;32m     <a href='vscode-notebook-cell:/Users/p.woznicki/git/AutoRadiomics/examples/example_WORC.ipynb#ch0000005?line=9'>10</a>\u001b[0m     root_dir\u001b[39m=\u001b[39mdata_dir,\n\u001b[1;32m     <a href='vscode-notebook-cell:/Users/p.woznicki/git/AutoRadiomics/examples/example_WORC.ipynb#ch0000005?line=10'>11</a>\u001b[0m )\n\u001b[1;32m     <a href='vscode-notebook-cell:/Users/p.woznicki/git/AutoRadiomics/examples/example_WORC.ipynb#ch0000005?line=12'>13</a>\u001b[0m \u001b[39m#Let's take a look at the data, plotting random 10 cases\u001b[39;00m\n\u001b[0;32m---> <a href='vscode-notebook-cell:/Users/p.woznicki/git/AutoRadiomics/examples/example_WORC.ipynb#ch0000005?line=13'>14</a>\u001b[0m image_dataset\u001b[39m.\u001b[39;49mplot_examples(n\u001b[39m=\u001b[39;49m\u001b[39m10\u001b[39;49m, window\u001b[39m=\u001b[39;49m\u001b[39m\"\u001b[39;49m\u001b[39mbone\u001b[39;49m\u001b[39m\"\u001b[39;49m)\n",
      "\u001b[0;31mTypeError\u001b[0m: ImageDataset.plot_examples() got an unexpected keyword argument 'window'"
     ]
    }
   ],
   "source": [
    "from autorad.data.dataset import ImageDataset\n",
    "from autorad.feature_extraction.extractor import FeatureExtractor\n",
    "import logging\n",
    "\n",
    "logging.getLogger().setLevel(logging.CRITICAL)\n",
    "\n",
    "image_dataset = ImageDataset(\n",
    "    paths_df,\n",
    "    ID_colname=\"ID\",\n",
    "    root_dir=data_dir,\n",
    ")\n",
    "\n",
    "#for faster computation, let's resize the images\n",
    "\n",
    "#Let's take a look at the data, plotting random 10 cases\n",
    "image_dataset.plot_examples(n=10, window=\"bone\")"
   ]
  },
  {
   "cell_type": "code",
   "execution_count": 108,
   "metadata": {},
   "outputs": [
    {
     "name": "stderr",
     "output_type": "stream",
     "text": [
      "5it [00:14,  2.45s/it]"
     ]
    },
    {
     "ename": "KeyboardInterrupt",
     "evalue": "",
     "output_type": "error",
     "traceback": [
      "\u001b[0;31m---------------------------------------------------------------------------\u001b[0m",
      "\u001b[0;31mKeyboardInterrupt\u001b[0m                         Traceback (most recent call last)",
      "\u001b[1;32m/Users/p.woznicki/git/AutoRadiomics/examples/example_WORC.ipynb Cell 7'\u001b[0m in \u001b[0;36m<cell line: 2>\u001b[0;34m()\u001b[0m\n\u001b[1;32m      <a href='vscode-notebook-cell:/Users/p.woznicki/git/AutoRadiomics/examples/example_WORC.ipynb#ch0000020?line=0'>1</a>\u001b[0m extractor \u001b[39m=\u001b[39m FeatureExtractor(image_dataset)\n\u001b[0;32m----> <a href='vscode-notebook-cell:/Users/p.woznicki/git/AutoRadiomics/examples/example_WORC.ipynb#ch0000020?line=1'>2</a>\u001b[0m feature_df \u001b[39m=\u001b[39m extractor\u001b[39m.\u001b[39;49mrun()\n",
      "File \u001b[0;32m~/git/AutoRadiomics/autorad/feature_extraction/extractor.py:69\u001b[0m, in \u001b[0;36mFeatureExtractor.run\u001b[0;34m(self)\u001b[0m\n\u001b[1;32m     <a href='file:///Users/p.woznicki/git/AutoRadiomics/autorad/feature_extraction/extractor.py?line=66'>67</a>\u001b[0m log\u001b[39m.\u001b[39minfo(\u001b[39m\"\u001b[39m\u001b[39mExtracting features\u001b[39m\u001b[39m\"\u001b[39m)\n\u001b[1;32m     <a href='file:///Users/p.woznicki/git/AutoRadiomics/autorad/feature_extraction/extractor.py?line=67'>68</a>\u001b[0m \u001b[39mif\u001b[39;00m \u001b[39mself\u001b[39m\u001b[39m.\u001b[39mn_jobs \u001b[39mis\u001b[39;00m \u001b[39mNone\u001b[39;00m:\n\u001b[0;32m---> <a href='file:///Users/p.woznicki/git/AutoRadiomics/autorad/feature_extraction/extractor.py?line=68'>69</a>\u001b[0m     feature_df \u001b[39m=\u001b[39m \u001b[39mself\u001b[39;49m\u001b[39m.\u001b[39;49mget_features()\n\u001b[1;32m     <a href='file:///Users/p.woznicki/git/AutoRadiomics/autorad/feature_extraction/extractor.py?line=69'>70</a>\u001b[0m \u001b[39melse\u001b[39;00m:\n\u001b[1;32m     <a href='file:///Users/p.woznicki/git/AutoRadiomics/autorad/feature_extraction/extractor.py?line=70'>71</a>\u001b[0m     feature_df \u001b[39m=\u001b[39m \u001b[39mself\u001b[39m\u001b[39m.\u001b[39mget_features_parallel()\n",
      "File \u001b[0;32m~/git/AutoRadiomics/autorad/utils/utils.py:19\u001b[0m, in \u001b[0;36mtime_it.<locals>.wrapper\u001b[0;34m(*args, **kwargs)\u001b[0m\n\u001b[1;32m     <a href='file:///Users/p.woznicki/git/AutoRadiomics/autorad/utils/utils.py?line=16'>17</a>\u001b[0m \u001b[39mdef\u001b[39;00m \u001b[39mwrapper\u001b[39m(\u001b[39m*\u001b[39margs, \u001b[39m*\u001b[39m\u001b[39m*\u001b[39mkwargs):\n\u001b[1;32m     <a href='file:///Users/p.woznicki/git/AutoRadiomics/autorad/utils/utils.py?line=17'>18</a>\u001b[0m     start \u001b[39m=\u001b[39m time\u001b[39m.\u001b[39mtime()\n\u001b[0;32m---> <a href='file:///Users/p.woznicki/git/AutoRadiomics/autorad/utils/utils.py?line=18'>19</a>\u001b[0m     result \u001b[39m=\u001b[39m func(\u001b[39m*\u001b[39;49margs, \u001b[39m*\u001b[39;49m\u001b[39m*\u001b[39;49mkwargs)\n\u001b[1;32m     <a href='file:///Users/p.woznicki/git/AutoRadiomics/autorad/utils/utils.py?line=19'>20</a>\u001b[0m     end \u001b[39m=\u001b[39m time\u001b[39m.\u001b[39mtime()\n\u001b[1;32m     <a href='file:///Users/p.woznicki/git/AutoRadiomics/autorad/utils/utils.py?line=20'>21</a>\u001b[0m     log\u001b[39m.\u001b[39minfo(func\u001b[39m.\u001b[39m\u001b[39m__name__\u001b[39m \u001b[39m+\u001b[39m \u001b[39m\"\u001b[39m\u001b[39m took \u001b[39m\u001b[39m\"\u001b[39m \u001b[39m+\u001b[39m \u001b[39mstr\u001b[39m(end \u001b[39m-\u001b[39m start) \u001b[39m+\u001b[39m \u001b[39m\"\u001b[39m\u001b[39msec\u001b[39m\u001b[39m\"\u001b[39m)\n",
      "File \u001b[0;32m~/git/AutoRadiomics/autorad/feature_extraction/extractor.py:134\u001b[0m, in \u001b[0;36mFeatureExtractor.get_features\u001b[0;34m(self)\u001b[0m\n\u001b[1;32m    <a href='file:///Users/p.woznicki/git/AutoRadiomics/autorad/feature_extraction/extractor.py?line=131'>132</a>\u001b[0m image_paths \u001b[39m=\u001b[39m \u001b[39mself\u001b[39m\u001b[39m.\u001b[39mdataset\u001b[39m.\u001b[39mimage_paths\n\u001b[1;32m    <a href='file:///Users/p.woznicki/git/AutoRadiomics/autorad/feature_extraction/extractor.py?line=132'>133</a>\u001b[0m mask_paths \u001b[39m=\u001b[39m \u001b[39mself\u001b[39m\u001b[39m.\u001b[39mdataset\u001b[39m.\u001b[39mmask_paths\n\u001b[0;32m--> <a href='file:///Users/p.woznicki/git/AutoRadiomics/autorad/feature_extraction/extractor.py?line=133'>134</a>\u001b[0m lst_of_feature_dicts \u001b[39m=\u001b[39m [\n\u001b[1;32m    <a href='file:///Users/p.woznicki/git/AutoRadiomics/autorad/feature_extraction/extractor.py?line=134'>135</a>\u001b[0m     \u001b[39mself\u001b[39m\u001b[39m.\u001b[39mget_features_for_single_case(image_path, mask_path)\n\u001b[1;32m    <a href='file:///Users/p.woznicki/git/AutoRadiomics/autorad/feature_extraction/extractor.py?line=135'>136</a>\u001b[0m     \u001b[39mfor\u001b[39;00m image_path, mask_path \u001b[39min\u001b[39;00m tqdm(\u001b[39mzip\u001b[39m(image_paths, mask_paths))\n\u001b[1;32m    <a href='file:///Users/p.woznicki/git/AutoRadiomics/autorad/feature_extraction/extractor.py?line=136'>137</a>\u001b[0m ]\n\u001b[1;32m    <a href='file:///Users/p.woznicki/git/AutoRadiomics/autorad/feature_extraction/extractor.py?line=137'>138</a>\u001b[0m feature_df \u001b[39m=\u001b[39m pd\u001b[39m.\u001b[39mDataFrame(lst_of_feature_dicts)\n\u001b[1;32m    <a href='file:///Users/p.woznicki/git/AutoRadiomics/autorad/feature_extraction/extractor.py?line=139'>140</a>\u001b[0m \u001b[39mreturn\u001b[39;00m feature_df\n",
      "File \u001b[0;32m~/git/AutoRadiomics/autorad/feature_extraction/extractor.py:135\u001b[0m, in \u001b[0;36m<listcomp>\u001b[0;34m(.0)\u001b[0m\n\u001b[1;32m    <a href='file:///Users/p.woznicki/git/AutoRadiomics/autorad/feature_extraction/extractor.py?line=131'>132</a>\u001b[0m image_paths \u001b[39m=\u001b[39m \u001b[39mself\u001b[39m\u001b[39m.\u001b[39mdataset\u001b[39m.\u001b[39mimage_paths\n\u001b[1;32m    <a href='file:///Users/p.woznicki/git/AutoRadiomics/autorad/feature_extraction/extractor.py?line=132'>133</a>\u001b[0m mask_paths \u001b[39m=\u001b[39m \u001b[39mself\u001b[39m\u001b[39m.\u001b[39mdataset\u001b[39m.\u001b[39mmask_paths\n\u001b[1;32m    <a href='file:///Users/p.woznicki/git/AutoRadiomics/autorad/feature_extraction/extractor.py?line=133'>134</a>\u001b[0m lst_of_feature_dicts \u001b[39m=\u001b[39m [\n\u001b[0;32m--> <a href='file:///Users/p.woznicki/git/AutoRadiomics/autorad/feature_extraction/extractor.py?line=134'>135</a>\u001b[0m     \u001b[39mself\u001b[39;49m\u001b[39m.\u001b[39;49mget_features_for_single_case(image_path, mask_path)\n\u001b[1;32m    <a href='file:///Users/p.woznicki/git/AutoRadiomics/autorad/feature_extraction/extractor.py?line=135'>136</a>\u001b[0m     \u001b[39mfor\u001b[39;00m image_path, mask_path \u001b[39min\u001b[39;00m tqdm(\u001b[39mzip\u001b[39m(image_paths, mask_paths))\n\u001b[1;32m    <a href='file:///Users/p.woznicki/git/AutoRadiomics/autorad/feature_extraction/extractor.py?line=136'>137</a>\u001b[0m ]\n\u001b[1;32m    <a href='file:///Users/p.woznicki/git/AutoRadiomics/autorad/feature_extraction/extractor.py?line=137'>138</a>\u001b[0m feature_df \u001b[39m=\u001b[39m pd\u001b[39m.\u001b[39mDataFrame(lst_of_feature_dicts)\n\u001b[1;32m    <a href='file:///Users/p.woznicki/git/AutoRadiomics/autorad/feature_extraction/extractor.py?line=139'>140</a>\u001b[0m \u001b[39mreturn\u001b[39;00m feature_df\n",
      "File \u001b[0;32m~/git/AutoRadiomics/autorad/feature_extraction/extractor.py:115\u001b[0m, in \u001b[0;36mFeatureExtractor.get_features_for_single_case\u001b[0;34m(self, image_path, mask_path)\u001b[0m\n\u001b[1;32m    <a href='file:///Users/p.woznicki/git/AutoRadiomics/autorad/feature_extraction/extractor.py?line=112'>113</a>\u001b[0m     \u001b[39mreturn\u001b[39;00m \u001b[39mNone\u001b[39;00m\n\u001b[1;32m    <a href='file:///Users/p.woznicki/git/AutoRadiomics/autorad/feature_extraction/extractor.py?line=113'>114</a>\u001b[0m \u001b[39mtry\u001b[39;00m:\n\u001b[0;32m--> <a href='file:///Users/p.woznicki/git/AutoRadiomics/autorad/feature_extraction/extractor.py?line=114'>115</a>\u001b[0m     feature_dict \u001b[39m=\u001b[39m \u001b[39mself\u001b[39;49m\u001b[39m.\u001b[39;49mextractor\u001b[39m.\u001b[39;49mexecute(\n\u001b[1;32m    <a href='file:///Users/p.woznicki/git/AutoRadiomics/autorad/feature_extraction/extractor.py?line=115'>116</a>\u001b[0m         \u001b[39mstr\u001b[39;49m(image_path),\n\u001b[1;32m    <a href='file:///Users/p.woznicki/git/AutoRadiomics/autorad/feature_extraction/extractor.py?line=116'>117</a>\u001b[0m         \u001b[39mstr\u001b[39;49m(mask_path),\n\u001b[1;32m    <a href='file:///Users/p.woznicki/git/AutoRadiomics/autorad/feature_extraction/extractor.py?line=117'>118</a>\u001b[0m     )\n\u001b[1;32m    <a href='file:///Users/p.woznicki/git/AutoRadiomics/autorad/feature_extraction/extractor.py?line=118'>119</a>\u001b[0m \u001b[39mexcept\u001b[39;00m \u001b[39mValueError\u001b[39;00m:\n\u001b[1;32m    <a href='file:///Users/p.woznicki/git/AutoRadiomics/autorad/feature_extraction/extractor.py?line=119'>120</a>\u001b[0m     error_msg \u001b[39m=\u001b[39m \u001b[39mf\u001b[39m\u001b[39m\"\u001b[39m\u001b[39mError extracting features for image, \u001b[39m\u001b[39m\\\u001b[39;00m\n\u001b[1;32m    <a href='file:///Users/p.woznicki/git/AutoRadiomics/autorad/feature_extraction/extractor.py?line=120'>121</a>\u001b[0m \u001b[39m        mask pair \u001b[39m\u001b[39m{\u001b[39;00mimage_path\u001b[39m}\u001b[39;00m\u001b[39m, \u001b[39m\u001b[39m{\u001b[39;00mmask_path\u001b[39m}\u001b[39;00m\u001b[39m\"\u001b[39m\n",
      "File \u001b[0;32m~/git/AutoRadiomics/.venv/lib/python3.10/site-packages/radiomics/featureextractor.py:330\u001b[0m, in \u001b[0;36mRadiomicsFeatureExtractor.execute\u001b[0;34m(self, imageFilepath, maskFilepath, label, label_channel, voxelBased)\u001b[0m\n\u001b[1;32m    <a href='file:///Users/p.woznicki/git/AutoRadiomics/.venv/lib/python3.10/site-packages/radiomics/featureextractor.py?line=327'>328</a>\u001b[0m   logger\u001b[39m.\u001b[39minfo(\u001b[39m'\u001b[39m\u001b[39mCalculating features for \u001b[39m\u001b[39m%s\u001b[39;00m\u001b[39m image\u001b[39m\u001b[39m'\u001b[39m, imageTypeName)\n\u001b[1;32m    <a href='file:///Users/p.woznicki/git/AutoRadiomics/.venv/lib/python3.10/site-packages/radiomics/featureextractor.py?line=328'>329</a>\u001b[0m   inputImage, inputMask \u001b[39m=\u001b[39m imageoperations\u001b[39m.\u001b[39mcropToTumorMask(inputImage, mask, boundingBox, padDistance\u001b[39m=\u001b[39mkernelRadius)\n\u001b[0;32m--> <a href='file:///Users/p.woznicki/git/AutoRadiomics/.venv/lib/python3.10/site-packages/radiomics/featureextractor.py?line=329'>330</a>\u001b[0m   featureVector\u001b[39m.\u001b[39mupdate(\u001b[39mself\u001b[39;49m\u001b[39m.\u001b[39;49mcomputeFeatures(inputImage, inputMask, imageTypeName, \u001b[39m*\u001b[39;49m\u001b[39m*\u001b[39;49minputKwargs))\n\u001b[1;32m    <a href='file:///Users/p.woznicki/git/AutoRadiomics/.venv/lib/python3.10/site-packages/radiomics/featureextractor.py?line=331'>332</a>\u001b[0m logger\u001b[39m.\u001b[39mdebug(\u001b[39m'\u001b[39m\u001b[39mFeatures extracted\u001b[39m\u001b[39m'\u001b[39m)\n\u001b[1;32m    <a href='file:///Users/p.woznicki/git/AutoRadiomics/.venv/lib/python3.10/site-packages/radiomics/featureextractor.py?line=333'>334</a>\u001b[0m \u001b[39mreturn\u001b[39;00m featureVector\n",
      "File \u001b[0;32m~/git/AutoRadiomics/.venv/lib/python3.10/site-packages/radiomics/featureextractor.py:517\u001b[0m, in \u001b[0;36mRadiomicsFeatureExtractor.computeFeatures\u001b[0;34m(self, image, mask, imageTypeName, **kwargs)\u001b[0m\n\u001b[1;32m    <a href='file:///Users/p.woznicki/git/AutoRadiomics/.venv/lib/python3.10/site-packages/radiomics/featureextractor.py?line=513'>514</a>\u001b[0m   \u001b[39mfor\u001b[39;00m feature \u001b[39min\u001b[39;00m featureNames:\n\u001b[1;32m    <a href='file:///Users/p.woznicki/git/AutoRadiomics/.venv/lib/python3.10/site-packages/radiomics/featureextractor.py?line=514'>515</a>\u001b[0m     featureClass\u001b[39m.\u001b[39menableFeatureByName(feature)\n\u001b[0;32m--> <a href='file:///Users/p.woznicki/git/AutoRadiomics/.venv/lib/python3.10/site-packages/radiomics/featureextractor.py?line=516'>517</a>\u001b[0m \u001b[39mfor\u001b[39;00m (featureName, featureValue) \u001b[39min\u001b[39;00m six\u001b[39m.\u001b[39miteritems(featureClass\u001b[39m.\u001b[39;49mexecute()):\n\u001b[1;32m    <a href='file:///Users/p.woznicki/git/AutoRadiomics/.venv/lib/python3.10/site-packages/radiomics/featureextractor.py?line=517'>518</a>\u001b[0m   newFeatureName \u001b[39m=\u001b[39m \u001b[39m'\u001b[39m\u001b[39m%s\u001b[39;00m\u001b[39m_\u001b[39m\u001b[39m%s\u001b[39;00m\u001b[39m_\u001b[39m\u001b[39m%s\u001b[39;00m\u001b[39m'\u001b[39m \u001b[39m%\u001b[39m (imageTypeName, featureClassName, featureName)\n\u001b[1;32m    <a href='file:///Users/p.woznicki/git/AutoRadiomics/.venv/lib/python3.10/site-packages/radiomics/featureextractor.py?line=518'>519</a>\u001b[0m   featureVector[newFeatureName] \u001b[39m=\u001b[39m featureValue\n",
      "File \u001b[0;32m~/git/AutoRadiomics/.venv/lib/python3.10/site-packages/radiomics/base.py:185\u001b[0m, in \u001b[0;36mRadiomicsFeaturesBase.execute\u001b[0;34m(self)\u001b[0m\n\u001b[1;32m    <a href='file:///Users/p.woznicki/git/AutoRadiomics/.venv/lib/python3.10/site-packages/radiomics/base.py?line=182'>183</a>\u001b[0m   \u001b[39mself\u001b[39m\u001b[39m.\u001b[39m_calculateVoxels()\n\u001b[1;32m    <a href='file:///Users/p.woznicki/git/AutoRadiomics/.venv/lib/python3.10/site-packages/radiomics/base.py?line=183'>184</a>\u001b[0m \u001b[39melse\u001b[39;00m:\n\u001b[0;32m--> <a href='file:///Users/p.woznicki/git/AutoRadiomics/.venv/lib/python3.10/site-packages/radiomics/base.py?line=184'>185</a>\u001b[0m   \u001b[39mself\u001b[39;49m\u001b[39m.\u001b[39;49m_calculateSegment()\n\u001b[1;32m    <a href='file:///Users/p.woznicki/git/AutoRadiomics/.venv/lib/python3.10/site-packages/radiomics/base.py?line=186'>187</a>\u001b[0m \u001b[39mreturn\u001b[39;00m \u001b[39mself\u001b[39m\u001b[39m.\u001b[39mfeatureValues\n",
      "File \u001b[0;32m~/git/AutoRadiomics/.venv/lib/python3.10/site-packages/radiomics/base.py:224\u001b[0m, in \u001b[0;36mRadiomicsFeaturesBase._calculateSegment\u001b[0;34m(self)\u001b[0m\n\u001b[1;32m    <a href='file:///Users/p.woznicki/git/AutoRadiomics/.venv/lib/python3.10/site-packages/radiomics/base.py?line=221'>222</a>\u001b[0m \u001b[39mdef\u001b[39;00m \u001b[39m_calculateSegment\u001b[39m(\u001b[39mself\u001b[39m):\n\u001b[1;32m    <a href='file:///Users/p.woznicki/git/AutoRadiomics/.venv/lib/python3.10/site-packages/radiomics/base.py?line=222'>223</a>\u001b[0m   \u001b[39m# Get the feature values using the current segment.\u001b[39;00m\n\u001b[0;32m--> <a href='file:///Users/p.woznicki/git/AutoRadiomics/.venv/lib/python3.10/site-packages/radiomics/base.py?line=223'>224</a>\u001b[0m   \u001b[39mfor\u001b[39;00m success, featureName, featureValue \u001b[39min\u001b[39;00m \u001b[39mself\u001b[39m\u001b[39m.\u001b[39m_calculateFeatures():\n\u001b[1;32m    <a href='file:///Users/p.woznicki/git/AutoRadiomics/.venv/lib/python3.10/site-packages/radiomics/base.py?line=224'>225</a>\u001b[0m     \u001b[39m# Always store the result. In case of an error, featureValue will be NaN\u001b[39;00m\n\u001b[1;32m    <a href='file:///Users/p.woznicki/git/AutoRadiomics/.venv/lib/python3.10/site-packages/radiomics/base.py?line=225'>226</a>\u001b[0m     \u001b[39mself\u001b[39m\u001b[39m.\u001b[39mfeatureValues[featureName] \u001b[39m=\u001b[39m numpy\u001b[39m.\u001b[39msqueeze(featureValue)\n",
      "File \u001b[0;32m~/git/AutoRadiomics/.venv/lib/python3.10/site-packages/radiomics/base.py:231\u001b[0m, in \u001b[0;36mRadiomicsFeaturesBase._calculateFeatures\u001b[0;34m(self, voxelCoordinates)\u001b[0m\n\u001b[1;32m    <a href='file:///Users/p.woznicki/git/AutoRadiomics/.venv/lib/python3.10/site-packages/radiomics/base.py?line=227'>228</a>\u001b[0m \u001b[39mdef\u001b[39;00m \u001b[39m_calculateFeatures\u001b[39m(\u001b[39mself\u001b[39m, voxelCoordinates\u001b[39m=\u001b[39m\u001b[39mNone\u001b[39;00m):\n\u001b[1;32m    <a href='file:///Users/p.woznicki/git/AutoRadiomics/.venv/lib/python3.10/site-packages/radiomics/base.py?line=228'>229</a>\u001b[0m   \u001b[39m# Initialize the calculation\u001b[39;00m\n\u001b[1;32m    <a href='file:///Users/p.woznicki/git/AutoRadiomics/.venv/lib/python3.10/site-packages/radiomics/base.py?line=229'>230</a>\u001b[0m   \u001b[39m# This function serves to calculate the texture matrices where applicable\u001b[39;00m\n\u001b[0;32m--> <a href='file:///Users/p.woznicki/git/AutoRadiomics/.venv/lib/python3.10/site-packages/radiomics/base.py?line=230'>231</a>\u001b[0m   \u001b[39mself\u001b[39;49m\u001b[39m.\u001b[39;49m_initCalculation(voxelCoordinates)\n\u001b[1;32m    <a href='file:///Users/p.woznicki/git/AutoRadiomics/.venv/lib/python3.10/site-packages/radiomics/base.py?line=232'>233</a>\u001b[0m   \u001b[39mself\u001b[39m\u001b[39m.\u001b[39mlogger\u001b[39m.\u001b[39mdebug(\u001b[39m'\u001b[39m\u001b[39mCalculating features\u001b[39m\u001b[39m'\u001b[39m)\n\u001b[1;32m    <a href='file:///Users/p.woznicki/git/AutoRadiomics/.venv/lib/python3.10/site-packages/radiomics/base.py?line=233'>234</a>\u001b[0m   \u001b[39mfor\u001b[39;00m feature, enabled \u001b[39min\u001b[39;00m six\u001b[39m.\u001b[39miteritems(\u001b[39mself\u001b[39m\u001b[39m.\u001b[39menabledFeatures):\n",
      "File \u001b[0;32m~/git/AutoRadiomics/.venv/lib/python3.10/site-packages/radiomics/glcm.py:113\u001b[0m, in \u001b[0;36mRadiomicsGLCM._initCalculation\u001b[0;34m(self, voxelCoordinates)\u001b[0m\n\u001b[1;32m    <a href='file:///Users/p.woznicki/git/AutoRadiomics/.venv/lib/python3.10/site-packages/radiomics/glcm.py?line=109'>110</a>\u001b[0m \u001b[39mdef\u001b[39;00m \u001b[39m_initCalculation\u001b[39m(\u001b[39mself\u001b[39m, voxelCoordinates\u001b[39m=\u001b[39m\u001b[39mNone\u001b[39;00m):\n\u001b[1;32m    <a href='file:///Users/p.woznicki/git/AutoRadiomics/.venv/lib/python3.10/site-packages/radiomics/glcm.py?line=110'>111</a>\u001b[0m   \u001b[39mself\u001b[39m\u001b[39m.\u001b[39mP_glcm \u001b[39m=\u001b[39m \u001b[39mself\u001b[39m\u001b[39m.\u001b[39m_calculateMatrix(voxelCoordinates)\n\u001b[0;32m--> <a href='file:///Users/p.woznicki/git/AutoRadiomics/.venv/lib/python3.10/site-packages/radiomics/glcm.py?line=112'>113</a>\u001b[0m   \u001b[39mself\u001b[39;49m\u001b[39m.\u001b[39;49m_calculateCoefficients()\n\u001b[1;32m    <a href='file:///Users/p.woznicki/git/AutoRadiomics/.venv/lib/python3.10/site-packages/radiomics/glcm.py?line=114'>115</a>\u001b[0m   \u001b[39mself\u001b[39m\u001b[39m.\u001b[39mlogger\u001b[39m.\u001b[39mdebug(\u001b[39m'\u001b[39m\u001b[39mGLCM feature class initialized, calculated GLCM with shape \u001b[39m\u001b[39m%s\u001b[39;00m\u001b[39m'\u001b[39m, \u001b[39mself\u001b[39m\u001b[39m.\u001b[39mP_glcm\u001b[39m.\u001b[39mshape)\n",
      "File \u001b[0;32m~/git/AutoRadiomics/.venv/lib/python3.10/site-packages/radiomics/glcm.py:226\u001b[0m, in \u001b[0;36mRadiomicsGLCM._calculateCoefficients\u001b[0;34m(self)\u001b[0m\n\u001b[1;32m    <a href='file:///Users/p.woznicki/git/AutoRadiomics/.venv/lib/python3.10/site-packages/radiomics/glcm.py?line=222'>223</a>\u001b[0m uy \u001b[39m=\u001b[39m numpy\u001b[39m.\u001b[39msum(j[\u001b[39mNone\u001b[39;00m, :, :, \u001b[39mNone\u001b[39;00m] \u001b[39m*\u001b[39m \u001b[39mself\u001b[39m\u001b[39m.\u001b[39mP_glcm, (\u001b[39m1\u001b[39m, \u001b[39m2\u001b[39m), keepdims\u001b[39m=\u001b[39m\u001b[39mTrue\u001b[39;00m)\n\u001b[1;32m    <a href='file:///Users/p.woznicki/git/AutoRadiomics/.venv/lib/python3.10/site-packages/radiomics/glcm.py?line=224'>225</a>\u001b[0m \u001b[39m# shape = (Nv, 2*Ng-1, angles)\u001b[39;00m\n\u001b[0;32m--> <a href='file:///Users/p.woznicki/git/AutoRadiomics/.venv/lib/python3.10/site-packages/radiomics/glcm.py?line=225'>226</a>\u001b[0m pxAddy \u001b[39m=\u001b[39m numpy\u001b[39m.\u001b[39marray([numpy\u001b[39m.\u001b[39msum(\u001b[39mself\u001b[39m\u001b[39m.\u001b[39mP_glcm[:, i \u001b[39m+\u001b[39m j \u001b[39m==\u001b[39m k, :], \u001b[39m1\u001b[39m) \u001b[39mfor\u001b[39;00m k \u001b[39min\u001b[39;00m kValuesSum])\u001b[39m.\u001b[39mtranspose((\u001b[39m1\u001b[39m, \u001b[39m0\u001b[39m, \u001b[39m2\u001b[39m))\n\u001b[1;32m    <a href='file:///Users/p.woznicki/git/AutoRadiomics/.venv/lib/python3.10/site-packages/radiomics/glcm.py?line=226'>227</a>\u001b[0m \u001b[39m# shape = (Nv, Ng, angles)\u001b[39;00m\n\u001b[1;32m    <a href='file:///Users/p.woznicki/git/AutoRadiomics/.venv/lib/python3.10/site-packages/radiomics/glcm.py?line=227'>228</a>\u001b[0m pxSuby \u001b[39m=\u001b[39m numpy\u001b[39m.\u001b[39marray([numpy\u001b[39m.\u001b[39msum(\u001b[39mself\u001b[39m\u001b[39m.\u001b[39mP_glcm[:, numpy\u001b[39m.\u001b[39mabs(i \u001b[39m-\u001b[39m j) \u001b[39m==\u001b[39m k, :], \u001b[39m1\u001b[39m) \u001b[39mfor\u001b[39;00m k \u001b[39min\u001b[39;00m kValuesDiff])\u001b[39m.\u001b[39mtranspose((\u001b[39m1\u001b[39m, \u001b[39m0\u001b[39m, \u001b[39m2\u001b[39m))\n",
      "File \u001b[0;32m~/git/AutoRadiomics/.venv/lib/python3.10/site-packages/radiomics/glcm.py:226\u001b[0m, in \u001b[0;36m<listcomp>\u001b[0;34m(.0)\u001b[0m\n\u001b[1;32m    <a href='file:///Users/p.woznicki/git/AutoRadiomics/.venv/lib/python3.10/site-packages/radiomics/glcm.py?line=222'>223</a>\u001b[0m uy \u001b[39m=\u001b[39m numpy\u001b[39m.\u001b[39msum(j[\u001b[39mNone\u001b[39;00m, :, :, \u001b[39mNone\u001b[39;00m] \u001b[39m*\u001b[39m \u001b[39mself\u001b[39m\u001b[39m.\u001b[39mP_glcm, (\u001b[39m1\u001b[39m, \u001b[39m2\u001b[39m), keepdims\u001b[39m=\u001b[39m\u001b[39mTrue\u001b[39;00m)\n\u001b[1;32m    <a href='file:///Users/p.woznicki/git/AutoRadiomics/.venv/lib/python3.10/site-packages/radiomics/glcm.py?line=224'>225</a>\u001b[0m \u001b[39m# shape = (Nv, 2*Ng-1, angles)\u001b[39;00m\n\u001b[0;32m--> <a href='file:///Users/p.woznicki/git/AutoRadiomics/.venv/lib/python3.10/site-packages/radiomics/glcm.py?line=225'>226</a>\u001b[0m pxAddy \u001b[39m=\u001b[39m numpy\u001b[39m.\u001b[39marray([numpy\u001b[39m.\u001b[39;49msum(\u001b[39mself\u001b[39;49m\u001b[39m.\u001b[39;49mP_glcm[:, i \u001b[39m+\u001b[39;49m j \u001b[39m==\u001b[39;49m k, :], \u001b[39m1\u001b[39;49m) \u001b[39mfor\u001b[39;00m k \u001b[39min\u001b[39;00m kValuesSum])\u001b[39m.\u001b[39mtranspose((\u001b[39m1\u001b[39m, \u001b[39m0\u001b[39m, \u001b[39m2\u001b[39m))\n\u001b[1;32m    <a href='file:///Users/p.woznicki/git/AutoRadiomics/.venv/lib/python3.10/site-packages/radiomics/glcm.py?line=226'>227</a>\u001b[0m \u001b[39m# shape = (Nv, Ng, angles)\u001b[39;00m\n\u001b[1;32m    <a href='file:///Users/p.woznicki/git/AutoRadiomics/.venv/lib/python3.10/site-packages/radiomics/glcm.py?line=227'>228</a>\u001b[0m pxSuby \u001b[39m=\u001b[39m numpy\u001b[39m.\u001b[39marray([numpy\u001b[39m.\u001b[39msum(\u001b[39mself\u001b[39m\u001b[39m.\u001b[39mP_glcm[:, numpy\u001b[39m.\u001b[39mabs(i \u001b[39m-\u001b[39m j) \u001b[39m==\u001b[39m k, :], \u001b[39m1\u001b[39m) \u001b[39mfor\u001b[39;00m k \u001b[39min\u001b[39;00m kValuesDiff])\u001b[39m.\u001b[39mtranspose((\u001b[39m1\u001b[39m, \u001b[39m0\u001b[39m, \u001b[39m2\u001b[39m))\n",
      "File \u001b[0;32m<__array_function__ internals>:177\u001b[0m, in \u001b[0;36msum\u001b[0;34m(*args, **kwargs)\u001b[0m\n",
      "\u001b[0;31mKeyboardInterrupt\u001b[0m: "
     ]
    }
   ],
   "source": [
    "extractor = FeatureExtractor(image_dataset)\n",
    "feature_df = extractor.run()"
   ]
  },
  {
   "cell_type": "code",
   "execution_count": 67,
   "metadata": {},
   "outputs": [
    {
     "data": {
      "text/html": [
       "<div>\n",
       "<style scoped>\n",
       "    .dataframe tbody tr th:only-of-type {\n",
       "        vertical-align: middle;\n",
       "    }\n",
       "\n",
       "    .dataframe tbody tr th {\n",
       "        vertical-align: top;\n",
       "    }\n",
       "\n",
       "    .dataframe thead th {\n",
       "        text-align: right;\n",
       "    }\n",
       "</style>\n",
       "<table border=\"1\" class=\"dataframe\">\n",
       "  <thead>\n",
       "    <tr style=\"text-align: right;\">\n",
       "      <th></th>\n",
       "      <th>ID</th>\n",
       "      <th>image_path</th>\n",
       "      <th>segmentation_path</th>\n",
       "      <th>diagnostics_Versions_PyRadiomics</th>\n",
       "      <th>diagnostics_Versions_Numpy</th>\n",
       "      <th>diagnostics_Versions_SimpleITK</th>\n",
       "      <th>diagnostics_Versions_PyWavelet</th>\n",
       "      <th>diagnostics_Versions_Python</th>\n",
       "      <th>diagnostics_Configuration_Settings</th>\n",
       "      <th>diagnostics_Configuration_EnabledImageTypes</th>\n",
       "      <th>...</th>\n",
       "      <th>wavelet-LLL_gldm_LargeDependenceLowGrayLevelEmphasis</th>\n",
       "      <th>wavelet-LLL_gldm_LowGrayLevelEmphasis</th>\n",
       "      <th>wavelet-LLL_gldm_SmallDependenceEmphasis</th>\n",
       "      <th>wavelet-LLL_gldm_SmallDependenceHighGrayLevelEmphasis</th>\n",
       "      <th>wavelet-LLL_gldm_SmallDependenceLowGrayLevelEmphasis</th>\n",
       "      <th>wavelet-LLL_ngtdm_Busyness</th>\n",
       "      <th>wavelet-LLL_ngtdm_Coarseness</th>\n",
       "      <th>wavelet-LLL_ngtdm_Complexity</th>\n",
       "      <th>wavelet-LLL_ngtdm_Contrast</th>\n",
       "      <th>wavelet-LLL_ngtdm_Strength</th>\n",
       "    </tr>\n",
       "  </thead>\n",
       "  <tbody>\n",
       "    <tr>\n",
       "      <th>0</th>\n",
       "      <td>Liver-035</td>\n",
       "      <td>/Users/p.woznicki/git/AutoRadiomics/examples/a...</td>\n",
       "      <td>/Users/p.woznicki/git/AutoRadiomics/examples/a...</td>\n",
       "      <td>v3.0.1</td>\n",
       "      <td>1.22.1</td>\n",
       "      <td>2.1.1.2</td>\n",
       "      <td>1.2.0</td>\n",
       "      <td>3.10.4</td>\n",
       "      <td>{'minimumROIDimensions': 1, 'minimumROISize': ...</td>\n",
       "      <td>{'Original': {}, 'LoG': {'sigma': [3.0, 5.0]},...</td>\n",
       "      <td>...</td>\n",
       "      <td>0.49033556571131404</td>\n",
       "      <td>0.009239256309735483</td>\n",
       "      <td>0.10497863178878879</td>\n",
       "      <td>17.108519817338614</td>\n",
       "      <td>0.0019064162301314488</td>\n",
       "      <td>2.195837937351879</td>\n",
       "      <td>0.0010111456662735665</td>\n",
       "      <td>426.9975349731685</td>\n",
       "      <td>0.06190203145328447</td>\n",
       "      <td>0.284974468309886</td>\n",
       "    </tr>\n",
       "    <tr>\n",
       "      <th>1</th>\n",
       "      <td>Liver-067</td>\n",
       "      <td>/Users/p.woznicki/git/AutoRadiomics/examples/a...</td>\n",
       "      <td>/Users/p.woznicki/git/AutoRadiomics/examples/a...</td>\n",
       "      <td>v3.0.1</td>\n",
       "      <td>1.22.1</td>\n",
       "      <td>2.1.1.2</td>\n",
       "      <td>1.2.0</td>\n",
       "      <td>3.10.4</td>\n",
       "      <td>{'minimumROIDimensions': 1, 'minimumROISize': ...</td>\n",
       "      <td>{'Original': {}, 'LoG': {'sigma': [3.0, 5.0]},...</td>\n",
       "      <td>...</td>\n",
       "      <td>0.1726950112519562</td>\n",
       "      <td>0.008437808020802488</td>\n",
       "      <td>0.23877842444043665</td>\n",
       "      <td>83.97021323093149</td>\n",
       "      <td>0.0023728396471364493</td>\n",
       "      <td>0.7591978668706331</td>\n",
       "      <td>0.001202498835943038</td>\n",
       "      <td>4314.0961725974375</td>\n",
       "      <td>0.053087108883254575</td>\n",
       "      <td>3.4809930821120516</td>\n",
       "    </tr>\n",
       "    <tr>\n",
       "      <th>2</th>\n",
       "      <td>Liver-033</td>\n",
       "      <td>/Users/p.woznicki/git/AutoRadiomics/examples/a...</td>\n",
       "      <td>/Users/p.woznicki/git/AutoRadiomics/examples/a...</td>\n",
       "      <td>v3.0.1</td>\n",
       "      <td>1.22.1</td>\n",
       "      <td>2.1.1.2</td>\n",
       "      <td>1.2.0</td>\n",
       "      <td>3.10.4</td>\n",
       "      <td>{'minimumROIDimensions': 1, 'minimumROISize': ...</td>\n",
       "      <td>{'Original': {}, 'LoG': {'sigma': [3.0, 5.0]},...</td>\n",
       "      <td>...</td>\n",
       "      <td>0.00238199002485883</td>\n",
       "      <td>0.0012766642609044869</td>\n",
       "      <td>0.5654204077815189</td>\n",
       "      <td>1949.3340316747724</td>\n",
       "      <td>0.0011009446497239996</td>\n",
       "      <td>0.026605131203857553</td>\n",
       "      <td>0.007636394062061128</td>\n",
       "      <td>17684.10707042901</td>\n",
       "      <td>0.37450091558254367</td>\n",
       "      <td>22.73438458589251</td>\n",
       "    </tr>\n",
       "    <tr>\n",
       "      <th>3</th>\n",
       "      <td>Liver-034</td>\n",
       "      <td>/Users/p.woznicki/git/AutoRadiomics/examples/a...</td>\n",
       "      <td>/Users/p.woznicki/git/AutoRadiomics/examples/a...</td>\n",
       "      <td>v3.0.1</td>\n",
       "      <td>1.22.1</td>\n",
       "      <td>2.1.1.2</td>\n",
       "      <td>1.2.0</td>\n",
       "      <td>3.10.4</td>\n",
       "      <td>{'minimumROIDimensions': 1, 'minimumROISize': ...</td>\n",
       "      <td>{'Original': {}, 'LoG': {'sigma': [3.0, 5.0]},...</td>\n",
       "      <td>...</td>\n",
       "      <td>1.440566612137536</td>\n",
       "      <td>0.02963259665666905</td>\n",
       "      <td>0.04903085789771733</td>\n",
       "      <td>1.5859015043216873</td>\n",
       "      <td>0.0034147618304968597</td>\n",
       "      <td>2.044400483735623</td>\n",
       "      <td>0.00639415640765421</td>\n",
       "      <td>29.814833689553108</td>\n",
       "      <td>0.03175783157524396</td>\n",
       "      <td>0.26616404042269687</td>\n",
       "    </tr>\n",
       "    <tr>\n",
       "      <th>4</th>\n",
       "      <td>Liver-146</td>\n",
       "      <td>/Users/p.woznicki/git/AutoRadiomics/examples/a...</td>\n",
       "      <td>/Users/p.woznicki/git/AutoRadiomics/examples/a...</td>\n",
       "      <td>v3.0.1</td>\n",
       "      <td>1.22.1</td>\n",
       "      <td>2.1.1.2</td>\n",
       "      <td>1.2.0</td>\n",
       "      <td>3.10.4</td>\n",
       "      <td>{'minimumROIDimensions': 1, 'minimumROISize': ...</td>\n",
       "      <td>{'Original': {}, 'LoG': {'sigma': [3.0, 5.0]},...</td>\n",
       "      <td>...</td>\n",
       "      <td>0.5235105253912582</td>\n",
       "      <td>0.014409860723565572</td>\n",
       "      <td>0.10172864195906982</td>\n",
       "      <td>9.821812246039771</td>\n",
       "      <td>0.002460816641434821</td>\n",
       "      <td>1.9618138907602145</td>\n",
       "      <td>0.0021490398335429067</td>\n",
       "      <td>178.82845259100122</td>\n",
       "      <td>0.03313849502581368</td>\n",
       "      <td>0.3598787334834973</td>\n",
       "    </tr>\n",
       "  </tbody>\n",
       "</table>\n",
       "<p>5 rows × 1055 columns</p>\n",
       "</div>"
      ],
      "text/plain": [
       "          ID                                         image_path  \\\n",
       "0  Liver-035  /Users/p.woznicki/git/AutoRadiomics/examples/a...   \n",
       "1  Liver-067  /Users/p.woznicki/git/AutoRadiomics/examples/a...   \n",
       "2  Liver-033  /Users/p.woznicki/git/AutoRadiomics/examples/a...   \n",
       "3  Liver-034  /Users/p.woznicki/git/AutoRadiomics/examples/a...   \n",
       "4  Liver-146  /Users/p.woznicki/git/AutoRadiomics/examples/a...   \n",
       "\n",
       "                                   segmentation_path  \\\n",
       "0  /Users/p.woznicki/git/AutoRadiomics/examples/a...   \n",
       "1  /Users/p.woznicki/git/AutoRadiomics/examples/a...   \n",
       "2  /Users/p.woznicki/git/AutoRadiomics/examples/a...   \n",
       "3  /Users/p.woznicki/git/AutoRadiomics/examples/a...   \n",
       "4  /Users/p.woznicki/git/AutoRadiomics/examples/a...   \n",
       "\n",
       "  diagnostics_Versions_PyRadiomics diagnostics_Versions_Numpy  \\\n",
       "0                           v3.0.1                     1.22.1   \n",
       "1                           v3.0.1                     1.22.1   \n",
       "2                           v3.0.1                     1.22.1   \n",
       "3                           v3.0.1                     1.22.1   \n",
       "4                           v3.0.1                     1.22.1   \n",
       "\n",
       "  diagnostics_Versions_SimpleITK diagnostics_Versions_PyWavelet  \\\n",
       "0                        2.1.1.2                          1.2.0   \n",
       "1                        2.1.1.2                          1.2.0   \n",
       "2                        2.1.1.2                          1.2.0   \n",
       "3                        2.1.1.2                          1.2.0   \n",
       "4                        2.1.1.2                          1.2.0   \n",
       "\n",
       "  diagnostics_Versions_Python  \\\n",
       "0                      3.10.4   \n",
       "1                      3.10.4   \n",
       "2                      3.10.4   \n",
       "3                      3.10.4   \n",
       "4                      3.10.4   \n",
       "\n",
       "                  diagnostics_Configuration_Settings  \\\n",
       "0  {'minimumROIDimensions': 1, 'minimumROISize': ...   \n",
       "1  {'minimumROIDimensions': 1, 'minimumROISize': ...   \n",
       "2  {'minimumROIDimensions': 1, 'minimumROISize': ...   \n",
       "3  {'minimumROIDimensions': 1, 'minimumROISize': ...   \n",
       "4  {'minimumROIDimensions': 1, 'minimumROISize': ...   \n",
       "\n",
       "         diagnostics_Configuration_EnabledImageTypes  ...  \\\n",
       "0  {'Original': {}, 'LoG': {'sigma': [3.0, 5.0]},...  ...   \n",
       "1  {'Original': {}, 'LoG': {'sigma': [3.0, 5.0]},...  ...   \n",
       "2  {'Original': {}, 'LoG': {'sigma': [3.0, 5.0]},...  ...   \n",
       "3  {'Original': {}, 'LoG': {'sigma': [3.0, 5.0]},...  ...   \n",
       "4  {'Original': {}, 'LoG': {'sigma': [3.0, 5.0]},...  ...   \n",
       "\n",
       "  wavelet-LLL_gldm_LargeDependenceLowGrayLevelEmphasis  \\\n",
       "0                                0.49033556571131404     \n",
       "1                                 0.1726950112519562     \n",
       "2                                0.00238199002485883     \n",
       "3                                  1.440566612137536     \n",
       "4                                 0.5235105253912582     \n",
       "\n",
       "  wavelet-LLL_gldm_LowGrayLevelEmphasis  \\\n",
       "0                  0.009239256309735483   \n",
       "1                  0.008437808020802488   \n",
       "2                 0.0012766642609044869   \n",
       "3                   0.02963259665666905   \n",
       "4                  0.014409860723565572   \n",
       "\n",
       "  wavelet-LLL_gldm_SmallDependenceEmphasis  \\\n",
       "0                      0.10497863178878879   \n",
       "1                      0.23877842444043665   \n",
       "2                       0.5654204077815189   \n",
       "3                      0.04903085789771733   \n",
       "4                      0.10172864195906982   \n",
       "\n",
       "  wavelet-LLL_gldm_SmallDependenceHighGrayLevelEmphasis  \\\n",
       "0                                 17.108519817338614      \n",
       "1                                  83.97021323093149      \n",
       "2                                 1949.3340316747724      \n",
       "3                                 1.5859015043216873      \n",
       "4                                  9.821812246039771      \n",
       "\n",
       "   wavelet-LLL_gldm_SmallDependenceLowGrayLevelEmphasis  \\\n",
       "0                              0.0019064162301314488      \n",
       "1                              0.0023728396471364493      \n",
       "2                              0.0011009446497239996      \n",
       "3                              0.0034147618304968597      \n",
       "4                               0.002460816641434821      \n",
       "\n",
       "   wavelet-LLL_ngtdm_Busyness  wavelet-LLL_ngtdm_Coarseness  \\\n",
       "0           2.195837937351879         0.0010111456662735665   \n",
       "1          0.7591978668706331          0.001202498835943038   \n",
       "2        0.026605131203857553          0.007636394062061128   \n",
       "3           2.044400483735623           0.00639415640765421   \n",
       "4          1.9618138907602145         0.0021490398335429067   \n",
       "\n",
       "  wavelet-LLL_ngtdm_Complexity wavelet-LLL_ngtdm_Contrast  \\\n",
       "0            426.9975349731685        0.06190203145328447   \n",
       "1           4314.0961725974375       0.053087108883254575   \n",
       "2            17684.10707042901        0.37450091558254367   \n",
       "3           29.814833689553108        0.03175783157524396   \n",
       "4           178.82845259100122        0.03313849502581368   \n",
       "\n",
       "  wavelet-LLL_ngtdm_Strength  \n",
       "0          0.284974468309886  \n",
       "1         3.4809930821120516  \n",
       "2          22.73438458589251  \n",
       "3        0.26616404042269687  \n",
       "4         0.3598787334834973  \n",
       "\n",
       "[5 rows x 1055 columns]"
      ]
     },
     "execution_count": 67,
     "metadata": {},
     "output_type": "execute_result"
    }
   ],
   "source": [
    "feature_df.head()"
   ]
  },
  {
   "cell_type": "code",
   "execution_count": 72,
   "metadata": {},
   "outputs": [
    {
     "data": {
      "text/html": [
       "<div>\n",
       "<style scoped>\n",
       "    .dataframe tbody tr th:only-of-type {\n",
       "        vertical-align: middle;\n",
       "    }\n",
       "\n",
       "    .dataframe tbody tr th {\n",
       "        vertical-align: top;\n",
       "    }\n",
       "\n",
       "    .dataframe thead th {\n",
       "        text-align: right;\n",
       "    }\n",
       "</style>\n",
       "<table border=\"1\" class=\"dataframe\">\n",
       "  <thead>\n",
       "    <tr style=\"text-align: right;\">\n",
       "      <th></th>\n",
       "      <th>patient_ID</th>\n",
       "      <th>diagnosis</th>\n",
       "    </tr>\n",
       "  </thead>\n",
       "  <tbody>\n",
       "    <tr>\n",
       "      <th>0</th>\n",
       "      <td>Liver-185</td>\n",
       "      <td>1</td>\n",
       "    </tr>\n",
       "    <tr>\n",
       "      <th>1</th>\n",
       "      <td>Liver-166</td>\n",
       "      <td>0</td>\n",
       "    </tr>\n",
       "    <tr>\n",
       "      <th>2</th>\n",
       "      <td>Liver-180</td>\n",
       "      <td>0</td>\n",
       "    </tr>\n",
       "    <tr>\n",
       "      <th>3</th>\n",
       "      <td>Liver-067</td>\n",
       "      <td>0</td>\n",
       "    </tr>\n",
       "    <tr>\n",
       "      <th>4</th>\n",
       "      <td>Liver-035</td>\n",
       "      <td>0</td>\n",
       "    </tr>\n",
       "  </tbody>\n",
       "</table>\n",
       "</div>"
      ],
      "text/plain": [
       "  patient_ID  diagnosis\n",
       "0  Liver-185          1\n",
       "1  Liver-166          0\n",
       "2  Liver-180          0\n",
       "3  Liver-067          0\n",
       "4  Liver-035          0"
      ]
     },
     "execution_count": 72,
     "metadata": {},
     "output_type": "execute_result"
    }
   ],
   "source": [
    "label_df = pd.read_csv(data_dir / \"labels.csv\")\n",
    "label_df.head()"
   ]
  },
  {
   "cell_type": "code",
   "execution_count": 73,
   "metadata": {},
   "outputs": [],
   "source": [
    "from autorad.data.dataset import FeatureDataset\n",
    "\n",
    "merged_feature_df = feature_df.merge(label_df, left_on=\"ID\",\n",
    "    right_on=\"patient_ID\", how=\"left\")\n",
    "feature_dataset = FeatureDataset(\n",
    "    merged_feature_df,\n",
    "    target=\"diagnosis\",\n",
    "    ID_colname=\"ID\"\n",
    ")"
   ]
  },
  {
   "cell_type": "markdown",
   "metadata": {},
   "source": [
    "Split the data into training/validation/test sets:"
   ]
  },
  {
   "cell_type": "code",
   "execution_count": 91,
   "metadata": {},
   "outputs": [
    {
     "data": {
      "text/plain": [
       "{'split_type': '50% train + 20% validation + 30% test',\n",
       " 'train': ['Liver-158',\n",
       "  'Liver-008',\n",
       "  'Liver-031',\n",
       "  'Liver-128',\n",
       "  'Liver-065',\n",
       "  'Liver-168',\n",
       "  'Liver-180',\n",
       "  'Liver-006',\n",
       "  'Liver-037',\n",
       "  'Liver-011',\n",
       "  'Liver-086',\n",
       "  'Liver-115',\n",
       "  'Liver-126',\n",
       "  'Liver-184',\n",
       "  'Liver-035',\n",
       "  'Liver-185',\n",
       "  'Liver-067',\n",
       "  'Liver-159',\n",
       "  'Liver-145'],\n",
       " 'val': ['Liver-147',\n",
       "  'Liver-010',\n",
       "  'Liver-024',\n",
       "  'Liver-119',\n",
       "  'Liver-124',\n",
       "  'Liver-154',\n",
       "  'Liver-167',\n",
       "  'Liver-106',\n",
       "  'Liver-079'],\n",
       " 'test': ['Liver-107',\n",
       "  'Liver-021',\n",
       "  'Liver-166',\n",
       "  'Liver-146',\n",
       "  'Liver-038',\n",
       "  'Liver-033',\n",
       "  'Liver-156',\n",
       "  'Liver-034',\n",
       "  'Liver-030',\n",
       "  'Liver-054',\n",
       "  'Liver-023',\n",
       "  'Liver-122']}"
      ]
     },
     "execution_count": 91,
     "metadata": {},
     "output_type": "execute_result"
    }
   ],
   "source": [
    "splits_path = result_dir / \"splits.json\"\n",
    "feature_dataset.split(method=\"train_val_test\",\n",
    "        save_path=splits_path,\n",
    "        test_size=0.3,\n",
    "    )"
   ]
  },
  {
   "cell_type": "code",
   "execution_count": 92,
   "metadata": {},
   "outputs": [
    {
     "name": "stdout",
     "output_type": "stream",
     "text": [
      "[Random Forest, Logistic Regression, SVM, XGBoost]\n"
     ]
    }
   ],
   "source": [
    "from autorad.training.trainer import Trainer\n",
    "from autorad.models.classifier import MLClassifier\n",
    "\n",
    "models = MLClassifier.initialize_default_sklearn_models()\n",
    "print(models)"
   ]
  },
  {
   "cell_type": "code",
   "execution_count": 94,
   "metadata": {},
   "outputs": [],
   "source": [
    "trainer = Trainer(\n",
    "    dataset=feature_dataset,\n",
    "    models=models,\n",
    "    result_dir=result_dir,\n",
    "    experiment_name=\"Liver_detection\",\n",
    ")\n",
    "trainer.run_auto_preprocessing(\n",
    "        selection_methods=['anova'],\n",
    "        oversampling=False,\n",
    "        )"
   ]
  },
  {
   "cell_type": "code",
   "execution_count": 97,
   "metadata": {},
   "outputs": [
    {
     "name": "stderr",
     "output_type": "stream",
     "text": [
      "\u001b[32m[I 2022-06-07 15:31:27,318]\u001b[0m A new study created in memory with name: Liver_detection\u001b[0m\n",
      "\u001b[33m[W 2022-06-07 15:31:27,321]\u001b[0m Trial 0 failed because of the following error: ValueError('No preprocessing done!')\u001b[0m\n",
      "Traceback (most recent call last):\n",
      "  File \"/Users/p.woznicki/git/AutoRadiomics/.venv/lib/python3.10/site-packages/optuna/study/_optimize.py\", line 213, in _run_trial\n",
      "    value_or_values = func(trial)\n",
      "  File \"/Users/p.woznicki/git/AutoRadiomics/autorad/training/trainer.py\", line 120, in <lambda>\n",
      "    lambda trial: self._objective(trial, auto_preprocess),\n",
      "  File \"/Users/p.woznicki/git/AutoRadiomics/autorad/training/trainer.py\", line 153, in _objective\n",
      "    for X_train, y_train, X_val, y_val in data.iter_training():\n",
      "  File \"/Users/p.woznicki/git/AutoRadiomics/autorad/data/dataset.py\", line 58, in iter_training\n",
      "    raise ValueError(\"No preprocessing done!\")\n",
      "ValueError: No preprocessing done!\n"
     ]
    },
    {
     "ename": "ValueError",
     "evalue": "No preprocessing done!",
     "output_type": "error",
     "traceback": [
      "\u001b[0;31m---------------------------------------------------------------------------\u001b[0m",
      "\u001b[0;31mValueError\u001b[0m                                Traceback (most recent call last)",
      "\u001b[1;32m/Users/p.woznicki/git/AutoRadiomics/examples/example_WORC.ipynb Cell 15'\u001b[0m in \u001b[0;36m<cell line: 2>\u001b[0;34m()\u001b[0m\n\u001b[1;32m      <a href='vscode-notebook-cell:/Users/p.woznicki/git/AutoRadiomics/examples/example_WORC.ipynb#ch0000013?line=0'>1</a>\u001b[0m trainer\u001b[39m.\u001b[39mset_optimizer(\u001b[39m\"\u001b[39m\u001b[39moptuna\u001b[39m\u001b[39m\"\u001b[39m, n_trials\u001b[39m=\u001b[39m\u001b[39m30\u001b[39m)\n\u001b[0;32m----> <a href='vscode-notebook-cell:/Users/p.woznicki/git/AutoRadiomics/examples/example_WORC.ipynb#ch0000013?line=1'>2</a>\u001b[0m trainer\u001b[39m.\u001b[39;49mrun(auto_preprocess\u001b[39m=\u001b[39;49m\u001b[39mFalse\u001b[39;49;00m)\n",
      "File \u001b[0;32m~/git/AutoRadiomics/autorad/training/trainer.py:119\u001b[0m, in \u001b[0;36mTrainer.run\u001b[0;34m(self, auto_preprocess)\u001b[0m\n\u001b[1;32m    <a href='file:///Users/p.woznicki/git/AutoRadiomics/autorad/training/trainer.py?line=114'>115</a>\u001b[0m mlfc \u001b[39m=\u001b[39m MLflowCallback(\n\u001b[1;32m    <a href='file:///Users/p.woznicki/git/AutoRadiomics/autorad/training/trainer.py?line=115'>116</a>\u001b[0m     tracking_uri\u001b[39m=\u001b[39mmlflow\u001b[39m.\u001b[39mget_tracking_uri(), metric_name\u001b[39m=\u001b[39m\u001b[39m\"\u001b[39m\u001b[39mAUC\u001b[39m\u001b[39m\"\u001b[39m\n\u001b[1;32m    <a href='file:///Users/p.woznicki/git/AutoRadiomics/autorad/training/trainer.py?line=116'>117</a>\u001b[0m )\n\u001b[1;32m    <a href='file:///Users/p.woznicki/git/AutoRadiomics/autorad/training/trainer.py?line=117'>118</a>\u001b[0m study \u001b[39m=\u001b[39m \u001b[39mself\u001b[39m\u001b[39m.\u001b[39moptimizer\u001b[39m.\u001b[39mcreate_study(study_name\u001b[39m=\u001b[39m\u001b[39mself\u001b[39m\u001b[39m.\u001b[39mexperiment_name)\n\u001b[0;32m--> <a href='file:///Users/p.woznicki/git/AutoRadiomics/autorad/training/trainer.py?line=118'>119</a>\u001b[0m study\u001b[39m.\u001b[39;49moptimize(\n\u001b[1;32m    <a href='file:///Users/p.woznicki/git/AutoRadiomics/autorad/training/trainer.py?line=119'>120</a>\u001b[0m     \u001b[39mlambda\u001b[39;49;00m trial: \u001b[39mself\u001b[39;49m\u001b[39m.\u001b[39;49m_objective(trial, auto_preprocess),\n\u001b[1;32m    <a href='file:///Users/p.woznicki/git/AutoRadiomics/autorad/training/trainer.py?line=120'>121</a>\u001b[0m     n_trials\u001b[39m=\u001b[39;49m\u001b[39mself\u001b[39;49m\u001b[39m.\u001b[39;49moptimizer\u001b[39m.\u001b[39;49mn_trials,\n\u001b[1;32m    <a href='file:///Users/p.woznicki/git/AutoRadiomics/autorad/training/trainer.py?line=121'>122</a>\u001b[0m     callbacks\u001b[39m=\u001b[39;49m[mlfc],\n\u001b[1;32m    <a href='file:///Users/p.woznicki/git/AutoRadiomics/autorad/training/trainer.py?line=122'>123</a>\u001b[0m )\n\u001b[1;32m    <a href='file:///Users/p.woznicki/git/AutoRadiomics/autorad/training/trainer.py?line=123'>124</a>\u001b[0m \u001b[39mself\u001b[39m\u001b[39m.\u001b[39msave_best_params(study)\n",
      "File \u001b[0;32m~/git/AutoRadiomics/.venv/lib/python3.10/site-packages/optuna/study/study.py:400\u001b[0m, in \u001b[0;36mStudy.optimize\u001b[0;34m(self, func, n_trials, timeout, n_jobs, catch, callbacks, gc_after_trial, show_progress_bar)\u001b[0m\n\u001b[1;32m    <a href='file:///Users/p.woznicki/git/AutoRadiomics/.venv/lib/python3.10/site-packages/optuna/study/study.py?line=391'>392</a>\u001b[0m \u001b[39mif\u001b[39;00m n_jobs \u001b[39m!=\u001b[39m \u001b[39m1\u001b[39m:\n\u001b[1;32m    <a href='file:///Users/p.woznicki/git/AutoRadiomics/.venv/lib/python3.10/site-packages/optuna/study/study.py?line=392'>393</a>\u001b[0m     warnings\u001b[39m.\u001b[39mwarn(\n\u001b[1;32m    <a href='file:///Users/p.woznicki/git/AutoRadiomics/.venv/lib/python3.10/site-packages/optuna/study/study.py?line=393'>394</a>\u001b[0m         \u001b[39m\"\u001b[39m\u001b[39m`n_jobs` argument has been deprecated in v2.7.0. \u001b[39m\u001b[39m\"\u001b[39m\n\u001b[1;32m    <a href='file:///Users/p.woznicki/git/AutoRadiomics/.venv/lib/python3.10/site-packages/optuna/study/study.py?line=394'>395</a>\u001b[0m         \u001b[39m\"\u001b[39m\u001b[39mThis feature will be removed in v4.0.0. \u001b[39m\u001b[39m\"\u001b[39m\n\u001b[1;32m    <a href='file:///Users/p.woznicki/git/AutoRadiomics/.venv/lib/python3.10/site-packages/optuna/study/study.py?line=395'>396</a>\u001b[0m         \u001b[39m\"\u001b[39m\u001b[39mSee https://github.com/optuna/optuna/releases/tag/v2.7.0.\u001b[39m\u001b[39m\"\u001b[39m,\n\u001b[1;32m    <a href='file:///Users/p.woznicki/git/AutoRadiomics/.venv/lib/python3.10/site-packages/optuna/study/study.py?line=396'>397</a>\u001b[0m         \u001b[39mFutureWarning\u001b[39;00m,\n\u001b[1;32m    <a href='file:///Users/p.woznicki/git/AutoRadiomics/.venv/lib/python3.10/site-packages/optuna/study/study.py?line=397'>398</a>\u001b[0m     )\n\u001b[0;32m--> <a href='file:///Users/p.woznicki/git/AutoRadiomics/.venv/lib/python3.10/site-packages/optuna/study/study.py?line=399'>400</a>\u001b[0m _optimize(\n\u001b[1;32m    <a href='file:///Users/p.woznicki/git/AutoRadiomics/.venv/lib/python3.10/site-packages/optuna/study/study.py?line=400'>401</a>\u001b[0m     study\u001b[39m=\u001b[39;49m\u001b[39mself\u001b[39;49m,\n\u001b[1;32m    <a href='file:///Users/p.woznicki/git/AutoRadiomics/.venv/lib/python3.10/site-packages/optuna/study/study.py?line=401'>402</a>\u001b[0m     func\u001b[39m=\u001b[39;49mfunc,\n\u001b[1;32m    <a href='file:///Users/p.woznicki/git/AutoRadiomics/.venv/lib/python3.10/site-packages/optuna/study/study.py?line=402'>403</a>\u001b[0m     n_trials\u001b[39m=\u001b[39;49mn_trials,\n\u001b[1;32m    <a href='file:///Users/p.woznicki/git/AutoRadiomics/.venv/lib/python3.10/site-packages/optuna/study/study.py?line=403'>404</a>\u001b[0m     timeout\u001b[39m=\u001b[39;49mtimeout,\n\u001b[1;32m    <a href='file:///Users/p.woznicki/git/AutoRadiomics/.venv/lib/python3.10/site-packages/optuna/study/study.py?line=404'>405</a>\u001b[0m     n_jobs\u001b[39m=\u001b[39;49mn_jobs,\n\u001b[1;32m    <a href='file:///Users/p.woznicki/git/AutoRadiomics/.venv/lib/python3.10/site-packages/optuna/study/study.py?line=405'>406</a>\u001b[0m     catch\u001b[39m=\u001b[39;49mcatch,\n\u001b[1;32m    <a href='file:///Users/p.woznicki/git/AutoRadiomics/.venv/lib/python3.10/site-packages/optuna/study/study.py?line=406'>407</a>\u001b[0m     callbacks\u001b[39m=\u001b[39;49mcallbacks,\n\u001b[1;32m    <a href='file:///Users/p.woznicki/git/AutoRadiomics/.venv/lib/python3.10/site-packages/optuna/study/study.py?line=407'>408</a>\u001b[0m     gc_after_trial\u001b[39m=\u001b[39;49mgc_after_trial,\n\u001b[1;32m    <a href='file:///Users/p.woznicki/git/AutoRadiomics/.venv/lib/python3.10/site-packages/optuna/study/study.py?line=408'>409</a>\u001b[0m     show_progress_bar\u001b[39m=\u001b[39;49mshow_progress_bar,\n\u001b[1;32m    <a href='file:///Users/p.woznicki/git/AutoRadiomics/.venv/lib/python3.10/site-packages/optuna/study/study.py?line=409'>410</a>\u001b[0m )\n",
      "File \u001b[0;32m~/git/AutoRadiomics/.venv/lib/python3.10/site-packages/optuna/study/_optimize.py:66\u001b[0m, in \u001b[0;36m_optimize\u001b[0;34m(study, func, n_trials, timeout, n_jobs, catch, callbacks, gc_after_trial, show_progress_bar)\u001b[0m\n\u001b[1;32m     <a href='file:///Users/p.woznicki/git/AutoRadiomics/.venv/lib/python3.10/site-packages/optuna/study/_optimize.py?line=63'>64</a>\u001b[0m \u001b[39mtry\u001b[39;00m:\n\u001b[1;32m     <a href='file:///Users/p.woznicki/git/AutoRadiomics/.venv/lib/python3.10/site-packages/optuna/study/_optimize.py?line=64'>65</a>\u001b[0m     \u001b[39mif\u001b[39;00m n_jobs \u001b[39m==\u001b[39m \u001b[39m1\u001b[39m:\n\u001b[0;32m---> <a href='file:///Users/p.woznicki/git/AutoRadiomics/.venv/lib/python3.10/site-packages/optuna/study/_optimize.py?line=65'>66</a>\u001b[0m         _optimize_sequential(\n\u001b[1;32m     <a href='file:///Users/p.woznicki/git/AutoRadiomics/.venv/lib/python3.10/site-packages/optuna/study/_optimize.py?line=66'>67</a>\u001b[0m             study,\n\u001b[1;32m     <a href='file:///Users/p.woznicki/git/AutoRadiomics/.venv/lib/python3.10/site-packages/optuna/study/_optimize.py?line=67'>68</a>\u001b[0m             func,\n\u001b[1;32m     <a href='file:///Users/p.woznicki/git/AutoRadiomics/.venv/lib/python3.10/site-packages/optuna/study/_optimize.py?line=68'>69</a>\u001b[0m             n_trials,\n\u001b[1;32m     <a href='file:///Users/p.woznicki/git/AutoRadiomics/.venv/lib/python3.10/site-packages/optuna/study/_optimize.py?line=69'>70</a>\u001b[0m             timeout,\n\u001b[1;32m     <a href='file:///Users/p.woznicki/git/AutoRadiomics/.venv/lib/python3.10/site-packages/optuna/study/_optimize.py?line=70'>71</a>\u001b[0m             catch,\n\u001b[1;32m     <a href='file:///Users/p.woznicki/git/AutoRadiomics/.venv/lib/python3.10/site-packages/optuna/study/_optimize.py?line=71'>72</a>\u001b[0m             callbacks,\n\u001b[1;32m     <a href='file:///Users/p.woznicki/git/AutoRadiomics/.venv/lib/python3.10/site-packages/optuna/study/_optimize.py?line=72'>73</a>\u001b[0m             gc_after_trial,\n\u001b[1;32m     <a href='file:///Users/p.woznicki/git/AutoRadiomics/.venv/lib/python3.10/site-packages/optuna/study/_optimize.py?line=73'>74</a>\u001b[0m             reseed_sampler_rng\u001b[39m=\u001b[39;49m\u001b[39mFalse\u001b[39;49;00m,\n\u001b[1;32m     <a href='file:///Users/p.woznicki/git/AutoRadiomics/.venv/lib/python3.10/site-packages/optuna/study/_optimize.py?line=74'>75</a>\u001b[0m             time_start\u001b[39m=\u001b[39;49m\u001b[39mNone\u001b[39;49;00m,\n\u001b[1;32m     <a href='file:///Users/p.woznicki/git/AutoRadiomics/.venv/lib/python3.10/site-packages/optuna/study/_optimize.py?line=75'>76</a>\u001b[0m             progress_bar\u001b[39m=\u001b[39;49mprogress_bar,\n\u001b[1;32m     <a href='file:///Users/p.woznicki/git/AutoRadiomics/.venv/lib/python3.10/site-packages/optuna/study/_optimize.py?line=76'>77</a>\u001b[0m         )\n\u001b[1;32m     <a href='file:///Users/p.woznicki/git/AutoRadiomics/.venv/lib/python3.10/site-packages/optuna/study/_optimize.py?line=77'>78</a>\u001b[0m     \u001b[39melse\u001b[39;00m:\n\u001b[1;32m     <a href='file:///Users/p.woznicki/git/AutoRadiomics/.venv/lib/python3.10/site-packages/optuna/study/_optimize.py?line=78'>79</a>\u001b[0m         \u001b[39mif\u001b[39;00m show_progress_bar:\n",
      "File \u001b[0;32m~/git/AutoRadiomics/.venv/lib/python3.10/site-packages/optuna/study/_optimize.py:163\u001b[0m, in \u001b[0;36m_optimize_sequential\u001b[0;34m(study, func, n_trials, timeout, catch, callbacks, gc_after_trial, reseed_sampler_rng, time_start, progress_bar)\u001b[0m\n\u001b[1;32m    <a href='file:///Users/p.woznicki/git/AutoRadiomics/.venv/lib/python3.10/site-packages/optuna/study/_optimize.py?line=159'>160</a>\u001b[0m         \u001b[39mbreak\u001b[39;00m\n\u001b[1;32m    <a href='file:///Users/p.woznicki/git/AutoRadiomics/.venv/lib/python3.10/site-packages/optuna/study/_optimize.py?line=161'>162</a>\u001b[0m \u001b[39mtry\u001b[39;00m:\n\u001b[0;32m--> <a href='file:///Users/p.woznicki/git/AutoRadiomics/.venv/lib/python3.10/site-packages/optuna/study/_optimize.py?line=162'>163</a>\u001b[0m     trial \u001b[39m=\u001b[39m _run_trial(study, func, catch)\n\u001b[1;32m    <a href='file:///Users/p.woznicki/git/AutoRadiomics/.venv/lib/python3.10/site-packages/optuna/study/_optimize.py?line=163'>164</a>\u001b[0m \u001b[39mexcept\u001b[39;00m \u001b[39mException\u001b[39;00m:\n\u001b[1;32m    <a href='file:///Users/p.woznicki/git/AutoRadiomics/.venv/lib/python3.10/site-packages/optuna/study/_optimize.py?line=164'>165</a>\u001b[0m     \u001b[39mraise\u001b[39;00m\n",
      "File \u001b[0;32m~/git/AutoRadiomics/.venv/lib/python3.10/site-packages/optuna/study/_optimize.py:264\u001b[0m, in \u001b[0;36m_run_trial\u001b[0;34m(study, func, catch)\u001b[0m\n\u001b[1;32m    <a href='file:///Users/p.woznicki/git/AutoRadiomics/.venv/lib/python3.10/site-packages/optuna/study/_optimize.py?line=260'>261</a>\u001b[0m         \u001b[39massert\u001b[39;00m \u001b[39mFalse\u001b[39;00m, \u001b[39m\"\u001b[39m\u001b[39mShould not reach.\u001b[39m\u001b[39m\"\u001b[39m\n\u001b[1;32m    <a href='file:///Users/p.woznicki/git/AutoRadiomics/.venv/lib/python3.10/site-packages/optuna/study/_optimize.py?line=262'>263</a>\u001b[0m \u001b[39mif\u001b[39;00m state \u001b[39m==\u001b[39m TrialState\u001b[39m.\u001b[39mFAIL \u001b[39mand\u001b[39;00m func_err \u001b[39mis\u001b[39;00m \u001b[39mnot\u001b[39;00m \u001b[39mNone\u001b[39;00m \u001b[39mand\u001b[39;00m \u001b[39mnot\u001b[39;00m \u001b[39misinstance\u001b[39m(func_err, catch):\n\u001b[0;32m--> <a href='file:///Users/p.woznicki/git/AutoRadiomics/.venv/lib/python3.10/site-packages/optuna/study/_optimize.py?line=263'>264</a>\u001b[0m     \u001b[39mraise\u001b[39;00m func_err\n\u001b[1;32m    <a href='file:///Users/p.woznicki/git/AutoRadiomics/.venv/lib/python3.10/site-packages/optuna/study/_optimize.py?line=264'>265</a>\u001b[0m \u001b[39mreturn\u001b[39;00m trial\n",
      "File \u001b[0;32m~/git/AutoRadiomics/.venv/lib/python3.10/site-packages/optuna/study/_optimize.py:213\u001b[0m, in \u001b[0;36m_run_trial\u001b[0;34m(study, func, catch)\u001b[0m\n\u001b[1;32m    <a href='file:///Users/p.woznicki/git/AutoRadiomics/.venv/lib/python3.10/site-packages/optuna/study/_optimize.py?line=209'>210</a>\u001b[0m     thread\u001b[39m.\u001b[39mstart()\n\u001b[1;32m    <a href='file:///Users/p.woznicki/git/AutoRadiomics/.venv/lib/python3.10/site-packages/optuna/study/_optimize.py?line=211'>212</a>\u001b[0m \u001b[39mtry\u001b[39;00m:\n\u001b[0;32m--> <a href='file:///Users/p.woznicki/git/AutoRadiomics/.venv/lib/python3.10/site-packages/optuna/study/_optimize.py?line=212'>213</a>\u001b[0m     value_or_values \u001b[39m=\u001b[39m func(trial)\n\u001b[1;32m    <a href='file:///Users/p.woznicki/git/AutoRadiomics/.venv/lib/python3.10/site-packages/optuna/study/_optimize.py?line=213'>214</a>\u001b[0m \u001b[39mexcept\u001b[39;00m exceptions\u001b[39m.\u001b[39mTrialPruned \u001b[39mas\u001b[39;00m e:\n\u001b[1;32m    <a href='file:///Users/p.woznicki/git/AutoRadiomics/.venv/lib/python3.10/site-packages/optuna/study/_optimize.py?line=214'>215</a>\u001b[0m     \u001b[39m# TODO(mamu): Handle multi-objective cases.\u001b[39;00m\n\u001b[1;32m    <a href='file:///Users/p.woznicki/git/AutoRadiomics/.venv/lib/python3.10/site-packages/optuna/study/_optimize.py?line=215'>216</a>\u001b[0m     state \u001b[39m=\u001b[39m TrialState\u001b[39m.\u001b[39mPRUNED\n",
      "File \u001b[0;32m~/git/AutoRadiomics/autorad/training/trainer.py:120\u001b[0m, in \u001b[0;36mTrainer.run.<locals>.<lambda>\u001b[0;34m(trial)\u001b[0m\n\u001b[1;32m    <a href='file:///Users/p.woznicki/git/AutoRadiomics/autorad/training/trainer.py?line=114'>115</a>\u001b[0m mlfc \u001b[39m=\u001b[39m MLflowCallback(\n\u001b[1;32m    <a href='file:///Users/p.woznicki/git/AutoRadiomics/autorad/training/trainer.py?line=115'>116</a>\u001b[0m     tracking_uri\u001b[39m=\u001b[39mmlflow\u001b[39m.\u001b[39mget_tracking_uri(), metric_name\u001b[39m=\u001b[39m\u001b[39m\"\u001b[39m\u001b[39mAUC\u001b[39m\u001b[39m\"\u001b[39m\n\u001b[1;32m    <a href='file:///Users/p.woznicki/git/AutoRadiomics/autorad/training/trainer.py?line=116'>117</a>\u001b[0m )\n\u001b[1;32m    <a href='file:///Users/p.woznicki/git/AutoRadiomics/autorad/training/trainer.py?line=117'>118</a>\u001b[0m study \u001b[39m=\u001b[39m \u001b[39mself\u001b[39m\u001b[39m.\u001b[39moptimizer\u001b[39m.\u001b[39mcreate_study(study_name\u001b[39m=\u001b[39m\u001b[39mself\u001b[39m\u001b[39m.\u001b[39mexperiment_name)\n\u001b[1;32m    <a href='file:///Users/p.woznicki/git/AutoRadiomics/autorad/training/trainer.py?line=118'>119</a>\u001b[0m study\u001b[39m.\u001b[39moptimize(\n\u001b[0;32m--> <a href='file:///Users/p.woznicki/git/AutoRadiomics/autorad/training/trainer.py?line=119'>120</a>\u001b[0m     \u001b[39mlambda\u001b[39;00m trial: \u001b[39mself\u001b[39;49m\u001b[39m.\u001b[39;49m_objective(trial, auto_preprocess),\n\u001b[1;32m    <a href='file:///Users/p.woznicki/git/AutoRadiomics/autorad/training/trainer.py?line=120'>121</a>\u001b[0m     n_trials\u001b[39m=\u001b[39m\u001b[39mself\u001b[39m\u001b[39m.\u001b[39moptimizer\u001b[39m.\u001b[39mn_trials,\n\u001b[1;32m    <a href='file:///Users/p.woznicki/git/AutoRadiomics/autorad/training/trainer.py?line=121'>122</a>\u001b[0m     callbacks\u001b[39m=\u001b[39m[mlfc],\n\u001b[1;32m    <a href='file:///Users/p.woznicki/git/AutoRadiomics/autorad/training/trainer.py?line=122'>123</a>\u001b[0m )\n\u001b[1;32m    <a href='file:///Users/p.woznicki/git/AutoRadiomics/autorad/training/trainer.py?line=123'>124</a>\u001b[0m \u001b[39mself\u001b[39m\u001b[39m.\u001b[39msave_best_params(study)\n",
      "File \u001b[0;32m~/git/AutoRadiomics/autorad/training/trainer.py:153\u001b[0m, in \u001b[0;36mTrainer._objective\u001b[0;34m(self, trial, auto_preprocess)\u001b[0m\n\u001b[1;32m    <a href='file:///Users/p.woznicki/git/AutoRadiomics/autorad/training/trainer.py?line=150'>151</a>\u001b[0m \u001b[39mself\u001b[39m\u001b[39m.\u001b[39mset_optuna_default_params(model, trial)\n\u001b[1;32m    <a href='file:///Users/p.woznicki/git/AutoRadiomics/autorad/training/trainer.py?line=151'>152</a>\u001b[0m aucs \u001b[39m=\u001b[39m []\n\u001b[0;32m--> <a href='file:///Users/p.woznicki/git/AutoRadiomics/autorad/training/trainer.py?line=152'>153</a>\u001b[0m \u001b[39mfor\u001b[39;00m X_train, y_train, X_val, y_val \u001b[39min\u001b[39;00m data\u001b[39m.\u001b[39miter_training():\n\u001b[1;32m    <a href='file:///Users/p.woznicki/git/AutoRadiomics/autorad/training/trainer.py?line=153'>154</a>\u001b[0m     model\u001b[39m.\u001b[39mfit(X_train, y_train)\n\u001b[1;32m    <a href='file:///Users/p.woznicki/git/AutoRadiomics/autorad/training/trainer.py?line=154'>155</a>\u001b[0m     y_pred \u001b[39m=\u001b[39m model\u001b[39m.\u001b[39mpredict_proba_binary(X_val)\n",
      "File \u001b[0;32m~/git/AutoRadiomics/autorad/data/dataset.py:58\u001b[0m, in \u001b[0;36mTrainingData.iter_training\u001b[0;34m(self)\u001b[0m\n\u001b[1;32m     <a href='file:///Users/p.woznicki/git/AutoRadiomics/autorad/data/dataset.py?line=55'>56</a>\u001b[0m X, y \u001b[39m=\u001b[39m \u001b[39mself\u001b[39m\u001b[39m.\u001b[39m_X_preprocessed, \u001b[39mself\u001b[39m\u001b[39m.\u001b[39m_y_preprocessed\n\u001b[1;32m     <a href='file:///Users/p.woznicki/git/AutoRadiomics/autorad/data/dataset.py?line=56'>57</a>\u001b[0m \u001b[39mif\u001b[39;00m X \u001b[39mis\u001b[39;00m \u001b[39mNone\u001b[39;00m:\n\u001b[0;32m---> <a href='file:///Users/p.woznicki/git/AutoRadiomics/autorad/data/dataset.py?line=57'>58</a>\u001b[0m     \u001b[39mraise\u001b[39;00m \u001b[39mValueError\u001b[39;00m(\u001b[39m\"\u001b[39m\u001b[39mNo preprocessing done!\u001b[39m\u001b[39m\"\u001b[39m)\n\u001b[1;32m     <a href='file:///Users/p.woznicki/git/AutoRadiomics/autorad/data/dataset.py?line=58'>59</a>\u001b[0m \u001b[39mif\u001b[39;00m X\u001b[39m.\u001b[39mval \u001b[39mis\u001b[39;00m \u001b[39mnot\u001b[39;00m \u001b[39mNone\u001b[39;00m:\n\u001b[1;32m     <a href='file:///Users/p.woznicki/git/AutoRadiomics/autorad/data/dataset.py?line=59'>60</a>\u001b[0m     \u001b[39myield\u001b[39;00m X\u001b[39m.\u001b[39mtrain, y\u001b[39m.\u001b[39mtrain, X\u001b[39m.\u001b[39mval, y\u001b[39m.\u001b[39mval\n",
      "\u001b[0;31mValueError\u001b[0m: No preprocessing done!"
     ]
    }
   ],
   "source": [
    "trainer.set_optimizer(\"optuna\", n_trials=30)\n",
    "trainer.run(auto_preprocess=True)"
   ]
  },
  {
   "cell_type": "code",
   "execution_count": 96,
   "metadata": {},
   "outputs": [
    {
     "data": {
      "application/vnd.plotly.v1+json": {
       "config": {
        "plotlyServerURL": "https://plot.ly"
       },
       "data": [
        {
         "line": {
          "color": "royalblue",
          "width": 2
         },
         "mode": "lines",
         "name": "AUC=0.34",
         "type": "scatter",
         "x": [
          0,
          0.14285714285714285,
          0.14285714285714285,
          1,
          1
         ],
         "y": [
          0,
          0,
          0.4,
          0.4,
          1
         ]
        }
       ],
       "layout": {
        "font": {
         "size": 20
        },
        "height": 600,
        "legend": {
         "x": 0.99,
         "xanchor": "right",
         "y": 0.01,
         "yanchor": "bottom"
        },
        "plot_bgcolor": "rgba(0, 0, 0, 0)",
        "shapes": [
         {
          "line": {
           "dash": "dash"
          },
          "type": "line",
          "x0": 0,
          "x1": 1,
          "y0": 0,
          "y1": 1
         }
        ],
        "showlegend": true,
        "template": {
         "data": {
          "bar": [
           {
            "error_x": {
             "color": "#2a3f5f"
            },
            "error_y": {
             "color": "#2a3f5f"
            },
            "marker": {
             "line": {
              "color": "#E5ECF6",
              "width": 0.5
             },
             "pattern": {
              "fillmode": "overlay",
              "size": 10,
              "solidity": 0.2
             }
            },
            "type": "bar"
           }
          ],
          "barpolar": [
           {
            "marker": {
             "line": {
              "color": "#E5ECF6",
              "width": 0.5
             },
             "pattern": {
              "fillmode": "overlay",
              "size": 10,
              "solidity": 0.2
             }
            },
            "type": "barpolar"
           }
          ],
          "carpet": [
           {
            "aaxis": {
             "endlinecolor": "#2a3f5f",
             "gridcolor": "white",
             "linecolor": "white",
             "minorgridcolor": "white",
             "startlinecolor": "#2a3f5f"
            },
            "baxis": {
             "endlinecolor": "#2a3f5f",
             "gridcolor": "white",
             "linecolor": "white",
             "minorgridcolor": "white",
             "startlinecolor": "#2a3f5f"
            },
            "type": "carpet"
           }
          ],
          "choropleth": [
           {
            "colorbar": {
             "outlinewidth": 0,
             "ticks": ""
            },
            "type": "choropleth"
           }
          ],
          "contour": [
           {
            "colorbar": {
             "outlinewidth": 0,
             "ticks": ""
            },
            "colorscale": [
             [
              0,
              "#0d0887"
             ],
             [
              0.1111111111111111,
              "#46039f"
             ],
             [
              0.2222222222222222,
              "#7201a8"
             ],
             [
              0.3333333333333333,
              "#9c179e"
             ],
             [
              0.4444444444444444,
              "#bd3786"
             ],
             [
              0.5555555555555556,
              "#d8576b"
             ],
             [
              0.6666666666666666,
              "#ed7953"
             ],
             [
              0.7777777777777778,
              "#fb9f3a"
             ],
             [
              0.8888888888888888,
              "#fdca26"
             ],
             [
              1,
              "#f0f921"
             ]
            ],
            "type": "contour"
           }
          ],
          "contourcarpet": [
           {
            "colorbar": {
             "outlinewidth": 0,
             "ticks": ""
            },
            "type": "contourcarpet"
           }
          ],
          "heatmap": [
           {
            "colorbar": {
             "outlinewidth": 0,
             "ticks": ""
            },
            "colorscale": [
             [
              0,
              "#0d0887"
             ],
             [
              0.1111111111111111,
              "#46039f"
             ],
             [
              0.2222222222222222,
              "#7201a8"
             ],
             [
              0.3333333333333333,
              "#9c179e"
             ],
             [
              0.4444444444444444,
              "#bd3786"
             ],
             [
              0.5555555555555556,
              "#d8576b"
             ],
             [
              0.6666666666666666,
              "#ed7953"
             ],
             [
              0.7777777777777778,
              "#fb9f3a"
             ],
             [
              0.8888888888888888,
              "#fdca26"
             ],
             [
              1,
              "#f0f921"
             ]
            ],
            "type": "heatmap"
           }
          ],
          "heatmapgl": [
           {
            "colorbar": {
             "outlinewidth": 0,
             "ticks": ""
            },
            "colorscale": [
             [
              0,
              "#0d0887"
             ],
             [
              0.1111111111111111,
              "#46039f"
             ],
             [
              0.2222222222222222,
              "#7201a8"
             ],
             [
              0.3333333333333333,
              "#9c179e"
             ],
             [
              0.4444444444444444,
              "#bd3786"
             ],
             [
              0.5555555555555556,
              "#d8576b"
             ],
             [
              0.6666666666666666,
              "#ed7953"
             ],
             [
              0.7777777777777778,
              "#fb9f3a"
             ],
             [
              0.8888888888888888,
              "#fdca26"
             ],
             [
              1,
              "#f0f921"
             ]
            ],
            "type": "heatmapgl"
           }
          ],
          "histogram": [
           {
            "marker": {
             "pattern": {
              "fillmode": "overlay",
              "size": 10,
              "solidity": 0.2
             }
            },
            "type": "histogram"
           }
          ],
          "histogram2d": [
           {
            "colorbar": {
             "outlinewidth": 0,
             "ticks": ""
            },
            "colorscale": [
             [
              0,
              "#0d0887"
             ],
             [
              0.1111111111111111,
              "#46039f"
             ],
             [
              0.2222222222222222,
              "#7201a8"
             ],
             [
              0.3333333333333333,
              "#9c179e"
             ],
             [
              0.4444444444444444,
              "#bd3786"
             ],
             [
              0.5555555555555556,
              "#d8576b"
             ],
             [
              0.6666666666666666,
              "#ed7953"
             ],
             [
              0.7777777777777778,
              "#fb9f3a"
             ],
             [
              0.8888888888888888,
              "#fdca26"
             ],
             [
              1,
              "#f0f921"
             ]
            ],
            "type": "histogram2d"
           }
          ],
          "histogram2dcontour": [
           {
            "colorbar": {
             "outlinewidth": 0,
             "ticks": ""
            },
            "colorscale": [
             [
              0,
              "#0d0887"
             ],
             [
              0.1111111111111111,
              "#46039f"
             ],
             [
              0.2222222222222222,
              "#7201a8"
             ],
             [
              0.3333333333333333,
              "#9c179e"
             ],
             [
              0.4444444444444444,
              "#bd3786"
             ],
             [
              0.5555555555555556,
              "#d8576b"
             ],
             [
              0.6666666666666666,
              "#ed7953"
             ],
             [
              0.7777777777777778,
              "#fb9f3a"
             ],
             [
              0.8888888888888888,
              "#fdca26"
             ],
             [
              1,
              "#f0f921"
             ]
            ],
            "type": "histogram2dcontour"
           }
          ],
          "mesh3d": [
           {
            "colorbar": {
             "outlinewidth": 0,
             "ticks": ""
            },
            "type": "mesh3d"
           }
          ],
          "parcoords": [
           {
            "line": {
             "colorbar": {
              "outlinewidth": 0,
              "ticks": ""
             }
            },
            "type": "parcoords"
           }
          ],
          "pie": [
           {
            "automargin": true,
            "type": "pie"
           }
          ],
          "scatter": [
           {
            "marker": {
             "colorbar": {
              "outlinewidth": 0,
              "ticks": ""
             }
            },
            "type": "scatter"
           }
          ],
          "scatter3d": [
           {
            "line": {
             "colorbar": {
              "outlinewidth": 0,
              "ticks": ""
             }
            },
            "marker": {
             "colorbar": {
              "outlinewidth": 0,
              "ticks": ""
             }
            },
            "type": "scatter3d"
           }
          ],
          "scattercarpet": [
           {
            "marker": {
             "colorbar": {
              "outlinewidth": 0,
              "ticks": ""
             }
            },
            "type": "scattercarpet"
           }
          ],
          "scattergeo": [
           {
            "marker": {
             "colorbar": {
              "outlinewidth": 0,
              "ticks": ""
             }
            },
            "type": "scattergeo"
           }
          ],
          "scattergl": [
           {
            "marker": {
             "colorbar": {
              "outlinewidth": 0,
              "ticks": ""
             }
            },
            "type": "scattergl"
           }
          ],
          "scattermapbox": [
           {
            "marker": {
             "colorbar": {
              "outlinewidth": 0,
              "ticks": ""
             }
            },
            "type": "scattermapbox"
           }
          ],
          "scatterpolar": [
           {
            "marker": {
             "colorbar": {
              "outlinewidth": 0,
              "ticks": ""
             }
            },
            "type": "scatterpolar"
           }
          ],
          "scatterpolargl": [
           {
            "marker": {
             "colorbar": {
              "outlinewidth": 0,
              "ticks": ""
             }
            },
            "type": "scatterpolargl"
           }
          ],
          "scatterternary": [
           {
            "marker": {
             "colorbar": {
              "outlinewidth": 0,
              "ticks": ""
             }
            },
            "type": "scatterternary"
           }
          ],
          "surface": [
           {
            "colorbar": {
             "outlinewidth": 0,
             "ticks": ""
            },
            "colorscale": [
             [
              0,
              "#0d0887"
             ],
             [
              0.1111111111111111,
              "#46039f"
             ],
             [
              0.2222222222222222,
              "#7201a8"
             ],
             [
              0.3333333333333333,
              "#9c179e"
             ],
             [
              0.4444444444444444,
              "#bd3786"
             ],
             [
              0.5555555555555556,
              "#d8576b"
             ],
             [
              0.6666666666666666,
              "#ed7953"
             ],
             [
              0.7777777777777778,
              "#fb9f3a"
             ],
             [
              0.8888888888888888,
              "#fdca26"
             ],
             [
              1,
              "#f0f921"
             ]
            ],
            "type": "surface"
           }
          ],
          "table": [
           {
            "cells": {
             "fill": {
              "color": "#EBF0F8"
             },
             "line": {
              "color": "white"
             }
            },
            "header": {
             "fill": {
              "color": "#C8D4E3"
             },
             "line": {
              "color": "white"
             }
            },
            "type": "table"
           }
          ]
         },
         "layout": {
          "annotationdefaults": {
           "arrowcolor": "#2a3f5f",
           "arrowhead": 0,
           "arrowwidth": 1
          },
          "autotypenumbers": "strict",
          "coloraxis": {
           "colorbar": {
            "outlinewidth": 0,
            "ticks": ""
           }
          },
          "colorscale": {
           "diverging": [
            [
             0,
             "#8e0152"
            ],
            [
             0.1,
             "#c51b7d"
            ],
            [
             0.2,
             "#de77ae"
            ],
            [
             0.3,
             "#f1b6da"
            ],
            [
             0.4,
             "#fde0ef"
            ],
            [
             0.5,
             "#f7f7f7"
            ],
            [
             0.6,
             "#e6f5d0"
            ],
            [
             0.7,
             "#b8e186"
            ],
            [
             0.8,
             "#7fbc41"
            ],
            [
             0.9,
             "#4d9221"
            ],
            [
             1,
             "#276419"
            ]
           ],
           "sequential": [
            [
             0,
             "#0d0887"
            ],
            [
             0.1111111111111111,
             "#46039f"
            ],
            [
             0.2222222222222222,
             "#7201a8"
            ],
            [
             0.3333333333333333,
             "#9c179e"
            ],
            [
             0.4444444444444444,
             "#bd3786"
            ],
            [
             0.5555555555555556,
             "#d8576b"
            ],
            [
             0.6666666666666666,
             "#ed7953"
            ],
            [
             0.7777777777777778,
             "#fb9f3a"
            ],
            [
             0.8888888888888888,
             "#fdca26"
            ],
            [
             1,
             "#f0f921"
            ]
           ],
           "sequentialminus": [
            [
             0,
             "#0d0887"
            ],
            [
             0.1111111111111111,
             "#46039f"
            ],
            [
             0.2222222222222222,
             "#7201a8"
            ],
            [
             0.3333333333333333,
             "#9c179e"
            ],
            [
             0.4444444444444444,
             "#bd3786"
            ],
            [
             0.5555555555555556,
             "#d8576b"
            ],
            [
             0.6666666666666666,
             "#ed7953"
            ],
            [
             0.7777777777777778,
             "#fb9f3a"
            ],
            [
             0.8888888888888888,
             "#fdca26"
            ],
            [
             1,
             "#f0f921"
            ]
           ]
          },
          "colorway": [
           "#636efa",
           "#EF553B",
           "#00cc96",
           "#ab63fa",
           "#FFA15A",
           "#19d3f3",
           "#FF6692",
           "#B6E880",
           "#FF97FF",
           "#FECB52"
          ],
          "font": {
           "color": "#2a3f5f"
          },
          "geo": {
           "bgcolor": "white",
           "lakecolor": "white",
           "landcolor": "#E5ECF6",
           "showlakes": true,
           "showland": true,
           "subunitcolor": "white"
          },
          "hoverlabel": {
           "align": "left"
          },
          "hovermode": "closest",
          "mapbox": {
           "style": "light"
          },
          "paper_bgcolor": "white",
          "plot_bgcolor": "#E5ECF6",
          "polar": {
           "angularaxis": {
            "gridcolor": "white",
            "linecolor": "white",
            "ticks": ""
           },
           "bgcolor": "#E5ECF6",
           "radialaxis": {
            "gridcolor": "white",
            "linecolor": "white",
            "ticks": ""
           }
          },
          "scene": {
           "xaxis": {
            "backgroundcolor": "#E5ECF6",
            "gridcolor": "white",
            "gridwidth": 2,
            "linecolor": "white",
            "showbackground": true,
            "ticks": "",
            "zerolinecolor": "white"
           },
           "yaxis": {
            "backgroundcolor": "#E5ECF6",
            "gridcolor": "white",
            "gridwidth": 2,
            "linecolor": "white",
            "showbackground": true,
            "ticks": "",
            "zerolinecolor": "white"
           },
           "zaxis": {
            "backgroundcolor": "#E5ECF6",
            "gridcolor": "white",
            "gridwidth": 2,
            "linecolor": "white",
            "showbackground": true,
            "ticks": "",
            "zerolinecolor": "white"
           }
          },
          "shapedefaults": {
           "line": {
            "color": "#2a3f5f"
           }
          },
          "ternary": {
           "aaxis": {
            "gridcolor": "white",
            "linecolor": "white",
            "ticks": ""
           },
           "baxis": {
            "gridcolor": "white",
            "linecolor": "white",
            "ticks": ""
           },
           "bgcolor": "#E5ECF6",
           "caxis": {
            "gridcolor": "white",
            "linecolor": "white",
            "ticks": ""
           }
          },
          "title": {
           "x": 0.05
          },
          "xaxis": {
           "automargin": true,
           "gridcolor": "white",
           "linecolor": "white",
           "ticks": "",
           "title": {
            "standoff": 15
           },
           "zerolinecolor": "white",
           "zerolinewidth": 2
          },
          "yaxis": {
           "automargin": true,
           "gridcolor": "white",
           "linecolor": "white",
           "ticks": "",
           "title": {
            "standoff": 15
           },
           "zerolinecolor": "white",
           "zerolinewidth": 2
          }
         }
        },
        "width": 600,
        "xaxis": {
         "linecolor": "black",
         "linewidth": 2,
         "showgrid": true,
         "showline": true,
         "title": {
          "text": "False Positive Rate"
         }
        },
        "yaxis": {
         "linecolor": "black",
         "linewidth": 2,
         "showgrid": false,
         "showline": true,
         "title": {
          "text": "True Positive Rate"
         }
        }
       }
      }
     },
     "metadata": {},
     "output_type": "display_data"
    }
   ],
   "source": [
    "from autorad.utils import io\n",
    "from autorad.visualization import plotly_utils\n",
    "from autorad.training.trainer import Inferrer\n",
    "\n",
    "best_params = io.load_json(result_dir / \"best_params.json\")\n",
    "inferrer = Inferrer(params=best_params, result_dir=result_dir)\n",
    "inferrer.fit_eval(feature_dataset, result_name=\"test\")\n",
    "\n",
    "results = pd.read_csv(result_dir / \"test.csv\")\n",
    "plotly_utils.plot_roc_curve(results.y_true, results.y_pred_proba)"
   ]
  },
  {
   "cell_type": "code",
   "execution_count": 79,
   "metadata": {},
   "outputs": [
    {
     "data": {
      "text/html": [
       "<div>\n",
       "<style scoped>\n",
       "    .dataframe tbody tr th:only-of-type {\n",
       "        vertical-align: middle;\n",
       "    }\n",
       "\n",
       "    .dataframe tbody tr th {\n",
       "        vertical-align: top;\n",
       "    }\n",
       "\n",
       "    .dataframe thead th {\n",
       "        text-align: right;\n",
       "    }\n",
       "</style>\n",
       "<table border=\"1\" class=\"dataframe\">\n",
       "  <thead>\n",
       "    <tr style=\"text-align: right;\">\n",
       "      <th></th>\n",
       "      <th>y_true</th>\n",
       "      <th>y_pred_proba</th>\n",
       "    </tr>\n",
       "  </thead>\n",
       "  <tbody>\n",
       "    <tr>\n",
       "      <th>0</th>\n",
       "      <td>1</td>\n",
       "      <td>0.458062</td>\n",
       "    </tr>\n",
       "    <tr>\n",
       "      <th>1</th>\n",
       "      <td>1</td>\n",
       "      <td>0.458403</td>\n",
       "    </tr>\n",
       "    <tr>\n",
       "      <th>2</th>\n",
       "      <td>1</td>\n",
       "      <td>0.458564</td>\n",
       "    </tr>\n",
       "    <tr>\n",
       "      <th>3</th>\n",
       "      <td>1</td>\n",
       "      <td>0.458457</td>\n",
       "    </tr>\n",
       "    <tr>\n",
       "      <th>4</th>\n",
       "      <td>0</td>\n",
       "      <td>0.458511</td>\n",
       "    </tr>\n",
       "    <tr>\n",
       "      <th>5</th>\n",
       "      <td>0</td>\n",
       "      <td>0.458574</td>\n",
       "    </tr>\n",
       "    <tr>\n",
       "      <th>6</th>\n",
       "      <td>0</td>\n",
       "      <td>0.458334</td>\n",
       "    </tr>\n",
       "    <tr>\n",
       "      <th>7</th>\n",
       "      <td>0</td>\n",
       "      <td>0.458369</td>\n",
       "    </tr>\n",
       "  </tbody>\n",
       "</table>\n",
       "</div>"
      ],
      "text/plain": [
       "   y_true  y_pred_proba\n",
       "0       1      0.458062\n",
       "1       1      0.458403\n",
       "2       1      0.458564\n",
       "3       1      0.458457\n",
       "4       0      0.458511\n",
       "5       0      0.458574\n",
       "6       0      0.458334\n",
       "7       0      0.458369"
      ]
     },
     "execution_count": 79,
     "metadata": {},
     "output_type": "execute_result"
    }
   ],
   "source": [
    "results"
   ]
  },
  {
   "cell_type": "code",
   "execution_count": null,
   "metadata": {},
   "outputs": [],
   "source": []
  }
 ],
 "metadata": {
  "interpreter": {
   "hash": "378c3e272f986b76de7a813614cd4d6ba63a07672673e8c51c818cb6af86fa94"
  },
  "kernelspec": {
   "display_name": "Python 3.10.4 ('.venv': venv)",
   "language": "python",
   "name": "python3"
  },
  "language_info": {
   "codemirror_mode": {
    "name": "ipython",
    "version": 3
   },
   "file_extension": ".py",
   "mimetype": "text/x-python",
   "name": "python",
   "nbconvert_exporter": "python",
   "pygments_lexer": "ipython3",
   "version": "3.10.4"
  },
  "orig_nbformat": 4
 },
 "nbformat": 4,
 "nbformat_minor": 2
}
