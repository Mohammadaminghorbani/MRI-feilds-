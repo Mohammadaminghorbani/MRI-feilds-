{
 "cells": [
  {
   "cell_type": "markdown",
   "metadata": {},
   "source": [
    "In this tutorial, we will analyze Lipoma dataset from the [WORC Database](https://github.com/MStarmans91/WORCDatabase/tree/development).\n",
    "\n",
    "More details on the dataset as well as the original analysis performed by their authors can be found here:\n",
    "\n",
    "`Starmans, M. P. A. et al. (2021). The WORC* database: MRI and CT scans, segmentations, and clinical labels for 932 patients from six radiomics studies. Submitted, preprint available from https://doi.org/10.1101/2021.08.19.21262238`\n",
    "\n",
    "`The experiments are described in the following paper: Starmans, M. P. A. et al. (2021). Reproducible radiomics through automated machine learning validated on twelve clinical applications. Submitted, preprint available from https://arxiv.org/abs/2108.08618.`"
   ]
  },
  {
   "cell_type": "code",
   "execution_count": null,
   "metadata": {},
   "outputs": [],
   "source": [
    "# In case you haven't already installed AutoRadiomics\n",
    "!pip install autorad"
   ]
  },
  {
   "cell_type": "code",
   "execution_count": null,
   "metadata": {},
   "outputs": [],
   "source": [
    "from autorad.external.download_WORC import download_WORCDatabase\n",
    "from autorad.config import config\n",
    "from pathlib import Path\n",
    "import pandas as pd\n",
    "\n",
    "# Set where we will save our data and results\n",
    "base_dir = Path(config.TEST_DATA_DIR)\n",
    "data_dir = base_dir / \"worc_data\"\n",
    "result_dir = base_dir / \"worc_results\"\n",
    "\n",
    "%load_ext autoreload\n",
    "%autoreload 2\n",
    "\n",
    "\n",
    "download_WORCDatabase(\n",
    "    dataset=\"Liver\",\n",
    "    data_folder=data_dir,\n",
    "    n_subjects=30,\n",
    "    )"
   ]
  },
  {
   "cell_type": "code",
   "execution_count": 3,
   "metadata": {},
   "outputs": [
    {
     "name": "stdout",
     "output_type": "stream",
     "text": [
      "\u001b[1m\u001b[36mLiver-006\u001b[m\u001b[m  \u001b[1m\u001b[36mLiver-030\u001b[m\u001b[m  \u001b[1m\u001b[36mLiver-038\u001b[m\u001b[m  \u001b[1m\u001b[36mLiver-107\u001b[m\u001b[m  \u001b[1m\u001b[36mLiver-146\u001b[m\u001b[m  \u001b[1m\u001b[36mLiver-166\u001b[m\u001b[m  labels.csv\n",
      "\u001b[1m\u001b[36mLiver-008\u001b[m\u001b[m  \u001b[1m\u001b[36mLiver-031\u001b[m\u001b[m  \u001b[1m\u001b[36mLiver-054\u001b[m\u001b[m  \u001b[1m\u001b[36mLiver-115\u001b[m\u001b[m  \u001b[1m\u001b[36mLiver-147\u001b[m\u001b[m  \u001b[1m\u001b[36mLiver-168\u001b[m\u001b[m\n",
      "\u001b[1m\u001b[36mLiver-011\u001b[m\u001b[m  \u001b[1m\u001b[36mLiver-033\u001b[m\u001b[m  \u001b[1m\u001b[36mLiver-067\u001b[m\u001b[m  \u001b[1m\u001b[36mLiver-122\u001b[m\u001b[m  \u001b[1m\u001b[36mLiver-154\u001b[m\u001b[m  \u001b[1m\u001b[36mLiver-180\u001b[m\u001b[m\n",
      "\u001b[1m\u001b[36mLiver-021\u001b[m\u001b[m  \u001b[1m\u001b[36mLiver-035\u001b[m\u001b[m  \u001b[1m\u001b[36mLiver-079\u001b[m\u001b[m  \u001b[1m\u001b[36mLiver-124\u001b[m\u001b[m  \u001b[1m\u001b[36mLiver-156\u001b[m\u001b[m  \u001b[1m\u001b[36mLiver-184\u001b[m\u001b[m\n",
      "\u001b[1m\u001b[36mLiver-023\u001b[m\u001b[m  \u001b[1m\u001b[36mLiver-037\u001b[m\u001b[m  \u001b[1m\u001b[36mLiver-106\u001b[m\u001b[m  \u001b[1m\u001b[36mLiver-128\u001b[m\u001b[m  \u001b[1m\u001b[36mLiver-159\u001b[m\u001b[m  \u001b[1m\u001b[36mLiver-185\u001b[m\u001b[m\n"
     ]
    }
   ],
   "source": [
    "!ls $data_dir"
   ]
  },
  {
   "cell_type": "code",
   "execution_count": 4,
   "metadata": {},
   "outputs": [
    {
     "data": {
      "text/html": [
       "<div>\n",
       "<style scoped>\n",
       "    .dataframe tbody tr th:only-of-type {\n",
       "        vertical-align: middle;\n",
       "    }\n",
       "\n",
       "    .dataframe tbody tr th {\n",
       "        vertical-align: top;\n",
       "    }\n",
       "\n",
       "    .dataframe thead th {\n",
       "        text-align: right;\n",
       "    }\n",
       "</style>\n",
       "<table border=\"1\" class=\"dataframe\">\n",
       "  <thead>\n",
       "    <tr style=\"text-align: right;\">\n",
       "      <th></th>\n",
       "      <th>ID</th>\n",
       "      <th>image_path</th>\n",
       "      <th>segmentation_path</th>\n",
       "    </tr>\n",
       "  </thead>\n",
       "  <tbody>\n",
       "    <tr>\n",
       "      <th>0</th>\n",
       "      <td>Liver-035</td>\n",
       "      <td>Liver-035/image.nii.gz</td>\n",
       "      <td>Liver-035/segmentation.nii.gz</td>\n",
       "    </tr>\n",
       "    <tr>\n",
       "      <th>1</th>\n",
       "      <td>Liver-067</td>\n",
       "      <td>Liver-067/image.nii.gz</td>\n",
       "      <td>Liver-067/segmentation.nii.gz</td>\n",
       "    </tr>\n",
       "    <tr>\n",
       "      <th>2</th>\n",
       "      <td>Liver-033</td>\n",
       "      <td>Liver-033/image.nii.gz</td>\n",
       "      <td>Liver-033/segmentation.nii.gz</td>\n",
       "    </tr>\n",
       "    <tr>\n",
       "      <th>3</th>\n",
       "      <td>Liver-146</td>\n",
       "      <td>Liver-146/image.nii.gz</td>\n",
       "      <td>Liver-146/segmentation.nii.gz</td>\n",
       "    </tr>\n",
       "    <tr>\n",
       "      <th>4</th>\n",
       "      <td>Liver-184</td>\n",
       "      <td>Liver-184/image.nii.gz</td>\n",
       "      <td>Liver-184/segmentation.nii.gz</td>\n",
       "    </tr>\n",
       "    <tr>\n",
       "      <th>5</th>\n",
       "      <td>Liver-124</td>\n",
       "      <td>Liver-124/image.nii.gz</td>\n",
       "      <td>Liver-124/segmentation.nii.gz</td>\n",
       "    </tr>\n",
       "    <tr>\n",
       "      <th>6</th>\n",
       "      <td>Liver-115</td>\n",
       "      <td>Liver-115/image.nii.gz</td>\n",
       "      <td>Liver-115/segmentation.nii.gz</td>\n",
       "    </tr>\n",
       "    <tr>\n",
       "      <th>7</th>\n",
       "      <td>Liver-185</td>\n",
       "      <td>Liver-185/image.nii.gz</td>\n",
       "      <td>Liver-185/segmentation.nii.gz</td>\n",
       "    </tr>\n",
       "    <tr>\n",
       "      <th>8</th>\n",
       "      <td>Liver-147</td>\n",
       "      <td>Liver-147/image.nii.gz</td>\n",
       "      <td>Liver-147/segmentation.nii.gz</td>\n",
       "    </tr>\n",
       "    <tr>\n",
       "      <th>9</th>\n",
       "      <td>Liver-122</td>\n",
       "      <td>Liver-122/image.nii.gz</td>\n",
       "      <td>Liver-122/segmentation.nii.gz</td>\n",
       "    </tr>\n",
       "    <tr>\n",
       "      <th>10</th>\n",
       "      <td>Liver-107</td>\n",
       "      <td>Liver-107/image.nii.gz</td>\n",
       "      <td>Liver-107/segmentation.nii.gz</td>\n",
       "    </tr>\n",
       "    <tr>\n",
       "      <th>11</th>\n",
       "      <td>Liver-154</td>\n",
       "      <td>Liver-154/image.nii.gz</td>\n",
       "      <td>Liver-154/segmentation.nii.gz</td>\n",
       "    </tr>\n",
       "    <tr>\n",
       "      <th>12</th>\n",
       "      <td>Liver-106</td>\n",
       "      <td>Liver-106/image.nii.gz</td>\n",
       "      <td>Liver-106/segmentation.nii.gz</td>\n",
       "    </tr>\n",
       "    <tr>\n",
       "      <th>13</th>\n",
       "      <td>Liver-011</td>\n",
       "      <td>Liver-011/image.nii.gz</td>\n",
       "      <td>Liver-011/segmentation.nii.gz</td>\n",
       "    </tr>\n",
       "    <tr>\n",
       "      <th>14</th>\n",
       "      <td>Liver-021</td>\n",
       "      <td>Liver-021/image.nii.gz</td>\n",
       "      <td>Liver-021/segmentation.nii.gz</td>\n",
       "    </tr>\n",
       "    <tr>\n",
       "      <th>15</th>\n",
       "      <td>Liver-031</td>\n",
       "      <td>Liver-031/image.nii.gz</td>\n",
       "      <td>Liver-031/segmentation.nii.gz</td>\n",
       "    </tr>\n",
       "    <tr>\n",
       "      <th>16</th>\n",
       "      <td>Liver-038</td>\n",
       "      <td>Liver-038/image.nii.gz</td>\n",
       "      <td>Liver-038/segmentation.nii.gz</td>\n",
       "    </tr>\n",
       "    <tr>\n",
       "      <th>17</th>\n",
       "      <td>Liver-054</td>\n",
       "      <td>Liver-054/image.nii.gz</td>\n",
       "      <td>Liver-054/segmentation.nii.gz</td>\n",
       "    </tr>\n",
       "    <tr>\n",
       "      <th>18</th>\n",
       "      <td>Liver-006</td>\n",
       "      <td>Liver-006/image.nii.gz</td>\n",
       "      <td>Liver-006/segmentation.nii.gz</td>\n",
       "    </tr>\n",
       "    <tr>\n",
       "      <th>19</th>\n",
       "      <td>Liver-037</td>\n",
       "      <td>Liver-037/image.nii.gz</td>\n",
       "      <td>Liver-037/segmentation.nii.gz</td>\n",
       "    </tr>\n",
       "    <tr>\n",
       "      <th>20</th>\n",
       "      <td>Liver-008</td>\n",
       "      <td>Liver-008/image.nii.gz</td>\n",
       "      <td>Liver-008/segmentation.nii.gz</td>\n",
       "    </tr>\n",
       "    <tr>\n",
       "      <th>21</th>\n",
       "      <td>Liver-030</td>\n",
       "      <td>Liver-030/image.nii.gz</td>\n",
       "      <td>Liver-030/segmentation.nii.gz</td>\n",
       "    </tr>\n",
       "    <tr>\n",
       "      <th>22</th>\n",
       "      <td>Liver-180</td>\n",
       "      <td>Liver-180/image.nii.gz</td>\n",
       "      <td>Liver-180/segmentation.nii.gz</td>\n",
       "    </tr>\n",
       "    <tr>\n",
       "      <th>23</th>\n",
       "      <td>Liver-128</td>\n",
       "      <td>Liver-128/image.nii.gz</td>\n",
       "      <td>Liver-128/segmentation.nii.gz</td>\n",
       "    </tr>\n",
       "    <tr>\n",
       "      <th>24</th>\n",
       "      <td>Liver-166</td>\n",
       "      <td>Liver-166/image.nii.gz</td>\n",
       "      <td>Liver-166/segmentation.nii.gz</td>\n",
       "    </tr>\n",
       "    <tr>\n",
       "      <th>25</th>\n",
       "      <td>Liver-159</td>\n",
       "      <td>Liver-159/image.nii.gz</td>\n",
       "      <td>Liver-159/segmentation.nii.gz</td>\n",
       "    </tr>\n",
       "    <tr>\n",
       "      <th>26</th>\n",
       "      <td>Liver-168</td>\n",
       "      <td>Liver-168/image.nii.gz</td>\n",
       "      <td>Liver-168/segmentation.nii.gz</td>\n",
       "    </tr>\n",
       "    <tr>\n",
       "      <th>27</th>\n",
       "      <td>Liver-156</td>\n",
       "      <td>Liver-156/image.nii.gz</td>\n",
       "      <td>Liver-156/segmentation.nii.gz</td>\n",
       "    </tr>\n",
       "    <tr>\n",
       "      <th>28</th>\n",
       "      <td>Liver-079</td>\n",
       "      <td>Liver-079/image.nii.gz</td>\n",
       "      <td>Liver-079/segmentation.nii.gz</td>\n",
       "    </tr>\n",
       "    <tr>\n",
       "      <th>29</th>\n",
       "      <td>Liver-023</td>\n",
       "      <td>Liver-023/image.nii.gz</td>\n",
       "      <td>Liver-023/segmentation.nii.gz</td>\n",
       "    </tr>\n",
       "  </tbody>\n",
       "</table>\n",
       "</div>"
      ],
      "text/plain": [
       "           ID              image_path              segmentation_path\n",
       "0   Liver-035  Liver-035/image.nii.gz  Liver-035/segmentation.nii.gz\n",
       "1   Liver-067  Liver-067/image.nii.gz  Liver-067/segmentation.nii.gz\n",
       "2   Liver-033  Liver-033/image.nii.gz  Liver-033/segmentation.nii.gz\n",
       "3   Liver-146  Liver-146/image.nii.gz  Liver-146/segmentation.nii.gz\n",
       "4   Liver-184  Liver-184/image.nii.gz  Liver-184/segmentation.nii.gz\n",
       "5   Liver-124  Liver-124/image.nii.gz  Liver-124/segmentation.nii.gz\n",
       "6   Liver-115  Liver-115/image.nii.gz  Liver-115/segmentation.nii.gz\n",
       "7   Liver-185  Liver-185/image.nii.gz  Liver-185/segmentation.nii.gz\n",
       "8   Liver-147  Liver-147/image.nii.gz  Liver-147/segmentation.nii.gz\n",
       "9   Liver-122  Liver-122/image.nii.gz  Liver-122/segmentation.nii.gz\n",
       "10  Liver-107  Liver-107/image.nii.gz  Liver-107/segmentation.nii.gz\n",
       "11  Liver-154  Liver-154/image.nii.gz  Liver-154/segmentation.nii.gz\n",
       "12  Liver-106  Liver-106/image.nii.gz  Liver-106/segmentation.nii.gz\n",
       "13  Liver-011  Liver-011/image.nii.gz  Liver-011/segmentation.nii.gz\n",
       "14  Liver-021  Liver-021/image.nii.gz  Liver-021/segmentation.nii.gz\n",
       "15  Liver-031  Liver-031/image.nii.gz  Liver-031/segmentation.nii.gz\n",
       "16  Liver-038  Liver-038/image.nii.gz  Liver-038/segmentation.nii.gz\n",
       "17  Liver-054  Liver-054/image.nii.gz  Liver-054/segmentation.nii.gz\n",
       "18  Liver-006  Liver-006/image.nii.gz  Liver-006/segmentation.nii.gz\n",
       "19  Liver-037  Liver-037/image.nii.gz  Liver-037/segmentation.nii.gz\n",
       "20  Liver-008  Liver-008/image.nii.gz  Liver-008/segmentation.nii.gz\n",
       "21  Liver-030  Liver-030/image.nii.gz  Liver-030/segmentation.nii.gz\n",
       "22  Liver-180  Liver-180/image.nii.gz  Liver-180/segmentation.nii.gz\n",
       "23  Liver-128  Liver-128/image.nii.gz  Liver-128/segmentation.nii.gz\n",
       "24  Liver-166  Liver-166/image.nii.gz  Liver-166/segmentation.nii.gz\n",
       "25  Liver-159  Liver-159/image.nii.gz  Liver-159/segmentation.nii.gz\n",
       "26  Liver-168  Liver-168/image.nii.gz  Liver-168/segmentation.nii.gz\n",
       "27  Liver-156  Liver-156/image.nii.gz  Liver-156/segmentation.nii.gz\n",
       "28  Liver-079  Liver-079/image.nii.gz  Liver-079/segmentation.nii.gz\n",
       "29  Liver-023  Liver-023/image.nii.gz  Liver-023/segmentation.nii.gz"
      ]
     },
     "execution_count": 4,
     "metadata": {},
     "output_type": "execute_result"
    }
   ],
   "source": [
    "from autorad.data.utils import get_paths_with_separate_folder_per_case\n",
    "\n",
    "paths_df = get_paths_with_separate_folder_per_case(data_dir, relative=True)\n",
    "paths_df"
   ]
  },
  {
   "cell_type": "code",
   "execution_count": 5,
   "metadata": {},
   "outputs": [
    {
     "data": {
      "text/html": [
       "<pre style=\"white-space:pre;overflow-x:auto;line-height:normal;font-family:Menlo,'DejaVu Sans Mono',consolas,'Courier New',monospace\"><span style=\"color: #7fbfbf; text-decoration-color: #7fbfbf\">[06/01/22 11:43:04] </span><span style=\"color: #000080; text-decoration-color: #000080\">INFO    </span> Using extraction params from <span style=\"color: #800080; text-decoration-color: #800080\">/Users/p.woznicki/g</span> <a href=\"file:///Users/p.woznicki/git/AutoRadiomics/autorad/feature_extraction/extractor.py\" target=\"_blank\"><span style=\"color: #7f7f7f; text-decoration-color: #7f7f7f\">extractor.py</span></a><span style=\"color: #7f7f7f; text-decoration-color: #7f7f7f\">:</span><a href=\"file:///Users/p.woznicki/git/AutoRadiomics/autorad/feature_extraction/extractor.py#45\" target=\"_blank\"><span style=\"color: #7f7f7f; text-decoration-color: #7f7f7f\">45</span></a>\n",
       "<span style=\"color: #7fbfbf; text-decoration-color: #7fbfbf\">                    </span>         <span style=\"color: #800080; text-decoration-color: #800080\">it/AutoRadiomics/autorad/config/pyradiomics_para</span> <span style=\"color: #7f7f7f; text-decoration-color: #7f7f7f\">               </span>\n",
       "<span style=\"color: #7fbfbf; text-decoration-color: #7fbfbf\">                    </span>         <span style=\"color: #800080; text-decoration-color: #800080\">ms/</span><span style=\"color: #ff00ff; text-decoration-color: #ff00ff\">Baessler_CT.yaml</span>                              <span style=\"color: #7f7f7f; text-decoration-color: #7f7f7f\">               </span>\n",
       "</pre>\n"
      ],
      "text/plain": [
       "\u001b[2;36m[06/01/22 11:43:04]\u001b[0m\u001b[2;36m \u001b[0m\u001b[34mINFO    \u001b[0m Using extraction params from \u001b[35m/Users/p.woznicki/g\u001b[0m \u001b]8;id=873367;file:///Users/p.woznicki/git/AutoRadiomics/autorad/feature_extraction/extractor.py\u001b\\\u001b[2mextractor.py\u001b[0m\u001b]8;;\u001b\\\u001b[2m:\u001b[0m\u001b]8;id=595993;file:///Users/p.woznicki/git/AutoRadiomics/autorad/feature_extraction/extractor.py#45\u001b\\\u001b[2m45\u001b[0m\u001b]8;;\u001b\\\n",
       "\u001b[2;36m                    \u001b[0m         \u001b[35mit/AutoRadiomics/autorad/config/pyradiomics_para\u001b[0m \u001b[2m               \u001b[0m\n",
       "\u001b[2;36m                    \u001b[0m         \u001b[35mms/\u001b[0m\u001b[95mBaessler_CT.yaml\u001b[0m                              \u001b[2m               \u001b[0m\n"
      ]
     },
     "metadata": {},
     "output_type": "display_data"
    },
    {
     "data": {
      "text/html": [
       "<pre style=\"white-space:pre;overflow-x:auto;line-height:normal;font-family:Menlo,'DejaVu Sans Mono',consolas,'Courier New',monospace\"><span style=\"color: #7fbfbf; text-decoration-color: #7fbfbf\">                    </span><span style=\"color: #000080; text-decoration-color: #000080\">INFO    </span> validation.valid                                     <a href=\"file:///Users/p.woznicki/git/AutoRadiomics/.venv/lib/python3.10/site-packages/pykwalify/core.py\" target=\"_blank\"><span style=\"color: #7f7f7f; text-decoration-color: #7f7f7f\">core.py</span></a><span style=\"color: #7f7f7f; text-decoration-color: #7f7f7f\">:</span><a href=\"file:///Users/p.woznicki/git/AutoRadiomics/.venv/lib/python3.10/site-packages/pykwalify/core.py#188\" target=\"_blank\"><span style=\"color: #7f7f7f; text-decoration-color: #7f7f7f\">188</span></a>\n",
       "</pre>\n"
      ],
      "text/plain": [
       "\u001b[2;36m                   \u001b[0m\u001b[2;36m \u001b[0m\u001b[34mINFO    \u001b[0m validation.valid                                     \u001b]8;id=692296;file:///Users/p.woznicki/git/AutoRadiomics/.venv/lib/python3.10/site-packages/pykwalify/core.py\u001b\\\u001b[2mcore.py\u001b[0m\u001b]8;;\u001b\\\u001b[2m:\u001b[0m\u001b]8;id=643900;file:///Users/p.woznicki/git/AutoRadiomics/.venv/lib/python3.10/site-packages/pykwalify/core.py#188\u001b\\\u001b[2m188\u001b[0m\u001b]8;;\u001b\\\n"
      ]
     },
     "metadata": {},
     "output_type": "display_data"
    },
    {
     "data": {
      "text/html": [
       "<pre style=\"white-space:pre;overflow-x:auto;line-height:normal;font-family:Menlo,'DejaVu Sans Mono',consolas,'Courier New',monospace\"><span style=\"color: #7fbfbf; text-decoration-color: #7fbfbf\">                    </span><span style=\"color: #000080; text-decoration-color: #000080\">INFO    </span> Initialized extractor pyradiomics                <a href=\"file:///Users/p.woznicki/git/AutoRadiomics/autorad/feature_extraction/extractor.py\" target=\"_blank\"><span style=\"color: #7f7f7f; text-decoration-color: #7f7f7f\">extractor.py</span></a><span style=\"color: #7f7f7f; text-decoration-color: #7f7f7f\">:</span><a href=\"file:///Users/p.woznicki/git/AutoRadiomics/autorad/feature_extraction/extractor.py#96\" target=\"_blank\"><span style=\"color: #7f7f7f; text-decoration-color: #7f7f7f\">96</span></a>\n",
       "</pre>\n"
      ],
      "text/plain": [
       "\u001b[2;36m                   \u001b[0m\u001b[2;36m \u001b[0m\u001b[34mINFO    \u001b[0m Initialized extractor pyradiomics                \u001b]8;id=825490;file:///Users/p.woznicki/git/AutoRadiomics/autorad/feature_extraction/extractor.py\u001b\\\u001b[2mextractor.py\u001b[0m\u001b]8;;\u001b\\\u001b[2m:\u001b[0m\u001b]8;id=561571;file:///Users/p.woznicki/git/AutoRadiomics/autorad/feature_extraction/extractor.py#96\u001b\\\u001b[2m96\u001b[0m\u001b]8;;\u001b\\\n"
      ]
     },
     "metadata": {},
     "output_type": "display_data"
    },
    {
     "data": {
      "text/html": [
       "<pre style=\"white-space:pre;overflow-x:auto;line-height:normal;font-family:Menlo,'DejaVu Sans Mono',consolas,'Courier New',monospace\"><span style=\"color: #7fbfbf; text-decoration-color: #7fbfbf\">                    </span><span style=\"color: #000080; text-decoration-color: #000080\">INFO    </span> Extracting features                              <a href=\"file:///Users/p.woznicki/git/AutoRadiomics/autorad/feature_extraction/extractor.py\" target=\"_blank\"><span style=\"color: #7f7f7f; text-decoration-color: #7f7f7f\">extractor.py</span></a><span style=\"color: #7f7f7f; text-decoration-color: #7f7f7f\">:</span><a href=\"file:///Users/p.woznicki/git/AutoRadiomics/autorad/feature_extraction/extractor.py#67\" target=\"_blank\"><span style=\"color: #7f7f7f; text-decoration-color: #7f7f7f\">67</span></a>\n",
       "</pre>\n"
      ],
      "text/plain": [
       "\u001b[2;36m                   \u001b[0m\u001b[2;36m \u001b[0m\u001b[34mINFO    \u001b[0m Extracting features                              \u001b]8;id=660760;file:///Users/p.woznicki/git/AutoRadiomics/autorad/feature_extraction/extractor.py\u001b\\\u001b[2mextractor.py\u001b[0m\u001b]8;;\u001b\\\u001b[2m:\u001b[0m\u001b]8;id=193305;file:///Users/p.woznicki/git/AutoRadiomics/autorad/feature_extraction/extractor.py#67\u001b\\\u001b[2m67\u001b[0m\u001b]8;;\u001b\\\n"
      ]
     },
     "metadata": {},
     "output_type": "display_data"
    },
    {
     "name": "stderr",
     "output_type": "stream",
     "text": [
      "30it [00:31,  1.06s/it]\n"
     ]
    },
    {
     "data": {
      "text/html": [
       "<pre style=\"white-space:pre;overflow-x:auto;line-height:normal;font-family:Menlo,'DejaVu Sans Mono',consolas,'Courier New',monospace\"><span style=\"color: #7fbfbf; text-decoration-color: #7fbfbf\">[06/01/22 11:43:36] </span><span style=\"color: #000080; text-decoration-color: #000080\">INFO    </span> get_features took <span style=\"color: #008080; text-decoration-color: #008080; font-weight: bold\">31.</span>8606059551239sec                <a href=\"file:///Users/p.woznicki/git/AutoRadiomics/autorad/utils/utils.py\" target=\"_blank\"><span style=\"color: #7f7f7f; text-decoration-color: #7f7f7f\">utils.py</span></a><span style=\"color: #7f7f7f; text-decoration-color: #7f7f7f\">:</span><a href=\"file:///Users/p.woznicki/git/AutoRadiomics/autorad/utils/utils.py#21\" target=\"_blank\"><span style=\"color: #7f7f7f; text-decoration-color: #7f7f7f\">21</span></a>\n",
       "</pre>\n"
      ],
      "text/plain": [
       "\u001b[2;36m[06/01/22 11:43:36]\u001b[0m\u001b[2;36m \u001b[0m\u001b[34mINFO    \u001b[0m get_features took \u001b[1;36m31.\u001b[0m8606059551239sec                \u001b]8;id=714898;file:///Users/p.woznicki/git/AutoRadiomics/autorad/utils/utils.py\u001b\\\u001b[2mutils.py\u001b[0m\u001b]8;;\u001b\\\u001b[2m:\u001b[0m\u001b]8;id=253608;file:///Users/p.woznicki/git/AutoRadiomics/autorad/utils/utils.py#21\u001b\\\u001b[2m21\u001b[0m\u001b]8;;\u001b\\\n"
      ]
     },
     "metadata": {},
     "output_type": "display_data"
    },
    {
     "data": {
      "text/html": [
       "<div>\n",
       "<style scoped>\n",
       "    .dataframe tbody tr th:only-of-type {\n",
       "        vertical-align: middle;\n",
       "    }\n",
       "\n",
       "    .dataframe tbody tr th {\n",
       "        vertical-align: top;\n",
       "    }\n",
       "\n",
       "    .dataframe thead th {\n",
       "        text-align: right;\n",
       "    }\n",
       "</style>\n",
       "<table border=\"1\" class=\"dataframe\">\n",
       "  <thead>\n",
       "    <tr style=\"text-align: right;\">\n",
       "      <th></th>\n",
       "      <th>ID</th>\n",
       "      <th>image_path</th>\n",
       "      <th>segmentation_path</th>\n",
       "      <th>diagnostics_Versions_PyRadiomics</th>\n",
       "      <th>diagnostics_Versions_Numpy</th>\n",
       "      <th>diagnostics_Versions_SimpleITK</th>\n",
       "      <th>diagnostics_Versions_PyWavelet</th>\n",
       "      <th>diagnostics_Versions_Python</th>\n",
       "      <th>diagnostics_Configuration_Settings</th>\n",
       "      <th>diagnostics_Configuration_EnabledImageTypes</th>\n",
       "      <th>...</th>\n",
       "      <th>wavelet-LLL_gldm_LargeDependenceLowGrayLevelEmphasis</th>\n",
       "      <th>wavelet-LLL_gldm_LowGrayLevelEmphasis</th>\n",
       "      <th>wavelet-LLL_gldm_SmallDependenceEmphasis</th>\n",
       "      <th>wavelet-LLL_gldm_SmallDependenceHighGrayLevelEmphasis</th>\n",
       "      <th>wavelet-LLL_gldm_SmallDependenceLowGrayLevelEmphasis</th>\n",
       "      <th>wavelet-LLL_ngtdm_Busyness</th>\n",
       "      <th>wavelet-LLL_ngtdm_Coarseness</th>\n",
       "      <th>wavelet-LLL_ngtdm_Complexity</th>\n",
       "      <th>wavelet-LLL_ngtdm_Contrast</th>\n",
       "      <th>wavelet-LLL_ngtdm_Strength</th>\n",
       "    </tr>\n",
       "  </thead>\n",
       "  <tbody>\n",
       "    <tr>\n",
       "      <th>0</th>\n",
       "      <td>Liver-035</td>\n",
       "      <td>/Users/p.woznicki/git/AutoRadiomics/tests/test...</td>\n",
       "      <td>/Users/p.woznicki/git/AutoRadiomics/tests/test...</td>\n",
       "      <td>v3.0.1</td>\n",
       "      <td>1.22.1</td>\n",
       "      <td>2.1.1.2</td>\n",
       "      <td>1.2.0</td>\n",
       "      <td>3.10.4</td>\n",
       "      <td>{'minimumROIDimensions': 1, 'minimumROISize': ...</td>\n",
       "      <td>{'Original': {}, 'LoG': {'sigma': [3.0, 5.0]},...</td>\n",
       "      <td>...</td>\n",
       "      <td>0.49033556571131404</td>\n",
       "      <td>0.009239256309735483</td>\n",
       "      <td>0.10497863178878879</td>\n",
       "      <td>17.108519817338614</td>\n",
       "      <td>0.0019064162301314488</td>\n",
       "      <td>2.195837937351879</td>\n",
       "      <td>0.0010111456662735665</td>\n",
       "      <td>426.9975349731685</td>\n",
       "      <td>0.06190203145328447</td>\n",
       "      <td>0.284974468309886</td>\n",
       "    </tr>\n",
       "    <tr>\n",
       "      <th>1</th>\n",
       "      <td>Liver-067</td>\n",
       "      <td>/Users/p.woznicki/git/AutoRadiomics/tests/test...</td>\n",
       "      <td>/Users/p.woznicki/git/AutoRadiomics/tests/test...</td>\n",
       "      <td>v3.0.1</td>\n",
       "      <td>1.22.1</td>\n",
       "      <td>2.1.1.2</td>\n",
       "      <td>1.2.0</td>\n",
       "      <td>3.10.4</td>\n",
       "      <td>{'minimumROIDimensions': 1, 'minimumROISize': ...</td>\n",
       "      <td>{'Original': {}, 'LoG': {'sigma': [3.0, 5.0]},...</td>\n",
       "      <td>...</td>\n",
       "      <td>0.1726950112519562</td>\n",
       "      <td>0.008437808020802488</td>\n",
       "      <td>0.23877842444043665</td>\n",
       "      <td>83.97021323093149</td>\n",
       "      <td>0.0023728396471364493</td>\n",
       "      <td>0.7591978668706331</td>\n",
       "      <td>0.001202498835943038</td>\n",
       "      <td>4314.0961725974375</td>\n",
       "      <td>0.053087108883254575</td>\n",
       "      <td>3.4809930821120516</td>\n",
       "    </tr>\n",
       "    <tr>\n",
       "      <th>2</th>\n",
       "      <td>Liver-033</td>\n",
       "      <td>/Users/p.woznicki/git/AutoRadiomics/tests/test...</td>\n",
       "      <td>/Users/p.woznicki/git/AutoRadiomics/tests/test...</td>\n",
       "      <td>v3.0.1</td>\n",
       "      <td>1.22.1</td>\n",
       "      <td>2.1.1.2</td>\n",
       "      <td>1.2.0</td>\n",
       "      <td>3.10.4</td>\n",
       "      <td>{'minimumROIDimensions': 1, 'minimumROISize': ...</td>\n",
       "      <td>{'Original': {}, 'LoG': {'sigma': [3.0, 5.0]},...</td>\n",
       "      <td>...</td>\n",
       "      <td>0.00238199002485883</td>\n",
       "      <td>0.0012766642609044869</td>\n",
       "      <td>0.5654204077815189</td>\n",
       "      <td>1949.3340316747724</td>\n",
       "      <td>0.0011009446497239996</td>\n",
       "      <td>0.026605131203857553</td>\n",
       "      <td>0.007636394062061128</td>\n",
       "      <td>17684.10707042901</td>\n",
       "      <td>0.37450091558254367</td>\n",
       "      <td>22.73438458589251</td>\n",
       "    </tr>\n",
       "    <tr>\n",
       "      <th>3</th>\n",
       "      <td>Liver-146</td>\n",
       "      <td>/Users/p.woznicki/git/AutoRadiomics/tests/test...</td>\n",
       "      <td>/Users/p.woznicki/git/AutoRadiomics/tests/test...</td>\n",
       "      <td>v3.0.1</td>\n",
       "      <td>1.22.1</td>\n",
       "      <td>2.1.1.2</td>\n",
       "      <td>1.2.0</td>\n",
       "      <td>3.10.4</td>\n",
       "      <td>{'minimumROIDimensions': 1, 'minimumROISize': ...</td>\n",
       "      <td>{'Original': {}, 'LoG': {'sigma': [3.0, 5.0]},...</td>\n",
       "      <td>...</td>\n",
       "      <td>0.5235105253912582</td>\n",
       "      <td>0.014409860723565572</td>\n",
       "      <td>0.10172864195906982</td>\n",
       "      <td>9.821812246039771</td>\n",
       "      <td>0.002460816641434821</td>\n",
       "      <td>1.9618138907602145</td>\n",
       "      <td>0.0021490398335429067</td>\n",
       "      <td>178.82845259100122</td>\n",
       "      <td>0.03313849502581368</td>\n",
       "      <td>0.3598787334834973</td>\n",
       "    </tr>\n",
       "    <tr>\n",
       "      <th>4</th>\n",
       "      <td>Liver-184</td>\n",
       "      <td>/Users/p.woznicki/git/AutoRadiomics/tests/test...</td>\n",
       "      <td>/Users/p.woznicki/git/AutoRadiomics/tests/test...</td>\n",
       "      <td>v3.0.1</td>\n",
       "      <td>1.22.1</td>\n",
       "      <td>2.1.1.2</td>\n",
       "      <td>1.2.0</td>\n",
       "      <td>3.10.4</td>\n",
       "      <td>{'minimumROIDimensions': 1, 'minimumROISize': ...</td>\n",
       "      <td>{'Original': {}, 'LoG': {'sigma': [3.0, 5.0]},...</td>\n",
       "      <td>...</td>\n",
       "      <td>0.3036898583747069</td>\n",
       "      <td>0.00633021869706103</td>\n",
       "      <td>0.107550038020076</td>\n",
       "      <td>33.0708290664619</td>\n",
       "      <td>0.001481358860818306</td>\n",
       "      <td>0.8257035290466124</td>\n",
       "      <td>0.0016166914766237606</td>\n",
       "      <td>829.755720150696</td>\n",
       "      <td>0.045681180646125495</td>\n",
       "      <td>1.1242349494954111</td>\n",
       "    </tr>\n",
       "  </tbody>\n",
       "</table>\n",
       "<p>5 rows × 1055 columns</p>\n",
       "</div>"
      ],
      "text/plain": [
       "          ID                                         image_path  \\\n",
       "0  Liver-035  /Users/p.woznicki/git/AutoRadiomics/tests/test...   \n",
       "1  Liver-067  /Users/p.woznicki/git/AutoRadiomics/tests/test...   \n",
       "2  Liver-033  /Users/p.woznicki/git/AutoRadiomics/tests/test...   \n",
       "3  Liver-146  /Users/p.woznicki/git/AutoRadiomics/tests/test...   \n",
       "4  Liver-184  /Users/p.woznicki/git/AutoRadiomics/tests/test...   \n",
       "\n",
       "                                   segmentation_path  \\\n",
       "0  /Users/p.woznicki/git/AutoRadiomics/tests/test...   \n",
       "1  /Users/p.woznicki/git/AutoRadiomics/tests/test...   \n",
       "2  /Users/p.woznicki/git/AutoRadiomics/tests/test...   \n",
       "3  /Users/p.woznicki/git/AutoRadiomics/tests/test...   \n",
       "4  /Users/p.woznicki/git/AutoRadiomics/tests/test...   \n",
       "\n",
       "  diagnostics_Versions_PyRadiomics diagnostics_Versions_Numpy  \\\n",
       "0                           v3.0.1                     1.22.1   \n",
       "1                           v3.0.1                     1.22.1   \n",
       "2                           v3.0.1                     1.22.1   \n",
       "3                           v3.0.1                     1.22.1   \n",
       "4                           v3.0.1                     1.22.1   \n",
       "\n",
       "  diagnostics_Versions_SimpleITK diagnostics_Versions_PyWavelet  \\\n",
       "0                        2.1.1.2                          1.2.0   \n",
       "1                        2.1.1.2                          1.2.0   \n",
       "2                        2.1.1.2                          1.2.0   \n",
       "3                        2.1.1.2                          1.2.0   \n",
       "4                        2.1.1.2                          1.2.0   \n",
       "\n",
       "  diagnostics_Versions_Python  \\\n",
       "0                      3.10.4   \n",
       "1                      3.10.4   \n",
       "2                      3.10.4   \n",
       "3                      3.10.4   \n",
       "4                      3.10.4   \n",
       "\n",
       "                  diagnostics_Configuration_Settings  \\\n",
       "0  {'minimumROIDimensions': 1, 'minimumROISize': ...   \n",
       "1  {'minimumROIDimensions': 1, 'minimumROISize': ...   \n",
       "2  {'minimumROIDimensions': 1, 'minimumROISize': ...   \n",
       "3  {'minimumROIDimensions': 1, 'minimumROISize': ...   \n",
       "4  {'minimumROIDimensions': 1, 'minimumROISize': ...   \n",
       "\n",
       "         diagnostics_Configuration_EnabledImageTypes  ...  \\\n",
       "0  {'Original': {}, 'LoG': {'sigma': [3.0, 5.0]},...  ...   \n",
       "1  {'Original': {}, 'LoG': {'sigma': [3.0, 5.0]},...  ...   \n",
       "2  {'Original': {}, 'LoG': {'sigma': [3.0, 5.0]},...  ...   \n",
       "3  {'Original': {}, 'LoG': {'sigma': [3.0, 5.0]},...  ...   \n",
       "4  {'Original': {}, 'LoG': {'sigma': [3.0, 5.0]},...  ...   \n",
       "\n",
       "  wavelet-LLL_gldm_LargeDependenceLowGrayLevelEmphasis  \\\n",
       "0                                0.49033556571131404     \n",
       "1                                 0.1726950112519562     \n",
       "2                                0.00238199002485883     \n",
       "3                                 0.5235105253912582     \n",
       "4                                 0.3036898583747069     \n",
       "\n",
       "  wavelet-LLL_gldm_LowGrayLevelEmphasis  \\\n",
       "0                  0.009239256309735483   \n",
       "1                  0.008437808020802488   \n",
       "2                 0.0012766642609044869   \n",
       "3                  0.014409860723565572   \n",
       "4                   0.00633021869706103   \n",
       "\n",
       "  wavelet-LLL_gldm_SmallDependenceEmphasis  \\\n",
       "0                      0.10497863178878879   \n",
       "1                      0.23877842444043665   \n",
       "2                       0.5654204077815189   \n",
       "3                      0.10172864195906982   \n",
       "4                        0.107550038020076   \n",
       "\n",
       "  wavelet-LLL_gldm_SmallDependenceHighGrayLevelEmphasis  \\\n",
       "0                                 17.108519817338614      \n",
       "1                                  83.97021323093149      \n",
       "2                                 1949.3340316747724      \n",
       "3                                  9.821812246039771      \n",
       "4                                   33.0708290664619      \n",
       "\n",
       "   wavelet-LLL_gldm_SmallDependenceLowGrayLevelEmphasis  \\\n",
       "0                              0.0019064162301314488      \n",
       "1                              0.0023728396471364493      \n",
       "2                              0.0011009446497239996      \n",
       "3                               0.002460816641434821      \n",
       "4                               0.001481358860818306      \n",
       "\n",
       "   wavelet-LLL_ngtdm_Busyness  wavelet-LLL_ngtdm_Coarseness  \\\n",
       "0           2.195837937351879         0.0010111456662735665   \n",
       "1          0.7591978668706331          0.001202498835943038   \n",
       "2        0.026605131203857553          0.007636394062061128   \n",
       "3          1.9618138907602145         0.0021490398335429067   \n",
       "4          0.8257035290466124         0.0016166914766237606   \n",
       "\n",
       "  wavelet-LLL_ngtdm_Complexity wavelet-LLL_ngtdm_Contrast  \\\n",
       "0            426.9975349731685        0.06190203145328447   \n",
       "1           4314.0961725974375       0.053087108883254575   \n",
       "2            17684.10707042901        0.37450091558254367   \n",
       "3           178.82845259100122        0.03313849502581368   \n",
       "4             829.755720150696       0.045681180646125495   \n",
       "\n",
       "  wavelet-LLL_ngtdm_Strength  \n",
       "0          0.284974468309886  \n",
       "1         3.4809930821120516  \n",
       "2          22.73438458589251  \n",
       "3         0.3598787334834973  \n",
       "4         1.1242349494954111  \n",
       "\n",
       "[5 rows x 1055 columns]"
      ]
     },
     "execution_count": 5,
     "metadata": {},
     "output_type": "execute_result"
    }
   ],
   "source": [
    "from autorad.data.dataset import ImageDataset\n",
    "from autorad.feature_extraction.extractor import FeatureExtractor\n",
    "\n",
    "image_dataset = ImageDataset(\n",
    "    paths_df,\n",
    "    ID_colname=\"ID\",\n",
    "    root_dir=data_dir,\n",
    ")\n",
    "extractor = FeatureExtractor(image_dataset)\n",
    "feature_df = extractor.run()"
   ]
  },
  {
   "cell_type": "code",
   "execution_count": null,
   "metadata": {},
   "outputs": [],
   "source": [
    "feature_df.head()"
   ]
  },
  {
   "cell_type": "code",
   "execution_count": 6,
   "metadata": {},
   "outputs": [
    {
     "data": {
      "text/html": [
       "<div>\n",
       "<style scoped>\n",
       "    .dataframe tbody tr th:only-of-type {\n",
       "        vertical-align: middle;\n",
       "    }\n",
       "\n",
       "    .dataframe tbody tr th {\n",
       "        vertical-align: top;\n",
       "    }\n",
       "\n",
       "    .dataframe thead th {\n",
       "        text-align: right;\n",
       "    }\n",
       "</style>\n",
       "<table border=\"1\" class=\"dataframe\">\n",
       "  <thead>\n",
       "    <tr style=\"text-align: right;\">\n",
       "      <th></th>\n",
       "      <th>patient_ID</th>\n",
       "      <th>diagnosis</th>\n",
       "    </tr>\n",
       "  </thead>\n",
       "  <tbody>\n",
       "    <tr>\n",
       "      <th>0</th>\n",
       "      <td>Liver-185</td>\n",
       "      <td>1</td>\n",
       "    </tr>\n",
       "    <tr>\n",
       "      <th>1</th>\n",
       "      <td>Liver-166</td>\n",
       "      <td>0</td>\n",
       "    </tr>\n",
       "    <tr>\n",
       "      <th>2</th>\n",
       "      <td>Liver-180</td>\n",
       "      <td>0</td>\n",
       "    </tr>\n",
       "    <tr>\n",
       "      <th>3</th>\n",
       "      <td>Liver-067</td>\n",
       "      <td>0</td>\n",
       "    </tr>\n",
       "    <tr>\n",
       "      <th>4</th>\n",
       "      <td>Liver-035</td>\n",
       "      <td>0</td>\n",
       "    </tr>\n",
       "  </tbody>\n",
       "</table>\n",
       "</div>"
      ],
      "text/plain": [
       "  patient_ID  diagnosis\n",
       "0  Liver-185          1\n",
       "1  Liver-166          0\n",
       "2  Liver-180          0\n",
       "3  Liver-067          0\n",
       "4  Liver-035          0"
      ]
     },
     "execution_count": 6,
     "metadata": {},
     "output_type": "execute_result"
    }
   ],
   "source": [
    "label_df = pd.read_csv(data_dir / \"labels.csv\")\n",
    "label_df.head()"
   ]
  },
  {
   "cell_type": "code",
   "execution_count": 7,
   "metadata": {},
   "outputs": [],
   "source": [
    "from autorad.data.dataset import FeatureDataset\n",
    "\n",
    "merged_feature_df = feature_df.merge(label_df, left_on=\"ID\",\n",
    "    right_on=\"patient_ID\", how=\"left\")\n",
    "feature_dataset = FeatureDataset(\n",
    "    merged_feature_df,\n",
    "    target=\"diagnosis\",\n",
    "    ID_colname=\"ID\"\n",
    ")"
   ]
  },
  {
   "cell_type": "markdown",
   "metadata": {},
   "source": [
    "Split the data into training/validation/test sets:"
   ]
  },
  {
   "cell_type": "code",
   "execution_count": 8,
   "metadata": {},
   "outputs": [
    {
     "data": {
      "text/plain": [
       "{'split_type': '60% train + 20% validation + 20% test',\n",
       " 'train': ['Liver-122',\n",
       "  'Liver-124',\n",
       "  'Liver-185',\n",
       "  'Liver-023',\n",
       "  'Liver-156',\n",
       "  'Liver-054',\n",
       "  'Liver-079',\n",
       "  'Liver-128',\n",
       "  'Liver-037',\n",
       "  'Liver-115',\n",
       "  'Liver-033',\n",
       "  'Liver-106',\n",
       "  'Liver-147',\n",
       "  'Liver-038',\n",
       "  'Liver-035',\n",
       "  'Liver-067',\n",
       "  'Liver-031',\n",
       "  'Liver-168'],\n",
       " 'val': ['Liver-006',\n",
       "  'Liver-184',\n",
       "  'Liver-180',\n",
       "  'Liver-030',\n",
       "  'Liver-011',\n",
       "  'Liver-021'],\n",
       " 'test': ['Liver-159',\n",
       "  'Liver-008',\n",
       "  'Liver-146',\n",
       "  'Liver-166',\n",
       "  'Liver-154',\n",
       "  'Liver-107']}"
      ]
     },
     "execution_count": 8,
     "metadata": {},
     "output_type": "execute_result"
    }
   ],
   "source": [
    "splits_path = result_dir / \"splits.json\"\n",
    "feature_dataset.split(method=\"train_val_test\", save_path=splits_path)"
   ]
  },
  {
   "cell_type": "code",
   "execution_count": 9,
   "metadata": {},
   "outputs": [
    {
     "name": "stdout",
     "output_type": "stream",
     "text": [
      "[Random Forest, Logistic Regression, SVM, XGBoost]\n"
     ]
    }
   ],
   "source": [
    "from autorad.training.trainer import Trainer\n",
    "from autorad.models.classifier import MLClassifier\n",
    "\n",
    "models = MLClassifier.initialize_default_sklearn_models()\n",
    "print(models)"
   ]
  },
  {
   "cell_type": "code",
   "execution_count": 11,
   "metadata": {},
   "outputs": [
    {
     "name": "stdout",
     "output_type": "stream",
     "text": [
      "Fitting 5 folds for each of 100 candidates, totalling 500 fits\n"
     ]
    },
    {
     "name": "stderr",
     "output_type": "stream",
     "text": [
      "/Users/p.woznicki/git/AutoRadiomics/.venv/lib/python3.10/site-packages/sklearn/linear_model/_coordinate_descent.py:644: ConvergenceWarning: Objective did not converge. You might want to increase the number of iterations, check the scale of the features or consider increasing regularisation. Duality gap: 1.072e-03, tolerance: 3.500e-04\n",
      "  model = cd_fast.enet_coordinate_descent(\n"
     ]
    },
    {
     "name": "stdout",
     "output_type": "stream",
     "text": [
      "[CV 1/5] END ......................alpha=1e-05;, score=-1.531 total time=   0.4s\n"
     ]
    },
    {
     "name": "stderr",
     "output_type": "stream",
     "text": [
      "/Users/p.woznicki/git/AutoRadiomics/.venv/lib/python3.10/site-packages/sklearn/linear_model/_coordinate_descent.py:644: ConvergenceWarning: Objective did not converge. You might want to increase the number of iterations, check the scale of the features or consider increasing regularisation. Duality gap: 8.094e-04, tolerance: 3.429e-04\n",
      "  model = cd_fast.enet_coordinate_descent(\n",
      "/Users/p.woznicki/git/AutoRadiomics/.venv/lib/python3.10/site-packages/sklearn/linear_model/_coordinate_descent.py:644: ConvergenceWarning: Objective did not converge. You might want to increase the number of iterations, check the scale of the features or consider increasing regularisation. Duality gap: 1.317e-03, tolerance: 3.500e-04\n",
      "  model = cd_fast.enet_coordinate_descent(\n"
     ]
    },
    {
     "name": "stdout",
     "output_type": "stream",
     "text": [
      "[CV 2/5] END ......................alpha=1e-05;, score=-0.785 total time=   0.3s\n",
      "[CV 3/5] END ......................alpha=1e-05;, score=-0.186 total time=   0.2s\n"
     ]
    },
    {
     "name": "stderr",
     "output_type": "stream",
     "text": [
      "/Users/p.woznicki/git/AutoRadiomics/.venv/lib/python3.10/site-packages/sklearn/linear_model/_coordinate_descent.py:644: ConvergenceWarning: Objective did not converge. You might want to increase the number of iterations, check the scale of the features or consider increasing regularisation. Duality gap: 1.207e-03, tolerance: 3.600e-04\n",
      "  model = cd_fast.enet_coordinate_descent(\n"
     ]
    },
    {
     "name": "stdout",
     "output_type": "stream",
     "text": [
      "[CV 4/5] END ......................alpha=1e-05;, score=-0.137 total time=   0.2s\n"
     ]
    },
    {
     "name": "stderr",
     "output_type": "stream",
     "text": [
      "/Users/p.woznicki/git/AutoRadiomics/.venv/lib/python3.10/site-packages/sklearn/linear_model/_coordinate_descent.py:644: ConvergenceWarning: Objective did not converge. You might want to increase the number of iterations, check the scale of the features or consider increasing regularisation. Duality gap: 1.035e-03, tolerance: 3.600e-04\n",
      "  model = cd_fast.enet_coordinate_descent(\n",
      "/Users/p.woznicki/git/AutoRadiomics/.venv/lib/python3.10/site-packages/sklearn/linear_model/_coordinate_descent.py:644: ConvergenceWarning: Objective did not converge. You might want to increase the number of iterations, check the scale of the features or consider increasing regularisation. Duality gap: 1.096e-03, tolerance: 3.500e-04\n",
      "  model = cd_fast.enet_coordinate_descent(\n"
     ]
    },
    {
     "name": "stdout",
     "output_type": "stream",
     "text": [
      "[CV 5/5] END ......................alpha=1e-05;, score=-1.949 total time=   0.2s\n",
      "[CV 1/5] END .....alpha=1.1497569953977357e-05;, score=-1.423 total time=   0.1s\n"
     ]
    },
    {
     "name": "stderr",
     "output_type": "stream",
     "text": [
      "/Users/p.woznicki/git/AutoRadiomics/.venv/lib/python3.10/site-packages/sklearn/linear_model/_coordinate_descent.py:644: ConvergenceWarning: Objective did not converge. You might want to increase the number of iterations, check the scale of the features or consider increasing regularisation. Duality gap: 8.672e-04, tolerance: 3.429e-04\n",
      "  model = cd_fast.enet_coordinate_descent(\n",
      "/Users/p.woznicki/git/AutoRadiomics/.venv/lib/python3.10/site-packages/sklearn/linear_model/_coordinate_descent.py:644: ConvergenceWarning: Objective did not converge. You might want to increase the number of iterations, check the scale of the features or consider increasing regularisation. Duality gap: 1.423e-03, tolerance: 3.500e-04\n",
      "  model = cd_fast.enet_coordinate_descent(\n"
     ]
    },
    {
     "name": "stdout",
     "output_type": "stream",
     "text": [
      "[CV 2/5] END .....alpha=1.1497569953977357e-05;, score=-0.780 total time=   0.2s\n",
      "[CV 3/5] END .....alpha=1.1497569953977357e-05;, score=-0.183 total time=   0.1s\n"
     ]
    },
    {
     "name": "stderr",
     "output_type": "stream",
     "text": [
      "/Users/p.woznicki/git/AutoRadiomics/.venv/lib/python3.10/site-packages/sklearn/linear_model/_coordinate_descent.py:644: ConvergenceWarning: Objective did not converge. You might want to increase the number of iterations, check the scale of the features or consider increasing regularisation. Duality gap: 1.255e-03, tolerance: 3.600e-04\n",
      "  model = cd_fast.enet_coordinate_descent(\n",
      "/Users/p.woznicki/git/AutoRadiomics/.venv/lib/python3.10/site-packages/sklearn/linear_model/_coordinate_descent.py:644: ConvergenceWarning: Objective did not converge. You might want to increase the number of iterations, check the scale of the features or consider increasing regularisation. Duality gap: 1.075e-03, tolerance: 3.600e-04\n",
      "  model = cd_fast.enet_coordinate_descent(\n"
     ]
    },
    {
     "name": "stdout",
     "output_type": "stream",
     "text": [
      "[CV 4/5] END .....alpha=1.1497569953977357e-05;, score=-0.140 total time=   0.2s\n",
      "[CV 5/5] END .....alpha=1.1497569953977357e-05;, score=-1.930 total time=   0.1s\n"
     ]
    },
    {
     "name": "stderr",
     "output_type": "stream",
     "text": [
      "/Users/p.woznicki/git/AutoRadiomics/.venv/lib/python3.10/site-packages/sklearn/linear_model/_coordinate_descent.py:644: ConvergenceWarning: Objective did not converge. You might want to increase the number of iterations, check the scale of the features or consider increasing regularisation. Duality gap: 1.134e-03, tolerance: 3.500e-04\n",
      "  model = cd_fast.enet_coordinate_descent(\n",
      "/Users/p.woznicki/git/AutoRadiomics/.venv/lib/python3.10/site-packages/sklearn/linear_model/_coordinate_descent.py:644: ConvergenceWarning: Objective did not converge. You might want to increase the number of iterations, check the scale of the features or consider increasing regularisation. Duality gap: 9.307e-04, tolerance: 3.429e-04\n",
      "  model = cd_fast.enet_coordinate_descent(\n"
     ]
    },
    {
     "name": "stdout",
     "output_type": "stream",
     "text": [
      "[CV 1/5] END .....alpha=1.3219411484660286e-05;, score=-1.324 total time=   0.2s\n",
      "[CV 2/5] END .....alpha=1.3219411484660286e-05;, score=-0.765 total time=   0.1s\n"
     ]
    },
    {
     "name": "stderr",
     "output_type": "stream",
     "text": [
      "/Users/p.woznicki/git/AutoRadiomics/.venv/lib/python3.10/site-packages/sklearn/linear_model/_coordinate_descent.py:644: ConvergenceWarning: Objective did not converge. You might want to increase the number of iterations, check the scale of the features or consider increasing regularisation. Duality gap: 1.478e-03, tolerance: 3.500e-04\n",
      "  model = cd_fast.enet_coordinate_descent(\n",
      "/Users/p.woznicki/git/AutoRadiomics/.venv/lib/python3.10/site-packages/sklearn/linear_model/_coordinate_descent.py:644: ConvergenceWarning: Objective did not converge. You might want to increase the number of iterations, check the scale of the features or consider increasing regularisation. Duality gap: 1.426e-03, tolerance: 3.600e-04\n",
      "  model = cd_fast.enet_coordinate_descent(\n"
     ]
    },
    {
     "name": "stdout",
     "output_type": "stream",
     "text": [
      "[CV 3/5] END .....alpha=1.3219411484660286e-05;, score=-0.175 total time=   0.2s\n",
      "[CV 4/5] END .....alpha=1.3219411484660286e-05;, score=-0.147 total time=   0.2s\n"
     ]
    },
    {
     "name": "stderr",
     "output_type": "stream",
     "text": [
      "/Users/p.woznicki/git/AutoRadiomics/.venv/lib/python3.10/site-packages/sklearn/linear_model/_coordinate_descent.py:644: ConvergenceWarning: Objective did not converge. You might want to increase the number of iterations, check the scale of the features or consider increasing regularisation. Duality gap: 1.151e-03, tolerance: 3.600e-04\n",
      "  model = cd_fast.enet_coordinate_descent(\n",
      "/Users/p.woznicki/git/AutoRadiomics/.venv/lib/python3.10/site-packages/sklearn/linear_model/_coordinate_descent.py:644: ConvergenceWarning: Objective did not converge. You might want to increase the number of iterations, check the scale of the features or consider increasing regularisation. Duality gap: 1.116e-03, tolerance: 3.500e-04\n",
      "  model = cd_fast.enet_coordinate_descent(\n"
     ]
    },
    {
     "name": "stdout",
     "output_type": "stream",
     "text": [
      "[CV 5/5] END .....alpha=1.3219411484660286e-05;, score=-1.920 total time=   0.2s\n",
      "[CV 1/5] END .....alpha=1.5199110829529332e-05;, score=-1.235 total time=   0.1s\n"
     ]
    },
    {
     "name": "stderr",
     "output_type": "stream",
     "text": [
      "/Users/p.woznicki/git/AutoRadiomics/.venv/lib/python3.10/site-packages/sklearn/linear_model/_coordinate_descent.py:644: ConvergenceWarning: Objective did not converge. You might want to increase the number of iterations, check the scale of the features or consider increasing regularisation. Duality gap: 1.081e-03, tolerance: 3.429e-04\n",
      "  model = cd_fast.enet_coordinate_descent(\n",
      "/Users/p.woznicki/git/AutoRadiomics/.venv/lib/python3.10/site-packages/sklearn/linear_model/_coordinate_descent.py:644: ConvergenceWarning: Objective did not converge. You might want to increase the number of iterations, check the scale of the features or consider increasing regularisation. Duality gap: 1.383e-03, tolerance: 3.500e-04\n",
      "  model = cd_fast.enet_coordinate_descent(\n"
     ]
    },
    {
     "name": "stdout",
     "output_type": "stream",
     "text": [
      "[CV 2/5] END .....alpha=1.5199110829529332e-05;, score=-0.740 total time=   0.3s\n",
      "[CV 3/5] END .....alpha=1.5199110829529332e-05;, score=-0.160 total time=   0.1s\n",
      "[CV 4/5] END .....alpha=1.5199110829529332e-05;, score=-0.163 total time=   0.1s\n"
     ]
    },
    {
     "name": "stderr",
     "output_type": "stream",
     "text": [
      "/Users/p.woznicki/git/AutoRadiomics/.venv/lib/python3.10/site-packages/sklearn/linear_model/_coordinate_descent.py:644: ConvergenceWarning: Objective did not converge. You might want to increase the number of iterations, check the scale of the features or consider increasing regularisation. Duality gap: 1.338e-03, tolerance: 3.600e-04\n",
      "  model = cd_fast.enet_coordinate_descent(\n",
      "/Users/p.woznicki/git/AutoRadiomics/.venv/lib/python3.10/site-packages/sklearn/linear_model/_coordinate_descent.py:644: ConvergenceWarning: Objective did not converge. You might want to increase the number of iterations, check the scale of the features or consider increasing regularisation. Duality gap: 1.286e-03, tolerance: 3.600e-04\n",
      "  model = cd_fast.enet_coordinate_descent(\n"
     ]
    },
    {
     "name": "stdout",
     "output_type": "stream",
     "text": [
      "[CV 5/5] END .....alpha=1.5199110829529332e-05;, score=-1.928 total time=   0.1s\n",
      "[CV 1/5] END ......alpha=1.747528400007683e-05;, score=-1.192 total time=   0.1s\n",
      "[CV 2/5] END ......alpha=1.747528400007683e-05;, score=-0.710 total time=   0.1s\n"
     ]
    },
    {
     "name": "stderr",
     "output_type": "stream",
     "text": [
      "/Users/p.woznicki/git/AutoRadiomics/.venv/lib/python3.10/site-packages/sklearn/linear_model/_coordinate_descent.py:644: ConvergenceWarning: Objective did not converge. You might want to increase the number of iterations, check the scale of the features or consider increasing regularisation. Duality gap: 1.135e-03, tolerance: 3.500e-04\n",
      "  model = cd_fast.enet_coordinate_descent(\n",
      "/Users/p.woznicki/git/AutoRadiomics/.venv/lib/python3.10/site-packages/sklearn/linear_model/_coordinate_descent.py:644: ConvergenceWarning: Objective did not converge. You might want to increase the number of iterations, check the scale of the features or consider increasing regularisation. Duality gap: 1.074e-03, tolerance: 3.429e-04\n",
      "  model = cd_fast.enet_coordinate_descent(\n",
      "/Users/p.woznicki/git/AutoRadiomics/.venv/lib/python3.10/site-packages/sklearn/linear_model/_coordinate_descent.py:644: ConvergenceWarning: Objective did not converge. You might want to increase the number of iterations, check the scale of the features or consider increasing regularisation. Duality gap: 1.579e-03, tolerance: 3.500e-04\n",
      "  model = cd_fast.enet_coordinate_descent(\n"
     ]
    },
    {
     "name": "stdout",
     "output_type": "stream",
     "text": [
      "[CV 3/5] END ......alpha=1.747528400007683e-05;, score=-0.155 total time=   0.1s\n",
      "[CV 4/5] END ......alpha=1.747528400007683e-05;, score=-0.179 total time=   0.1s\n",
      "[CV 5/5] END ......alpha=1.747528400007683e-05;, score=-1.887 total time=   0.1s\n"
     ]
    },
    {
     "name": "stderr",
     "output_type": "stream",
     "text": [
      "/Users/p.woznicki/git/AutoRadiomics/.venv/lib/python3.10/site-packages/sklearn/linear_model/_coordinate_descent.py:644: ConvergenceWarning: Objective did not converge. You might want to increase the number of iterations, check the scale of the features or consider increasing regularisation. Duality gap: 1.388e-03, tolerance: 3.600e-04\n",
      "  model = cd_fast.enet_coordinate_descent(\n",
      "/Users/p.woznicki/git/AutoRadiomics/.venv/lib/python3.10/site-packages/sklearn/linear_model/_coordinate_descent.py:644: ConvergenceWarning: Objective did not converge. You might want to increase the number of iterations, check the scale of the features or consider increasing regularisation. Duality gap: 1.518e-03, tolerance: 3.600e-04\n",
      "  model = cd_fast.enet_coordinate_descent(\n",
      "/Users/p.woznicki/git/AutoRadiomics/.venv/lib/python3.10/site-packages/sklearn/linear_model/_coordinate_descent.py:644: ConvergenceWarning: Objective did not converge. You might want to increase the number of iterations, check the scale of the features or consider increasing regularisation. Duality gap: 1.113e-03, tolerance: 3.500e-04\n",
      "  model = cd_fast.enet_coordinate_descent(\n"
     ]
    },
    {
     "name": "stdout",
     "output_type": "stream",
     "text": [
      "[CV 1/5] END .....alpha=2.0092330025650458e-05;, score=-1.170 total time=   0.1s\n",
      "[CV 2/5] END .....alpha=2.0092330025650458e-05;, score=-0.679 total time=   0.1s\n"
     ]
    },
    {
     "name": "stderr",
     "output_type": "stream",
     "text": [
      "/Users/p.woznicki/git/AutoRadiomics/.venv/lib/python3.10/site-packages/sklearn/linear_model/_coordinate_descent.py:644: ConvergenceWarning: Objective did not converge. You might want to increase the number of iterations, check the scale of the features or consider increasing regularisation. Duality gap: 1.113e-03, tolerance: 3.429e-04\n",
      "  model = cd_fast.enet_coordinate_descent(\n",
      "/Users/p.woznicki/git/AutoRadiomics/.venv/lib/python3.10/site-packages/sklearn/linear_model/_coordinate_descent.py:644: ConvergenceWarning: Objective did not converge. You might want to increase the number of iterations, check the scale of the features or consider increasing regularisation. Duality gap: 1.713e-03, tolerance: 3.500e-04\n",
      "  model = cd_fast.enet_coordinate_descent(\n"
     ]
    },
    {
     "name": "stdout",
     "output_type": "stream",
     "text": [
      "[CV 3/5] END .....alpha=2.0092330025650458e-05;, score=-0.151 total time=   0.1s\n",
      "[CV 4/5] END .....alpha=2.0092330025650458e-05;, score=-0.196 total time=   0.2s\n"
     ]
    },
    {
     "name": "stderr",
     "output_type": "stream",
     "text": [
      "/Users/p.woznicki/git/AutoRadiomics/.venv/lib/python3.10/site-packages/sklearn/linear_model/_coordinate_descent.py:644: ConvergenceWarning: Objective did not converge. You might want to increase the number of iterations, check the scale of the features or consider increasing regularisation. Duality gap: 1.580e-03, tolerance: 3.600e-04\n",
      "  model = cd_fast.enet_coordinate_descent(\n",
      "/Users/p.woznicki/git/AutoRadiomics/.venv/lib/python3.10/site-packages/sklearn/linear_model/_coordinate_descent.py:644: ConvergenceWarning: Objective did not converge. You might want to increase the number of iterations, check the scale of the features or consider increasing regularisation. Duality gap: 1.573e-03, tolerance: 3.600e-04\n",
      "  model = cd_fast.enet_coordinate_descent(\n",
      "/Users/p.woznicki/git/AutoRadiomics/.venv/lib/python3.10/site-packages/sklearn/linear_model/_coordinate_descent.py:644: ConvergenceWarning: Objective did not converge. You might want to increase the number of iterations, check the scale of the features or consider increasing regularisation. Duality gap: 1.305e-03, tolerance: 3.500e-04\n",
      "  model = cd_fast.enet_coordinate_descent(\n"
     ]
    },
    {
     "name": "stdout",
     "output_type": "stream",
     "text": [
      "[CV 5/5] END .....alpha=2.0092330025650458e-05;, score=-1.786 total time=   0.1s\n",
      "[CV 1/5] END ......alpha=2.310129700083158e-05;, score=-1.156 total time=   0.1s\n",
      "[CV 2/5] END ......alpha=2.310129700083158e-05;, score=-0.648 total time=   0.1s\n",
      "[CV 3/5] END ......alpha=2.310129700083158e-05;, score=-0.147 total time=   0.1s\n"
     ]
    },
    {
     "name": "stderr",
     "output_type": "stream",
     "text": [
      "/Users/p.woznicki/git/AutoRadiomics/.venv/lib/python3.10/site-packages/sklearn/linear_model/_coordinate_descent.py:644: ConvergenceWarning: Objective did not converge. You might want to increase the number of iterations, check the scale of the features or consider increasing regularisation. Duality gap: 9.896e-04, tolerance: 3.429e-04\n",
      "  model = cd_fast.enet_coordinate_descent(\n",
      "/Users/p.woznicki/git/AutoRadiomics/.venv/lib/python3.10/site-packages/sklearn/linear_model/_coordinate_descent.py:644: ConvergenceWarning: Objective did not converge. You might want to increase the number of iterations, check the scale of the features or consider increasing regularisation. Duality gap: 1.776e-03, tolerance: 3.500e-04\n",
      "  model = cd_fast.enet_coordinate_descent(\n",
      "/Users/p.woznicki/git/AutoRadiomics/.venv/lib/python3.10/site-packages/sklearn/linear_model/_coordinate_descent.py:644: ConvergenceWarning: Objective did not converge. You might want to increase the number of iterations, check the scale of the features or consider increasing regularisation. Duality gap: 1.591e-03, tolerance: 3.600e-04\n",
      "  model = cd_fast.enet_coordinate_descent(\n",
      "/Users/p.woznicki/git/AutoRadiomics/.venv/lib/python3.10/site-packages/sklearn/linear_model/_coordinate_descent.py:644: ConvergenceWarning: Objective did not converge. You might want to increase the number of iterations, check the scale of the features or consider increasing regularisation. Duality gap: 1.756e-03, tolerance: 3.600e-04\n",
      "  model = cd_fast.enet_coordinate_descent(\n",
      "/Users/p.woznicki/git/AutoRadiomics/.venv/lib/python3.10/site-packages/sklearn/linear_model/_coordinate_descent.py:644: ConvergenceWarning: Objective did not converge. You might want to increase the number of iterations, check the scale of the features or consider increasing regularisation. Duality gap: 1.284e-03, tolerance: 3.500e-04\n",
      "  model = cd_fast.enet_coordinate_descent(\n"
     ]
    },
    {
     "name": "stdout",
     "output_type": "stream",
     "text": [
      "[CV 4/5] END ......alpha=2.310129700083158e-05;, score=-0.190 total time=   0.0s\n",
      "[CV 5/5] END ......alpha=2.310129700083158e-05;, score=-1.677 total time=   0.0s\n",
      "[CV 1/5] END ......alpha=2.656087782946684e-05;, score=-1.074 total time=   0.0s\n",
      "[CV 2/5] END ......alpha=2.656087782946684e-05;, score=-0.626 total time=   0.0s\n",
      "[CV 3/5] END ......alpha=2.656087782946684e-05;, score=-0.140 total time=   0.0s\n"
     ]
    },
    {
     "name": "stderr",
     "output_type": "stream",
     "text": [
      "/Users/p.woznicki/git/AutoRadiomics/.venv/lib/python3.10/site-packages/sklearn/linear_model/_coordinate_descent.py:644: ConvergenceWarning: Objective did not converge. You might want to increase the number of iterations, check the scale of the features or consider increasing regularisation. Duality gap: 1.058e-03, tolerance: 3.429e-04\n",
      "  model = cd_fast.enet_coordinate_descent(\n",
      "/Users/p.woznicki/git/AutoRadiomics/.venv/lib/python3.10/site-packages/sklearn/linear_model/_coordinate_descent.py:644: ConvergenceWarning: Objective did not converge. You might want to increase the number of iterations, check the scale of the features or consider increasing regularisation. Duality gap: 1.786e-03, tolerance: 3.500e-04\n",
      "  model = cd_fast.enet_coordinate_descent(\n",
      "/Users/p.woznicki/git/AutoRadiomics/.venv/lib/python3.10/site-packages/sklearn/linear_model/_coordinate_descent.py:644: ConvergenceWarning: Objective did not converge. You might want to increase the number of iterations, check the scale of the features or consider increasing regularisation. Duality gap: 1.798e-03, tolerance: 3.600e-04\n",
      "  model = cd_fast.enet_coordinate_descent(\n",
      "/Users/p.woznicki/git/AutoRadiomics/.venv/lib/python3.10/site-packages/sklearn/linear_model/_coordinate_descent.py:644: ConvergenceWarning: Objective did not converge. You might want to increase the number of iterations, check the scale of the features or consider increasing regularisation. Duality gap: 1.839e-03, tolerance: 3.600e-04\n",
      "  model = cd_fast.enet_coordinate_descent(\n",
      "/Users/p.woznicki/git/AutoRadiomics/.venv/lib/python3.10/site-packages/sklearn/linear_model/_coordinate_descent.py:644: ConvergenceWarning: Objective did not converge. You might want to increase the number of iterations, check the scale of the features or consider increasing regularisation. Duality gap: 1.348e-03, tolerance: 3.500e-04\n",
      "  model = cd_fast.enet_coordinate_descent(\n"
     ]
    },
    {
     "name": "stdout",
     "output_type": "stream",
     "text": [
      "[CV 4/5] END ......alpha=2.656087782946684e-05;, score=-0.164 total time=   0.0s\n",
      "[CV 5/5] END ......alpha=2.656087782946684e-05;, score=-1.567 total time=   0.0s\n",
      "[CV 1/5] END ......alpha=3.053855508833412e-05;, score=-1.030 total time=   0.0s\n",
      "[CV 2/5] END ......alpha=3.053855508833412e-05;, score=-0.604 total time=   0.0s\n"
     ]
    },
    {
     "name": "stderr",
     "output_type": "stream",
     "text": [
      "/Users/p.woznicki/git/AutoRadiomics/.venv/lib/python3.10/site-packages/sklearn/linear_model/_coordinate_descent.py:644: ConvergenceWarning: Objective did not converge. You might want to increase the number of iterations, check the scale of the features or consider increasing regularisation. Duality gap: 9.937e-04, tolerance: 3.429e-04\n",
      "  model = cd_fast.enet_coordinate_descent(\n",
      "/Users/p.woznicki/git/AutoRadiomics/.venv/lib/python3.10/site-packages/sklearn/linear_model/_coordinate_descent.py:644: ConvergenceWarning: Objective did not converge. You might want to increase the number of iterations, check the scale of the features or consider increasing regularisation. Duality gap: 1.903e-03, tolerance: 3.500e-04\n",
      "  model = cd_fast.enet_coordinate_descent(\n",
      "/Users/p.woznicki/git/AutoRadiomics/.venv/lib/python3.10/site-packages/sklearn/linear_model/_coordinate_descent.py:644: ConvergenceWarning: Objective did not converge. You might want to increase the number of iterations, check the scale of the features or consider increasing regularisation. Duality gap: 1.916e-03, tolerance: 3.600e-04\n",
      "  model = cd_fast.enet_coordinate_descent(\n",
      "/Users/p.woznicki/git/AutoRadiomics/.venv/lib/python3.10/site-packages/sklearn/linear_model/_coordinate_descent.py:644: ConvergenceWarning: Objective did not converge. You might want to increase the number of iterations, check the scale of the features or consider increasing regularisation. Duality gap: 1.991e-03, tolerance: 3.600e-04\n",
      "  model = cd_fast.enet_coordinate_descent(\n"
     ]
    },
    {
     "name": "stdout",
     "output_type": "stream",
     "text": [
      "[CV 3/5] END ......alpha=3.053855508833412e-05;, score=-0.136 total time=   0.1s\n",
      "[CV 4/5] END ......alpha=3.053855508833412e-05;, score=-0.145 total time=   0.1s\n",
      "[CV 5/5] END ......alpha=3.053855508833412e-05;, score=-1.451 total time=   0.0s\n",
      "[CV 1/5] END ......alpha=3.511191734215127e-05;, score=-0.988 total time=   0.0s\n",
      "[CV 2/5] END ......alpha=3.511191734215127e-05;, score=-0.587 total time=   0.0s\n"
     ]
    },
    {
     "name": "stderr",
     "output_type": "stream",
     "text": [
      "/Users/p.woznicki/git/AutoRadiomics/.venv/lib/python3.10/site-packages/sklearn/linear_model/_coordinate_descent.py:644: ConvergenceWarning: Objective did not converge. You might want to increase the number of iterations, check the scale of the features or consider increasing regularisation. Duality gap: 1.608e-03, tolerance: 3.500e-04\n",
      "  model = cd_fast.enet_coordinate_descent(\n",
      "/Users/p.woznicki/git/AutoRadiomics/.venv/lib/python3.10/site-packages/sklearn/linear_model/_coordinate_descent.py:644: ConvergenceWarning: Objective did not converge. You might want to increase the number of iterations, check the scale of the features or consider increasing regularisation. Duality gap: 1.032e-03, tolerance: 3.429e-04\n",
      "  model = cd_fast.enet_coordinate_descent(\n",
      "/Users/p.woznicki/git/AutoRadiomics/.venv/lib/python3.10/site-packages/sklearn/linear_model/_coordinate_descent.py:644: ConvergenceWarning: Objective did not converge. You might want to increase the number of iterations, check the scale of the features or consider increasing regularisation. Duality gap: 1.748e-03, tolerance: 3.500e-04\n",
      "  model = cd_fast.enet_coordinate_descent(\n",
      "/Users/p.woznicki/git/AutoRadiomics/.venv/lib/python3.10/site-packages/sklearn/linear_model/_coordinate_descent.py:644: ConvergenceWarning: Objective did not converge. You might want to increase the number of iterations, check the scale of the features or consider increasing regularisation. Duality gap: 1.962e-03, tolerance: 3.600e-04\n",
      "  model = cd_fast.enet_coordinate_descent(\n"
     ]
    },
    {
     "name": "stdout",
     "output_type": "stream",
     "text": [
      "[CV 3/5] END ......alpha=3.511191734215127e-05;, score=-0.127 total time=   0.1s\n",
      "[CV 4/5] END ......alpha=3.511191734215127e-05;, score=-0.124 total time=   0.1s\n",
      "[CV 5/5] END ......alpha=3.511191734215127e-05;, score=-1.283 total time=   0.1s\n",
      "[CV 1/5] END ......alpha=4.037017258596558e-05;, score=-0.904 total time=   0.0s\n"
     ]
    },
    {
     "name": "stderr",
     "output_type": "stream",
     "text": [
      "/Users/p.woznicki/git/AutoRadiomics/.venv/lib/python3.10/site-packages/sklearn/linear_model/_coordinate_descent.py:644: ConvergenceWarning: Objective did not converge. You might want to increase the number of iterations, check the scale of the features or consider increasing regularisation. Duality gap: 1.989e-03, tolerance: 3.600e-04\n",
      "  model = cd_fast.enet_coordinate_descent(\n",
      "/Users/p.woznicki/git/AutoRadiomics/.venv/lib/python3.10/site-packages/sklearn/linear_model/_coordinate_descent.py:644: ConvergenceWarning: Objective did not converge. You might want to increase the number of iterations, check the scale of the features or consider increasing regularisation. Duality gap: 1.680e-03, tolerance: 3.500e-04\n",
      "  model = cd_fast.enet_coordinate_descent(\n",
      "/Users/p.woznicki/git/AutoRadiomics/.venv/lib/python3.10/site-packages/sklearn/linear_model/_coordinate_descent.py:644: ConvergenceWarning: Objective did not converge. You might want to increase the number of iterations, check the scale of the features or consider increasing regularisation. Duality gap: 1.039e-03, tolerance: 3.429e-04\n",
      "  model = cd_fast.enet_coordinate_descent(\n",
      "/Users/p.woznicki/git/AutoRadiomics/.venv/lib/python3.10/site-packages/sklearn/linear_model/_coordinate_descent.py:644: ConvergenceWarning: Objective did not converge. You might want to increase the number of iterations, check the scale of the features or consider increasing regularisation. Duality gap: 1.726e-03, tolerance: 3.500e-04\n",
      "  model = cd_fast.enet_coordinate_descent(\n",
      "/Users/p.woznicki/git/AutoRadiomics/.venv/lib/python3.10/site-packages/sklearn/linear_model/_coordinate_descent.py:644: ConvergenceWarning: Objective did not converge. You might want to increase the number of iterations, check the scale of the features or consider increasing regularisation. Duality gap: 2.023e-03, tolerance: 3.600e-04\n",
      "  model = cd_fast.enet_coordinate_descent(\n"
     ]
    },
    {
     "name": "stdout",
     "output_type": "stream",
     "text": [
      "[CV 2/5] END ......alpha=4.037017258596558e-05;, score=-0.569 total time=   0.1s\n",
      "[CV 3/5] END ......alpha=4.037017258596558e-05;, score=-0.122 total time=   0.1s\n",
      "[CV 4/5] END ......alpha=4.037017258596558e-05;, score=-0.103 total time=   0.0s\n",
      "[CV 5/5] END ......alpha=4.037017258596558e-05;, score=-1.172 total time=   0.1s\n"
     ]
    },
    {
     "name": "stderr",
     "output_type": "stream",
     "text": [
      "/Users/p.woznicki/git/AutoRadiomics/.venv/lib/python3.10/site-packages/sklearn/linear_model/_coordinate_descent.py:644: ConvergenceWarning: Objective did not converge. You might want to increase the number of iterations, check the scale of the features or consider increasing regularisation. Duality gap: 1.982e-03, tolerance: 3.600e-04\n",
      "  model = cd_fast.enet_coordinate_descent(\n",
      "/Users/p.woznicki/git/AutoRadiomics/.venv/lib/python3.10/site-packages/sklearn/linear_model/_coordinate_descent.py:644: ConvergenceWarning: Objective did not converge. You might want to increase the number of iterations, check the scale of the features or consider increasing regularisation. Duality gap: 1.463e-03, tolerance: 3.500e-04\n",
      "  model = cd_fast.enet_coordinate_descent(\n",
      "/Users/p.woznicki/git/AutoRadiomics/.venv/lib/python3.10/site-packages/sklearn/linear_model/_coordinate_descent.py:644: ConvergenceWarning: Objective did not converge. You might want to increase the number of iterations, check the scale of the features or consider increasing regularisation. Duality gap: 1.111e-03, tolerance: 3.429e-04\n",
      "  model = cd_fast.enet_coordinate_descent(\n",
      "/Users/p.woznicki/git/AutoRadiomics/.venv/lib/python3.10/site-packages/sklearn/linear_model/_coordinate_descent.py:644: ConvergenceWarning: Objective did not converge. You might want to increase the number of iterations, check the scale of the features or consider increasing regularisation. Duality gap: 1.665e-03, tolerance: 3.500e-04\n",
      "  model = cd_fast.enet_coordinate_descent(\n",
      "/Users/p.woznicki/git/AutoRadiomics/.venv/lib/python3.10/site-packages/sklearn/linear_model/_coordinate_descent.py:644: ConvergenceWarning: Objective did not converge. You might want to increase the number of iterations, check the scale of the features or consider increasing regularisation. Duality gap: 2.275e-03, tolerance: 3.600e-04\n",
      "  model = cd_fast.enet_coordinate_descent(\n"
     ]
    },
    {
     "name": "stdout",
     "output_type": "stream",
     "text": [
      "[CV 1/5] END ......alpha=4.641588833612782e-05;, score=-0.804 total time=   0.0s\n",
      "[CV 2/5] END ......alpha=4.641588833612782e-05;, score=-0.553 total time=   0.1s\n",
      "[CV 3/5] END ......alpha=4.641588833612782e-05;, score=-0.122 total time=   0.0s\n",
      "[CV 4/5] END ......alpha=4.641588833612782e-05;, score=-0.082 total time=   0.0s\n",
      "[CV 5/5] END ......alpha=4.641588833612782e-05;, score=-1.066 total time=   0.0s\n"
     ]
    },
    {
     "name": "stderr",
     "output_type": "stream",
     "text": [
      "/Users/p.woznicki/git/AutoRadiomics/.venv/lib/python3.10/site-packages/sklearn/linear_model/_coordinate_descent.py:644: ConvergenceWarning: Objective did not converge. You might want to increase the number of iterations, check the scale of the features or consider increasing regularisation. Duality gap: 2.195e-03, tolerance: 3.600e-04\n",
      "  model = cd_fast.enet_coordinate_descent(\n",
      "/Users/p.woznicki/git/AutoRadiomics/.venv/lib/python3.10/site-packages/sklearn/linear_model/_coordinate_descent.py:644: ConvergenceWarning: Objective did not converge. You might want to increase the number of iterations, check the scale of the features or consider increasing regularisation. Duality gap: 1.534e-03, tolerance: 3.500e-04\n",
      "  model = cd_fast.enet_coordinate_descent(\n",
      "/Users/p.woznicki/git/AutoRadiomics/.venv/lib/python3.10/site-packages/sklearn/linear_model/_coordinate_descent.py:644: ConvergenceWarning: Objective did not converge. You might want to increase the number of iterations, check the scale of the features or consider increasing regularisation. Duality gap: 1.107e-03, tolerance: 3.429e-04\n",
      "  model = cd_fast.enet_coordinate_descent(\n",
      "/Users/p.woznicki/git/AutoRadiomics/.venv/lib/python3.10/site-packages/sklearn/linear_model/_coordinate_descent.py:644: ConvergenceWarning: Objective did not converge. You might want to increase the number of iterations, check the scale of the features or consider increasing regularisation. Duality gap: 2.040e-03, tolerance: 3.500e-04\n",
      "  model = cd_fast.enet_coordinate_descent(\n",
      "/Users/p.woznicki/git/AutoRadiomics/.venv/lib/python3.10/site-packages/sklearn/linear_model/_coordinate_descent.py:644: ConvergenceWarning: Objective did not converge. You might want to increase the number of iterations, check the scale of the features or consider increasing regularisation. Duality gap: 2.173e-03, tolerance: 3.600e-04\n",
      "  model = cd_fast.enet_coordinate_descent(\n"
     ]
    },
    {
     "name": "stdout",
     "output_type": "stream",
     "text": [
      "[CV 1/5] END .....alpha=5.3366992312063123e-05;, score=-0.722 total time=   0.1s\n",
      "[CV 2/5] END .....alpha=5.3366992312063123e-05;, score=-0.537 total time=   0.0s\n",
      "[CV 3/5] END .....alpha=5.3366992312063123e-05;, score=-0.123 total time=   0.0s\n",
      "[CV 4/5] END .....alpha=5.3366992312063123e-05;, score=-0.057 total time=   0.0s\n",
      "[CV 5/5] END .....alpha=5.3366992312063123e-05;, score=-0.968 total time=   0.0s\n"
     ]
    },
    {
     "name": "stderr",
     "output_type": "stream",
     "text": [
      "/Users/p.woznicki/git/AutoRadiomics/.venv/lib/python3.10/site-packages/sklearn/linear_model/_coordinate_descent.py:644: ConvergenceWarning: Objective did not converge. You might want to increase the number of iterations, check the scale of the features or consider increasing regularisation. Duality gap: 2.220e-03, tolerance: 3.600e-04\n",
      "  model = cd_fast.enet_coordinate_descent(\n",
      "/Users/p.woznicki/git/AutoRadiomics/.venv/lib/python3.10/site-packages/sklearn/linear_model/_coordinate_descent.py:644: ConvergenceWarning: Objective did not converge. You might want to increase the number of iterations, check the scale of the features or consider increasing regularisation. Duality gap: 1.522e-03, tolerance: 3.500e-04\n",
      "  model = cd_fast.enet_coordinate_descent(\n",
      "/Users/p.woznicki/git/AutoRadiomics/.venv/lib/python3.10/site-packages/sklearn/linear_model/_coordinate_descent.py:644: ConvergenceWarning: Objective did not converge. You might want to increase the number of iterations, check the scale of the features or consider increasing regularisation. Duality gap: 8.284e-04, tolerance: 3.429e-04\n",
      "  model = cd_fast.enet_coordinate_descent(\n",
      "/Users/p.woznicki/git/AutoRadiomics/.venv/lib/python3.10/site-packages/sklearn/linear_model/_coordinate_descent.py:644: ConvergenceWarning: Objective did not converge. You might want to increase the number of iterations, check the scale of the features or consider increasing regularisation. Duality gap: 2.220e-03, tolerance: 3.500e-04\n",
      "  model = cd_fast.enet_coordinate_descent(\n",
      "/Users/p.woznicki/git/AutoRadiomics/.venv/lib/python3.10/site-packages/sklearn/linear_model/_coordinate_descent.py:644: ConvergenceWarning: Objective did not converge. You might want to increase the number of iterations, check the scale of the features or consider increasing regularisation. Duality gap: 2.255e-03, tolerance: 3.600e-04\n",
      "  model = cd_fast.enet_coordinate_descent(\n"
     ]
    },
    {
     "name": "stdout",
     "output_type": "stream",
     "text": [
      "[CV 1/5] END ......alpha=6.135907273413175e-05;, score=-0.675 total time=   0.0s\n",
      "[CV 2/5] END ......alpha=6.135907273413175e-05;, score=-0.524 total time=   0.1s\n",
      "[CV 3/5] END ......alpha=6.135907273413175e-05;, score=-0.128 total time=   0.0s\n",
      "[CV 4/5] END ......alpha=6.135907273413175e-05;, score=-0.040 total time=   0.0s\n",
      "[CV 5/5] END ......alpha=6.135907273413175e-05;, score=-0.860 total time=   0.0s\n"
     ]
    },
    {
     "name": "stderr",
     "output_type": "stream",
     "text": [
      "/Users/p.woznicki/git/AutoRadiomics/.venv/lib/python3.10/site-packages/sklearn/linear_model/_coordinate_descent.py:644: ConvergenceWarning: Objective did not converge. You might want to increase the number of iterations, check the scale of the features or consider increasing regularisation. Duality gap: 2.187e-03, tolerance: 3.600e-04\n",
      "  model = cd_fast.enet_coordinate_descent(\n",
      "/Users/p.woznicki/git/AutoRadiomics/.venv/lib/python3.10/site-packages/sklearn/linear_model/_coordinate_descent.py:644: ConvergenceWarning: Objective did not converge. You might want to increase the number of iterations, check the scale of the features or consider increasing regularisation. Duality gap: 1.503e-03, tolerance: 3.500e-04\n",
      "  model = cd_fast.enet_coordinate_descent(\n",
      "/Users/p.woznicki/git/AutoRadiomics/.venv/lib/python3.10/site-packages/sklearn/linear_model/_coordinate_descent.py:644: ConvergenceWarning: Objective did not converge. You might want to increase the number of iterations, check the scale of the features or consider increasing regularisation. Duality gap: 1.203e-03, tolerance: 3.429e-04\n",
      "  model = cd_fast.enet_coordinate_descent(\n",
      "/Users/p.woznicki/git/AutoRadiomics/.venv/lib/python3.10/site-packages/sklearn/linear_model/_coordinate_descent.py:644: ConvergenceWarning: Objective did not converge. You might want to increase the number of iterations, check the scale of the features or consider increasing regularisation. Duality gap: 1.503e-03, tolerance: 3.500e-04\n",
      "  model = cd_fast.enet_coordinate_descent(\n"
     ]
    },
    {
     "name": "stdout",
     "output_type": "stream",
     "text": [
      "[CV 1/5] END ......alpha=7.054802310718646e-05;, score=-0.678 total time=   0.2s\n",
      "[CV 2/5] END ......alpha=7.054802310718646e-05;, score=-0.510 total time=   0.1s\n",
      "[CV 3/5] END ......alpha=7.054802310718646e-05;, score=-0.122 total time=   0.1s\n",
      "[CV 4/5] END ......alpha=7.054802310718646e-05;, score=-0.034 total time=   0.0s\n"
     ]
    },
    {
     "name": "stderr",
     "output_type": "stream",
     "text": [
      "/Users/p.woznicki/git/AutoRadiomics/.venv/lib/python3.10/site-packages/sklearn/linear_model/_coordinate_descent.py:644: ConvergenceWarning: Objective did not converge. You might want to increase the number of iterations, check the scale of the features or consider increasing regularisation. Duality gap: 2.593e-03, tolerance: 3.600e-04\n",
      "  model = cd_fast.enet_coordinate_descent(\n",
      "/Users/p.woznicki/git/AutoRadiomics/.venv/lib/python3.10/site-packages/sklearn/linear_model/_coordinate_descent.py:644: ConvergenceWarning: Objective did not converge. You might want to increase the number of iterations, check the scale of the features or consider increasing regularisation. Duality gap: 1.744e-03, tolerance: 3.600e-04\n",
      "  model = cd_fast.enet_coordinate_descent(\n",
      "/Users/p.woznicki/git/AutoRadiomics/.venv/lib/python3.10/site-packages/sklearn/linear_model/_coordinate_descent.py:644: ConvergenceWarning: Objective did not converge. You might want to increase the number of iterations, check the scale of the features or consider increasing regularisation. Duality gap: 1.583e-03, tolerance: 3.500e-04\n",
      "  model = cd_fast.enet_coordinate_descent(\n",
      "/Users/p.woznicki/git/AutoRadiomics/.venv/lib/python3.10/site-packages/sklearn/linear_model/_coordinate_descent.py:644: ConvergenceWarning: Objective did not converge. You might want to increase the number of iterations, check the scale of the features or consider increasing regularisation. Duality gap: 9.751e-04, tolerance: 3.429e-04\n",
      "  model = cd_fast.enet_coordinate_descent(\n",
      "/Users/p.woznicki/git/AutoRadiomics/.venv/lib/python3.10/site-packages/sklearn/linear_model/_coordinate_descent.py:644: ConvergenceWarning: Objective did not converge. You might want to increase the number of iterations, check the scale of the features or consider increasing regularisation. Duality gap: 1.269e-03, tolerance: 3.500e-04\n",
      "  model = cd_fast.enet_coordinate_descent(\n"
     ]
    },
    {
     "name": "stdout",
     "output_type": "stream",
     "text": [
      "[CV 5/5] END ......alpha=7.054802310718646e-05;, score=-0.773 total time=   0.1s\n",
      "[CV 1/5] END ......alpha=8.111308307896872e-05;, score=-0.713 total time=   0.0s\n",
      "[CV 2/5] END ......alpha=8.111308307896872e-05;, score=-0.495 total time=   0.0s\n",
      "[CV 3/5] END ......alpha=8.111308307896872e-05;, score=-0.124 total time=   0.0s\n",
      "[CV 4/5] END ......alpha=8.111308307896872e-05;, score=-0.063 total time=   0.0s\n",
      "[CV 5/5] END ......alpha=8.111308307896872e-05;, score=-0.712 total time=   0.0s\n"
     ]
    },
    {
     "name": "stderr",
     "output_type": "stream",
     "text": [
      "/Users/p.woznicki/git/AutoRadiomics/.venv/lib/python3.10/site-packages/sklearn/linear_model/_coordinate_descent.py:644: ConvergenceWarning: Objective did not converge. You might want to increase the number of iterations, check the scale of the features or consider increasing regularisation. Duality gap: 2.643e-03, tolerance: 3.600e-04\n",
      "  model = cd_fast.enet_coordinate_descent(\n",
      "/Users/p.woznicki/git/AutoRadiomics/.venv/lib/python3.10/site-packages/sklearn/linear_model/_coordinate_descent.py:644: ConvergenceWarning: Objective did not converge. You might want to increase the number of iterations, check the scale of the features or consider increasing regularisation. Duality gap: 1.625e-03, tolerance: 3.600e-04\n",
      "  model = cd_fast.enet_coordinate_descent(\n",
      "/Users/p.woznicki/git/AutoRadiomics/.venv/lib/python3.10/site-packages/sklearn/linear_model/_coordinate_descent.py:644: ConvergenceWarning: Objective did not converge. You might want to increase the number of iterations, check the scale of the features or consider increasing regularisation. Duality gap: 1.770e-03, tolerance: 3.500e-04\n",
      "  model = cd_fast.enet_coordinate_descent(\n",
      "/Users/p.woznicki/git/AutoRadiomics/.venv/lib/python3.10/site-packages/sklearn/linear_model/_coordinate_descent.py:644: ConvergenceWarning: Objective did not converge. You might want to increase the number of iterations, check the scale of the features or consider increasing regularisation. Duality gap: 1.223e-03, tolerance: 3.429e-04\n",
      "  model = cd_fast.enet_coordinate_descent(\n",
      "/Users/p.woznicki/git/AutoRadiomics/.venv/lib/python3.10/site-packages/sklearn/linear_model/_coordinate_descent.py:644: ConvergenceWarning: Objective did not converge. You might want to increase the number of iterations, check the scale of the features or consider increasing regularisation. Duality gap: 1.290e-03, tolerance: 3.500e-04\n",
      "  model = cd_fast.enet_coordinate_descent(\n"
     ]
    },
    {
     "name": "stdout",
     "output_type": "stream",
     "text": [
      "[CV 1/5] END ......alpha=9.326033468832199e-05;, score=-0.751 total time=   0.1s\n",
      "[CV 2/5] END ......alpha=9.326033468832199e-05;, score=-0.475 total time=   0.1s\n",
      "[CV 3/5] END ......alpha=9.326033468832199e-05;, score=-0.132 total time=   0.0s\n",
      "[CV 4/5] END ......alpha=9.326033468832199e-05;, score=-0.129 total time=   0.0s\n",
      "[CV 5/5] END ......alpha=9.326033468832199e-05;, score=-0.674 total time=   0.0s\n"
     ]
    },
    {
     "name": "stderr",
     "output_type": "stream",
     "text": [
      "/Users/p.woznicki/git/AutoRadiomics/.venv/lib/python3.10/site-packages/sklearn/linear_model/_coordinate_descent.py:644: ConvergenceWarning: Objective did not converge. You might want to increase the number of iterations, check the scale of the features or consider increasing regularisation. Duality gap: 2.997e-03, tolerance: 3.600e-04\n",
      "  model = cd_fast.enet_coordinate_descent(\n",
      "/Users/p.woznicki/git/AutoRadiomics/.venv/lib/python3.10/site-packages/sklearn/linear_model/_coordinate_descent.py:644: ConvergenceWarning: Objective did not converge. You might want to increase the number of iterations, check the scale of the features or consider increasing regularisation. Duality gap: 8.477e-04, tolerance: 3.600e-04\n",
      "  model = cd_fast.enet_coordinate_descent(\n",
      "/Users/p.woznicki/git/AutoRadiomics/.venv/lib/python3.10/site-packages/sklearn/linear_model/_coordinate_descent.py:644: ConvergenceWarning: Objective did not converge. You might want to increase the number of iterations, check the scale of the features or consider increasing regularisation. Duality gap: 1.996e-03, tolerance: 3.500e-04\n",
      "  model = cd_fast.enet_coordinate_descent(\n",
      "/Users/p.woznicki/git/AutoRadiomics/.venv/lib/python3.10/site-packages/sklearn/linear_model/_coordinate_descent.py:644: ConvergenceWarning: Objective did not converge. You might want to increase the number of iterations, check the scale of the features or consider increasing regularisation. Duality gap: 1.051e-03, tolerance: 3.429e-04\n",
      "  model = cd_fast.enet_coordinate_descent(\n",
      "/Users/p.woznicki/git/AutoRadiomics/.venv/lib/python3.10/site-packages/sklearn/linear_model/_coordinate_descent.py:644: ConvergenceWarning: Objective did not converge. You might want to increase the number of iterations, check the scale of the features or consider increasing regularisation. Duality gap: 1.632e-03, tolerance: 3.500e-04\n",
      "  model = cd_fast.enet_coordinate_descent(\n"
     ]
    },
    {
     "name": "stdout",
     "output_type": "stream",
     "text": [
      "[CV 1/5] END .....alpha=0.00010722672220103231;, score=-0.797 total time=   0.1s\n",
      "[CV 2/5] END .....alpha=0.00010722672220103231;, score=-0.453 total time=   0.1s\n",
      "[CV 3/5] END .....alpha=0.00010722672220103231;, score=-0.145 total time=   0.0s\n",
      "[CV 4/5] END .....alpha=0.00010722672220103231;, score=-0.156 total time=   0.0s\n",
      "[CV 5/5] END .....alpha=0.00010722672220103231;, score=-0.678 total time=   0.0s\n"
     ]
    },
    {
     "name": "stderr",
     "output_type": "stream",
     "text": [
      "/Users/p.woznicki/git/AutoRadiomics/.venv/lib/python3.10/site-packages/sklearn/linear_model/_coordinate_descent.py:644: ConvergenceWarning: Objective did not converge. You might want to increase the number of iterations, check the scale of the features or consider increasing regularisation. Duality gap: 2.978e-03, tolerance: 3.600e-04\n",
      "  model = cd_fast.enet_coordinate_descent(\n",
      "/Users/p.woznicki/git/AutoRadiomics/.venv/lib/python3.10/site-packages/sklearn/linear_model/_coordinate_descent.py:644: ConvergenceWarning: Objective did not converge. You might want to increase the number of iterations, check the scale of the features or consider increasing regularisation. Duality gap: 1.240e-03, tolerance: 3.600e-04\n",
      "  model = cd_fast.enet_coordinate_descent(\n",
      "/Users/p.woznicki/git/AutoRadiomics/.venv/lib/python3.10/site-packages/sklearn/linear_model/_coordinate_descent.py:644: ConvergenceWarning: Objective did not converge. You might want to increase the number of iterations, check the scale of the features or consider increasing regularisation. Duality gap: 1.774e-03, tolerance: 3.500e-04\n",
      "  model = cd_fast.enet_coordinate_descent(\n",
      "/Users/p.woznicki/git/AutoRadiomics/.venv/lib/python3.10/site-packages/sklearn/linear_model/_coordinate_descent.py:644: ConvergenceWarning: Objective did not converge. You might want to increase the number of iterations, check the scale of the features or consider increasing regularisation. Duality gap: 9.255e-04, tolerance: 3.429e-04\n",
      "  model = cd_fast.enet_coordinate_descent(\n",
      "/Users/p.woznicki/git/AutoRadiomics/.venv/lib/python3.10/site-packages/sklearn/linear_model/_coordinate_descent.py:644: ConvergenceWarning: Objective did not converge. You might want to increase the number of iterations, check the scale of the features or consider increasing regularisation. Duality gap: 1.673e-03, tolerance: 3.500e-04\n",
      "  model = cd_fast.enet_coordinate_descent(\n"
     ]
    },
    {
     "name": "stdout",
     "output_type": "stream",
     "text": [
      "[CV 1/5] END ......alpha=0.0001232846739442066;, score=-0.825 total time=   0.0s\n",
      "[CV 2/5] END ......alpha=0.0001232846739442066;, score=-0.436 total time=   0.0s\n",
      "[CV 3/5] END ......alpha=0.0001232846739442066;, score=-0.156 total time=   0.1s\n",
      "[CV 4/5] END ......alpha=0.0001232846739442066;, score=-0.173 total time=   0.1s\n"
     ]
    },
    {
     "name": "stderr",
     "output_type": "stream",
     "text": [
      "/Users/p.woznicki/git/AutoRadiomics/.venv/lib/python3.10/site-packages/sklearn/linear_model/_coordinate_descent.py:644: ConvergenceWarning: Objective did not converge. You might want to increase the number of iterations, check the scale of the features or consider increasing regularisation. Duality gap: 2.587e-03, tolerance: 3.600e-04\n",
      "  model = cd_fast.enet_coordinate_descent(\n",
      "/Users/p.woznicki/git/AutoRadiomics/.venv/lib/python3.10/site-packages/sklearn/linear_model/_coordinate_descent.py:644: ConvergenceWarning: Objective did not converge. You might want to increase the number of iterations, check the scale of the features or consider increasing regularisation. Duality gap: 1.256e-03, tolerance: 3.600e-04\n",
      "  model = cd_fast.enet_coordinate_descent(\n",
      "/Users/p.woznicki/git/AutoRadiomics/.venv/lib/python3.10/site-packages/sklearn/linear_model/_coordinate_descent.py:644: ConvergenceWarning: Objective did not converge. You might want to increase the number of iterations, check the scale of the features or consider increasing regularisation. Duality gap: 1.975e-03, tolerance: 3.500e-04\n",
      "  model = cd_fast.enet_coordinate_descent(\n",
      "/Users/p.woznicki/git/AutoRadiomics/.venv/lib/python3.10/site-packages/sklearn/linear_model/_coordinate_descent.py:644: ConvergenceWarning: Objective did not converge. You might want to increase the number of iterations, check the scale of the features or consider increasing regularisation. Duality gap: 9.389e-04, tolerance: 3.429e-04\n",
      "  model = cd_fast.enet_coordinate_descent(\n"
     ]
    },
    {
     "name": "stdout",
     "output_type": "stream",
     "text": [
      "[CV 5/5] END ......alpha=0.0001232846739442066;, score=-0.669 total time=   0.1s\n",
      "[CV 1/5] END .....alpha=0.00014174741629268049;, score=-0.861 total time=   0.0s\n",
      "[CV 2/5] END .....alpha=0.00014174741629268049;, score=-0.424 total time=   0.1s\n"
     ]
    },
    {
     "name": "stderr",
     "output_type": "stream",
     "text": [
      "/Users/p.woznicki/git/AutoRadiomics/.venv/lib/python3.10/site-packages/sklearn/linear_model/_coordinate_descent.py:644: ConvergenceWarning: Objective did not converge. You might want to increase the number of iterations, check the scale of the features or consider increasing regularisation. Duality gap: 1.784e-03, tolerance: 3.500e-04\n",
      "  model = cd_fast.enet_coordinate_descent(\n",
      "/Users/p.woznicki/git/AutoRadiomics/.venv/lib/python3.10/site-packages/sklearn/linear_model/_coordinate_descent.py:644: ConvergenceWarning: Objective did not converge. You might want to increase the number of iterations, check the scale of the features or consider increasing regularisation. Duality gap: 2.136e-03, tolerance: 3.600e-04\n",
      "  model = cd_fast.enet_coordinate_descent(\n",
      "/Users/p.woznicki/git/AutoRadiomics/.venv/lib/python3.10/site-packages/sklearn/linear_model/_coordinate_descent.py:644: ConvergenceWarning: Objective did not converge. You might want to increase the number of iterations, check the scale of the features or consider increasing regularisation. Duality gap: 1.134e-03, tolerance: 3.600e-04\n",
      "  model = cd_fast.enet_coordinate_descent(\n",
      "/Users/p.woznicki/git/AutoRadiomics/.venv/lib/python3.10/site-packages/sklearn/linear_model/_coordinate_descent.py:644: ConvergenceWarning: Objective did not converge. You might want to increase the number of iterations, check the scale of the features or consider increasing regularisation. Duality gap: 2.161e-03, tolerance: 3.500e-04\n",
      "  model = cd_fast.enet_coordinate_descent(\n",
      "/Users/p.woznicki/git/AutoRadiomics/.venv/lib/python3.10/site-packages/sklearn/linear_model/_coordinate_descent.py:644: ConvergenceWarning: Objective did not converge. You might want to increase the number of iterations, check the scale of the features or consider increasing regularisation. Duality gap: 7.805e-04, tolerance: 3.429e-04\n",
      "  model = cd_fast.enet_coordinate_descent(\n",
      "/Users/p.woznicki/git/AutoRadiomics/.venv/lib/python3.10/site-packages/sklearn/linear_model/_coordinate_descent.py:644: ConvergenceWarning: Objective did not converge. You might want to increase the number of iterations, check the scale of the features or consider increasing regularisation. Duality gap: 1.580e-03, tolerance: 3.500e-04\n",
      "  model = cd_fast.enet_coordinate_descent(\n"
     ]
    },
    {
     "name": "stdout",
     "output_type": "stream",
     "text": [
      "[CV 3/5] END .....alpha=0.00014174741629268049;, score=-0.163 total time=   0.3s\n",
      "[CV 4/5] END .....alpha=0.00014174741629268049;, score=-0.180 total time=   0.0s\n",
      "[CV 5/5] END .....alpha=0.00014174741629268049;, score=-0.667 total time=   0.0s\n",
      "[CV 1/5] END .....alpha=0.00016297508346206434;, score=-0.909 total time=   0.0s\n",
      "[CV 2/5] END .....alpha=0.00016297508346206434;, score=-0.413 total time=   0.0s\n",
      "[CV 3/5] END .....alpha=0.00016297508346206434;, score=-0.174 total time=   0.0s\n"
     ]
    },
    {
     "name": "stderr",
     "output_type": "stream",
     "text": [
      "/Users/p.woznicki/git/AutoRadiomics/.venv/lib/python3.10/site-packages/sklearn/linear_model/_coordinate_descent.py:644: ConvergenceWarning: Objective did not converge. You might want to increase the number of iterations, check the scale of the features or consider increasing regularisation. Duality gap: 1.297e-03, tolerance: 3.600e-04\n",
      "  model = cd_fast.enet_coordinate_descent(\n",
      "/Users/p.woznicki/git/AutoRadiomics/.venv/lib/python3.10/site-packages/sklearn/linear_model/_coordinate_descent.py:644: ConvergenceWarning: Objective did not converge. You might want to increase the number of iterations, check the scale of the features or consider increasing regularisation. Duality gap: 9.537e-04, tolerance: 3.600e-04\n",
      "  model = cd_fast.enet_coordinate_descent(\n",
      "/Users/p.woznicki/git/AutoRadiomics/.venv/lib/python3.10/site-packages/sklearn/linear_model/_coordinate_descent.py:644: ConvergenceWarning: Objective did not converge. You might want to increase the number of iterations, check the scale of the features or consider increasing regularisation. Duality gap: 2.201e-03, tolerance: 3.500e-04\n",
      "  model = cd_fast.enet_coordinate_descent(\n",
      "/Users/p.woznicki/git/AutoRadiomics/.venv/lib/python3.10/site-packages/sklearn/linear_model/_coordinate_descent.py:644: ConvergenceWarning: Objective did not converge. You might want to increase the number of iterations, check the scale of the features or consider increasing regularisation. Duality gap: 7.175e-04, tolerance: 3.429e-04\n",
      "  model = cd_fast.enet_coordinate_descent(\n",
      "/Users/p.woznicki/git/AutoRadiomics/.venv/lib/python3.10/site-packages/sklearn/linear_model/_coordinate_descent.py:644: ConvergenceWarning: Objective did not converge. You might want to increase the number of iterations, check the scale of the features or consider increasing regularisation. Duality gap: 1.628e-03, tolerance: 3.500e-04\n",
      "  model = cd_fast.enet_coordinate_descent(\n",
      "/Users/p.woznicki/git/AutoRadiomics/.venv/lib/python3.10/site-packages/sklearn/linear_model/_coordinate_descent.py:644: ConvergenceWarning: Objective did not converge. You might want to increase the number of iterations, check the scale of the features or consider increasing regularisation. Duality gap: 1.514e-03, tolerance: 3.600e-04\n",
      "  model = cd_fast.enet_coordinate_descent(\n"
     ]
    },
    {
     "name": "stdout",
     "output_type": "stream",
     "text": [
      "[CV 4/5] END .....alpha=0.00016297508346206434;, score=-0.188 total time=   0.0s\n",
      "[CV 5/5] END .....alpha=0.00016297508346206434;, score=-0.669 total time=   0.0s\n",
      "[CV 1/5] END ......alpha=0.0001873817422860383;, score=-0.964 total time=   0.0s\n",
      "[CV 2/5] END ......alpha=0.0001873817422860383;, score=-0.404 total time=   0.0s\n",
      "[CV 3/5] END ......alpha=0.0001873817422860383;, score=-0.187 total time=   0.0s\n",
      "[CV 4/5] END ......alpha=0.0001873817422860383;, score=-0.195 total time=   0.0s\n"
     ]
    },
    {
     "name": "stderr",
     "output_type": "stream",
     "text": [
      "/Users/p.woznicki/git/AutoRadiomics/.venv/lib/python3.10/site-packages/sklearn/linear_model/_coordinate_descent.py:644: ConvergenceWarning: Objective did not converge. You might want to increase the number of iterations, check the scale of the features or consider increasing regularisation. Duality gap: 1.084e-03, tolerance: 3.600e-04\n",
      "  model = cd_fast.enet_coordinate_descent(\n",
      "/Users/p.woznicki/git/AutoRadiomics/.venv/lib/python3.10/site-packages/sklearn/linear_model/_coordinate_descent.py:644: ConvergenceWarning: Objective did not converge. You might want to increase the number of iterations, check the scale of the features or consider increasing regularisation. Duality gap: 2.334e-03, tolerance: 3.500e-04\n",
      "  model = cd_fast.enet_coordinate_descent(\n",
      "/Users/p.woznicki/git/AutoRadiomics/.venv/lib/python3.10/site-packages/sklearn/linear_model/_coordinate_descent.py:644: ConvergenceWarning: Objective did not converge. You might want to increase the number of iterations, check the scale of the features or consider increasing regularisation. Duality gap: 4.587e-04, tolerance: 3.429e-04\n",
      "  model = cd_fast.enet_coordinate_descent(\n",
      "/Users/p.woznicki/git/AutoRadiomics/.venv/lib/python3.10/site-packages/sklearn/linear_model/_coordinate_descent.py:644: ConvergenceWarning: Objective did not converge. You might want to increase the number of iterations, check the scale of the features or consider increasing regularisation. Duality gap: 1.832e-03, tolerance: 3.500e-04\n",
      "  model = cd_fast.enet_coordinate_descent(\n",
      "/Users/p.woznicki/git/AutoRadiomics/.venv/lib/python3.10/site-packages/sklearn/linear_model/_coordinate_descent.py:644: ConvergenceWarning: Objective did not converge. You might want to increase the number of iterations, check the scale of the features or consider increasing regularisation. Duality gap: 1.330e-03, tolerance: 3.600e-04\n",
      "  model = cd_fast.enet_coordinate_descent(\n",
      "/Users/p.woznicki/git/AutoRadiomics/.venv/lib/python3.10/site-packages/sklearn/linear_model/_coordinate_descent.py:644: ConvergenceWarning: Objective did not converge. You might want to increase the number of iterations, check the scale of the features or consider increasing regularisation. Duality gap: 1.206e-03, tolerance: 3.600e-04\n",
      "  model = cd_fast.enet_coordinate_descent(\n"
     ]
    },
    {
     "name": "stdout",
     "output_type": "stream",
     "text": [
      "[CV 5/5] END ......alpha=0.0001873817422860383;, score=-0.677 total time=   0.1s\n",
      "[CV 1/5] END .....alpha=0.00021544346900318845;, score=-0.993 total time=   0.0s\n",
      "[CV 2/5] END .....alpha=0.00021544346900318845;, score=-0.395 total time=   0.0s\n",
      "[CV 3/5] END .....alpha=0.00021544346900318845;, score=-0.204 total time=   0.0s\n",
      "[CV 4/5] END .....alpha=0.00021544346900318845;, score=-0.209 total time=   0.0s\n",
      "[CV 5/5] END .....alpha=0.00021544346900318845;, score=-0.685 total time=   0.0s\n"
     ]
    },
    {
     "name": "stderr",
     "output_type": "stream",
     "text": [
      "/Users/p.woznicki/git/AutoRadiomics/.venv/lib/python3.10/site-packages/sklearn/linear_model/_coordinate_descent.py:644: ConvergenceWarning: Objective did not converge. You might want to increase the number of iterations, check the scale of the features or consider increasing regularisation. Duality gap: 1.498e-03, tolerance: 3.500e-04\n",
      "  model = cd_fast.enet_coordinate_descent(\n",
      "/Users/p.woznicki/git/AutoRadiomics/.venv/lib/python3.10/site-packages/sklearn/linear_model/_coordinate_descent.py:644: ConvergenceWarning: Objective did not converge. You might want to increase the number of iterations, check the scale of the features or consider increasing regularisation. Duality gap: 6.584e-04, tolerance: 3.429e-04\n",
      "  model = cd_fast.enet_coordinate_descent(\n",
      "/Users/p.woznicki/git/AutoRadiomics/.venv/lib/python3.10/site-packages/sklearn/linear_model/_coordinate_descent.py:644: ConvergenceWarning: Objective did not converge. You might want to increase the number of iterations, check the scale of the features or consider increasing regularisation. Duality gap: 2.073e-03, tolerance: 3.500e-04\n",
      "  model = cd_fast.enet_coordinate_descent(\n",
      "/Users/p.woznicki/git/AutoRadiomics/.venv/lib/python3.10/site-packages/sklearn/linear_model/_coordinate_descent.py:644: ConvergenceWarning: Objective did not converge. You might want to increase the number of iterations, check the scale of the features or consider increasing regularisation. Duality gap: 2.144e-03, tolerance: 3.600e-04\n",
      "  model = cd_fast.enet_coordinate_descent(\n",
      "/Users/p.woznicki/git/AutoRadiomics/.venv/lib/python3.10/site-packages/sklearn/linear_model/_coordinate_descent.py:644: ConvergenceWarning: Objective did not converge. You might want to increase the number of iterations, check the scale of the features or consider increasing regularisation. Duality gap: 1.366e-03, tolerance: 3.600e-04\n",
      "  model = cd_fast.enet_coordinate_descent(\n",
      "/Users/p.woznicki/git/AutoRadiomics/.venv/lib/python3.10/site-packages/sklearn/linear_model/_coordinate_descent.py:644: ConvergenceWarning: Objective did not converge. You might want to increase the number of iterations, check the scale of the features or consider increasing regularisation. Duality gap: 1.419e-03, tolerance: 3.500e-04\n",
      "  model = cd_fast.enet_coordinate_descent(\n"
     ]
    },
    {
     "name": "stdout",
     "output_type": "stream",
     "text": [
      "[CV 1/5] END ......alpha=0.0002477076355991711;, score=-1.010 total time=   0.0s\n",
      "[CV 2/5] END ......alpha=0.0002477076355991711;, score=-0.386 total time=   0.0s\n",
      "[CV 3/5] END ......alpha=0.0002477076355991711;, score=-0.228 total time=   0.0s\n",
      "[CV 4/5] END ......alpha=0.0002477076355991711;, score=-0.230 total time=   0.0s\n",
      "[CV 5/5] END ......alpha=0.0002477076355991711;, score=-0.691 total time=   0.0s\n",
      "[CV 1/5] END ......alpha=0.0002848035868435802;, score=-1.014 total time=   0.0s\n"
     ]
    },
    {
     "name": "stderr",
     "output_type": "stream",
     "text": [
      "/Users/p.woznicki/git/AutoRadiomics/.venv/lib/python3.10/site-packages/sklearn/linear_model/_coordinate_descent.py:644: ConvergenceWarning: Objective did not converge. You might want to increase the number of iterations, check the scale of the features or consider increasing regularisation. Duality gap: 7.250e-04, tolerance: 3.429e-04\n",
      "  model = cd_fast.enet_coordinate_descent(\n",
      "/Users/p.woznicki/git/AutoRadiomics/.venv/lib/python3.10/site-packages/sklearn/linear_model/_coordinate_descent.py:644: ConvergenceWarning: Objective did not converge. You might want to increase the number of iterations, check the scale of the features or consider increasing regularisation. Duality gap: 2.250e-03, tolerance: 3.500e-04\n",
      "  model = cd_fast.enet_coordinate_descent(\n",
      "/Users/p.woznicki/git/AutoRadiomics/.venv/lib/python3.10/site-packages/sklearn/linear_model/_coordinate_descent.py:644: ConvergenceWarning: Objective did not converge. You might want to increase the number of iterations, check the scale of the features or consider increasing regularisation. Duality gap: 2.134e-03, tolerance: 3.600e-04\n",
      "  model = cd_fast.enet_coordinate_descent(\n",
      "/Users/p.woznicki/git/AutoRadiomics/.venv/lib/python3.10/site-packages/sklearn/linear_model/_coordinate_descent.py:644: ConvergenceWarning: Objective did not converge. You might want to increase the number of iterations, check the scale of the features or consider increasing regularisation. Duality gap: 1.545e-03, tolerance: 3.600e-04\n",
      "  model = cd_fast.enet_coordinate_descent(\n",
      "/Users/p.woznicki/git/AutoRadiomics/.venv/lib/python3.10/site-packages/sklearn/linear_model/_coordinate_descent.py:644: ConvergenceWarning: Objective did not converge. You might want to increase the number of iterations, check the scale of the features or consider increasing regularisation. Duality gap: 1.030e-03, tolerance: 3.500e-04\n",
      "  model = cd_fast.enet_coordinate_descent(\n"
     ]
    },
    {
     "name": "stdout",
     "output_type": "stream",
     "text": [
      "[CV 2/5] END ......alpha=0.0002848035868435802;, score=-0.377 total time=   0.0s\n",
      "[CV 3/5] END ......alpha=0.0002848035868435802;, score=-0.245 total time=   0.0s\n",
      "[CV 4/5] END ......alpha=0.0002848035868435802;, score=-0.265 total time=   0.0s\n",
      "[CV 5/5] END ......alpha=0.0002848035868435802;, score=-0.700 total time=   0.0s\n",
      "[CV 1/5] END .....alpha=0.00032745491628777284;, score=-0.984 total time=   0.0s\n"
     ]
    },
    {
     "name": "stderr",
     "output_type": "stream",
     "text": [
      "/Users/p.woznicki/git/AutoRadiomics/.venv/lib/python3.10/site-packages/sklearn/linear_model/_coordinate_descent.py:644: ConvergenceWarning: Objective did not converge. You might want to increase the number of iterations, check the scale of the features or consider increasing regularisation. Duality gap: 8.769e-04, tolerance: 3.429e-04\n",
      "  model = cd_fast.enet_coordinate_descent(\n",
      "/Users/p.woznicki/git/AutoRadiomics/.venv/lib/python3.10/site-packages/sklearn/linear_model/_coordinate_descent.py:644: ConvergenceWarning: Objective did not converge. You might want to increase the number of iterations, check the scale of the features or consider increasing regularisation. Duality gap: 2.346e-03, tolerance: 3.500e-04\n",
      "  model = cd_fast.enet_coordinate_descent(\n",
      "/Users/p.woznicki/git/AutoRadiomics/.venv/lib/python3.10/site-packages/sklearn/linear_model/_coordinate_descent.py:644: ConvergenceWarning: Objective did not converge. You might want to increase the number of iterations, check the scale of the features or consider increasing regularisation. Duality gap: 1.578e-03, tolerance: 3.600e-04\n",
      "  model = cd_fast.enet_coordinate_descent(\n",
      "/Users/p.woznicki/git/AutoRadiomics/.venv/lib/python3.10/site-packages/sklearn/linear_model/_coordinate_descent.py:644: ConvergenceWarning: Objective did not converge. You might want to increase the number of iterations, check the scale of the features or consider increasing regularisation. Duality gap: 1.711e-03, tolerance: 3.600e-04\n",
      "  model = cd_fast.enet_coordinate_descent(\n",
      "/Users/p.woznicki/git/AutoRadiomics/.venv/lib/python3.10/site-packages/sklearn/linear_model/_coordinate_descent.py:644: ConvergenceWarning: Objective did not converge. You might want to increase the number of iterations, check the scale of the features or consider increasing regularisation. Duality gap: 9.533e-04, tolerance: 3.500e-04\n",
      "  model = cd_fast.enet_coordinate_descent(\n",
      "/Users/p.woznicki/git/AutoRadiomics/.venv/lib/python3.10/site-packages/sklearn/linear_model/_coordinate_descent.py:644: ConvergenceWarning: Objective did not converge. You might want to increase the number of iterations, check the scale of the features or consider increasing regularisation. Duality gap: 8.486e-04, tolerance: 3.429e-04\n",
      "  model = cd_fast.enet_coordinate_descent(\n"
     ]
    },
    {
     "name": "stdout",
     "output_type": "stream",
     "text": [
      "[CV 2/5] END .....alpha=0.00032745491628777284;, score=-0.366 total time=   0.0s\n",
      "[CV 3/5] END .....alpha=0.00032745491628777284;, score=-0.280 total time=   0.1s\n",
      "[CV 4/5] END .....alpha=0.00032745491628777284;, score=-0.287 total time=   0.0s\n",
      "[CV 5/5] END .....alpha=0.00032745491628777284;, score=-0.709 total time=   0.0s\n",
      "[CV 1/5] END .....alpha=0.00037649358067924675;, score=-0.964 total time=   0.0s\n",
      "[CV 2/5] END .....alpha=0.00037649358067924675;, score=-0.355 total time=   0.0s\n"
     ]
    },
    {
     "name": "stderr",
     "output_type": "stream",
     "text": [
      "/Users/p.woznicki/git/AutoRadiomics/.venv/lib/python3.10/site-packages/sklearn/linear_model/_coordinate_descent.py:644: ConvergenceWarning: Objective did not converge. You might want to increase the number of iterations, check the scale of the features or consider increasing regularisation. Duality gap: 3.351e-03, tolerance: 3.500e-04\n",
      "  model = cd_fast.enet_coordinate_descent(\n",
      "/Users/p.woznicki/git/AutoRadiomics/.venv/lib/python3.10/site-packages/sklearn/linear_model/_coordinate_descent.py:644: ConvergenceWarning: Objective did not converge. You might want to increase the number of iterations, check the scale of the features or consider increasing regularisation. Duality gap: 1.709e-03, tolerance: 3.600e-04\n",
      "  model = cd_fast.enet_coordinate_descent(\n",
      "/Users/p.woznicki/git/AutoRadiomics/.venv/lib/python3.10/site-packages/sklearn/linear_model/_coordinate_descent.py:644: ConvergenceWarning: Objective did not converge. You might want to increase the number of iterations, check the scale of the features or consider increasing regularisation. Duality gap: 1.034e-03, tolerance: 3.600e-04\n",
      "  model = cd_fast.enet_coordinate_descent(\n",
      "/Users/p.woznicki/git/AutoRadiomics/.venv/lib/python3.10/site-packages/sklearn/linear_model/_coordinate_descent.py:644: ConvergenceWarning: Objective did not converge. You might want to increase the number of iterations, check the scale of the features or consider increasing regularisation. Duality gap: 9.590e-04, tolerance: 3.500e-04\n",
      "  model = cd_fast.enet_coordinate_descent(\n",
      "/Users/p.woznicki/git/AutoRadiomics/.venv/lib/python3.10/site-packages/sklearn/linear_model/_coordinate_descent.py:644: ConvergenceWarning: Objective did not converge. You might want to increase the number of iterations, check the scale of the features or consider increasing regularisation. Duality gap: 8.479e-04, tolerance: 3.429e-04\n",
      "  model = cd_fast.enet_coordinate_descent(\n"
     ]
    },
    {
     "name": "stdout",
     "output_type": "stream",
     "text": [
      "[CV 3/5] END .....alpha=0.00037649358067924675;, score=-0.335 total time=   0.0s\n",
      "[CV 4/5] END .....alpha=0.00037649358067924675;, score=-0.302 total time=   0.1s\n",
      "[CV 5/5] END .....alpha=0.00037649358067924675;, score=-0.717 total time=   0.0s\n",
      "[CV 1/5] END .....alpha=0.00043287612810830614;, score=-0.944 total time=   0.0s\n",
      "[CV 2/5] END .....alpha=0.00043287612810830614;, score=-0.352 total time=   0.0s\n"
     ]
    },
    {
     "name": "stderr",
     "output_type": "stream",
     "text": [
      "/Users/p.woznicki/git/AutoRadiomics/.venv/lib/python3.10/site-packages/sklearn/linear_model/_coordinate_descent.py:644: ConvergenceWarning: Objective did not converge. You might want to increase the number of iterations, check the scale of the features or consider increasing regularisation. Duality gap: 3.542e-03, tolerance: 3.500e-04\n",
      "  model = cd_fast.enet_coordinate_descent(\n",
      "/Users/p.woznicki/git/AutoRadiomics/.venv/lib/python3.10/site-packages/sklearn/linear_model/_coordinate_descent.py:644: ConvergenceWarning: Objective did not converge. You might want to increase the number of iterations, check the scale of the features or consider increasing regularisation. Duality gap: 7.733e-04, tolerance: 3.600e-04\n",
      "  model = cd_fast.enet_coordinate_descent(\n",
      "/Users/p.woznicki/git/AutoRadiomics/.venv/lib/python3.10/site-packages/sklearn/linear_model/_coordinate_descent.py:644: ConvergenceWarning: Objective did not converge. You might want to increase the number of iterations, check the scale of the features or consider increasing regularisation. Duality gap: 1.153e-03, tolerance: 3.600e-04\n",
      "  model = cd_fast.enet_coordinate_descent(\n",
      "/Users/p.woznicki/git/AutoRadiomics/.venv/lib/python3.10/site-packages/sklearn/linear_model/_coordinate_descent.py:644: ConvergenceWarning: Objective did not converge. You might want to increase the number of iterations, check the scale of the features or consider increasing regularisation. Duality gap: 9.627e-04, tolerance: 3.500e-04\n",
      "  model = cd_fast.enet_coordinate_descent(\n",
      "/Users/p.woznicki/git/AutoRadiomics/.venv/lib/python3.10/site-packages/sklearn/linear_model/_coordinate_descent.py:644: ConvergenceWarning: Objective did not converge. You might want to increase the number of iterations, check the scale of the features or consider increasing regularisation. Duality gap: 9.479e-04, tolerance: 3.429e-04\n",
      "  model = cd_fast.enet_coordinate_descent(\n",
      "/Users/p.woznicki/git/AutoRadiomics/.venv/lib/python3.10/site-packages/sklearn/linear_model/_coordinate_descent.py:644: ConvergenceWarning: Objective did not converge. You might want to increase the number of iterations, check the scale of the features or consider increasing regularisation. Duality gap: 3.518e-03, tolerance: 3.500e-04\n",
      "  model = cd_fast.enet_coordinate_descent(\n"
     ]
    },
    {
     "name": "stdout",
     "output_type": "stream",
     "text": [
      "[CV 3/5] END .....alpha=0.00043287612810830614;, score=-0.374 total time=   0.0s\n",
      "[CV 4/5] END .....alpha=0.00043287612810830614;, score=-0.308 total time=   0.0s\n",
      "[CV 5/5] END .....alpha=0.00043287612810830614;, score=-0.726 total time=   0.0s\n",
      "[CV 1/5] END ......alpha=0.0004977023564332114;, score=-0.910 total time=   0.0s\n",
      "[CV 2/5] END ......alpha=0.0004977023564332114;, score=-0.353 total time=   0.0s\n",
      "[CV 3/5] END ......alpha=0.0004977023564332114;, score=-0.428 total time=   0.0s\n",
      "[CV 4/5] END ......alpha=0.0004977023564332114;, score=-0.306 total time=   0.0s\n",
      "[CV 5/5] END ......alpha=0.0004977023564332114;, score=-0.736 total time=   0.1s\n"
     ]
    },
    {
     "name": "stderr",
     "output_type": "stream",
     "text": [
      "/Users/p.woznicki/git/AutoRadiomics/.venv/lib/python3.10/site-packages/sklearn/linear_model/_coordinate_descent.py:644: ConvergenceWarning: Objective did not converge. You might want to increase the number of iterations, check the scale of the features or consider increasing regularisation. Duality gap: 5.057e-04, tolerance: 3.600e-04\n",
      "  model = cd_fast.enet_coordinate_descent(\n",
      "/Users/p.woznicki/git/AutoRadiomics/.venv/lib/python3.10/site-packages/sklearn/linear_model/_coordinate_descent.py:644: ConvergenceWarning: Objective did not converge. You might want to increase the number of iterations, check the scale of the features or consider increasing regularisation. Duality gap: 1.348e-03, tolerance: 3.500e-04\n",
      "  model = cd_fast.enet_coordinate_descent(\n",
      "/Users/p.woznicki/git/AutoRadiomics/.venv/lib/python3.10/site-packages/sklearn/linear_model/_coordinate_descent.py:644: ConvergenceWarning: Objective did not converge. You might want to increase the number of iterations, check the scale of the features or consider increasing regularisation. Duality gap: 1.055e-03, tolerance: 3.429e-04\n",
      "  model = cd_fast.enet_coordinate_descent(\n",
      "/Users/p.woznicki/git/AutoRadiomics/.venv/lib/python3.10/site-packages/sklearn/linear_model/_coordinate_descent.py:644: ConvergenceWarning: Objective did not converge. You might want to increase the number of iterations, check the scale of the features or consider increasing regularisation. Duality gap: 1.767e-03, tolerance: 3.500e-04\n",
      "  model = cd_fast.enet_coordinate_descent(\n"
     ]
    },
    {
     "name": "stdout",
     "output_type": "stream",
     "text": [
      "[CV 1/5] END ......alpha=0.0005722367659350221;, score=-0.904 total time=   0.2s\n",
      "[CV 2/5] END ......alpha=0.0005722367659350221;, score=-0.354 total time=   0.1s\n",
      "[CV 3/5] END ......alpha=0.0005722367659350221;, score=-0.427 total time=   0.1s\n",
      "[CV 4/5] END ......alpha=0.0005722367659350221;, score=-0.304 total time=   0.0s\n",
      "[CV 5/5] END ......alpha=0.0005722367659350221;, score=-0.737 total time=   0.1s\n",
      "[CV 1/5] END ......alpha=0.0006579332246575682;, score=-0.913 total time=   0.0s\n",
      "[CV 2/5] END ......alpha=0.0006579332246575682;, score=-0.353 total time=   0.0s\n",
      "[CV 3/5] END ......alpha=0.0006579332246575682;, score=-0.407 total time=   0.0s\n",
      "[CV 4/5] END ......alpha=0.0006579332246575682;, score=-0.303 total time=   0.0s\n",
      "[CV 5/5] END ......alpha=0.0006579332246575682;, score=-0.737 total time=   0.0s\n"
     ]
    },
    {
     "name": "stderr",
     "output_type": "stream",
     "text": [
      "/Users/p.woznicki/git/AutoRadiomics/.venv/lib/python3.10/site-packages/sklearn/linear_model/_coordinate_descent.py:644: ConvergenceWarning: Objective did not converge. You might want to increase the number of iterations, check the scale of the features or consider increasing regularisation. Duality gap: 9.457e-04, tolerance: 3.500e-04\n",
      "  model = cd_fast.enet_coordinate_descent(\n",
      "/Users/p.woznicki/git/AutoRadiomics/.venv/lib/python3.10/site-packages/sklearn/linear_model/_coordinate_descent.py:644: ConvergenceWarning: Objective did not converge. You might want to increase the number of iterations, check the scale of the features or consider increasing regularisation. Duality gap: 9.591e-04, tolerance: 3.429e-04\n",
      "  model = cd_fast.enet_coordinate_descent(\n",
      "/Users/p.woznicki/git/AutoRadiomics/.venv/lib/python3.10/site-packages/sklearn/linear_model/_coordinate_descent.py:644: ConvergenceWarning: Objective did not converge. You might want to increase the number of iterations, check the scale of the features or consider increasing regularisation. Duality gap: 1.531e-03, tolerance: 3.500e-04\n",
      "  model = cd_fast.enet_coordinate_descent(\n",
      "/Users/p.woznicki/git/AutoRadiomics/.venv/lib/python3.10/site-packages/sklearn/linear_model/_coordinate_descent.py:644: ConvergenceWarning: Objective did not converge. You might want to increase the number of iterations, check the scale of the features or consider increasing regularisation. Duality gap: 3.858e-04, tolerance: 3.500e-04\n",
      "  model = cd_fast.enet_coordinate_descent(\n"
     ]
    },
    {
     "name": "stdout",
     "output_type": "stream",
     "text": [
      "[CV 1/5] END .......alpha=0.000756463327554629;, score=-0.918 total time=   0.0s\n",
      "[CV 2/5] END .......alpha=0.000756463327554629;, score=-0.349 total time=   0.0s\n",
      "[CV 3/5] END .......alpha=0.000756463327554629;, score=-0.387 total time=   0.1s\n",
      "[CV 4/5] END .......alpha=0.000756463327554629;, score=-0.301 total time=   0.0s\n",
      "[CV 5/5] END .......alpha=0.000756463327554629;, score=-0.737 total time=   0.0s\n",
      "[CV 1/5] END ......alpha=0.0008697490026177834;, score=-0.912 total time=   0.0s\n"
     ]
    },
    {
     "name": "stderr",
     "output_type": "stream",
     "text": [
      "/Users/p.woznicki/git/AutoRadiomics/.venv/lib/python3.10/site-packages/sklearn/linear_model/_coordinate_descent.py:644: ConvergenceWarning: Objective did not converge. You might want to increase the number of iterations, check the scale of the features or consider increasing regularisation. Duality gap: 1.360e-03, tolerance: 3.429e-04\n",
      "  model = cd_fast.enet_coordinate_descent(\n",
      "/Users/p.woznicki/git/AutoRadiomics/.venv/lib/python3.10/site-packages/sklearn/linear_model/_coordinate_descent.py:644: ConvergenceWarning: Objective did not converge. You might want to increase the number of iterations, check the scale of the features or consider increasing regularisation. Duality gap: 1.689e-03, tolerance: 3.500e-04\n",
      "  model = cd_fast.enet_coordinate_descent(\n",
      "/Users/p.woznicki/git/AutoRadiomics/.venv/lib/python3.10/site-packages/sklearn/linear_model/_coordinate_descent.py:644: ConvergenceWarning: Objective did not converge. You might want to increase the number of iterations, check the scale of the features or consider increasing regularisation. Duality gap: 1.447e-03, tolerance: 3.429e-04\n",
      "  model = cd_fast.enet_coordinate_descent(\n"
     ]
    },
    {
     "name": "stdout",
     "output_type": "stream",
     "text": [
      "[CV 2/5] END ......alpha=0.0008697490026177834;, score=-0.338 total time=   0.1s\n"
     ]
    },
    {
     "name": "stderr",
     "output_type": "stream",
     "text": [
      "/Users/p.woznicki/git/AutoRadiomics/.venv/lib/python3.10/site-packages/sklearn/linear_model/_coordinate_descent.py:644: ConvergenceWarning: Objective did not converge. You might want to increase the number of iterations, check the scale of the features or consider increasing regularisation. Duality gap: 1.848e-03, tolerance: 3.500e-04\n",
      "  model = cd_fast.enet_coordinate_descent(\n"
     ]
    },
    {
     "name": "stdout",
     "output_type": "stream",
     "text": [
      "[CV 3/5] END ......alpha=0.0008697490026177834;, score=-0.364 total time=   0.1s\n",
      "[CV 4/5] END ......alpha=0.0008697490026177834;, score=-0.299 total time=   0.1s\n",
      "[CV 5/5] END ......alpha=0.0008697490026177834;, score=-0.741 total time=   0.0s\n",
      "[CV 1/5] END ......................alpha=0.001;, score=-0.912 total time=   0.0s\n"
     ]
    },
    {
     "name": "stderr",
     "output_type": "stream",
     "text": [
      "/Users/p.woznicki/git/AutoRadiomics/.venv/lib/python3.10/site-packages/sklearn/linear_model/_coordinate_descent.py:644: ConvergenceWarning: Objective did not converge. You might want to increase the number of iterations, check the scale of the features or consider increasing regularisation. Duality gap: 1.643e-03, tolerance: 3.429e-04\n",
      "  model = cd_fast.enet_coordinate_descent(\n",
      "/Users/p.woznicki/git/AutoRadiomics/.venv/lib/python3.10/site-packages/sklearn/linear_model/_coordinate_descent.py:644: ConvergenceWarning: Objective did not converge. You might want to increase the number of iterations, check the scale of the features or consider increasing regularisation. Duality gap: 9.356e-04, tolerance: 3.500e-04\n",
      "  model = cd_fast.enet_coordinate_descent(\n",
      "/Users/p.woznicki/git/AutoRadiomics/.venv/lib/python3.10/site-packages/sklearn/linear_model/_coordinate_descent.py:644: ConvergenceWarning: Objective did not converge. You might want to increase the number of iterations, check the scale of the features or consider increasing regularisation. Duality gap: 5.798e-04, tolerance: 3.600e-04\n",
      "  model = cd_fast.enet_coordinate_descent(\n",
      "/Users/p.woznicki/git/AutoRadiomics/.venv/lib/python3.10/site-packages/sklearn/linear_model/_coordinate_descent.py:644: ConvergenceWarning: Objective did not converge. You might want to increase the number of iterations, check the scale of the features or consider increasing regularisation. Duality gap: 1.862e-03, tolerance: 3.429e-04\n",
      "  model = cd_fast.enet_coordinate_descent(\n"
     ]
    },
    {
     "name": "stdout",
     "output_type": "stream",
     "text": [
      "[CV 2/5] END ......................alpha=0.001;, score=-0.326 total time=   0.0s\n",
      "[CV 3/5] END ......................alpha=0.001;, score=-0.357 total time=   0.1s\n",
      "[CV 4/5] END ......................alpha=0.001;, score=-0.296 total time=   0.0s\n",
      "[CV 5/5] END ......................alpha=0.001;, score=-0.750 total time=   0.0s\n",
      "[CV 1/5] END ......alpha=0.0011497569953977356;, score=-0.908 total time=   0.0s\n",
      "[CV 2/5] END ......alpha=0.0011497569953977356;, score=-0.312 total time=   0.0s\n"
     ]
    },
    {
     "name": "stderr",
     "output_type": "stream",
     "text": [
      "/Users/p.woznicki/git/AutoRadiomics/.venv/lib/python3.10/site-packages/sklearn/linear_model/_coordinate_descent.py:644: ConvergenceWarning: Objective did not converge. You might want to increase the number of iterations, check the scale of the features or consider increasing regularisation. Duality gap: 9.932e-04, tolerance: 3.500e-04\n",
      "  model = cd_fast.enet_coordinate_descent(\n",
      "/Users/p.woznicki/git/AutoRadiomics/.venv/lib/python3.10/site-packages/sklearn/linear_model/_coordinate_descent.py:644: ConvergenceWarning: Objective did not converge. You might want to increase the number of iterations, check the scale of the features or consider increasing regularisation. Duality gap: 6.484e-04, tolerance: 3.600e-04\n",
      "  model = cd_fast.enet_coordinate_descent(\n",
      "/Users/p.woznicki/git/AutoRadiomics/.venv/lib/python3.10/site-packages/sklearn/linear_model/_coordinate_descent.py:644: ConvergenceWarning: Objective did not converge. You might want to increase the number of iterations, check the scale of the features or consider increasing regularisation. Duality gap: 2.105e-03, tolerance: 3.429e-04\n",
      "  model = cd_fast.enet_coordinate_descent(\n",
      "/Users/p.woznicki/git/AutoRadiomics/.venv/lib/python3.10/site-packages/sklearn/linear_model/_coordinate_descent.py:644: ConvergenceWarning: Objective did not converge. You might want to increase the number of iterations, check the scale of the features or consider increasing regularisation. Duality gap: 1.090e-03, tolerance: 3.500e-04\n",
      "  model = cd_fast.enet_coordinate_descent(\n"
     ]
    },
    {
     "name": "stdout",
     "output_type": "stream",
     "text": [
      "[CV 3/5] END ......alpha=0.0011497569953977356;, score=-0.357 total time=   0.0s\n",
      "[CV 4/5] END ......alpha=0.0011497569953977356;, score=-0.294 total time=   0.0s\n",
      "[CV 5/5] END ......alpha=0.0011497569953977356;, score=-0.764 total time=   0.0s\n",
      "[CV 1/5] END ......alpha=0.0013219411484660286;, score=-0.906 total time=   0.0s\n",
      "[CV 2/5] END ......alpha=0.0013219411484660286;, score=-0.296 total time=   0.0s\n",
      "[CV 3/5] END ......alpha=0.0013219411484660286;, score=-0.357 total time=   0.0s\n",
      "[CV 4/5] END ......alpha=0.0013219411484660286;, score=-0.291 total time=   0.0s\n"
     ]
    },
    {
     "name": "stderr",
     "output_type": "stream",
     "text": [
      "/Users/p.woznicki/git/AutoRadiomics/.venv/lib/python3.10/site-packages/sklearn/linear_model/_coordinate_descent.py:644: ConvergenceWarning: Objective did not converge. You might want to increase the number of iterations, check the scale of the features or consider increasing regularisation. Duality gap: 3.962e-04, tolerance: 3.600e-04\n",
      "  model = cd_fast.enet_coordinate_descent(\n",
      "/Users/p.woznicki/git/AutoRadiomics/.venv/lib/python3.10/site-packages/sklearn/linear_model/_coordinate_descent.py:644: ConvergenceWarning: Objective did not converge. You might want to increase the number of iterations, check the scale of the features or consider increasing regularisation. Duality gap: 2.373e-03, tolerance: 3.429e-04\n",
      "  model = cd_fast.enet_coordinate_descent(\n"
     ]
    },
    {
     "name": "stdout",
     "output_type": "stream",
     "text": [
      "[CV 5/5] END ......alpha=0.0013219411484660286;, score=-0.769 total time=   0.0s\n",
      "[CV 1/5] END ......alpha=0.0015199110829529332;, score=-0.904 total time=   0.0s\n",
      "[CV 2/5] END ......alpha=0.0015199110829529332;, score=-0.280 total time=   0.1s\n"
     ]
    },
    {
     "name": "stderr",
     "output_type": "stream",
     "text": [
      "/Users/p.woznicki/git/AutoRadiomics/.venv/lib/python3.10/site-packages/sklearn/linear_model/_coordinate_descent.py:644: ConvergenceWarning: Objective did not converge. You might want to increase the number of iterations, check the scale of the features or consider increasing regularisation. Duality gap: 8.021e-04, tolerance: 3.500e-04\n",
      "  model = cd_fast.enet_coordinate_descent(\n",
      "/Users/p.woznicki/git/AutoRadiomics/.venv/lib/python3.10/site-packages/sklearn/linear_model/_coordinate_descent.py:644: ConvergenceWarning: Objective did not converge. You might want to increase the number of iterations, check the scale of the features or consider increasing regularisation. Duality gap: 4.523e-04, tolerance: 3.600e-04\n",
      "  model = cd_fast.enet_coordinate_descent(\n"
     ]
    },
    {
     "name": "stdout",
     "output_type": "stream",
     "text": [
      "[CV 3/5] END ......alpha=0.0015199110829529332;, score=-0.357 total time=   0.3s\n",
      "[CV 4/5] END ......alpha=0.0015199110829529332;, score=-0.288 total time=   0.1s\n",
      "[CV 5/5] END ......alpha=0.0015199110829529332;, score=-0.768 total time=   0.1s\n",
      "[CV 1/5] END ......alpha=0.0017475284000076847;, score=-0.897 total time=   0.1s\n",
      "[CV 2/5] END ......alpha=0.0017475284000076847;, score=-0.261 total time=   0.1s\n",
      "[CV 3/5] END ......alpha=0.0017475284000076847;, score=-0.360 total time=   0.1s\n",
      "[CV 4/5] END ......alpha=0.0017475284000076847;, score=-0.284 total time=   0.0s\n"
     ]
    },
    {
     "name": "stderr",
     "output_type": "stream",
     "text": [
      "/Users/p.woznicki/git/AutoRadiomics/.venv/lib/python3.10/site-packages/sklearn/linear_model/_coordinate_descent.py:644: ConvergenceWarning: Objective did not converge. You might want to increase the number of iterations, check the scale of the features or consider increasing regularisation. Duality gap: 2.666e-03, tolerance: 3.429e-04\n",
      "  model = cd_fast.enet_coordinate_descent(\n",
      "/Users/p.woznicki/git/AutoRadiomics/.venv/lib/python3.10/site-packages/sklearn/linear_model/_coordinate_descent.py:644: ConvergenceWarning: Objective did not converge. You might want to increase the number of iterations, check the scale of the features or consider increasing regularisation. Duality gap: 6.055e-04, tolerance: 3.500e-04\n",
      "  model = cd_fast.enet_coordinate_descent(\n",
      "/Users/p.woznicki/git/AutoRadiomics/.venv/lib/python3.10/site-packages/sklearn/linear_model/_coordinate_descent.py:644: ConvergenceWarning: Objective did not converge. You might want to increase the number of iterations, check the scale of the features or consider increasing regularisation. Duality gap: 5.059e-04, tolerance: 3.600e-04\n",
      "  model = cd_fast.enet_coordinate_descent(\n"
     ]
    },
    {
     "name": "stdout",
     "output_type": "stream",
     "text": [
      "[CV 5/5] END ......alpha=0.0017475284000076847;, score=-0.766 total time=   0.1s\n",
      "[CV 1/5] END .......alpha=0.002009233002565048;, score=-0.882 total time=   0.1s\n",
      "[CV 2/5] END .......alpha=0.002009233002565048;, score=-0.241 total time=   0.1s\n",
      "[CV 3/5] END .......alpha=0.002009233002565048;, score=-0.358 total time=   0.0s\n",
      "[CV 4/5] END .......alpha=0.002009233002565048;, score=-0.279 total time=   0.0s\n"
     ]
    },
    {
     "name": "stderr",
     "output_type": "stream",
     "text": [
      "/Users/p.woznicki/git/AutoRadiomics/.venv/lib/python3.10/site-packages/sklearn/linear_model/_coordinate_descent.py:644: ConvergenceWarning: Objective did not converge. You might want to increase the number of iterations, check the scale of the features or consider increasing regularisation. Duality gap: 2.983e-03, tolerance: 3.429e-04\n",
      "  model = cd_fast.enet_coordinate_descent(\n"
     ]
    },
    {
     "name": "stdout",
     "output_type": "stream",
     "text": [
      "[CV 5/5] END .......alpha=0.002009233002565048;, score=-0.752 total time=   0.2s\n",
      "[CV 1/5] END ......alpha=0.0023101297000831605;, score=-0.873 total time=   0.0s\n",
      "[CV 2/5] END ......alpha=0.0023101297000831605;, score=-0.238 total time=   0.0s\n",
      "[CV 3/5] END ......alpha=0.0023101297000831605;, score=-0.356 total time=   0.1s\n",
      "[CV 4/5] END ......alpha=0.0023101297000831605;, score=-0.274 total time=   0.0s\n",
      "[CV 5/5] END ......alpha=0.0023101297000831605;, score=-0.734 total time=   0.2s\n",
      "[CV 1/5] END ......alpha=0.0026560877829466868;, score=-0.863 total time=   0.0s\n",
      "[CV 2/5] END ......alpha=0.0026560877829466868;, score=-0.241 total time=   0.1s\n",
      "[CV 3/5] END ......alpha=0.0026560877829466868;, score=-0.353 total time=   0.1s\n",
      "[CV 4/5] END ......alpha=0.0026560877829466868;, score=-0.268 total time=   0.0s\n",
      "[CV 5/5] END ......alpha=0.0026560877829466868;, score=-0.717 total time=   0.1s\n",
      "[CV 1/5] END ......alpha=0.0030538555088334154;, score=-0.851 total time=   0.0s\n",
      "[CV 2/5] END ......alpha=0.0030538555088334154;, score=-0.244 total time=   0.0s\n",
      "[CV 3/5] END ......alpha=0.0030538555088334154;, score=-0.347 total time=   0.1s\n",
      "[CV 4/5] END ......alpha=0.0030538555088334154;, score=-0.262 total time=   0.0s\n",
      "[CV 5/5] END ......alpha=0.0030538555088334154;, score=-0.698 total time=   0.0s\n",
      "[CV 1/5] END .......alpha=0.003511191734215131;, score=-0.837 total time=   0.0s\n",
      "[CV 2/5] END .......alpha=0.003511191734215131;, score=-0.248 total time=   0.0s\n",
      "[CV 3/5] END .......alpha=0.003511191734215131;, score=-0.336 total time=   0.0s\n",
      "[CV 4/5] END .......alpha=0.003511191734215131;, score=-0.256 total time=   0.0s\n",
      "[CV 5/5] END .......alpha=0.003511191734215131;, score=-0.678 total time=   0.0s\n",
      "[CV 1/5] END .......alpha=0.004037017258596553;, score=-0.827 total time=   0.0s\n",
      "[CV 2/5] END .......alpha=0.004037017258596553;, score=-0.253 total time=   0.0s\n",
      "[CV 3/5] END .......alpha=0.004037017258596553;, score=-0.323 total time=   0.0s\n",
      "[CV 4/5] END .......alpha=0.004037017258596553;, score=-0.250 total time=   0.0s\n",
      "[CV 5/5] END .......alpha=0.004037017258596553;, score=-0.675 total time=   0.0s\n",
      "[CV 1/5] END .......alpha=0.004641588833612782;, score=-0.818 total time=   0.0s\n",
      "[CV 2/5] END .......alpha=0.004641588833612782;, score=-0.259 total time=   0.0s\n",
      "[CV 3/5] END .......alpha=0.004641588833612782;, score=-0.309 total time=   0.0s\n",
      "[CV 4/5] END .......alpha=0.004641588833612782;, score=-0.242 total time=   0.0s\n",
      "[CV 5/5] END .......alpha=0.004641588833612782;, score=-0.699 total time=   0.0s\n",
      "[CV 1/5] END .......alpha=0.005336699231206312;, score=-0.820 total time=   0.0s\n",
      "[CV 2/5] END .......alpha=0.005336699231206312;, score=-0.266 total time=   0.0s\n",
      "[CV 3/5] END .......alpha=0.005336699231206312;, score=-0.296 total time=   0.0s\n",
      "[CV 4/5] END .......alpha=0.005336699231206312;, score=-0.234 total time=   0.0s\n",
      "[CV 5/5] END .......alpha=0.005336699231206312;, score=-0.706 total time=   0.0s\n",
      "[CV 1/5] END .......alpha=0.006135907273413176;, score=-0.824 total time=   0.0s\n",
      "[CV 2/5] END .......alpha=0.006135907273413176;, score=-0.274 total time=   0.1s\n",
      "[CV 3/5] END .......alpha=0.006135907273413176;, score=-0.270 total time=   0.1s\n",
      "[CV 4/5] END .......alpha=0.006135907273413176;, score=-0.225 total time=   0.1s\n",
      "[CV 5/5] END .......alpha=0.006135907273413176;, score=-0.699 total time=   0.0s\n",
      "[CV 1/5] END .......alpha=0.007054802310718645;, score=-0.829 total time=   0.0s\n",
      "[CV 2/5] END .......alpha=0.007054802310718645;, score=-0.283 total time=   0.0s\n",
      "[CV 3/5] END .......alpha=0.007054802310718645;, score=-0.239 total time=   0.1s\n",
      "[CV 4/5] END .......alpha=0.007054802310718645;, score=-0.219 total time=   0.0s\n",
      "[CV 5/5] END .......alpha=0.007054802310718645;, score=-0.691 total time=   0.0s\n",
      "[CV 1/5] END .......alpha=0.008111308307896872;, score=-0.833 total time=   0.1s\n",
      "[CV 2/5] END .......alpha=0.008111308307896872;, score=-0.294 total time=   0.0s\n",
      "[CV 3/5] END .......alpha=0.008111308307896872;, score=-0.217 total time=   0.1s\n",
      "[CV 4/5] END .......alpha=0.008111308307896872;, score=-0.212 total time=   0.0s\n",
      "[CV 5/5] END .......alpha=0.008111308307896872;, score=-0.682 total time=   0.0s\n",
      "[CV 1/5] END .........alpha=0.0093260334688322;, score=-0.834 total time=   0.0s\n",
      "[CV 2/5] END .........alpha=0.0093260334688322;, score=-0.307 total time=   0.0s\n",
      "[CV 3/5] END .........alpha=0.0093260334688322;, score=-0.201 total time=   0.0s\n",
      "[CV 4/5] END .........alpha=0.0093260334688322;, score=-0.203 total time=   0.0s\n",
      "[CV 5/5] END .........alpha=0.0093260334688322;, score=-0.672 total time=   0.0s\n",
      "[CV 1/5] END .......alpha=0.010722672220103232;, score=-0.825 total time=   0.0s\n",
      "[CV 2/5] END .......alpha=0.010722672220103232;, score=-0.318 total time=   0.0s\n",
      "[CV 3/5] END .......alpha=0.010722672220103232;, score=-0.184 total time=   0.0s\n",
      "[CV 4/5] END .......alpha=0.010722672220103232;, score=-0.188 total time=   0.0s\n",
      "[CV 5/5] END .......alpha=0.010722672220103232;, score=-0.641 total time=   0.0s\n",
      "[CV 1/5] END .......alpha=0.012328467394420659;, score=-0.810 total time=   0.0s\n",
      "[CV 2/5] END .......alpha=0.012328467394420659;, score=-0.321 total time=   0.0s\n",
      "[CV 3/5] END .......alpha=0.012328467394420659;, score=-0.167 total time=   0.0s\n",
      "[CV 4/5] END .......alpha=0.012328467394420659;, score=-0.173 total time=   0.0s\n",
      "[CV 5/5] END .......alpha=0.012328467394420659;, score=-0.614 total time=   0.0s\n",
      "[CV 1/5] END .......alpha=0.014174741629268049;, score=-0.788 total time=   0.0s\n",
      "[CV 2/5] END .......alpha=0.014174741629268049;, score=-0.305 total time=   0.0s\n",
      "[CV 3/5] END .......alpha=0.014174741629268049;, score=-0.151 total time=   0.0s\n",
      "[CV 4/5] END .......alpha=0.014174741629268049;, score=-0.156 total time=   0.0s\n",
      "[CV 5/5] END .......alpha=0.014174741629268049;, score=-0.594 total time=   0.0s\n",
      "[CV 1/5] END ........alpha=0.01629750834620645;, score=-0.751 total time=   0.0s\n",
      "[CV 2/5] END ........alpha=0.01629750834620645;, score=-0.300 total time=   0.0s\n",
      "[CV 3/5] END ........alpha=0.01629750834620645;, score=-0.158 total time=   0.0s\n",
      "[CV 4/5] END ........alpha=0.01629750834620645;, score=-0.137 total time=   0.0s\n",
      "[CV 5/5] END ........alpha=0.01629750834620645;, score=-0.571 total time=   0.0s\n",
      "[CV 1/5] END .......alpha=0.018738174228603847;, score=-0.717 total time=   0.0s\n",
      "[CV 2/5] END .......alpha=0.018738174228603847;, score=-0.303 total time=   0.0s\n",
      "[CV 3/5] END .......alpha=0.018738174228603847;, score=-0.169 total time=   0.0s\n",
      "[CV 4/5] END .......alpha=0.018738174228603847;, score=-0.119 total time=   0.0s\n",
      "[CV 5/5] END .......alpha=0.018738174228603847;, score=-0.539 total time=   0.0s\n",
      "[CV 1/5] END .......alpha=0.021544346900318846;, score=-0.679 total time=   0.0s\n",
      "[CV 2/5] END .......alpha=0.021544346900318846;, score=-0.305 total time=   0.0s\n",
      "[CV 3/5] END .......alpha=0.021544346900318846;, score=-0.181 total time=   0.0s\n",
      "[CV 4/5] END .......alpha=0.021544346900318846;, score=-0.106 total time=   0.0s\n",
      "[CV 5/5] END .......alpha=0.021544346900318846;, score=-0.502 total time=   0.0s\n",
      "[CV 1/5] END .......alpha=0.024770763559917114;, score=-0.633 total time=   0.0s\n",
      "[CV 2/5] END .......alpha=0.024770763559917114;, score=-0.330 total time=   0.0s\n",
      "[CV 3/5] END .......alpha=0.024770763559917114;, score=-0.183 total time=   0.0s\n",
      "[CV 4/5] END .......alpha=0.024770763559917114;, score=-0.096 total time=   0.0s\n",
      "[CV 5/5] END .......alpha=0.024770763559917114;, score=-0.462 total time=   0.0s\n",
      "[CV 1/5] END ........alpha=0.02848035868435802;, score=-0.584 total time=   0.0s\n",
      "[CV 2/5] END ........alpha=0.02848035868435802;, score=-0.357 total time=   0.0s\n",
      "[CV 3/5] END ........alpha=0.02848035868435802;, score=-0.180 total time=   0.0s\n",
      "[CV 4/5] END ........alpha=0.02848035868435802;, score=-0.091 total time=   0.0s\n",
      "[CV 5/5] END ........alpha=0.02848035868435802;, score=-0.419 total time=   0.0s\n",
      "[CV 1/5] END ........alpha=0.03274549162877728;, score=-0.545 total time=   0.0s\n",
      "[CV 2/5] END ........alpha=0.03274549162877728;, score=-0.362 total time=   0.0s\n",
      "[CV 3/5] END ........alpha=0.03274549162877728;, score=-0.175 total time=   0.0s\n",
      "[CV 4/5] END ........alpha=0.03274549162877728;, score=-0.115 total time=   0.0s\n",
      "[CV 5/5] END ........alpha=0.03274549162877728;, score=-0.380 total time=   0.0s\n",
      "[CV 1/5] END .......alpha=0.037649358067924674;, score=-0.497 total time=   0.0s\n",
      "[CV 2/5] END .......alpha=0.037649358067924674;, score=-0.354 total time=   0.0s\n",
      "[CV 3/5] END .......alpha=0.037649358067924674;, score=-0.171 total time=   0.0s\n",
      "[CV 4/5] END .......alpha=0.037649358067924674;, score=-0.160 total time=   0.0s\n",
      "[CV 5/5] END .......alpha=0.037649358067924674;, score=-0.359 total time=   0.0s\n",
      "[CV 1/5] END .......alpha=0.043287612810830614;, score=-0.469 total time=   0.0s\n",
      "[CV 2/5] END .......alpha=0.043287612810830614;, score=-0.335 total time=   0.0s\n",
      "[CV 3/5] END .......alpha=0.043287612810830614;, score=-0.170 total time=   0.0s\n",
      "[CV 4/5] END .......alpha=0.043287612810830614;, score=-0.225 total time=   0.0s\n",
      "[CV 5/5] END .......alpha=0.043287612810830614;, score=-0.352 total time=   0.0s\n",
      "[CV 1/5] END ........alpha=0.04977023564332114;, score=-0.437 total time=   0.0s\n",
      "[CV 2/5] END ........alpha=0.04977023564332114;, score=-0.314 total time=   0.0s\n",
      "[CV 3/5] END ........alpha=0.04977023564332114;, score=-0.170 total time=   0.0s\n",
      "[CV 4/5] END ........alpha=0.04977023564332114;, score=-0.259 total time=   0.0s\n",
      "[CV 5/5] END ........alpha=0.04977023564332114;, score=-0.367 total time=   0.0s\n",
      "[CV 1/5] END .........alpha=0.0572236765935022;, score=-0.403 total time=   0.0s\n",
      "[CV 2/5] END .........alpha=0.0572236765935022;, score=-0.295 total time=   0.0s\n",
      "[CV 3/5] END .........alpha=0.0572236765935022;, score=-0.180 total time=   0.0s\n",
      "[CV 4/5] END .........alpha=0.0572236765935022;, score=-0.284 total time=   0.0s\n",
      "[CV 5/5] END .........alpha=0.0572236765935022;, score=-0.368 total time=   0.0s\n",
      "[CV 1/5] END ........alpha=0.06579332246575682;, score=-0.366 total time=   0.0s\n",
      "[CV 2/5] END ........alpha=0.06579332246575682;, score=-0.271 total time=   0.0s\n",
      "[CV 3/5] END ........alpha=0.06579332246575682;, score=-0.197 total time=   0.0s\n",
      "[CV 4/5] END ........alpha=0.06579332246575682;, score=-0.294 total time=   0.0s\n",
      "[CV 5/5] END ........alpha=0.06579332246575682;, score=-0.360 total time=   0.0s\n",
      "[CV 1/5] END ........alpha=0.07564633275546291;, score=-0.328 total time=   0.0s\n",
      "[CV 2/5] END ........alpha=0.07564633275546291;, score=-0.244 total time=   0.0s\n",
      "[CV 3/5] END ........alpha=0.07564633275546291;, score=-0.216 total time=   0.0s\n",
      "[CV 4/5] END ........alpha=0.07564633275546291;, score=-0.298 total time=   0.0s\n",
      "[CV 5/5] END ........alpha=0.07564633275546291;, score=-0.339 total time=   0.0s\n",
      "[CV 1/5] END ........alpha=0.08697490026177834;, score=-0.290 total time=   0.0s\n",
      "[CV 2/5] END ........alpha=0.08697490026177834;, score=-0.239 total time=   0.0s\n",
      "[CV 3/5] END ........alpha=0.08697490026177834;, score=-0.228 total time=   0.0s\n",
      "[CV 4/5] END ........alpha=0.08697490026177834;, score=-0.293 total time=   0.0s\n",
      "[CV 5/5] END ........alpha=0.08697490026177834;, score=-0.320 total time=   0.0s\n",
      "[CV 1/5] END ........................alpha=0.1;, score=-0.253 total time=   0.0s\n",
      "[CV 2/5] END ........................alpha=0.1;, score=-0.243 total time=   0.0s\n",
      "[CV 3/5] END ........................alpha=0.1;, score=-0.243 total time=   0.0s\n",
      "[CV 4/5] END ........................alpha=0.1;, score=-0.293 total time=   0.0s\n",
      "[CV 5/5] END ........................alpha=0.1;, score=-0.304 total time=   0.0s\n",
      "[CV 1/5] END ........alpha=0.11497569953977356;, score=-0.244 total time=   0.0s\n",
      "[CV 2/5] END ........alpha=0.11497569953977356;, score=-0.255 total time=   0.0s\n",
      "[CV 3/5] END ........alpha=0.11497569953977356;, score=-0.250 total time=   0.0s\n",
      "[CV 4/5] END ........alpha=0.11497569953977356;, score=-0.293 total time=   0.0s\n",
      "[CV 5/5] END ........alpha=0.11497569953977356;, score=-0.295 total time=   0.0s\n",
      "[CV 1/5] END ........alpha=0.13219411484660287;, score=-0.250 total time=   0.0s\n",
      "[CV 2/5] END ........alpha=0.13219411484660287;, score=-0.255 total time=   0.0s\n",
      "[CV 3/5] END ........alpha=0.13219411484660287;, score=-0.250 total time=   0.0s\n",
      "[CV 4/5] END ........alpha=0.13219411484660287;, score=-0.293 total time=   0.0s\n",
      "[CV 5/5] END ........alpha=0.13219411484660287;, score=-0.293 total time=   0.0s\n",
      "[CV 1/5] END .........alpha=0.1519911082952933;, score=-0.250 total time=   0.0s\n",
      "[CV 2/5] END .........alpha=0.1519911082952933;, score=-0.255 total time=   0.0s\n",
      "[CV 3/5] END .........alpha=0.1519911082952933;, score=-0.250 total time=   0.0s\n",
      "[CV 4/5] END .........alpha=0.1519911082952933;, score=-0.293 total time=   0.0s\n",
      "[CV 5/5] END .........alpha=0.1519911082952933;, score=-0.293 total time=   0.0s\n",
      "[CV 1/5] END .........alpha=0.1747528400007683;, score=-0.250 total time=   0.0s\n",
      "[CV 2/5] END .........alpha=0.1747528400007683;, score=-0.255 total time=   0.0s\n",
      "[CV 3/5] END .........alpha=0.1747528400007683;, score=-0.250 total time=   0.0s\n",
      "[CV 4/5] END .........alpha=0.1747528400007683;, score=-0.293 total time=   0.0s\n",
      "[CV 5/5] END .........alpha=0.1747528400007683;, score=-0.293 total time=   0.0s\n",
      "[CV 1/5] END .........alpha=0.2009233002565046;, score=-0.250 total time=   0.0s\n",
      "[CV 2/5] END .........alpha=0.2009233002565046;, score=-0.255 total time=   0.0s\n",
      "[CV 3/5] END .........alpha=0.2009233002565046;, score=-0.250 total time=   0.0s\n",
      "[CV 4/5] END .........alpha=0.2009233002565046;, score=-0.293 total time=   0.0s\n",
      "[CV 5/5] END .........alpha=0.2009233002565046;, score=-0.293 total time=   0.0s\n",
      "[CV 1/5] END .........alpha=0.2310129700083158;, score=-0.250 total time=   0.0s\n",
      "[CV 2/5] END .........alpha=0.2310129700083158;, score=-0.255 total time=   0.0s\n",
      "[CV 3/5] END .........alpha=0.2310129700083158;, score=-0.250 total time=   0.0s\n",
      "[CV 4/5] END .........alpha=0.2310129700083158;, score=-0.293 total time=   0.0s\n",
      "[CV 5/5] END .........alpha=0.2310129700083158;, score=-0.293 total time=   0.0s\n",
      "[CV 1/5] END ........alpha=0.26560877829466895;, score=-0.250 total time=   0.0s\n",
      "[CV 2/5] END ........alpha=0.26560877829466895;, score=-0.255 total time=   0.0s\n",
      "[CV 3/5] END ........alpha=0.26560877829466895;, score=-0.250 total time=   0.0s\n",
      "[CV 4/5] END ........alpha=0.26560877829466895;, score=-0.293 total time=   0.0s\n",
      "[CV 5/5] END ........alpha=0.26560877829466895;, score=-0.293 total time=   0.0s\n",
      "[CV 1/5] END ........alpha=0.30538555088334185;, score=-0.250 total time=   0.0s\n",
      "[CV 2/5] END ........alpha=0.30538555088334185;, score=-0.255 total time=   0.0s\n",
      "[CV 3/5] END ........alpha=0.30538555088334185;, score=-0.250 total time=   0.0s\n",
      "[CV 4/5] END ........alpha=0.30538555088334185;, score=-0.293 total time=   0.0s\n",
      "[CV 5/5] END ........alpha=0.30538555088334185;, score=-0.293 total time=   0.0s\n",
      "[CV 1/5] END ........alpha=0.35111917342151344;, score=-0.250 total time=   0.0s\n",
      "[CV 2/5] END ........alpha=0.35111917342151344;, score=-0.255 total time=   0.0s\n",
      "[CV 3/5] END ........alpha=0.35111917342151344;, score=-0.250 total time=   0.0s\n",
      "[CV 4/5] END ........alpha=0.35111917342151344;, score=-0.293 total time=   0.0s\n",
      "[CV 5/5] END ........alpha=0.35111917342151344;, score=-0.293 total time=   0.0s\n",
      "[CV 1/5] END .........alpha=0.4037017258596558;, score=-0.250 total time=   0.0s\n",
      "[CV 2/5] END .........alpha=0.4037017258596558;, score=-0.255 total time=   0.0s\n",
      "[CV 3/5] END .........alpha=0.4037017258596558;, score=-0.250 total time=   0.0s\n",
      "[CV 4/5] END .........alpha=0.4037017258596558;, score=-0.293 total time=   0.0s\n",
      "[CV 5/5] END .........alpha=0.4037017258596558;, score=-0.293 total time=   0.0s\n",
      "[CV 1/5] END .........alpha=0.4641588833612782;, score=-0.250 total time=   0.0s\n",
      "[CV 2/5] END .........alpha=0.4641588833612782;, score=-0.255 total time=   0.0s\n",
      "[CV 3/5] END .........alpha=0.4641588833612782;, score=-0.250 total time=   0.0s\n",
      "[CV 4/5] END .........alpha=0.4641588833612782;, score=-0.293 total time=   0.0s\n",
      "[CV 5/5] END .........alpha=0.4641588833612782;, score=-0.293 total time=   0.0s\n",
      "[CV 1/5] END .........alpha=0.5336699231206312;, score=-0.250 total time=   0.0s\n",
      "[CV 2/5] END .........alpha=0.5336699231206312;, score=-0.255 total time=   0.0s\n",
      "[CV 3/5] END .........alpha=0.5336699231206312;, score=-0.250 total time=   0.0s\n",
      "[CV 4/5] END .........alpha=0.5336699231206312;, score=-0.293 total time=   0.0s\n",
      "[CV 5/5] END .........alpha=0.5336699231206312;, score=-0.293 total time=   0.0s\n",
      "[CV 1/5] END .........alpha=0.6135907273413176;, score=-0.250 total time=   0.0s\n",
      "[CV 2/5] END .........alpha=0.6135907273413176;, score=-0.255 total time=   0.0s\n",
      "[CV 3/5] END .........alpha=0.6135907273413176;, score=-0.250 total time=   0.0s\n",
      "[CV 4/5] END .........alpha=0.6135907273413176;, score=-0.293 total time=   0.0s\n",
      "[CV 5/5] END .........alpha=0.6135907273413176;, score=-0.293 total time=   0.0s\n",
      "[CV 1/5] END .........alpha=0.7054802310718645;, score=-0.250 total time=   0.0s\n",
      "[CV 2/5] END .........alpha=0.7054802310718645;, score=-0.255 total time=   0.0s\n",
      "[CV 3/5] END .........alpha=0.7054802310718645;, score=-0.250 total time=   0.0s\n",
      "[CV 4/5] END .........alpha=0.7054802310718645;, score=-0.293 total time=   0.0s\n",
      "[CV 5/5] END .........alpha=0.7054802310718645;, score=-0.293 total time=   0.0s\n",
      "[CV 1/5] END .........alpha=0.8111308307896873;, score=-0.250 total time=   0.0s\n",
      "[CV 2/5] END .........alpha=0.8111308307896873;, score=-0.255 total time=   0.0s\n",
      "[CV 3/5] END .........alpha=0.8111308307896873;, score=-0.250 total time=   0.0s\n",
      "[CV 4/5] END .........alpha=0.8111308307896873;, score=-0.293 total time=   0.0s\n",
      "[CV 5/5] END .........alpha=0.8111308307896873;, score=-0.293 total time=   0.0s\n",
      "[CV 1/5] END .........alpha=0.9326033468832199;, score=-0.250 total time=   0.0s\n",
      "[CV 2/5] END .........alpha=0.9326033468832199;, score=-0.255 total time=   0.0s\n",
      "[CV 3/5] END .........alpha=0.9326033468832199;, score=-0.250 total time=   0.0s\n",
      "[CV 4/5] END .........alpha=0.9326033468832199;, score=-0.293 total time=   0.0s\n",
      "[CV 5/5] END .........alpha=0.9326033468832199;, score=-0.293 total time=   0.0s\n",
      "[CV 1/5] END ..........alpha=1.072267222010323;, score=-0.250 total time=   0.0s\n",
      "[CV 2/5] END ..........alpha=1.072267222010323;, score=-0.255 total time=   0.0s\n",
      "[CV 3/5] END ..........alpha=1.072267222010323;, score=-0.250 total time=   0.0s\n",
      "[CV 4/5] END ..........alpha=1.072267222010323;, score=-0.293 total time=   0.0s\n",
      "[CV 5/5] END ..........alpha=1.072267222010323;, score=-0.293 total time=   0.0s\n",
      "[CV 1/5] END ..........alpha=1.232846739442066;, score=-0.250 total time=   0.0s\n",
      "[CV 2/5] END ..........alpha=1.232846739442066;, score=-0.255 total time=   0.0s\n",
      "[CV 3/5] END ..........alpha=1.232846739442066;, score=-0.250 total time=   0.0s\n",
      "[CV 4/5] END ..........alpha=1.232846739442066;, score=-0.293 total time=   0.0s\n",
      "[CV 5/5] END ..........alpha=1.232846739442066;, score=-0.293 total time=   0.0s\n",
      "[CV 1/5] END .........alpha=1.4174741629268048;, score=-0.250 total time=   0.0s\n",
      "[CV 2/5] END .........alpha=1.4174741629268048;, score=-0.255 total time=   0.0s\n",
      "[CV 3/5] END .........alpha=1.4174741629268048;, score=-0.250 total time=   0.0s\n",
      "[CV 4/5] END .........alpha=1.4174741629268048;, score=-0.293 total time=   0.0s\n",
      "[CV 5/5] END .........alpha=1.4174741629268048;, score=-0.293 total time=   0.0s\n",
      "[CV 1/5] END .........alpha=1.6297508346206435;, score=-0.250 total time=   0.0s\n",
      "[CV 2/5] END .........alpha=1.6297508346206435;, score=-0.255 total time=   0.0s\n",
      "[CV 3/5] END .........alpha=1.6297508346206435;, score=-0.250 total time=   0.0s\n",
      "[CV 4/5] END .........alpha=1.6297508346206435;, score=-0.293 total time=   0.0s\n",
      "[CV 5/5] END .........alpha=1.6297508346206435;, score=-0.293 total time=   0.0s\n",
      "[CV 1/5] END ..........alpha=1.873817422860383;, score=-0.250 total time=   0.0s\n",
      "[CV 2/5] END ..........alpha=1.873817422860383;, score=-0.255 total time=   0.0s\n",
      "[CV 3/5] END ..........alpha=1.873817422860383;, score=-0.250 total time=   0.0s\n",
      "[CV 4/5] END ..........alpha=1.873817422860383;, score=-0.293 total time=   0.0s\n",
      "[CV 5/5] END ..........alpha=1.873817422860383;, score=-0.293 total time=   0.0s\n",
      "[CV 1/5] END .........alpha=2.1544346900318865;, score=-0.250 total time=   0.0s\n",
      "[CV 2/5] END .........alpha=2.1544346900318865;, score=-0.255 total time=   0.0s\n",
      "[CV 3/5] END .........alpha=2.1544346900318865;, score=-0.250 total time=   0.0s\n",
      "[CV 4/5] END .........alpha=2.1544346900318865;, score=-0.293 total time=   0.0s\n",
      "[CV 5/5] END .........alpha=2.1544346900318865;, score=-0.293 total time=   0.0s\n",
      "[CV 1/5] END .........alpha=2.4770763559917137;, score=-0.250 total time=   0.0s\n",
      "[CV 2/5] END .........alpha=2.4770763559917137;, score=-0.255 total time=   0.0s\n",
      "[CV 3/5] END .........alpha=2.4770763559917137;, score=-0.250 total time=   0.0s\n",
      "[CV 4/5] END .........alpha=2.4770763559917137;, score=-0.293 total time=   0.0s\n",
      "[CV 5/5] END .........alpha=2.4770763559917137;, score=-0.293 total time=   0.0s\n",
      "[CV 1/5] END ..........alpha=2.848035868435805;, score=-0.250 total time=   0.0s\n",
      "[CV 2/5] END ..........alpha=2.848035868435805;, score=-0.255 total time=   0.0s\n",
      "[CV 3/5] END ..........alpha=2.848035868435805;, score=-0.250 total time=   0.0s\n",
      "[CV 4/5] END ..........alpha=2.848035868435805;, score=-0.293 total time=   0.0s\n",
      "[CV 5/5] END ..........alpha=2.848035868435805;, score=-0.293 total time=   0.0s\n",
      "[CV 1/5] END .........alpha=3.2745491628777317;, score=-0.250 total time=   0.0s\n",
      "[CV 2/5] END .........alpha=3.2745491628777317;, score=-0.255 total time=   0.0s\n",
      "[CV 3/5] END .........alpha=3.2745491628777317;, score=-0.250 total time=   0.0s\n",
      "[CV 4/5] END .........alpha=3.2745491628777317;, score=-0.293 total time=   0.0s\n",
      "[CV 5/5] END .........alpha=3.2745491628777317;, score=-0.293 total time=   0.0s\n",
      "[CV 1/5] END .........alpha=3.7649358067924714;, score=-0.250 total time=   0.0s\n",
      "[CV 2/5] END .........alpha=3.7649358067924714;, score=-0.255 total time=   0.0s\n",
      "[CV 3/5] END .........alpha=3.7649358067924714;, score=-0.250 total time=   0.0s\n",
      "[CV 4/5] END .........alpha=3.7649358067924714;, score=-0.293 total time=   0.0s\n",
      "[CV 5/5] END .........alpha=3.7649358067924714;, score=-0.293 total time=   0.0s\n",
      "[CV 1/5] END ..........alpha=4.328761281083062;, score=-0.250 total time=   0.0s\n",
      "[CV 2/5] END ..........alpha=4.328761281083062;, score=-0.255 total time=   0.0s\n",
      "[CV 3/5] END ..........alpha=4.328761281083062;, score=-0.250 total time=   0.0s\n",
      "[CV 4/5] END ..........alpha=4.328761281083062;, score=-0.293 total time=   0.0s\n",
      "[CV 5/5] END ..........alpha=4.328761281083062;, score=-0.293 total time=   0.0s\n",
      "[CV 1/5] END .........alpha=4.9770235643321135;, score=-0.250 total time=   0.0s\n",
      "[CV 2/5] END .........alpha=4.9770235643321135;, score=-0.255 total time=   0.0s\n",
      "[CV 3/5] END .........alpha=4.9770235643321135;, score=-0.250 total time=   0.0s\n",
      "[CV 4/5] END .........alpha=4.9770235643321135;, score=-0.293 total time=   0.0s\n",
      "[CV 5/5] END .........alpha=4.9770235643321135;, score=-0.293 total time=   0.0s\n",
      "[CV 1/5] END ...........alpha=5.72236765935022;, score=-0.250 total time=   0.0s\n",
      "[CV 2/5] END ...........alpha=5.72236765935022;, score=-0.255 total time=   0.0s\n",
      "[CV 3/5] END ...........alpha=5.72236765935022;, score=-0.250 total time=   0.0s\n",
      "[CV 4/5] END ...........alpha=5.72236765935022;, score=-0.293 total time=   0.0s\n",
      "[CV 5/5] END ...........alpha=5.72236765935022;, score=-0.293 total time=   0.0s\n",
      "[CV 1/5] END .........alpha=6.5793322465756825;, score=-0.250 total time=   0.0s\n",
      "[CV 2/5] END .........alpha=6.5793322465756825;, score=-0.255 total time=   0.0s\n",
      "[CV 3/5] END .........alpha=6.5793322465756825;, score=-0.250 total time=   0.0s\n",
      "[CV 4/5] END .........alpha=6.5793322465756825;, score=-0.293 total time=   0.0s\n",
      "[CV 5/5] END .........alpha=6.5793322465756825;, score=-0.293 total time=   0.0s\n",
      "[CV 1/5] END ...........alpha=7.56463327554629;, score=-0.250 total time=   0.0s\n",
      "[CV 2/5] END ...........alpha=7.56463327554629;, score=-0.255 total time=   0.0s\n",
      "[CV 3/5] END ...........alpha=7.56463327554629;, score=-0.250 total time=   0.0s\n",
      "[CV 4/5] END ...........alpha=7.56463327554629;, score=-0.293 total time=   0.0s\n",
      "[CV 5/5] END ...........alpha=7.56463327554629;, score=-0.293 total time=   0.0s\n",
      "[CV 1/5] END ..........alpha=8.697490026177835;, score=-0.250 total time=   0.0s\n",
      "[CV 2/5] END ..........alpha=8.697490026177835;, score=-0.255 total time=   0.0s\n",
      "[CV 3/5] END ..........alpha=8.697490026177835;, score=-0.250 total time=   0.0s\n",
      "[CV 4/5] END ..........alpha=8.697490026177835;, score=-0.293 total time=   0.0s\n",
      "[CV 5/5] END ..........alpha=8.697490026177835;, score=-0.293 total time=   0.0s\n",
      "[CV 1/5] END .......................alpha=10.0;, score=-0.250 total time=   0.0s\n",
      "[CV 2/5] END .......................alpha=10.0;, score=-0.255 total time=   0.0s\n",
      "[CV 3/5] END .......................alpha=10.0;, score=-0.250 total time=   0.0s\n",
      "[CV 4/5] END .......................alpha=10.0;, score=-0.293 total time=   0.0s\n",
      "[CV 5/5] END .......................alpha=10.0;, score=-0.293 total time=   0.0s\n"
     ]
    },
    {
     "data": {
      "text/html": [
       "<pre style=\"white-space:pre;overflow-x:auto;line-height:normal;font-family:Menlo,'DejaVu Sans Mono',consolas,'Courier New',monospace\"><span style=\"color: #7fbfbf; text-decoration-color: #7fbfbf\">[06/01/22 11:45:28] </span><span style=\"color: #000080; text-decoration-color: #000080\">INFO    </span> Best params for Lasso: <span style=\"font-weight: bold\">{</span><span style=\"color: #008000; text-decoration-color: #008000\">'alpha'</span>: <span style=\"color: #008080; text-decoration-color: #008080; font-weight: bold\">0.1</span><span style=\"font-weight: bold\">}</span>             <a href=\"file:///Users/p.woznicki/git/AutoRadiomics/autorad/feature_selection/selector.py\" target=\"_blank\"><span style=\"color: #7f7f7f; text-decoration-color: #7f7f7f\">selector.py</span></a><span style=\"color: #7f7f7f; text-decoration-color: #7f7f7f\">:</span><a href=\"file:///Users/p.woznicki/git/AutoRadiomics/autorad/feature_selection/selector.py#93\" target=\"_blank\"><span style=\"color: #7f7f7f; text-decoration-color: #7f7f7f\">93</span></a>\n",
       "</pre>\n"
      ],
      "text/plain": [
       "\u001b[2;36m[06/01/22 11:45:28]\u001b[0m\u001b[2;36m \u001b[0m\u001b[34mINFO    \u001b[0m Best params for Lasso: \u001b[1m{\u001b[0m\u001b[32m'alpha'\u001b[0m: \u001b[1;36m0.1\u001b[0m\u001b[1m}\u001b[0m             \u001b]8;id=981194;file:///Users/p.woznicki/git/AutoRadiomics/autorad/feature_selection/selector.py\u001b\\\u001b[2mselector.py\u001b[0m\u001b]8;;\u001b\\\u001b[2m:\u001b[0m\u001b]8;id=569776;file:///Users/p.woznicki/git/AutoRadiomics/autorad/feature_selection/selector.py#93\u001b\\\u001b[2m93\u001b[0m\u001b]8;;\u001b\\\n"
      ]
     },
     "metadata": {},
     "output_type": "display_data"
    },
    {
     "name": "stdout",
     "output_type": "stream",
     "text": [
      "Iteration: \t1 / 100\n",
      "Confirmed: \t0\n",
      "Tentative: \t1015\n",
      "Rejected: \t0\n",
      "Iteration: \t2 / 100\n",
      "Confirmed: \t0\n",
      "Tentative: \t1015\n",
      "Rejected: \t0\n",
      "Iteration: \t3 / 100\n",
      "Confirmed: \t0\n",
      "Tentative: \t1015\n",
      "Rejected: \t0\n",
      "Iteration: \t4 / 100\n",
      "Confirmed: \t0\n",
      "Tentative: \t1015\n",
      "Rejected: \t0\n",
      "Iteration: \t5 / 100\n",
      "Confirmed: \t0\n",
      "Tentative: \t1015\n",
      "Rejected: \t0\n",
      "Iteration: \t6 / 100\n",
      "Confirmed: \t0\n",
      "Tentative: \t1015\n",
      "Rejected: \t0\n",
      "Iteration: \t7 / 100\n",
      "Confirmed: \t0\n",
      "Tentative: \t1015\n",
      "Rejected: \t0\n",
      "Iteration: \t8 / 100\n",
      "Confirmed: \t0\n",
      "Tentative: \t0\n",
      "Rejected: \t1015\n",
      "\n",
      "\n",
      "BorutaPy finished running.\n",
      "\n",
      "Iteration: \t9 / 100\n",
      "Confirmed: \t0\n",
      "Tentative: \t0\n",
      "Rejected: \t1015\n"
     ]
    },
    {
     "data": {
      "text/html": [
       "<pre style=\"white-space:pre;overflow-x:auto;line-height:normal;font-family:Menlo,'DejaVu Sans Mono',consolas,'Courier New',monospace\"><span style=\"color: #7fbfbf; text-decoration-color: #7fbfbf\">[06/01/22 11:45:39] </span><span style=\"color: #800000; text-decoration-color: #800000; font-weight: bold\">ERROR   </span> Boruta failed to select features.Taking all      <a href=\"file:///Users/p.woznicki/git/AutoRadiomics/autorad/feature_selection/selector.py\" target=\"_blank\"><span style=\"color: #7f7f7f; text-decoration-color: #7f7f7f\">selector.py</span></a><span style=\"color: #7f7f7f; text-decoration-color: #7f7f7f\">:</span><a href=\"file:///Users/p.woznicki/git/AutoRadiomics/autorad/feature_selection/selector.py#121\" target=\"_blank\"><span style=\"color: #7f7f7f; text-decoration-color: #7f7f7f\">121</span></a>\n",
       "<span style=\"color: #7fbfbf; text-decoration-color: #7fbfbf\">                    </span>         features instead.                                <span style=\"color: #7f7f7f; text-decoration-color: #7f7f7f\">               </span>\n",
       "</pre>\n"
      ],
      "text/plain": [
       "\u001b[2;36m[06/01/22 11:45:39]\u001b[0m\u001b[2;36m \u001b[0m\u001b[1;31mERROR   \u001b[0m Boruta failed to select features.Taking all      \u001b]8;id=687281;file:///Users/p.woznicki/git/AutoRadiomics/autorad/feature_selection/selector.py\u001b\\\u001b[2mselector.py\u001b[0m\u001b]8;;\u001b\\\u001b[2m:\u001b[0m\u001b]8;id=414624;file:///Users/p.woznicki/git/AutoRadiomics/autorad/feature_selection/selector.py#121\u001b\\\u001b[2m121\u001b[0m\u001b]8;;\u001b\\\n",
       "\u001b[2;36m                    \u001b[0m         features instead.                                \u001b[2m               \u001b[0m\n"
      ]
     },
     "metadata": {},
     "output_type": "display_data"
    }
   ],
   "source": [
    "trainer = Trainer(\n",
    "    dataset=feature_dataset,\n",
    "    models=models,\n",
    "    result_dir=result_dir,\n",
    "    experiment_name=\"Liver_detection\",\n",
    ")\n",
    "trainer.run_auto_preprocessing(oversampling=False)"
   ]
  },
  {
   "cell_type": "code",
   "execution_count": null,
   "metadata": {},
   "outputs": [
    {
     "name": "stderr",
     "output_type": "stream",
     "text": [
      "/Users/p.woznicki/git/AutoRadiomics/autorad/training/trainer.py:169: ExperimentalWarning: MLflowCallback is experimental (supported from v1.4.0). The interface can change in the future.\n",
      "  mlfc = MLflowCallback(\n",
      "\u001b[32m[I 2022-06-01 11:31:27,879]\u001b[0m A new study created in memory with name: Liver_detection\u001b[0m\n",
      "\u001b[32m[I 2022-06-01 11:31:28,463]\u001b[0m Trial 0 finished with value: 0.5 and parameters: {'feature_selection_method': 'anova', 'oversampling_method': None, 'model': 'XGBoost', 'xgb_lambda': 0.014570271595538578, 'xgb_alpha': 0.00021300368327705253, 'colsample_bytree': 0.5136940145553204, 'xgb_subsample': 0.47454241292069554, 'xgb_booster': 'gbtree', 'xgb_max_depth': 5, 'xgb_min_child_weight': 8, 'xgb_eta': 2.883592210117951e-07, 'xgb_gamma': 2.53287670148807e-07, 'xgb_grow_policy': 'lossguide'}. Best is trial 0 with value: 0.5.\u001b[0m\n",
      "2022/06/01 11:31:28 INFO mlflow.tracking.fluent: Experiment with name 'Liver_detection' does not exist. Creating a new experiment.\n",
      "\u001b[32m[I 2022-06-01 11:31:28,868]\u001b[0m Trial 1 finished with value: 0.5 and parameters: {'feature_selection_method': 'lasso', 'oversampling_method': None, 'model': 'Logistic Regression', 'lr_penalty': 'l1', 'lr_C': 0.3341215561348895}. Best is trial 0 with value: 0.5.\u001b[0m\n",
      "\u001b[32m[I 2022-06-01 11:31:31,666]\u001b[0m Trial 2 finished with value: 1.0 and parameters: {'feature_selection_method': 'lasso', 'oversampling_method': None, 'model': 'Random Forest', 'rf_n_estimators': 899, 'rf_max_depth': 48, 'rf_max_features': 'sqrt', 'rf_min_samples_leaf': 2, 'rf_min_samples_split': 4, 'rf_bootstrap': False}. Best is trial 2 with value: 1.0.\u001b[0m\n",
      "\u001b[32m[I 2022-06-01 11:31:38,970]\u001b[0m Trial 3 finished with value: 0.5 and parameters: {'feature_selection_method': 'boruta', 'oversampling_method': None, 'model': 'XGBoost', 'xgb_lambda': 0.0026763392031222675, 'xgb_alpha': 0.0008046593428183385, 'colsample_bytree': 0.47421106701944676, 'xgb_subsample': 0.4432966312217473, 'xgb_booster': 'dart', 'xgb_max_depth': 7, 'xgb_min_child_weight': 8, 'xgb_eta': 0.00048695902646412595, 'xgb_gamma': 0.0009982240218295083, 'xgb_grow_policy': 'lossguide', 'xgb_sample_type': 'weighted', 'xgb_normalize_type': 'tree', 'xgb_rate_drop': 0.0003798880741472144, 'xgb_skip_drop': 5.8304239226092374e-08}. Best is trial 2 with value: 1.0.\u001b[0m\n",
      "\u001b[32m[I 2022-06-01 11:31:39,181]\u001b[0m Trial 4 finished with value: 0.5 and parameters: {'feature_selection_method': 'anova', 'oversampling_method': None, 'model': 'Logistic Regression', 'lr_penalty': 'l1', 'lr_C': 0.0188393409315699}. Best is trial 2 with value: 1.0.\u001b[0m\n",
      "\u001b[32m[I 2022-06-01 11:31:40,722]\u001b[0m Trial 5 finished with value: 1.0 and parameters: {'feature_selection_method': 'anova', 'oversampling_method': None, 'model': 'Random Forest', 'rf_n_estimators': 339, 'rf_max_depth': 21, 'rf_max_features': 'sqrt', 'rf_min_samples_leaf': 4, 'rf_min_samples_split': 8, 'rf_bootstrap': False}. Best is trial 2 with value: 1.0.\u001b[0m\n",
      "\u001b[32m[I 2022-06-01 11:31:41,120]\u001b[0m Trial 6 finished with value: 0.0 and parameters: {'feature_selection_method': 'lasso', 'oversampling_method': None, 'model': 'SVM', 'svm_kernel': 'sigmoid', 'svm_C': 0.16331624244561055, 'svm_gamma': 2.6170375260922567, 'svm_degree': 2.0}. Best is trial 2 with value: 1.0.\u001b[0m\n",
      "\u001b[32m[I 2022-06-01 11:31:43,700]\u001b[0m Trial 7 finished with value: 1.0 and parameters: {'feature_selection_method': 'lasso', 'oversampling_method': None, 'model': 'Random Forest', 'rf_n_estimators': 545, 'rf_max_depth': 2, 'rf_max_features': 'auto', 'rf_min_samples_leaf': 3, 'rf_min_samples_split': 4, 'rf_bootstrap': False}. Best is trial 2 with value: 1.0.\u001b[0m\n",
      "\u001b[32m[I 2022-06-01 11:31:45,686]\u001b[0m Trial 8 finished with value: 1.0 and parameters: {'feature_selection_method': 'anova', 'oversampling_method': None, 'model': 'Random Forest', 'rf_n_estimators': 621, 'rf_max_depth': 44, 'rf_max_features': 'auto', 'rf_min_samples_leaf': 5, 'rf_min_samples_split': 3, 'rf_bootstrap': False}. Best is trial 2 with value: 1.0.\u001b[0m\n",
      "\u001b[32m[I 2022-06-01 11:31:46,026]\u001b[0m Trial 9 finished with value: 0.0 and parameters: {'feature_selection_method': 'boruta', 'oversampling_method': None, 'model': 'SVM', 'svm_kernel': 'rbf', 'svm_C': 1.330429150597269, 'svm_gamma': 0.014000594165527527, 'svm_degree': 2.0}. Best is trial 2 with value: 1.0.\u001b[0m\n"
     ]
    }
   ],
   "source": [
    "trainer.set_optimizer(\"optuna\", n_trials=10)\n",
    "trainer.run(auto_preprocess=True)"
   ]
  },
  {
   "cell_type": "code",
   "execution_count": null,
   "metadata": {},
   "outputs": [],
   "source": [
    "from autorad.utils import io\n",
    "from autorad.evaluation.evaluator import SimpleEvaluator\n",
    "from autorad.training.trainer import Inferrer\n",
    "\n",
    "best_params = io.load_json(result_dir / \"best_params.json\")\n",
    "inferrer = Inferrer(params=best_params, result_dir=result_dir)\n",
    "inferrer.fit_eval(feature_dataset, result_name=\"test\")\n",
    "\n",
    "results = pd.read_csv(result_dir / \"test.csv\")\n",
    "\n",
    "evaluator = SimpleEvaluator(results.y_true, results.y_pred)\n",
    "roc = evaluator.plot_roc_curve()\n",
    "# roc.write_image(result_dir / \"roc.png\")\n",
    "roc"
   ]
  },
  {
   "cell_type": "code",
   "execution_count": null,
   "metadata": {},
   "outputs": [
    {
     "data": {
      "text/html": [
       "<div>\n",
       "<style scoped>\n",
       "    .dataframe tbody tr th:only-of-type {\n",
       "        vertical-align: middle;\n",
       "    }\n",
       "\n",
       "    .dataframe tbody tr th {\n",
       "        vertical-align: top;\n",
       "    }\n",
       "\n",
       "    .dataframe thead th {\n",
       "        text-align: right;\n",
       "    }\n",
       "</style>\n",
       "<table border=\"1\" class=\"dataframe\">\n",
       "  <thead>\n",
       "    <tr style=\"text-align: right;\">\n",
       "      <th></th>\n",
       "      <th>y_true</th>\n",
       "      <th>y_pred</th>\n",
       "    </tr>\n",
       "  </thead>\n",
       "  <tbody>\n",
       "    <tr>\n",
       "      <th>0</th>\n",
       "      <td>1</td>\n",
       "      <td>0.001669</td>\n",
       "    </tr>\n",
       "    <tr>\n",
       "      <th>1</th>\n",
       "      <td>0</td>\n",
       "      <td>0.088617</td>\n",
       "    </tr>\n",
       "    <tr>\n",
       "      <th>2</th>\n",
       "      <td>0</td>\n",
       "      <td>0.340564</td>\n",
       "    </tr>\n",
       "    <tr>\n",
       "      <th>3</th>\n",
       "      <td>0</td>\n",
       "      <td>0.001854</td>\n",
       "    </tr>\n",
       "  </tbody>\n",
       "</table>\n",
       "</div>"
      ],
      "text/plain": [
       "   y_true    y_pred\n",
       "0       1  0.001669\n",
       "1       0  0.088617\n",
       "2       0  0.340564\n",
       "3       0  0.001854"
      ]
     },
     "execution_count": 14,
     "metadata": {},
     "output_type": "execute_result"
    }
   ],
   "source": [
    "results"
   ]
  },
  {
   "cell_type": "code",
   "execution_count": null,
   "metadata": {},
   "outputs": [],
   "source": []
  }
 ],
 "metadata": {
  "interpreter": {
   "hash": "378c3e272f986b76de7a813614cd4d6ba63a07672673e8c51c818cb6af86fa94"
  },
  "kernelspec": {
   "display_name": "Python 3.10.4 ('.venv': venv)",
   "language": "python",
   "name": "python3"
  },
  "language_info": {
   "codemirror_mode": {
    "name": "ipython",
    "version": 3
   },
   "file_extension": ".py",
   "mimetype": "text/x-python",
   "name": "python",
   "nbconvert_exporter": "python",
   "pygments_lexer": "ipython3",
   "version": "3.10.4"
  },
  "orig_nbformat": 4
 },
 "nbformat": 4,
 "nbformat_minor": 2
}
