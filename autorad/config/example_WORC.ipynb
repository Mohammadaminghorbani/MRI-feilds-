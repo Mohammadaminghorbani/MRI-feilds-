{
 "cells": [
  {
   "cell_type": "markdown",
   "metadata": {},
   "source": [
    "In this tutorial, we will analyze Lipoma dataset from the [WORC Database](https://github.com/MStarmans91/WORCDatabase/tree/development).\n",
    "\n",
    "More details on the dataset as well as the original analysis performed by their authors can be found here:\n",
    "\n",
    "`Starmans, M. P. A. et al. (2021). The WORC* database: MRI and CT scans, segmentations, and clinical labels for 932 patients from six radiomics studies. Submitted, preprint available from https://doi.org/10.1101/2021.08.19.21262238`\n",
    "\n",
    "`The experiments are described in the following paper: Starmans, M. P. A. et al. (2021). Reproducible radiomics through automated machine learning validated on twelve clinical applications. Submitted, preprint available from https://arxiv.org/abs/2108.08618.`"
   ]
  },
  {
   "cell_type": "code",
   "execution_count": 66,
   "metadata": {},
   "outputs": [
    {
     "name": "stdout",
     "output_type": "stream",
     "text": [
      "The autoreload extension is already loaded. To reload it, use:\n",
      "  %reload_ext autoreload\n",
      "\tDownloading patient Liver-185, experiment Liver-185_MR, scan 1.\n"
     ]
    },
    {
     "name": "stderr",
     "output_type": "stream",
     "text": [
      "  0.0 B |#                                                          |   0.0 s/B\n",
      "103.5 KiB | #                                                     | 874.6 KiB/s\n",
      "235.5 KiB |  #                                                    |   1.0 MiB/s\n",
      "431.5 KiB |   #                                                   |   1.2 MiB/s\n",
      "639.5 KiB |    #                                                  |   1.4 MiB/s\n",
      "943.5 KiB |     #                                                 |   1.6 MiB/s\n",
      "  1.2 MiB |      #                                                |   1.8 MiB/s\n",
      "  1.5 MiB |       #                                               |   2.0 MiB/s\n",
      "  1.9 MiB |        #                                              |   2.1 MiB/s\n",
      "  2.3 MiB |         #                                             |   2.3 MiB/s\n",
      "  2.7 MiB |          #                                            |   2.5 MiB/s\n",
      "  3.2 MiB |           #                                           |   2.6 MiB/s\n",
      "  3.2 MiB |            #                                          |   2.6 MiB/s\n"
     ]
    },
    {
     "name": "stdout",
     "output_type": "stream",
     "text": [
      "\tDownloading patient Liver-166, experiment Liver-166_MR, scan 1.\n"
     ]
    },
    {
     "name": "stderr",
     "output_type": "stream",
     "text": [
      "  0.0 B |#                                                          |   0.0 s/B\n",
      "359.5 KiB | #                                                     |   3.3 MiB/s\n",
      "787.5 KiB |  #                                                    |   3.7 MiB/s\n",
      "  1.2 MiB |   #                                                   |   3.7 MiB/s\n",
      "  1.6 MiB |    #                                                  |   3.9 MiB/s\n",
      "  2.0 MiB |    #                                                  |   3.9 MiB/s\n"
     ]
    },
    {
     "name": "stdout",
     "output_type": "stream",
     "text": [
      "\tDownloading patient Liver-180, experiment Liver-180_MR, scan 1.\n"
     ]
    },
    {
     "name": "stderr",
     "output_type": "stream",
     "text": [
      "  0.0 B |#                                                          |   0.0 s/B\n",
      "463.5 KiB | #                                                     |   4.3 MiB/s\n",
      "  1.0 MiB |  #                                                    |   5.0 MiB/s\n",
      "  1.6 MiB |   #                                                   |   5.1 MiB/s\n",
      "  2.2 MiB |    #                                                  |   5.4 MiB/s\n",
      "  2.9 MiB |     #                                                 |   5.5 MiB/s\n",
      "  3.7 MiB |      #                                                |   5.9 MiB/s\n",
      "  4.4 MiB |       #                                               |   6.0 MiB/s\n",
      "  5.1 MiB |        #                                              |   6.1 MiB/s\n",
      "  5.8 MiB |         #                                             |   6.2 MiB/s\n",
      "  6.4 MiB |          #                                            |   6.2 MiB/s\n",
      "  0.0 B |#                                                          |   0.0 s/B\n"
     ]
    },
    {
     "name": "stdout",
     "output_type": "stream",
     "text": [
      "\tDownloading patient Liver-067, experiment Liver-067_MR, scan 1.\n"
     ]
    },
    {
     "name": "stderr",
     "output_type": "stream",
     "text": [
      "717.2 KiB |#                                                      |   9.1 MiB/s\n"
     ]
    },
    {
     "name": "stdout",
     "output_type": "stream",
     "text": [
      "\tDownloading patient Liver-035, experiment Liver-035_MR, scan 1.\n"
     ]
    },
    {
     "name": "stderr",
     "output_type": "stream",
     "text": [
      "  0.0 B |#                                                          |   0.0 s/B\n",
      "767.5 KiB | #                                                     |   7.2 MiB/s\n",
      "  1.5 MiB |  #                                                    |   7.4 MiB/s\n",
      "  2.0 MiB |  #                                                    |   7.4 MiB/s\n"
     ]
    },
    {
     "name": "stdout",
     "output_type": "stream",
     "text": [
      "\tDownloading patient Liver-038, experiment Liver-038_MR, scan 1.\n"
     ]
    },
    {
     "name": "stderr",
     "output_type": "stream",
     "text": [
      "  0.0 B |#                                                          |   0.0 s/B\n",
      "763.5 KiB | #                                                     |   7.3 MiB/s\n",
      "  1.5 MiB |  #                                                    |   6.7 MiB/s\n",
      "  1.9 MiB |   #                                                   |   5.8 MiB/s\n",
      "  2.6 MiB |    #                                                  |   6.0 MiB/s\n",
      "  3.4 MiB |     #                                                 |   6.3 MiB/s\n",
      "  4.1 MiB |      #                                                |   6.3 MiB/s\n"
     ]
    },
    {
     "name": "stdout",
     "output_type": "stream",
     "text": [
      "\tDownloading patient Liver-031, experiment Liver-031_MR, scan 1.\n"
     ]
    },
    {
     "name": "stderr",
     "output_type": "stream",
     "text": [
      "  0.0 B |#                                                          |   0.0 s/B\n",
      "759.5 KiB | #                                                     |   7.4 MiB/s\n",
      "  1.6 MiB |  #                                                    |   7.8 MiB/s\n",
      "  2.0 MiB |  #                                                    |   7.8 MiB/s\n",
      "  0.0 B |#                                                          |   0.0 s/B\n"
     ]
    },
    {
     "name": "stdout",
     "output_type": "stream",
     "text": [
      "\tDownloading patient Liver-124, experiment Liver-124_MR, scan 1.\n"
     ]
    },
    {
     "name": "stderr",
     "output_type": "stream",
     "text": [
      "895.5 KiB | #                                                     |   8.6 MiB/s\n",
      "  1.3 MiB | #                                                     |   8.6 MiB/s\n"
     ]
    },
    {
     "name": "stdout",
     "output_type": "stream",
     "text": [
      "\tDownloading patient Liver-079, experiment Liver-079_MR, scan 1.\n"
     ]
    },
    {
     "name": "stderr",
     "output_type": "stream",
     "text": [
      "  0.0 B |#                                                          |   0.0 s/B\n",
      "1011.5 KiB | #                                                    |   9.4 MiB/s\n",
      "  1.9 MiB |  #                                                    |   8.9 MiB/s\n",
      "  2.6 MiB |  #                                                    |   8.9 MiB/s\n"
     ]
    },
    {
     "name": "stdout",
     "output_type": "stream",
     "text": [
      "\tDownloading patient Liver-122, experiment Liver-122_MR, scan 1.\n"
     ]
    },
    {
     "name": "stderr",
     "output_type": "stream",
     "text": [
      "  0.0 B |#                                                          |   0.0 s/B\n",
      "  1.1 MiB | #                                                     |  10.9 MiB/s\n",
      "  1.7 MiB |  #                                                    |   8.1 MiB/s\n",
      "  2.9 MiB |   #                                                   |   9.2 MiB/s\n",
      "  3.0 MiB |   #                                                   |   9.2 MiB/s\n"
     ]
    },
    {
     "name": "stdout",
     "output_type": "stream",
     "text": [
      "\tDownloading patient Liver-147, experiment Liver-147_MR, scan 1.\n"
     ]
    },
    {
     "name": "stderr",
     "output_type": "stream",
     "text": [
      "  0.0 B |#                                                          |   0.0 s/B\n",
      "  1.4 MiB | #                                                     |  13.4 MiB/s\n",
      "  2.8 MiB |  #                                                    |  13.5 MiB/s\n",
      "  4.7 MiB |   #                                                   |  15.1 MiB/s\n",
      "  6.6 MiB |    #                                                  |  15.1 MiB/s\n",
      "  0.0 B |#                                                          |   0.0 s/B\n"
     ]
    },
    {
     "name": "stdout",
     "output_type": "stream",
     "text": [
      "\tDownloading patient Liver-008, experiment Liver-008_MR, scan 1.\n"
     ]
    },
    {
     "name": "stderr",
     "output_type": "stream",
     "text": [
      "  1.7 MiB | #                                                     |  16.6 MiB/s\n",
      "  2.3 MiB | #                                                     |  16.6 MiB/s\n"
     ]
    },
    {
     "name": "stdout",
     "output_type": "stream",
     "text": [
      "\tDownloading patient Liver-184, experiment Liver-184_MR, scan 1.\n"
     ]
    },
    {
     "name": "stderr",
     "output_type": "stream",
     "text": [
      "  0.0 B |#                                                          |   0.0 s/B\n",
      "  2.5 MiB | #                                                     |  24.4 MiB/s\n",
      "  5.3 MiB |  #                                                    |  26.3 MiB/s\n",
      "  5.8 MiB |  #                                                    |  26.3 MiB/s\n"
     ]
    },
    {
     "name": "stdout",
     "output_type": "stream",
     "text": [
      "\tDownloading patient Liver-168, experiment Liver-168_MR, scan 1.\n"
     ]
    },
    {
     "name": "stderr",
     "output_type": "stream",
     "text": [
      "  0.0 B |#                                                          |   0.0 s/B\n",
      "  3.0 MiB | #                                                     |  29.9 MiB/s\n"
     ]
    },
    {
     "name": "stdout",
     "output_type": "stream",
     "text": [
      "\tDownloading patient Liver-030, experiment Liver-030_MR, scan 1.\n"
     ]
    },
    {
     "name": "stderr",
     "output_type": "stream",
     "text": [
      "  0.0 B |#                                                          |   0.0 s/B\n",
      "  3.0 MiB |#                                                      |  31.8 MiB/s\n"
     ]
    },
    {
     "name": "stdout",
     "output_type": "stream",
     "text": [
      "\tDownloading patient Liver-128, experiment Liver-128_MR, scan 1.\n"
     ]
    },
    {
     "name": "stderr",
     "output_type": "stream",
     "text": [
      "  0.0 B |#                                                          |   0.0 s/B\n",
      "  2.9 MiB |#                                                      |  32.4 MiB/s\n"
     ]
    },
    {
     "name": "stdout",
     "output_type": "stream",
     "text": [
      "\tDownloading patient Liver-023, experiment Liver-023_MR, scan 1.\n"
     ]
    },
    {
     "name": "stderr",
     "output_type": "stream",
     "text": [
      "  0.0 B |#                                                          |   0.0 s/B\n",
      "  2.4 MiB |#                                                      |  32.7 MiB/s\n"
     ]
    },
    {
     "name": "stdout",
     "output_type": "stream",
     "text": [
      "\tDownloading patient Liver-011, experiment Liver-011_MR, scan 1.\n"
     ]
    },
    {
     "name": "stderr",
     "output_type": "stream",
     "text": [
      "  0.0 B |#                                                          |   0.0 s/B\n",
      "  3.3 MiB | #                                                     |  32.8 MiB/s\n",
      "  4.3 MiB | #                                                     |  32.8 MiB/s\n"
     ]
    },
    {
     "name": "stdout",
     "output_type": "stream",
     "text": [
      "\tDownloading patient Liver-146, experiment Liver-146_MR, scan 1.\n"
     ]
    },
    {
     "name": "stderr",
     "output_type": "stream",
     "text": [
      "  0.0 B |#                                                          |   0.0 s/B\n",
      "  3.5 MiB | #                                                     |  34.6 MiB/s\n",
      "  5.6 MiB |  #                                                    |  27.9 MiB/s\n",
      "  8.6 MiB |  #                                                    |  27.9 MiB/s\n"
     ]
    },
    {
     "name": "stdout",
     "output_type": "stream",
     "text": [
      "\tDownloading patient Liver-006, experiment Liver-006_MR, scan 1.\n"
     ]
    },
    {
     "name": "stderr",
     "output_type": "stream",
     "text": [
      "  0.0 B |#                                                          |   0.0 s/B\n",
      "  3.3 MiB | #                                                     |  32.0 MiB/s\n",
      "  3.3 MiB | #                                                     |  32.0 MiB/s\n"
     ]
    },
    {
     "name": "stdout",
     "output_type": "stream",
     "text": [
      "Done downloading!\n"
     ]
    }
   ],
   "source": [
    "from autorad.external.download_WORC import download_WORCDatabase\n",
    "from autorad.config import config\n",
    "from pathlib import Path\n",
    "\n",
    "base_dir = Path(config.TEST_DATA_DIR)\n",
    "\n",
    "%load_ext autoreload\n",
    "%autoreload 2\n",
    "\n",
    "\n",
    "download_WORCDatabase(\n",
    "    dataset=\"Liver\",\n",
    "    datafolder=base_dir,\n",
    "    nsubjects=20,\n",
    "    )"
   ]
  },
  {
   "cell_type": "code",
   "execution_count": 52,
   "metadata": {},
   "outputs": [
    {
     "data": {
      "text/html": [
       "<div>\n",
       "<style scoped>\n",
       "    .dataframe tbody tr th:only-of-type {\n",
       "        vertical-align: middle;\n",
       "    }\n",
       "\n",
       "    .dataframe tbody tr th {\n",
       "        vertical-align: top;\n",
       "    }\n",
       "\n",
       "    .dataframe thead th {\n",
       "        text-align: right;\n",
       "    }\n",
       "</style>\n",
       "<table border=\"1\" class=\"dataframe\">\n",
       "  <thead>\n",
       "    <tr style=\"text-align: right;\">\n",
       "      <th></th>\n",
       "      <th>ID</th>\n",
       "      <th>image_path</th>\n",
       "      <th>segmentation_path</th>\n",
       "    </tr>\n",
       "  </thead>\n",
       "  <tbody>\n",
       "    <tr>\n",
       "      <th>0</th>\n",
       "      <td>Liver-035</td>\n",
       "      <td>Liver-035/image.nii.gz</td>\n",
       "      <td>Liver-035/segmentation.nii.gz</td>\n",
       "    </tr>\n",
       "    <tr>\n",
       "      <th>1</th>\n",
       "      <td>Liver-067</td>\n",
       "      <td>Liver-067/image.nii.gz</td>\n",
       "      <td>Liver-067/segmentation.nii.gz</td>\n",
       "    </tr>\n",
       "    <tr>\n",
       "      <th>2</th>\n",
       "      <td>Liver-146</td>\n",
       "      <td>Liver-146/image.nii.gz</td>\n",
       "      <td>Liver-146/segmentation.nii.gz</td>\n",
       "    </tr>\n",
       "    <tr>\n",
       "      <th>3</th>\n",
       "      <td>Liver-184</td>\n",
       "      <td>Liver-184/image.nii.gz</td>\n",
       "      <td>Liver-184/segmentation.nii.gz</td>\n",
       "    </tr>\n",
       "    <tr>\n",
       "      <th>4</th>\n",
       "      <td>Liver-124</td>\n",
       "      <td>Liver-124/image.nii.gz</td>\n",
       "      <td>Liver-124/segmentation.nii.gz</td>\n",
       "    </tr>\n",
       "    <tr>\n",
       "      <th>5</th>\n",
       "      <td>Liver-185</td>\n",
       "      <td>Liver-185/image.nii.gz</td>\n",
       "      <td>Liver-185/segmentation.nii.gz</td>\n",
       "    </tr>\n",
       "    <tr>\n",
       "      <th>6</th>\n",
       "      <td>Liver-147</td>\n",
       "      <td>Liver-147/image.nii.gz</td>\n",
       "      <td>Liver-147/segmentation.nii.gz</td>\n",
       "    </tr>\n",
       "    <tr>\n",
       "      <th>7</th>\n",
       "      <td>Liver-122</td>\n",
       "      <td>Liver-122/image.nii.gz</td>\n",
       "      <td>Liver-122/segmentation.nii.gz</td>\n",
       "    </tr>\n",
       "    <tr>\n",
       "      <th>8</th>\n",
       "      <td>Liver-011</td>\n",
       "      <td>Liver-011/image.nii.gz</td>\n",
       "      <td>Liver-011/segmentation.nii.gz</td>\n",
       "    </tr>\n",
       "    <tr>\n",
       "      <th>9</th>\n",
       "      <td>Liver-031</td>\n",
       "      <td>Liver-031/image.nii.gz</td>\n",
       "      <td>Liver-031/segmentation.nii.gz</td>\n",
       "    </tr>\n",
       "    <tr>\n",
       "      <th>10</th>\n",
       "      <td>Liver-038</td>\n",
       "      <td>Liver-038/image.nii.gz</td>\n",
       "      <td>Liver-038/segmentation.nii.gz</td>\n",
       "    </tr>\n",
       "    <tr>\n",
       "      <th>11</th>\n",
       "      <td>Liver-006</td>\n",
       "      <td>Liver-006/image.nii.gz</td>\n",
       "      <td>Liver-006/segmentation.nii.gz</td>\n",
       "    </tr>\n",
       "    <tr>\n",
       "      <th>12</th>\n",
       "      <td>Liver-008</td>\n",
       "      <td>Liver-008/image.nii.gz</td>\n",
       "      <td>Liver-008/segmentation.nii.gz</td>\n",
       "    </tr>\n",
       "    <tr>\n",
       "      <th>13</th>\n",
       "      <td>Liver-030</td>\n",
       "      <td>Liver-030/image.nii.gz</td>\n",
       "      <td>Liver-030/segmentation.nii.gz</td>\n",
       "    </tr>\n",
       "    <tr>\n",
       "      <th>14</th>\n",
       "      <td>Liver-180</td>\n",
       "      <td>Liver-180/image.nii.gz</td>\n",
       "      <td>Liver-180/segmentation.nii.gz</td>\n",
       "    </tr>\n",
       "    <tr>\n",
       "      <th>15</th>\n",
       "      <td>Liver-128</td>\n",
       "      <td>Liver-128/image.nii.gz</td>\n",
       "      <td>Liver-128/segmentation.nii.gz</td>\n",
       "    </tr>\n",
       "    <tr>\n",
       "      <th>16</th>\n",
       "      <td>Liver-166</td>\n",
       "      <td>Liver-166/image.nii.gz</td>\n",
       "      <td>Liver-166/segmentation.nii.gz</td>\n",
       "    </tr>\n",
       "    <tr>\n",
       "      <th>17</th>\n",
       "      <td>Liver-168</td>\n",
       "      <td>Liver-168/image.nii.gz</td>\n",
       "      <td>Liver-168/segmentation.nii.gz</td>\n",
       "    </tr>\n",
       "    <tr>\n",
       "      <th>18</th>\n",
       "      <td>Liver-079</td>\n",
       "      <td>Liver-079/image.nii.gz</td>\n",
       "      <td>Liver-079/segmentation.nii.gz</td>\n",
       "    </tr>\n",
       "    <tr>\n",
       "      <th>19</th>\n",
       "      <td>Liver-023</td>\n",
       "      <td>Liver-023/image.nii.gz</td>\n",
       "      <td>Liver-023/segmentation.nii.gz</td>\n",
       "    </tr>\n",
       "  </tbody>\n",
       "</table>\n",
       "</div>"
      ],
      "text/plain": [
       "           ID              image_path              segmentation_path\n",
       "0   Liver-035  Liver-035/image.nii.gz  Liver-035/segmentation.nii.gz\n",
       "1   Liver-067  Liver-067/image.nii.gz  Liver-067/segmentation.nii.gz\n",
       "2   Liver-146  Liver-146/image.nii.gz  Liver-146/segmentation.nii.gz\n",
       "3   Liver-184  Liver-184/image.nii.gz  Liver-184/segmentation.nii.gz\n",
       "4   Liver-124  Liver-124/image.nii.gz  Liver-124/segmentation.nii.gz\n",
       "5   Liver-185  Liver-185/image.nii.gz  Liver-185/segmentation.nii.gz\n",
       "6   Liver-147  Liver-147/image.nii.gz  Liver-147/segmentation.nii.gz\n",
       "7   Liver-122  Liver-122/image.nii.gz  Liver-122/segmentation.nii.gz\n",
       "8   Liver-011  Liver-011/image.nii.gz  Liver-011/segmentation.nii.gz\n",
       "9   Liver-031  Liver-031/image.nii.gz  Liver-031/segmentation.nii.gz\n",
       "10  Liver-038  Liver-038/image.nii.gz  Liver-038/segmentation.nii.gz\n",
       "11  Liver-006  Liver-006/image.nii.gz  Liver-006/segmentation.nii.gz\n",
       "12  Liver-008  Liver-008/image.nii.gz  Liver-008/segmentation.nii.gz\n",
       "13  Liver-030  Liver-030/image.nii.gz  Liver-030/segmentation.nii.gz\n",
       "14  Liver-180  Liver-180/image.nii.gz  Liver-180/segmentation.nii.gz\n",
       "15  Liver-128  Liver-128/image.nii.gz  Liver-128/segmentation.nii.gz\n",
       "16  Liver-166  Liver-166/image.nii.gz  Liver-166/segmentation.nii.gz\n",
       "17  Liver-168  Liver-168/image.nii.gz  Liver-168/segmentation.nii.gz\n",
       "18  Liver-079  Liver-079/image.nii.gz  Liver-079/segmentation.nii.gz\n",
       "19  Liver-023  Liver-023/image.nii.gz  Liver-023/segmentation.nii.gz"
      ]
     },
     "execution_count": 52,
     "metadata": {},
     "output_type": "execute_result"
    }
   ],
   "source": [
    "from autorad.data.utils import get_paths_with_separate_folder_per_case\n",
    "\n",
    "data_dir = base_dir / \"worc\"\n",
    "paths_df = get_paths_with_separate_folder_per_case(data_dir, relative=True)\n",
    "paths_df"
   ]
  },
  {
   "cell_type": "code",
   "execution_count": 53,
   "metadata": {},
   "outputs": [],
   "source": [
    "from autorad.data.dataset import ImageDataset\n",
    "\n",
    "image_dataset = ImageDataset(\n",
    "    paths_df,\n",
    "    ID_colname=\"ID\",\n",
    "    root_dir=data_dir,\n",
    ")"
   ]
  },
  {
   "cell_type": "code",
   "execution_count": 60,
   "metadata": {},
   "outputs": [
    {
     "data": {
      "text/html": [
       "<pre style=\"white-space:pre;overflow-x:auto;line-height:normal;font-family:Menlo,'DejaVu Sans Mono',consolas,'Courier New',monospace\"><span style=\"color: #7fbfbf; text-decoration-color: #7fbfbf\">[05/31/22 19:30:36] </span><span style=\"color: #000080; text-decoration-color: #000080\">INFO    </span> Using extraction params from <span style=\"color: #800080; text-decoration-color: #800080\">/Users/p.woznicki/g</span> <a href=\"file:///Users/p.woznicki/git/AutoRadiomics/autorad/feature_extraction/extractor.py\" target=\"_blank\"><span style=\"color: #7f7f7f; text-decoration-color: #7f7f7f\">extractor.py</span></a><span style=\"color: #7f7f7f; text-decoration-color: #7f7f7f\">:</span><a href=\"file:///Users/p.woznicki/git/AutoRadiomics/autorad/feature_extraction/extractor.py#45\" target=\"_blank\"><span style=\"color: #7f7f7f; text-decoration-color: #7f7f7f\">45</span></a>\n",
       "<span style=\"color: #7fbfbf; text-decoration-color: #7fbfbf\">                    </span>         <span style=\"color: #800080; text-decoration-color: #800080\">it/AutoRadiomics/autorad/config/pyradiomics_para</span> <span style=\"color: #7f7f7f; text-decoration-color: #7f7f7f\">               </span>\n",
       "<span style=\"color: #7fbfbf; text-decoration-color: #7fbfbf\">                    </span>         <span style=\"color: #800080; text-decoration-color: #800080\">ms/</span><span style=\"color: #ff00ff; text-decoration-color: #ff00ff\">Baessler_CT.yaml</span>                              <span style=\"color: #7f7f7f; text-decoration-color: #7f7f7f\">               </span>\n",
       "</pre>\n"
      ],
      "text/plain": [
       "\u001b[2;36m[05/31/22 19:30:36]\u001b[0m\u001b[2;36m \u001b[0m\u001b[34mINFO    \u001b[0m Using extraction params from \u001b[35m/Users/p.woznicki/g\u001b[0m \u001b]8;id=149937;file:///Users/p.woznicki/git/AutoRadiomics/autorad/feature_extraction/extractor.py\u001b\\\u001b[2mextractor.py\u001b[0m\u001b]8;;\u001b\\\u001b[2m:\u001b[0m\u001b]8;id=557711;file:///Users/p.woznicki/git/AutoRadiomics/autorad/feature_extraction/extractor.py#45\u001b\\\u001b[2m45\u001b[0m\u001b]8;;\u001b\\\n",
       "\u001b[2;36m                    \u001b[0m         \u001b[35mit/AutoRadiomics/autorad/config/pyradiomics_para\u001b[0m \u001b[2m               \u001b[0m\n",
       "\u001b[2;36m                    \u001b[0m         \u001b[35mms/\u001b[0m\u001b[95mBaessler_CT.yaml\u001b[0m                              \u001b[2m               \u001b[0m\n"
      ]
     },
     "metadata": {},
     "output_type": "display_data"
    },
    {
     "data": {
      "text/html": [
       "<pre style=\"white-space:pre;overflow-x:auto;line-height:normal;font-family:Menlo,'DejaVu Sans Mono',consolas,'Courier New',monospace\"><span style=\"color: #7fbfbf; text-decoration-color: #7fbfbf\">                    </span><span style=\"color: #000080; text-decoration-color: #000080\">INFO    </span> validation.valid                                     <a href=\"file:///Users/p.woznicki/git/AutoRadiomics/.venv/lib/python3.10/site-packages/pykwalify/core.py\" target=\"_blank\"><span style=\"color: #7f7f7f; text-decoration-color: #7f7f7f\">core.py</span></a><span style=\"color: #7f7f7f; text-decoration-color: #7f7f7f\">:</span><a href=\"file:///Users/p.woznicki/git/AutoRadiomics/.venv/lib/python3.10/site-packages/pykwalify/core.py#188\" target=\"_blank\"><span style=\"color: #7f7f7f; text-decoration-color: #7f7f7f\">188</span></a>\n",
       "</pre>\n"
      ],
      "text/plain": [
       "\u001b[2;36m                   \u001b[0m\u001b[2;36m \u001b[0m\u001b[34mINFO    \u001b[0m validation.valid                                     \u001b]8;id=613317;file:///Users/p.woznicki/git/AutoRadiomics/.venv/lib/python3.10/site-packages/pykwalify/core.py\u001b\\\u001b[2mcore.py\u001b[0m\u001b]8;;\u001b\\\u001b[2m:\u001b[0m\u001b]8;id=86955;file:///Users/p.woznicki/git/AutoRadiomics/.venv/lib/python3.10/site-packages/pykwalify/core.py#188\u001b\\\u001b[2m188\u001b[0m\u001b]8;;\u001b\\\n"
      ]
     },
     "metadata": {},
     "output_type": "display_data"
    },
    {
     "data": {
      "text/html": [
       "<pre style=\"white-space:pre;overflow-x:auto;line-height:normal;font-family:Menlo,'DejaVu Sans Mono',consolas,'Courier New',monospace\"><span style=\"color: #7fbfbf; text-decoration-color: #7fbfbf\">                    </span><span style=\"color: #000080; text-decoration-color: #000080\">INFO    </span> Initialized extractor pyradiomics                <a href=\"file:///Users/p.woznicki/git/AutoRadiomics/autorad/feature_extraction/extractor.py\" target=\"_blank\"><span style=\"color: #7f7f7f; text-decoration-color: #7f7f7f\">extractor.py</span></a><span style=\"color: #7f7f7f; text-decoration-color: #7f7f7f\">:</span><a href=\"file:///Users/p.woznicki/git/AutoRadiomics/autorad/feature_extraction/extractor.py#96\" target=\"_blank\"><span style=\"color: #7f7f7f; text-decoration-color: #7f7f7f\">96</span></a>\n",
       "</pre>\n"
      ],
      "text/plain": [
       "\u001b[2;36m                   \u001b[0m\u001b[2;36m \u001b[0m\u001b[34mINFO    \u001b[0m Initialized extractor pyradiomics                \u001b]8;id=235698;file:///Users/p.woznicki/git/AutoRadiomics/autorad/feature_extraction/extractor.py\u001b\\\u001b[2mextractor.py\u001b[0m\u001b]8;;\u001b\\\u001b[2m:\u001b[0m\u001b]8;id=262889;file:///Users/p.woznicki/git/AutoRadiomics/autorad/feature_extraction/extractor.py#96\u001b\\\u001b[2m96\u001b[0m\u001b]8;;\u001b\\\n"
      ]
     },
     "metadata": {},
     "output_type": "display_data"
    },
    {
     "data": {
      "text/html": [
       "<pre style=\"white-space:pre;overflow-x:auto;line-height:normal;font-family:Menlo,'DejaVu Sans Mono',consolas,'Courier New',monospace\"><span style=\"color: #7fbfbf; text-decoration-color: #7fbfbf\">                    </span><span style=\"color: #000080; text-decoration-color: #000080\">INFO    </span> Extracting features                              <a href=\"file:///Users/p.woznicki/git/AutoRadiomics/autorad/feature_extraction/extractor.py\" target=\"_blank\"><span style=\"color: #7f7f7f; text-decoration-color: #7f7f7f\">extractor.py</span></a><span style=\"color: #7f7f7f; text-decoration-color: #7f7f7f\">:</span><a href=\"file:///Users/p.woznicki/git/AutoRadiomics/autorad/feature_extraction/extractor.py#67\" target=\"_blank\"><span style=\"color: #7f7f7f; text-decoration-color: #7f7f7f\">67</span></a>\n",
       "</pre>\n"
      ],
      "text/plain": [
       "\u001b[2;36m                   \u001b[0m\u001b[2;36m \u001b[0m\u001b[34mINFO    \u001b[0m Extracting features                              \u001b]8;id=654177;file:///Users/p.woznicki/git/AutoRadiomics/autorad/feature_extraction/extractor.py\u001b\\\u001b[2mextractor.py\u001b[0m\u001b]8;;\u001b\\\u001b[2m:\u001b[0m\u001b]8;id=205156;file:///Users/p.woznicki/git/AutoRadiomics/autorad/feature_extraction/extractor.py#67\u001b\\\u001b[2m67\u001b[0m\u001b]8;;\u001b\\\n"
      ]
     },
     "metadata": {},
     "output_type": "display_data"
    },
    {
     "name": "stderr",
     "output_type": "stream",
     "text": [
      "20it [00:24,  1.21s/it]\n"
     ]
    },
    {
     "data": {
      "text/html": [
       "<pre style=\"white-space:pre;overflow-x:auto;line-height:normal;font-family:Menlo,'DejaVu Sans Mono',consolas,'Courier New',monospace\"><span style=\"color: #7fbfbf; text-decoration-color: #7fbfbf\">[05/31/22 19:31:00] </span><span style=\"color: #000080; text-decoration-color: #000080\">INFO    </span> get_features took <span style=\"color: #008080; text-decoration-color: #008080; font-weight: bold\">24.</span>204346895217896sec              <a href=\"file:///Users/p.woznicki/git/AutoRadiomics/autorad/utils/utils.py\" target=\"_blank\"><span style=\"color: #7f7f7f; text-decoration-color: #7f7f7f\">utils.py</span></a><span style=\"color: #7f7f7f; text-decoration-color: #7f7f7f\">:</span><a href=\"file:///Users/p.woznicki/git/AutoRadiomics/autorad/utils/utils.py#21\" target=\"_blank\"><span style=\"color: #7f7f7f; text-decoration-color: #7f7f7f\">21</span></a>\n",
       "</pre>\n"
      ],
      "text/plain": [
       "\u001b[2;36m[05/31/22 19:31:00]\u001b[0m\u001b[2;36m \u001b[0m\u001b[34mINFO    \u001b[0m get_features took \u001b[1;36m24.\u001b[0m204346895217896sec              \u001b]8;id=145886;file:///Users/p.woznicki/git/AutoRadiomics/autorad/utils/utils.py\u001b\\\u001b[2mutils.py\u001b[0m\u001b]8;;\u001b\\\u001b[2m:\u001b[0m\u001b]8;id=62625;file:///Users/p.woznicki/git/AutoRadiomics/autorad/utils/utils.py#21\u001b\\\u001b[2m21\u001b[0m\u001b]8;;\u001b\\\n"
      ]
     },
     "metadata": {},
     "output_type": "display_data"
    }
   ],
   "source": [
    "from autorad.feature_extraction.extractor import FeatureExtractor\n",
    "\n",
    "extractor = FeatureExtractor(image_dataset)\n",
    "feature_df = extractor.run()"
   ]
  },
  {
   "cell_type": "code",
   "execution_count": 61,
   "metadata": {},
   "outputs": [
    {
     "data": {
      "text/html": [
       "<div>\n",
       "<style scoped>\n",
       "    .dataframe tbody tr th:only-of-type {\n",
       "        vertical-align: middle;\n",
       "    }\n",
       "\n",
       "    .dataframe tbody tr th {\n",
       "        vertical-align: top;\n",
       "    }\n",
       "\n",
       "    .dataframe thead th {\n",
       "        text-align: right;\n",
       "    }\n",
       "</style>\n",
       "<table border=\"1\" class=\"dataframe\">\n",
       "  <thead>\n",
       "    <tr style=\"text-align: right;\">\n",
       "      <th></th>\n",
       "      <th>diagnostics_Versions_PyRadiomics</th>\n",
       "      <th>diagnostics_Versions_Numpy</th>\n",
       "      <th>diagnostics_Versions_SimpleITK</th>\n",
       "      <th>diagnostics_Versions_PyWavelet</th>\n",
       "      <th>diagnostics_Versions_Python</th>\n",
       "      <th>diagnostics_Configuration_Settings</th>\n",
       "      <th>diagnostics_Configuration_EnabledImageTypes</th>\n",
       "      <th>diagnostics_Image-original_Hash</th>\n",
       "      <th>diagnostics_Image-original_Dimensionality</th>\n",
       "      <th>diagnostics_Image-original_Spacing</th>\n",
       "      <th>...</th>\n",
       "      <th>wavelet-LLL_gldm_SmallDependenceHighGrayLevelEmphasis</th>\n",
       "      <th>wavelet-LLL_gldm_SmallDependenceLowGrayLevelEmphasis</th>\n",
       "      <th>wavelet-LLL_ngtdm_Busyness</th>\n",
       "      <th>wavelet-LLL_ngtdm_Coarseness</th>\n",
       "      <th>wavelet-LLL_ngtdm_Complexity</th>\n",
       "      <th>wavelet-LLL_ngtdm_Contrast</th>\n",
       "      <th>wavelet-LLL_ngtdm_Strength</th>\n",
       "      <th>ID</th>\n",
       "      <th>image_path</th>\n",
       "      <th>segmentation_path</th>\n",
       "    </tr>\n",
       "  </thead>\n",
       "  <tbody>\n",
       "    <tr>\n",
       "      <th>0</th>\n",
       "      <td>v3.0.1</td>\n",
       "      <td>1.22.1</td>\n",
       "      <td>2.1.1.2</td>\n",
       "      <td>1.2.0</td>\n",
       "      <td>3.10.4</td>\n",
       "      <td>{'minimumROIDimensions': 1, 'minimumROISize': ...</td>\n",
       "      <td>{'Original': {}, 'LoG': {'sigma': [3.0, 5.0]},...</td>\n",
       "      <td>ed4de6e746f4f14d223d76aeed61a12497752ad2</td>\n",
       "      <td>3D</td>\n",
       "      <td>(1.1875, 1.1875, 7.1999969482421875)</td>\n",
       "      <td>...</td>\n",
       "      <td>17.108519817338614</td>\n",
       "      <td>0.0019064162301314488</td>\n",
       "      <td>2.195837937351879</td>\n",
       "      <td>0.0010111456662735665</td>\n",
       "      <td>426.9975349731685</td>\n",
       "      <td>0.06190203145328447</td>\n",
       "      <td>0.284974468309886</td>\n",
       "      <td>Liver-035</td>\n",
       "      <td>/Users/p.woznicki/git/AutoRadiomics/tests/test...</td>\n",
       "      <td>/Users/p.woznicki/git/AutoRadiomics/tests/test...</td>\n",
       "    </tr>\n",
       "    <tr>\n",
       "      <th>1</th>\n",
       "      <td>v3.0.1</td>\n",
       "      <td>1.22.1</td>\n",
       "      <td>2.1.1.2</td>\n",
       "      <td>1.2.0</td>\n",
       "      <td>3.10.4</td>\n",
       "      <td>{'minimumROIDimensions': 1, 'minimumROISize': ...</td>\n",
       "      <td>{'Original': {}, 'LoG': {'sigma': [3.0, 5.0]},...</td>\n",
       "      <td>63f6270cacc69364b7faad32494961bc20639229</td>\n",
       "      <td>3D</td>\n",
       "      <td>(1.46484375, 1.46484375, 8.0)</td>\n",
       "      <td>...</td>\n",
       "      <td>83.97021323093149</td>\n",
       "      <td>0.0023728396471364493</td>\n",
       "      <td>0.7591978668706331</td>\n",
       "      <td>0.001202498835943038</td>\n",
       "      <td>4314.0961725974375</td>\n",
       "      <td>0.053087108883254575</td>\n",
       "      <td>3.4809930821120516</td>\n",
       "      <td>Liver-067</td>\n",
       "      <td>/Users/p.woznicki/git/AutoRadiomics/tests/test...</td>\n",
       "      <td>/Users/p.woznicki/git/AutoRadiomics/tests/test...</td>\n",
       "    </tr>\n",
       "    <tr>\n",
       "      <th>2</th>\n",
       "      <td>v3.0.1</td>\n",
       "      <td>1.22.1</td>\n",
       "      <td>2.1.1.2</td>\n",
       "      <td>1.2.0</td>\n",
       "      <td>3.10.4</td>\n",
       "      <td>{'minimumROIDimensions': 1, 'minimumROISize': ...</td>\n",
       "      <td>{'Original': {}, 'LoG': {'sigma': [3.0, 5.0]},...</td>\n",
       "      <td>f9d3cb6047d933017f878d8e3193faf02d5531e6</td>\n",
       "      <td>3D</td>\n",
       "      <td>(0.9765620231628418, 0.9765620231628418, 6.600...</td>\n",
       "      <td>...</td>\n",
       "      <td>9.821812246039771</td>\n",
       "      <td>0.002460816641434821</td>\n",
       "      <td>1.9618138907602145</td>\n",
       "      <td>0.0021490398335429067</td>\n",
       "      <td>178.82845259100122</td>\n",
       "      <td>0.03313849502581368</td>\n",
       "      <td>0.3598787334834973</td>\n",
       "      <td>Liver-146</td>\n",
       "      <td>/Users/p.woznicki/git/AutoRadiomics/tests/test...</td>\n",
       "      <td>/Users/p.woznicki/git/AutoRadiomics/tests/test...</td>\n",
       "    </tr>\n",
       "    <tr>\n",
       "      <th>3</th>\n",
       "      <td>v3.0.1</td>\n",
       "      <td>1.22.1</td>\n",
       "      <td>2.1.1.2</td>\n",
       "      <td>1.2.0</td>\n",
       "      <td>3.10.4</td>\n",
       "      <td>{'minimumROIDimensions': 1, 'minimumROISize': ...</td>\n",
       "      <td>{'Original': {}, 'LoG': {'sigma': [3.0, 5.0]},...</td>\n",
       "      <td>2595ff6a05536ecaaf445317c9c061c742a85ebc</td>\n",
       "      <td>3D</td>\n",
       "      <td>(0.78125, 0.78125, 6.600297451019287)</td>\n",
       "      <td>...</td>\n",
       "      <td>33.0708290664619</td>\n",
       "      <td>0.001481358860818306</td>\n",
       "      <td>0.8257035290466124</td>\n",
       "      <td>0.0016166914766237606</td>\n",
       "      <td>829.755720150696</td>\n",
       "      <td>0.045681180646125495</td>\n",
       "      <td>1.1242349494954111</td>\n",
       "      <td>Liver-184</td>\n",
       "      <td>/Users/p.woznicki/git/AutoRadiomics/tests/test...</td>\n",
       "      <td>/Users/p.woznicki/git/AutoRadiomics/tests/test...</td>\n",
       "    </tr>\n",
       "    <tr>\n",
       "      <th>4</th>\n",
       "      <td>v3.0.1</td>\n",
       "      <td>1.22.1</td>\n",
       "      <td>2.1.1.2</td>\n",
       "      <td>1.2.0</td>\n",
       "      <td>3.10.4</td>\n",
       "      <td>{'minimumROIDimensions': 1, 'minimumROISize': ...</td>\n",
       "      <td>{'Original': {}, 'LoG': {'sigma': [3.0, 5.0]},...</td>\n",
       "      <td>ae725903a53291ff6fbaf60b0d4d43c542423344</td>\n",
       "      <td>3D</td>\n",
       "      <td>(1.308590054512024, 1.308590054512024, 7.70034...</td>\n",
       "      <td>...</td>\n",
       "      <td>298.00432747313664</td>\n",
       "      <td>0.0006073601929044215</td>\n",
       "      <td>0.10560050680966304</td>\n",
       "      <td>0.0032715611247683307</td>\n",
       "      <td>2602.6922196709124</td>\n",
       "      <td>0.04313630019136463</td>\n",
       "      <td>5.548545298631775</td>\n",
       "      <td>Liver-124</td>\n",
       "      <td>/Users/p.woznicki/git/AutoRadiomics/tests/test...</td>\n",
       "      <td>/Users/p.woznicki/git/AutoRadiomics/tests/test...</td>\n",
       "    </tr>\n",
       "  </tbody>\n",
       "</table>\n",
       "<p>5 rows × 1055 columns</p>\n",
       "</div>"
      ],
      "text/plain": [
       "  diagnostics_Versions_PyRadiomics diagnostics_Versions_Numpy  \\\n",
       "0                           v3.0.1                     1.22.1   \n",
       "1                           v3.0.1                     1.22.1   \n",
       "2                           v3.0.1                     1.22.1   \n",
       "3                           v3.0.1                     1.22.1   \n",
       "4                           v3.0.1                     1.22.1   \n",
       "\n",
       "  diagnostics_Versions_SimpleITK diagnostics_Versions_PyWavelet  \\\n",
       "0                        2.1.1.2                          1.2.0   \n",
       "1                        2.1.1.2                          1.2.0   \n",
       "2                        2.1.1.2                          1.2.0   \n",
       "3                        2.1.1.2                          1.2.0   \n",
       "4                        2.1.1.2                          1.2.0   \n",
       "\n",
       "  diagnostics_Versions_Python  \\\n",
       "0                      3.10.4   \n",
       "1                      3.10.4   \n",
       "2                      3.10.4   \n",
       "3                      3.10.4   \n",
       "4                      3.10.4   \n",
       "\n",
       "                  diagnostics_Configuration_Settings  \\\n",
       "0  {'minimumROIDimensions': 1, 'minimumROISize': ...   \n",
       "1  {'minimumROIDimensions': 1, 'minimumROISize': ...   \n",
       "2  {'minimumROIDimensions': 1, 'minimumROISize': ...   \n",
       "3  {'minimumROIDimensions': 1, 'minimumROISize': ...   \n",
       "4  {'minimumROIDimensions': 1, 'minimumROISize': ...   \n",
       "\n",
       "         diagnostics_Configuration_EnabledImageTypes  \\\n",
       "0  {'Original': {}, 'LoG': {'sigma': [3.0, 5.0]},...   \n",
       "1  {'Original': {}, 'LoG': {'sigma': [3.0, 5.0]},...   \n",
       "2  {'Original': {}, 'LoG': {'sigma': [3.0, 5.0]},...   \n",
       "3  {'Original': {}, 'LoG': {'sigma': [3.0, 5.0]},...   \n",
       "4  {'Original': {}, 'LoG': {'sigma': [3.0, 5.0]},...   \n",
       "\n",
       "            diagnostics_Image-original_Hash  \\\n",
       "0  ed4de6e746f4f14d223d76aeed61a12497752ad2   \n",
       "1  63f6270cacc69364b7faad32494961bc20639229   \n",
       "2  f9d3cb6047d933017f878d8e3193faf02d5531e6   \n",
       "3  2595ff6a05536ecaaf445317c9c061c742a85ebc   \n",
       "4  ae725903a53291ff6fbaf60b0d4d43c542423344   \n",
       "\n",
       "  diagnostics_Image-original_Dimensionality  \\\n",
       "0                                        3D   \n",
       "1                                        3D   \n",
       "2                                        3D   \n",
       "3                                        3D   \n",
       "4                                        3D   \n",
       "\n",
       "                  diagnostics_Image-original_Spacing  ...  \\\n",
       "0               (1.1875, 1.1875, 7.1999969482421875)  ...   \n",
       "1                      (1.46484375, 1.46484375, 8.0)  ...   \n",
       "2  (0.9765620231628418, 0.9765620231628418, 6.600...  ...   \n",
       "3              (0.78125, 0.78125, 6.600297451019287)  ...   \n",
       "4  (1.308590054512024, 1.308590054512024, 7.70034...  ...   \n",
       "\n",
       "  wavelet-LLL_gldm_SmallDependenceHighGrayLevelEmphasis  \\\n",
       "0                                 17.108519817338614      \n",
       "1                                  83.97021323093149      \n",
       "2                                  9.821812246039771      \n",
       "3                                   33.0708290664619      \n",
       "4                                 298.00432747313664      \n",
       "\n",
       "   wavelet-LLL_gldm_SmallDependenceLowGrayLevelEmphasis  \\\n",
       "0                              0.0019064162301314488      \n",
       "1                              0.0023728396471364493      \n",
       "2                               0.002460816641434821      \n",
       "3                               0.001481358860818306      \n",
       "4                              0.0006073601929044215      \n",
       "\n",
       "   wavelet-LLL_ngtdm_Busyness  wavelet-LLL_ngtdm_Coarseness  \\\n",
       "0           2.195837937351879         0.0010111456662735665   \n",
       "1          0.7591978668706331          0.001202498835943038   \n",
       "2          1.9618138907602145         0.0021490398335429067   \n",
       "3          0.8257035290466124         0.0016166914766237606   \n",
       "4         0.10560050680966304         0.0032715611247683307   \n",
       "\n",
       "  wavelet-LLL_ngtdm_Complexity wavelet-LLL_ngtdm_Contrast  \\\n",
       "0            426.9975349731685        0.06190203145328447   \n",
       "1           4314.0961725974375       0.053087108883254575   \n",
       "2           178.82845259100122        0.03313849502581368   \n",
       "3             829.755720150696       0.045681180646125495   \n",
       "4           2602.6922196709124        0.04313630019136463   \n",
       "\n",
       "  wavelet-LLL_ngtdm_Strength         ID  \\\n",
       "0          0.284974468309886  Liver-035   \n",
       "1         3.4809930821120516  Liver-067   \n",
       "2         0.3598787334834973  Liver-146   \n",
       "3         1.1242349494954111  Liver-184   \n",
       "4          5.548545298631775  Liver-124   \n",
       "\n",
       "                                          image_path  \\\n",
       "0  /Users/p.woznicki/git/AutoRadiomics/tests/test...   \n",
       "1  /Users/p.woznicki/git/AutoRadiomics/tests/test...   \n",
       "2  /Users/p.woznicki/git/AutoRadiomics/tests/test...   \n",
       "3  /Users/p.woznicki/git/AutoRadiomics/tests/test...   \n",
       "4  /Users/p.woznicki/git/AutoRadiomics/tests/test...   \n",
       "\n",
       "                                   segmentation_path  \n",
       "0  /Users/p.woznicki/git/AutoRadiomics/tests/test...  \n",
       "1  /Users/p.woznicki/git/AutoRadiomics/tests/test...  \n",
       "2  /Users/p.woznicki/git/AutoRadiomics/tests/test...  \n",
       "3  /Users/p.woznicki/git/AutoRadiomics/tests/test...  \n",
       "4  /Users/p.woznicki/git/AutoRadiomics/tests/test...  \n",
       "\n",
       "[5 rows x 1055 columns]"
      ]
     },
     "execution_count": 61,
     "metadata": {},
     "output_type": "execute_result"
    }
   ],
   "source": [
    "feature_df.head()"
   ]
  },
  {
   "cell_type": "code",
   "execution_count": 65,
   "metadata": {},
   "outputs": [],
   "source": [
    "from autorad.data.dataset import FeatureDataset\n",
    "import pandas as pd\n",
    "\n",
    "\n",
    "label_df = pd.read_csv(data_dir / \"labels.csv\")\n",
    "merged_feature_df = feature_df.merge(label_df, left_on=\"ID\",\n",
    "    right_on=\"patient_ID\", how=\"left\")\n",
    "feature_dataset = FeatureDataset(\n",
    "    merged_feature_df,\n",
    "    target=\"diagnosis\",\n",
    "    ID_colname=\"ID\"\n",
    ")"
   ]
  },
  {
   "cell_type": "code",
   "execution_count": 69,
   "metadata": {},
   "outputs": [
    {
     "data": {
      "text/plain": [
       "<autorad.data.dataset.FeatureDataset at 0x10c33fa90>"
      ]
     },
     "execution_count": 69,
     "metadata": {},
     "output_type": "execute_result"
    }
   ],
   "source": [
    "result_dir = base_dir / \"worc_results\"\n",
    "splits_path = result_dir / \"splits.json\"\n",
    "feature_dataset.full_split(save_path=splits_path) # make it train/val/test\n",
    "feature_dataset.load_splits_from_json(splits_path)"
   ]
  },
  {
   "cell_type": "code",
   "execution_count": null,
   "metadata": {},
   "outputs": [],
   "source": []
  }
 ],
 "metadata": {
  "interpreter": {
   "hash": "378c3e272f986b76de7a813614cd4d6ba63a07672673e8c51c818cb6af86fa94"
  },
  "kernelspec": {
   "display_name": "Python 3.10.4 ('.venv': venv)",
   "language": "python",
   "name": "python3"
  },
  "language_info": {
   "codemirror_mode": {
    "name": "ipython",
    "version": 3
   },
   "file_extension": ".py",
   "mimetype": "text/x-python",
   "name": "python",
   "nbconvert_exporter": "python",
   "pygments_lexer": "ipython3",
   "version": "3.10.4"
  },
  "orig_nbformat": 4
 },
 "nbformat": 4,
 "nbformat_minor": 2
}
